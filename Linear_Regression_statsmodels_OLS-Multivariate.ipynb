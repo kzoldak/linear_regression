{
 "cells": [
  {
   "cell_type": "markdown",
   "metadata": {},
   "source": [
    "https://www.datascience.com/blog/7-methods-to-fit-linear-model-python"
   ]
  },
  {
   "cell_type": "code",
   "execution_count": 1,
   "metadata": {},
   "outputs": [],
   "source": [
    "import pandas as pd\n",
    "import numpy as np\n",
    "# ordinary least squares linear regression\n",
    "import statsmodels.formula.api as smf\n",
    "\n",
    "import matplotlib.pyplot as plt\n",
    "%matplotlib inline"
   ]
  },
  {
   "cell_type": "markdown",
   "metadata": {},
   "source": [
    "## read in data"
   ]
  },
  {
   "cell_type": "code",
   "execution_count": 2,
   "metadata": {},
   "outputs": [
    {
     "data": {
      "text/html": [
       "<div>\n",
       "<style scoped>\n",
       "    .dataframe tbody tr th:only-of-type {\n",
       "        vertical-align: middle;\n",
       "    }\n",
       "\n",
       "    .dataframe tbody tr th {\n",
       "        vertical-align: top;\n",
       "    }\n",
       "\n",
       "    .dataframe thead th {\n",
       "        text-align: right;\n",
       "    }\n",
       "</style>\n",
       "<table border=\"1\" class=\"dataframe\">\n",
       "  <thead>\n",
       "    <tr style=\"text-align: right;\">\n",
       "      <th></th>\n",
       "      <th>TV</th>\n",
       "      <th>radio</th>\n",
       "      <th>newspaper</th>\n",
       "      <th>sales</th>\n",
       "    </tr>\n",
       "  </thead>\n",
       "  <tbody>\n",
       "    <tr>\n",
       "      <th>1</th>\n",
       "      <td>230.1</td>\n",
       "      <td>37.8</td>\n",
       "      <td>69.2</td>\n",
       "      <td>22.1</td>\n",
       "    </tr>\n",
       "    <tr>\n",
       "      <th>2</th>\n",
       "      <td>44.5</td>\n",
       "      <td>39.3</td>\n",
       "      <td>45.1</td>\n",
       "      <td>10.4</td>\n",
       "    </tr>\n",
       "    <tr>\n",
       "      <th>3</th>\n",
       "      <td>17.2</td>\n",
       "      <td>45.9</td>\n",
       "      <td>69.3</td>\n",
       "      <td>9.3</td>\n",
       "    </tr>\n",
       "    <tr>\n",
       "      <th>4</th>\n",
       "      <td>151.5</td>\n",
       "      <td>41.3</td>\n",
       "      <td>58.5</td>\n",
       "      <td>18.5</td>\n",
       "    </tr>\n",
       "    <tr>\n",
       "      <th>5</th>\n",
       "      <td>180.8</td>\n",
       "      <td>10.8</td>\n",
       "      <td>58.4</td>\n",
       "      <td>12.9</td>\n",
       "    </tr>\n",
       "  </tbody>\n",
       "</table>\n",
       "</div>"
      ],
      "text/plain": [
       "      TV  radio  newspaper  sales\n",
       "1  230.1   37.8       69.2   22.1\n",
       "2   44.5   39.3       45.1   10.4\n",
       "3   17.2   45.9       69.3    9.3\n",
       "4  151.5   41.3       58.5   18.5\n",
       "5  180.8   10.8       58.4   12.9"
      ]
     },
     "execution_count": 2,
     "metadata": {},
     "output_type": "execute_result"
    }
   ],
   "source": [
    "# read data into a DataFrame\n",
    "data = pd.read_csv('http://www-bcf.usc.edu/~gareth/ISL/Advertising.csv', index_col=0)\n",
    "data.head()"
   ]
  },
  {
   "cell_type": "code",
   "execution_count": 4,
   "metadata": {},
   "outputs": [],
   "source": [
    "r = smf.ols(formula='sales ~ TV + radio + newspaper', data=data).fit()"
   ]
  },
  {
   "cell_type": "code",
   "execution_count": 5,
   "metadata": {},
   "outputs": [
    {
     "data": {
      "text/plain": [
       "Intercept    2.938889\n",
       "TV           0.045765\n",
       "radio        0.188530\n",
       "newspaper   -0.001037\n",
       "dtype: float64"
      ]
     },
     "execution_count": 5,
     "metadata": {},
     "output_type": "execute_result"
    }
   ],
   "source": [
    "r.params"
   ]
  },
  {
   "cell_type": "markdown",
   "metadata": {},
   "source": [
    "### Variance-Covariance Matrix"
   ]
  },
  {
   "cell_type": "code",
   "execution_count": 6,
   "metadata": {},
   "outputs": [
    {
     "data": {
      "text/html": [
       "<div>\n",
       "<style scoped>\n",
       "    .dataframe tbody tr th:only-of-type {\n",
       "        vertical-align: middle;\n",
       "    }\n",
       "\n",
       "    .dataframe tbody tr th {\n",
       "        vertical-align: top;\n",
       "    }\n",
       "\n",
       "    .dataframe thead th {\n",
       "        text-align: right;\n",
       "    }\n",
       "</style>\n",
       "<table border=\"1\" class=\"dataframe\">\n",
       "  <thead>\n",
       "    <tr style=\"text-align: right;\">\n",
       "      <th></th>\n",
       "      <th>Intercept</th>\n",
       "      <th>TV</th>\n",
       "      <th>radio</th>\n",
       "      <th>newspaper</th>\n",
       "    </tr>\n",
       "  </thead>\n",
       "  <tbody>\n",
       "    <tr>\n",
       "      <th>Intercept</th>\n",
       "      <td>0.097287</td>\n",
       "      <td>-2.657273e-04</td>\n",
       "      <td>-1.115489e-03</td>\n",
       "      <td>-5.910212e-04</td>\n",
       "    </tr>\n",
       "    <tr>\n",
       "      <th>TV</th>\n",
       "      <td>-0.000266</td>\n",
       "      <td>1.945737e-06</td>\n",
       "      <td>-4.470395e-07</td>\n",
       "      <td>-3.265950e-07</td>\n",
       "    </tr>\n",
       "    <tr>\n",
       "      <th>radio</th>\n",
       "      <td>-0.001115</td>\n",
       "      <td>-4.470395e-07</td>\n",
       "      <td>7.415335e-05</td>\n",
       "      <td>-1.780062e-05</td>\n",
       "    </tr>\n",
       "    <tr>\n",
       "      <th>newspaper</th>\n",
       "      <td>-0.000591</td>\n",
       "      <td>-3.265950e-07</td>\n",
       "      <td>-1.780062e-05</td>\n",
       "      <td>3.446875e-05</td>\n",
       "    </tr>\n",
       "  </tbody>\n",
       "</table>\n",
       "</div>"
      ],
      "text/plain": [
       "           Intercept            TV         radio     newspaper\n",
       "Intercept   0.097287 -2.657273e-04 -1.115489e-03 -5.910212e-04\n",
       "TV         -0.000266  1.945737e-06 -4.470395e-07 -3.265950e-07\n",
       "radio      -0.001115 -4.470395e-07  7.415335e-05 -1.780062e-05\n",
       "newspaper  -0.000591 -3.265950e-07 -1.780062e-05  3.446875e-05"
      ]
     },
     "execution_count": 6,
     "metadata": {},
     "output_type": "execute_result"
    }
   ],
   "source": [
    "r.cov_params()"
   ]
  },
  {
   "cell_type": "markdown",
   "metadata": {},
   "source": [
    "### Residual Sum of Squares:\n",
    "RSS = sum(residuals**2)"
   ]
  },
  {
   "cell_type": "code",
   "execution_count": 7,
   "metadata": {},
   "outputs": [
    {
     "data": {
      "text/plain": [
       "556.8252629021871"
      ]
     },
     "execution_count": 7,
     "metadata": {},
     "output_type": "execute_result"
    }
   ],
   "source": [
    "r.ssr  # RSS"
   ]
  },
  {
   "cell_type": "markdown",
   "metadata": {},
   "source": [
    "### Residuals"
   ]
  },
  {
   "cell_type": "raw",
   "metadata": {
    "scrolled": false
   },
   "source": [
    "r.resid.tolist() "
   ]
  },
  {
   "cell_type": "code",
   "execution_count": 8,
   "metadata": {},
   "outputs": [
    {
     "data": {
      "text/plain": [
       "0.8972106381789522"
      ]
     },
     "execution_count": 8,
     "metadata": {},
     "output_type": "execute_result"
    }
   ],
   "source": [
    "r.rsquared"
   ]
  },
  {
   "cell_type": "code",
   "execution_count": 9,
   "metadata": {},
   "outputs": [
    {
     "data": {
      "text/plain": [
       "0.8956373316204668"
      ]
     },
     "execution_count": 9,
     "metadata": {},
     "output_type": "execute_result"
    }
   ],
   "source": [
    "r.rsquared_adj"
   ]
  },
  {
   "cell_type": "code",
   "execution_count": 10,
   "metadata": {},
   "outputs": [
    {
     "data": {
      "text/plain": [
       "Intercept     9.422288\n",
       "TV           32.808624\n",
       "radio        21.893496\n",
       "newspaper    -0.176715\n",
       "dtype: float64"
      ]
     },
     "execution_count": 10,
     "metadata": {},
     "output_type": "execute_result"
    }
   ],
   "source": [
    "r.tvalues"
   ]
  },
  {
   "cell_type": "code",
   "execution_count": 11,
   "metadata": {},
   "outputs": [
    {
     "ename": "TypeError",
     "evalue": "t_test() missing 1 required positional argument: 'r_matrix'",
     "output_type": "error",
     "traceback": [
      "\u001b[0;31m---------------------------------------------------------------------------\u001b[0m",
      "\u001b[0;31mTypeError\u001b[0m                                 Traceback (most recent call last)",
      "\u001b[0;32m<ipython-input-11-3066eb827cc8>\u001b[0m in \u001b[0;36m<module>\u001b[0;34m()\u001b[0m\n\u001b[0;32m----> 1\u001b[0;31m \u001b[0mr\u001b[0m\u001b[0;34m.\u001b[0m\u001b[0mt_test\u001b[0m\u001b[0;34m(\u001b[0m\u001b[0;34m)\u001b[0m\u001b[0;34m\u001b[0m\u001b[0m\n\u001b[0m",
      "\u001b[0;31mTypeError\u001b[0m: t_test() missing 1 required positional argument: 'r_matrix'"
     ]
    }
   ],
   "source": [
    "r.t_test()"
   ]
  },
  {
   "cell_type": "code",
   "execution_count": 12,
   "metadata": {},
   "outputs": [
    {
     "ename": "TypeError",
     "evalue": "t_test_pairwise() missing 1 required positional argument: 'term_name'",
     "output_type": "error",
     "traceback": [
      "\u001b[0;31m---------------------------------------------------------------------------\u001b[0m",
      "\u001b[0;31mTypeError\u001b[0m                                 Traceback (most recent call last)",
      "\u001b[0;32m<ipython-input-12-91733746b736>\u001b[0m in \u001b[0;36m<module>\u001b[0;34m()\u001b[0m\n\u001b[0;32m----> 1\u001b[0;31m \u001b[0mr\u001b[0m\u001b[0;34m.\u001b[0m\u001b[0mt_test_pairwise\u001b[0m\u001b[0;34m(\u001b[0m\u001b[0;34m)\u001b[0m\u001b[0;34m\u001b[0m\u001b[0m\n\u001b[0m",
      "\u001b[0;31mTypeError\u001b[0m: t_test_pairwise() missing 1 required positional argument: 'term_name'"
     ]
    }
   ],
   "source": [
    "r.t_test_pairwise()"
   ]
  },
  {
   "cell_type": "code",
   "execution_count": 13,
   "metadata": {},
   "outputs": [
    {
     "name": "stdout",
     "output_type": "stream",
     "text": [
      "                            OLS Regression Results                            \n",
      "==============================================================================\n",
      "Dep. Variable:                  sales   R-squared:                       0.897\n",
      "Model:                            OLS   Adj. R-squared:                  0.896\n",
      "Method:                 Least Squares   F-statistic:                     570.3\n",
      "Date:                Mon, 11 Feb 2019   Prob (F-statistic):           1.58e-96\n",
      "Time:                        19:08:54   Log-Likelihood:                -386.18\n",
      "No. Observations:                 200   AIC:                             780.4\n",
      "Df Residuals:                     196   BIC:                             793.6\n",
      "Df Model:                           3                                         \n",
      "Covariance Type:            nonrobust                                         \n",
      "==============================================================================\n",
      "                 coef    std err          t      P>|t|      [0.025      0.975]\n",
      "------------------------------------------------------------------------------\n",
      "Intercept      2.9389      0.312      9.422      0.000       2.324       3.554\n",
      "TV             0.0458      0.001     32.809      0.000       0.043       0.049\n",
      "radio          0.1885      0.009     21.893      0.000       0.172       0.206\n",
      "newspaper     -0.0010      0.006     -0.177      0.860      -0.013       0.011\n",
      "==============================================================================\n",
      "Omnibus:                       60.414   Durbin-Watson:                   2.084\n",
      "Prob(Omnibus):                  0.000   Jarque-Bera (JB):              151.241\n",
      "Skew:                          -1.327   Prob(JB):                     1.44e-33\n",
      "Kurtosis:                       6.332   Cond. No.                         454.\n",
      "==============================================================================\n",
      "\n",
      "Warnings:\n",
      "[1] Standard Errors assume that the covariance matrix of the errors is correctly specified.\n"
     ]
    }
   ],
   "source": [
    "print(r.summary())"
   ]
  },
  {
   "cell_type": "code",
   "execution_count": 28,
   "metadata": {},
   "outputs": [
    {
     "data": {
      "text/plain": [
       "196.0"
      ]
     },
     "execution_count": 28,
     "metadata": {},
     "output_type": "execute_result"
    }
   ],
   "source": [
    "r.df_resid"
   ]
  },
  {
   "cell_type": "code",
   "execution_count": 29,
   "metadata": {},
   "outputs": [
    {
     "data": {
      "text/plain": [
       "{'jb': 151.2414204760385,\n",
       " 'jbpv': 1.4399347942390942e-33,\n",
       " 'skew': -1.3273536543621256,\n",
       " 'kurtosis': 6.331891289062514,\n",
       " 'omni': 60.413959455255494,\n",
       " 'omnipv': 7.608085583221822e-14,\n",
       " 'condno': 454.37490123426034,\n",
       " 'mineigval': 29.196634362492418}"
      ]
     },
     "execution_count": 29,
     "metadata": {},
     "output_type": "execute_result"
    }
   ],
   "source": [
    "r.diagn"
   ]
  },
  {
   "cell_type": "code",
   "execution_count": 21,
   "metadata": {},
   "outputs": [
    {
     "data": {
      "text/html": [
       "<div>\n",
       "<style scoped>\n",
       "    .dataframe tbody tr th:only-of-type {\n",
       "        vertical-align: middle;\n",
       "    }\n",
       "\n",
       "    .dataframe tbody tr th {\n",
       "        vertical-align: top;\n",
       "    }\n",
       "\n",
       "    .dataframe thead th {\n",
       "        text-align: right;\n",
       "    }\n",
       "</style>\n",
       "<table border=\"1\" class=\"dataframe\">\n",
       "  <thead>\n",
       "    <tr style=\"text-align: right;\">\n",
       "      <th></th>\n",
       "      <th>Intercept</th>\n",
       "      <th>TV</th>\n",
       "      <th>radio</th>\n",
       "      <th>newspaper</th>\n",
       "    </tr>\n",
       "  </thead>\n",
       "  <tbody>\n",
       "    <tr>\n",
       "      <th>Intercept</th>\n",
       "      <td>0.097287</td>\n",
       "      <td>-2.657273e-04</td>\n",
       "      <td>-1.115489e-03</td>\n",
       "      <td>-5.910212e-04</td>\n",
       "    </tr>\n",
       "    <tr>\n",
       "      <th>TV</th>\n",
       "      <td>-0.000266</td>\n",
       "      <td>1.945737e-06</td>\n",
       "      <td>-4.470395e-07</td>\n",
       "      <td>-3.265950e-07</td>\n",
       "    </tr>\n",
       "    <tr>\n",
       "      <th>radio</th>\n",
       "      <td>-0.001115</td>\n",
       "      <td>-4.470395e-07</td>\n",
       "      <td>7.415335e-05</td>\n",
       "      <td>-1.780062e-05</td>\n",
       "    </tr>\n",
       "    <tr>\n",
       "      <th>newspaper</th>\n",
       "      <td>-0.000591</td>\n",
       "      <td>-3.265950e-07</td>\n",
       "      <td>-1.780062e-05</td>\n",
       "      <td>3.446875e-05</td>\n",
       "    </tr>\n",
       "  </tbody>\n",
       "</table>\n",
       "</div>"
      ],
      "text/plain": [
       "           Intercept            TV         radio     newspaper\n",
       "Intercept   0.097287 -2.657273e-04 -1.115489e-03 -5.910212e-04\n",
       "TV         -0.000266  1.945737e-06 -4.470395e-07 -3.265950e-07\n",
       "radio      -0.001115 -4.470395e-07  7.415335e-05 -1.780062e-05\n",
       "newspaper  -0.000591 -3.265950e-07 -1.780062e-05  3.446875e-05"
      ]
     },
     "execution_count": 21,
     "metadata": {},
     "output_type": "execute_result"
    }
   ],
   "source": [
    "r.cov_params()"
   ]
  },
  {
   "cell_type": "code",
   "execution_count": 37,
   "metadata": {},
   "outputs": [
    {
     "data": {
      "text/plain": [
       "{'description': 'Standard Errors assume that the covariance matrix of the errors is correctly specified.'}"
      ]
     },
     "execution_count": 37,
     "metadata": {},
     "output_type": "execute_result"
    }
   ],
   "source": [
    "r.cov_kwds"
   ]
  },
  {
   "cell_type": "code",
   "execution_count": 38,
   "metadata": {},
   "outputs": [
    {
     "data": {
      "text/plain": [
       "'nonrobust'"
      ]
     },
     "execution_count": 38,
     "metadata": {},
     "output_type": "execute_result"
    }
   ],
   "source": [
    "r.cov_type"
   ]
  },
  {
   "cell_type": "code",
   "execution_count": 31,
   "metadata": {},
   "outputs": [
    {
     "data": {
      "text/plain": [
       "array([6.02783643e+06, 1.58827294e+05, 3.78300718e+04, 2.91966344e+01])"
      ]
     },
     "execution_count": 31,
     "metadata": {},
     "output_type": "execute_result"
    }
   ],
   "source": [
    "r.eigenvals"
   ]
  },
  {
   "cell_type": "code",
   "execution_count": 34,
   "metadata": {},
   "outputs": [
    {
     "data": {
      "text/plain": [
       "-386.1811179443831"
      ]
     },
     "execution_count": 34,
     "metadata": {},
     "output_type": "execute_result"
    }
   ],
   "source": [
    "r.llf"
   ]
  },
  {
   "cell_type": "code",
   "execution_count": 35,
   "metadata": {},
   "outputs": [
    {
     "data": {
      "text/plain": [
       "Intercept    1.267295e-17\n",
       "TV           1.509960e-81\n",
       "radio        1.505339e-54\n",
       "newspaper    8.599151e-01\n",
       "dtype: float64"
      ]
     },
     "execution_count": 35,
     "metadata": {},
     "output_type": "execute_result"
    }
   ],
   "source": [
    "r.pvalues"
   ]
  },
  {
   "cell_type": "code",
   "execution_count": 15,
   "metadata": {
    "scrolled": true
   },
   "outputs": [
    {
     "data": {
      "text/plain": [
       "Intercept    0.311908\n",
       "TV           0.001395\n",
       "radio        0.008611\n",
       "newspaper    0.005871\n",
       "dtype: float64"
      ]
     },
     "execution_count": 15,
     "metadata": {},
     "output_type": "execute_result"
    }
   ],
   "source": [
    "r.bse"
   ]
  },
  {
   "cell_type": "code",
   "execution_count": 16,
   "metadata": {},
   "outputs": [
    {
     "data": {
      "text/plain": [
       "780.3622358887662"
      ]
     },
     "execution_count": 16,
     "metadata": {},
     "output_type": "execute_result"
    }
   ],
   "source": [
    "r.aic"
   ]
  },
  {
   "cell_type": "code",
   "execution_count": 17,
   "metadata": {},
   "outputs": [
    {
     "data": {
      "text/plain": [
       "793.5555053549584"
      ]
     },
     "execution_count": 17,
     "metadata": {},
     "output_type": "execute_result"
    }
   ],
   "source": [
    "r.bic"
   ]
  },
  {
   "cell_type": "code",
   "execution_count": 18,
   "metadata": {
    "scrolled": true
   },
   "outputs": [
    {
     "name": "stdout",
     "output_type": "stream",
     "text": [
      "                 Results: Ordinary least squares\n",
      "=================================================================\n",
      "Model:              OLS              Adj. R-squared:     0.896   \n",
      "Dependent Variable: sales            AIC:                780.3622\n",
      "Date:               2019-02-11 19:09 BIC:                793.5555\n",
      "No. Observations:   200              Log-Likelihood:     -386.18 \n",
      "Df Model:           3                F-statistic:        570.3   \n",
      "Df Residuals:       196              Prob (F-statistic): 1.58e-96\n",
      "R-squared:          0.897            Scale:              2.8409  \n",
      "------------------------------------------------------------------\n",
      "                Coef.   Std.Err.     t     P>|t|    [0.025  0.975]\n",
      "------------------------------------------------------------------\n",
      "Intercept       2.9389    0.3119   9.4223  0.0000   2.3238  3.5540\n",
      "TV              0.0458    0.0014  32.8086  0.0000   0.0430  0.0485\n",
      "radio           0.1885    0.0086  21.8935  0.0000   0.1715  0.2055\n",
      "newspaper      -0.0010    0.0059  -0.1767  0.8599  -0.0126  0.0105\n",
      "-----------------------------------------------------------------\n",
      "Omnibus:             60.414       Durbin-Watson:          2.084  \n",
      "Prob(Omnibus):       0.000        Jarque-Bera (JB):       151.241\n",
      "Skew:                -1.327       Prob(JB):               0.000  \n",
      "Kurtosis:            6.332        Condition No.:          454    \n",
      "=================================================================\n",
      "\n"
     ]
    }
   ],
   "source": [
    "print(r.summary2())"
   ]
  },
  {
   "cell_type": "code",
   "execution_count": 19,
   "metadata": {},
   "outputs": [
    {
     "data": {
      "text/plain": [
       "570.2707036590944"
      ]
     },
     "execution_count": 19,
     "metadata": {},
     "output_type": "execute_result"
    }
   ],
   "source": [
    "r.fvalue"
   ]
  },
  {
   "cell_type": "code",
   "execution_count": null,
   "metadata": {},
   "outputs": [],
   "source": []
  },
  {
   "cell_type": "code",
   "execution_count": null,
   "metadata": {},
   "outputs": [],
   "source": []
  },
  {
   "cell_type": "markdown",
   "metadata": {},
   "source": [
    "## Scikit-learn"
   ]
  },
  {
   "cell_type": "code",
   "execution_count": 285,
   "metadata": {},
   "outputs": [],
   "source": [
    "from sklearn.linear_model import LinearRegression"
   ]
  },
  {
   "cell_type": "code",
   "execution_count": 286,
   "metadata": {},
   "outputs": [],
   "source": [
    "linreg = LinearRegression( )"
   ]
  },
  {
   "cell_type": "code",
   "execution_count": 287,
   "metadata": {},
   "outputs": [],
   "source": [
    "ones = np.ones(shape=len(data.TV))   # works\n",
    "zeros = np.zeros(shape=len(data.TV)) # works\n",
    "empty = np.empty(shape=len(data.TV)) # works\n",
    "\n",
    "xdata = np.asarray(data.TV)\n",
    "\n",
    "# ALL 3 OF THESE WORK THE SAME. THE SECOND COEFF WILL BE 0 SINCE ITS A DUMMY ARRAY IN X. \n",
    "\n",
    "X = np.asarray(list(zip(xdata, ones)))  # works\n",
    "#X = np.asarray(list(zip(xdata, zeros))) # works\n",
    "#X = np.asarray(list(zip(xdata, empty))) # works\n",
    "\n",
    "y = np.asarray(data.sales)"
   ]
  },
  {
   "cell_type": "code",
   "execution_count": 288,
   "metadata": {},
   "outputs": [
    {
     "name": "stdout",
     "output_type": "stream",
     "text": [
      "7.0325935491276965\n",
      "[0.04753664 0.        ]\n"
     ]
    }
   ],
   "source": [
    "result = linreg.fit(X, y) \n",
    "\n",
    "# print the intercept and coefficients\n",
    "print(result.intercept_)\n",
    "print(result.coef_)"
   ]
  },
  {
   "cell_type": "code",
   "execution_count": 293,
   "metadata": {},
   "outputs": [
    {
     "data": {
      "text/plain": [
       "array([1211.12304443,    0.        ])"
      ]
     },
     "execution_count": 293,
     "metadata": {},
     "output_type": "execute_result"
    }
   ],
   "source": [
    "result.singular_"
   ]
  },
  {
   "cell_type": "markdown",
   "metadata": {},
   "source": [
    "## Using Matrices/Vector Algebra\n",
    "\n",
    "See [Wikipedia page](https://en.wikipedia.org/wiki/Ordinary_least_squares) under the Linear Model section and Matrix/vector formulation subsection. \n",
    "\n",
    "${\\displaystyle {\\hat {\\boldsymbol {\\beta }}}=(\\mathbf {X} ^{\\rm {T}}\\mathbf {X} )^{-1}\\mathbf {X} ^{\\rm {T}}\\mathbf {y} .}$\n",
    "\n",
    "${\\displaystyle \\mathbf {X} ={\\begin{bmatrix}X_{11}&X_{12}&\\cdots &X_{1p}\\\\X_{21}&X_{22}&\\cdots &X_{2p}\\\\\\vdots &\\vdots &\\ddots &\\vdots \\\\X_{n1}&X_{n2}&\\cdots &X_{np}\\end{bmatrix}},\\qquad {\\boldsymbol {\\beta }}={\\begin{bmatrix}\\beta _{1}\\\\\\beta _{2}\\\\\\vdots \\\\\\beta _{p}\\end{bmatrix}},\\qquad \\mathbf {y} ={\\begin{bmatrix}y_{1}\\\\y_{2}\\\\\\vdots \\\\y_{n}\\end{bmatrix}}.}$\n",
    "\n",
    "xdata = np.asarray(data.TV)\n",
    "\n",
    "# X = np.vstack([xdata, np.ones(len(xdata))]).T\n",
    "# X = np.asmatrix(X)\n",
    "\n",
    "# OR, A BETTER SOLUTION:\n",
    "X = np.matrix([xdata, np.ones(len(xdata))]).T  # shape(200, 2)\n",
    "y = np.asarray(data.sales)\n",
    "\n",
    "print(X.shape)            # (200, 2)\n",
    "print(y.shape)            # (200, )\n",
    "print(np.vstack(y).shape) # (200, 1)\n",
    "\n",
    "beta = ((X.T * X)**-1) * X.T * np.vstack(y)\n",
    "beta\n",
    "\n",
    "### USING NUMPY ARRAY DOENS'T WORK FOR X, EVENTHOUGH IT HAS THE SAME SHAPE AND LOOKS THE SAME. "
   ]
  },
  {
   "cell_type": "code",
   "execution_count": 275,
   "metadata": {},
   "outputs": [
    {
     "data": {
      "text/plain": [
       "(200, 2)"
      ]
     },
     "execution_count": 275,
     "metadata": {},
     "output_type": "execute_result"
    }
   ],
   "source": [
    "X.shape"
   ]
  },
  {
   "cell_type": "code",
   "execution_count": 276,
   "metadata": {},
   "outputs": [
    {
     "data": {
      "text/plain": [
       "matrix([[230.1,   1. ],\n",
       "        [ 44.5,   1. ],\n",
       "        [ 17.2,   1. ],\n",
       "        [151.5,   1. ],\n",
       "        [180.8,   1. ],\n",
       "        [  8.7,   1. ],\n",
       "        [ 57.5,   1. ],\n",
       "        [120.2,   1. ],\n",
       "        [  8.6,   1. ],\n",
       "        [199.8,   1. ],\n",
       "        [ 66.1,   1. ],\n",
       "        [214.7,   1. ],\n",
       "        [ 23.8,   1. ],\n",
       "        [ 97.5,   1. ],\n",
       "        [204.1,   1. ],\n",
       "        [195.4,   1. ],\n",
       "        [ 67.8,   1. ],\n",
       "        [281.4,   1. ],\n",
       "        [ 69.2,   1. ],\n",
       "        [147.3,   1. ],\n",
       "        [218.4,   1. ],\n",
       "        [237.4,   1. ],\n",
       "        [ 13.2,   1. ],\n",
       "        [228.3,   1. ],\n",
       "        [ 62.3,   1. ],\n",
       "        [262.9,   1. ],\n",
       "        [142.9,   1. ],\n",
       "        [240.1,   1. ],\n",
       "        [248.8,   1. ],\n",
       "        [ 70.6,   1. ],\n",
       "        [292.9,   1. ],\n",
       "        [112.9,   1. ],\n",
       "        [ 97.2,   1. ],\n",
       "        [265.6,   1. ],\n",
       "        [ 95.7,   1. ],\n",
       "        [290.7,   1. ],\n",
       "        [266.9,   1. ],\n",
       "        [ 74.7,   1. ],\n",
       "        [ 43.1,   1. ],\n",
       "        [228. ,   1. ],\n",
       "        [202.5,   1. ],\n",
       "        [177. ,   1. ],\n",
       "        [293.6,   1. ],\n",
       "        [206.9,   1. ],\n",
       "        [ 25.1,   1. ],\n",
       "        [175.1,   1. ],\n",
       "        [ 89.7,   1. ],\n",
       "        [239.9,   1. ],\n",
       "        [227.2,   1. ],\n",
       "        [ 66.9,   1. ],\n",
       "        [199.8,   1. ],\n",
       "        [100.4,   1. ],\n",
       "        [216.4,   1. ],\n",
       "        [182.6,   1. ],\n",
       "        [262.7,   1. ],\n",
       "        [198.9,   1. ],\n",
       "        [  7.3,   1. ],\n",
       "        [136.2,   1. ],\n",
       "        [210.8,   1. ],\n",
       "        [210.7,   1. ],\n",
       "        [ 53.5,   1. ],\n",
       "        [261.3,   1. ],\n",
       "        [239.3,   1. ],\n",
       "        [102.7,   1. ],\n",
       "        [131.1,   1. ],\n",
       "        [ 69. ,   1. ],\n",
       "        [ 31.5,   1. ],\n",
       "        [139.3,   1. ],\n",
       "        [237.4,   1. ],\n",
       "        [216.8,   1. ],\n",
       "        [199.1,   1. ],\n",
       "        [109.8,   1. ],\n",
       "        [ 26.8,   1. ],\n",
       "        [129.4,   1. ],\n",
       "        [213.4,   1. ],\n",
       "        [ 16.9,   1. ],\n",
       "        [ 27.5,   1. ],\n",
       "        [120.5,   1. ],\n",
       "        [  5.4,   1. ],\n",
       "        [116. ,   1. ],\n",
       "        [ 76.4,   1. ],\n",
       "        [239.8,   1. ],\n",
       "        [ 75.3,   1. ],\n",
       "        [ 68.4,   1. ],\n",
       "        [213.5,   1. ],\n",
       "        [193.2,   1. ],\n",
       "        [ 76.3,   1. ],\n",
       "        [110.7,   1. ],\n",
       "        [ 88.3,   1. ],\n",
       "        [109.8,   1. ],\n",
       "        [134.3,   1. ],\n",
       "        [ 28.6,   1. ],\n",
       "        [217.7,   1. ],\n",
       "        [250.9,   1. ],\n",
       "        [107.4,   1. ],\n",
       "        [163.3,   1. ],\n",
       "        [197.6,   1. ],\n",
       "        [184.9,   1. ],\n",
       "        [289.7,   1. ],\n",
       "        [135.2,   1. ],\n",
       "        [222.4,   1. ],\n",
       "        [296.4,   1. ],\n",
       "        [280.2,   1. ],\n",
       "        [187.9,   1. ],\n",
       "        [238.2,   1. ],\n",
       "        [137.9,   1. ],\n",
       "        [ 25. ,   1. ],\n",
       "        [ 90.4,   1. ],\n",
       "        [ 13.1,   1. ],\n",
       "        [255.4,   1. ],\n",
       "        [225.8,   1. ],\n",
       "        [241.7,   1. ],\n",
       "        [175.7,   1. ],\n",
       "        [209.6,   1. ],\n",
       "        [ 78.2,   1. ],\n",
       "        [ 75.1,   1. ],\n",
       "        [139.2,   1. ],\n",
       "        [ 76.4,   1. ],\n",
       "        [125.7,   1. ],\n",
       "        [ 19.4,   1. ],\n",
       "        [141.3,   1. ],\n",
       "        [ 18.8,   1. ],\n",
       "        [224. ,   1. ],\n",
       "        [123.1,   1. ],\n",
       "        [229.5,   1. ],\n",
       "        [ 87.2,   1. ],\n",
       "        [  7.8,   1. ],\n",
       "        [ 80.2,   1. ],\n",
       "        [220.3,   1. ],\n",
       "        [ 59.6,   1. ],\n",
       "        [  0.7,   1. ],\n",
       "        [265.2,   1. ],\n",
       "        [  8.4,   1. ],\n",
       "        [219.8,   1. ],\n",
       "        [ 36.9,   1. ],\n",
       "        [ 48.3,   1. ],\n",
       "        [ 25.6,   1. ],\n",
       "        [273.7,   1. ],\n",
       "        [ 43. ,   1. ],\n",
       "        [184.9,   1. ],\n",
       "        [ 73.4,   1. ],\n",
       "        [193.7,   1. ],\n",
       "        [220.5,   1. ],\n",
       "        [104.6,   1. ],\n",
       "        [ 96.2,   1. ],\n",
       "        [140.3,   1. ],\n",
       "        [240.1,   1. ],\n",
       "        [243.2,   1. ],\n",
       "        [ 38. ,   1. ],\n",
       "        [ 44.7,   1. ],\n",
       "        [280.7,   1. ],\n",
       "        [121. ,   1. ],\n",
       "        [197.6,   1. ],\n",
       "        [171.3,   1. ],\n",
       "        [187.8,   1. ],\n",
       "        [  4.1,   1. ],\n",
       "        [ 93.9,   1. ],\n",
       "        [149.8,   1. ],\n",
       "        [ 11.7,   1. ],\n",
       "        [131.7,   1. ],\n",
       "        [172.5,   1. ],\n",
       "        [ 85.7,   1. ],\n",
       "        [188.4,   1. ],\n",
       "        [163.5,   1. ],\n",
       "        [117.2,   1. ],\n",
       "        [234.5,   1. ],\n",
       "        [ 17.9,   1. ],\n",
       "        [206.8,   1. ],\n",
       "        [215.4,   1. ],\n",
       "        [284.3,   1. ],\n",
       "        [ 50. ,   1. ],\n",
       "        [164.5,   1. ],\n",
       "        [ 19.6,   1. ],\n",
       "        [168.4,   1. ],\n",
       "        [222.4,   1. ],\n",
       "        [276.9,   1. ],\n",
       "        [248.4,   1. ],\n",
       "        [170.2,   1. ],\n",
       "        [276.7,   1. ],\n",
       "        [165.6,   1. ],\n",
       "        [156.6,   1. ],\n",
       "        [218.5,   1. ],\n",
       "        [ 56.2,   1. ],\n",
       "        [287.6,   1. ],\n",
       "        [253.8,   1. ],\n",
       "        [205. ,   1. ],\n",
       "        [139.5,   1. ],\n",
       "        [191.1,   1. ],\n",
       "        [286. ,   1. ],\n",
       "        [ 18.7,   1. ],\n",
       "        [ 39.5,   1. ],\n",
       "        [ 75.5,   1. ],\n",
       "        [ 17.2,   1. ],\n",
       "        [166.8,   1. ],\n",
       "        [149.7,   1. ],\n",
       "        [ 38.2,   1. ],\n",
       "        [ 94.2,   1. ],\n",
       "        [177. ,   1. ],\n",
       "        [283.6,   1. ],\n",
       "        [232.1,   1. ]])"
      ]
     },
     "execution_count": 276,
     "metadata": {},
     "output_type": "execute_result"
    }
   ],
   "source": [
    "X"
   ]
  },
  {
   "cell_type": "code",
   "execution_count": 277,
   "metadata": {},
   "outputs": [],
   "source": [
    "# THIS HAS SHAPE (200, 2). \n",
    "X = np.asarray( [xdata, np.ones(len(xdata))] ).T"
   ]
  },
  {
   "cell_type": "code",
   "execution_count": 278,
   "metadata": {},
   "outputs": [
    {
     "data": {
      "text/plain": [
       "(200, 2)"
      ]
     },
     "execution_count": 278,
     "metadata": {},
     "output_type": "execute_result"
    }
   ],
   "source": [
    "X.shape"
   ]
  },
  {
   "cell_type": "code",
   "execution_count": 279,
   "metadata": {},
   "outputs": [
    {
     "data": {
      "text/plain": [
       "array([[230.1,   1. ],\n",
       "       [ 44.5,   1. ],\n",
       "       [ 17.2,   1. ],\n",
       "       [151.5,   1. ],\n",
       "       [180.8,   1. ],\n",
       "       [  8.7,   1. ],\n",
       "       [ 57.5,   1. ],\n",
       "       [120.2,   1. ],\n",
       "       [  8.6,   1. ],\n",
       "       [199.8,   1. ],\n",
       "       [ 66.1,   1. ],\n",
       "       [214.7,   1. ],\n",
       "       [ 23.8,   1. ],\n",
       "       [ 97.5,   1. ],\n",
       "       [204.1,   1. ],\n",
       "       [195.4,   1. ],\n",
       "       [ 67.8,   1. ],\n",
       "       [281.4,   1. ],\n",
       "       [ 69.2,   1. ],\n",
       "       [147.3,   1. ],\n",
       "       [218.4,   1. ],\n",
       "       [237.4,   1. ],\n",
       "       [ 13.2,   1. ],\n",
       "       [228.3,   1. ],\n",
       "       [ 62.3,   1. ],\n",
       "       [262.9,   1. ],\n",
       "       [142.9,   1. ],\n",
       "       [240.1,   1. ],\n",
       "       [248.8,   1. ],\n",
       "       [ 70.6,   1. ],\n",
       "       [292.9,   1. ],\n",
       "       [112.9,   1. ],\n",
       "       [ 97.2,   1. ],\n",
       "       [265.6,   1. ],\n",
       "       [ 95.7,   1. ],\n",
       "       [290.7,   1. ],\n",
       "       [266.9,   1. ],\n",
       "       [ 74.7,   1. ],\n",
       "       [ 43.1,   1. ],\n",
       "       [228. ,   1. ],\n",
       "       [202.5,   1. ],\n",
       "       [177. ,   1. ],\n",
       "       [293.6,   1. ],\n",
       "       [206.9,   1. ],\n",
       "       [ 25.1,   1. ],\n",
       "       [175.1,   1. ],\n",
       "       [ 89.7,   1. ],\n",
       "       [239.9,   1. ],\n",
       "       [227.2,   1. ],\n",
       "       [ 66.9,   1. ],\n",
       "       [199.8,   1. ],\n",
       "       [100.4,   1. ],\n",
       "       [216.4,   1. ],\n",
       "       [182.6,   1. ],\n",
       "       [262.7,   1. ],\n",
       "       [198.9,   1. ],\n",
       "       [  7.3,   1. ],\n",
       "       [136.2,   1. ],\n",
       "       [210.8,   1. ],\n",
       "       [210.7,   1. ],\n",
       "       [ 53.5,   1. ],\n",
       "       [261.3,   1. ],\n",
       "       [239.3,   1. ],\n",
       "       [102.7,   1. ],\n",
       "       [131.1,   1. ],\n",
       "       [ 69. ,   1. ],\n",
       "       [ 31.5,   1. ],\n",
       "       [139.3,   1. ],\n",
       "       [237.4,   1. ],\n",
       "       [216.8,   1. ],\n",
       "       [199.1,   1. ],\n",
       "       [109.8,   1. ],\n",
       "       [ 26.8,   1. ],\n",
       "       [129.4,   1. ],\n",
       "       [213.4,   1. ],\n",
       "       [ 16.9,   1. ],\n",
       "       [ 27.5,   1. ],\n",
       "       [120.5,   1. ],\n",
       "       [  5.4,   1. ],\n",
       "       [116. ,   1. ],\n",
       "       [ 76.4,   1. ],\n",
       "       [239.8,   1. ],\n",
       "       [ 75.3,   1. ],\n",
       "       [ 68.4,   1. ],\n",
       "       [213.5,   1. ],\n",
       "       [193.2,   1. ],\n",
       "       [ 76.3,   1. ],\n",
       "       [110.7,   1. ],\n",
       "       [ 88.3,   1. ],\n",
       "       [109.8,   1. ],\n",
       "       [134.3,   1. ],\n",
       "       [ 28.6,   1. ],\n",
       "       [217.7,   1. ],\n",
       "       [250.9,   1. ],\n",
       "       [107.4,   1. ],\n",
       "       [163.3,   1. ],\n",
       "       [197.6,   1. ],\n",
       "       [184.9,   1. ],\n",
       "       [289.7,   1. ],\n",
       "       [135.2,   1. ],\n",
       "       [222.4,   1. ],\n",
       "       [296.4,   1. ],\n",
       "       [280.2,   1. ],\n",
       "       [187.9,   1. ],\n",
       "       [238.2,   1. ],\n",
       "       [137.9,   1. ],\n",
       "       [ 25. ,   1. ],\n",
       "       [ 90.4,   1. ],\n",
       "       [ 13.1,   1. ],\n",
       "       [255.4,   1. ],\n",
       "       [225.8,   1. ],\n",
       "       [241.7,   1. ],\n",
       "       [175.7,   1. ],\n",
       "       [209.6,   1. ],\n",
       "       [ 78.2,   1. ],\n",
       "       [ 75.1,   1. ],\n",
       "       [139.2,   1. ],\n",
       "       [ 76.4,   1. ],\n",
       "       [125.7,   1. ],\n",
       "       [ 19.4,   1. ],\n",
       "       [141.3,   1. ],\n",
       "       [ 18.8,   1. ],\n",
       "       [224. ,   1. ],\n",
       "       [123.1,   1. ],\n",
       "       [229.5,   1. ],\n",
       "       [ 87.2,   1. ],\n",
       "       [  7.8,   1. ],\n",
       "       [ 80.2,   1. ],\n",
       "       [220.3,   1. ],\n",
       "       [ 59.6,   1. ],\n",
       "       [  0.7,   1. ],\n",
       "       [265.2,   1. ],\n",
       "       [  8.4,   1. ],\n",
       "       [219.8,   1. ],\n",
       "       [ 36.9,   1. ],\n",
       "       [ 48.3,   1. ],\n",
       "       [ 25.6,   1. ],\n",
       "       [273.7,   1. ],\n",
       "       [ 43. ,   1. ],\n",
       "       [184.9,   1. ],\n",
       "       [ 73.4,   1. ],\n",
       "       [193.7,   1. ],\n",
       "       [220.5,   1. ],\n",
       "       [104.6,   1. ],\n",
       "       [ 96.2,   1. ],\n",
       "       [140.3,   1. ],\n",
       "       [240.1,   1. ],\n",
       "       [243.2,   1. ],\n",
       "       [ 38. ,   1. ],\n",
       "       [ 44.7,   1. ],\n",
       "       [280.7,   1. ],\n",
       "       [121. ,   1. ],\n",
       "       [197.6,   1. ],\n",
       "       [171.3,   1. ],\n",
       "       [187.8,   1. ],\n",
       "       [  4.1,   1. ],\n",
       "       [ 93.9,   1. ],\n",
       "       [149.8,   1. ],\n",
       "       [ 11.7,   1. ],\n",
       "       [131.7,   1. ],\n",
       "       [172.5,   1. ],\n",
       "       [ 85.7,   1. ],\n",
       "       [188.4,   1. ],\n",
       "       [163.5,   1. ],\n",
       "       [117.2,   1. ],\n",
       "       [234.5,   1. ],\n",
       "       [ 17.9,   1. ],\n",
       "       [206.8,   1. ],\n",
       "       [215.4,   1. ],\n",
       "       [284.3,   1. ],\n",
       "       [ 50. ,   1. ],\n",
       "       [164.5,   1. ],\n",
       "       [ 19.6,   1. ],\n",
       "       [168.4,   1. ],\n",
       "       [222.4,   1. ],\n",
       "       [276.9,   1. ],\n",
       "       [248.4,   1. ],\n",
       "       [170.2,   1. ],\n",
       "       [276.7,   1. ],\n",
       "       [165.6,   1. ],\n",
       "       [156.6,   1. ],\n",
       "       [218.5,   1. ],\n",
       "       [ 56.2,   1. ],\n",
       "       [287.6,   1. ],\n",
       "       [253.8,   1. ],\n",
       "       [205. ,   1. ],\n",
       "       [139.5,   1. ],\n",
       "       [191.1,   1. ],\n",
       "       [286. ,   1. ],\n",
       "       [ 18.7,   1. ],\n",
       "       [ 39.5,   1. ],\n",
       "       [ 75.5,   1. ],\n",
       "       [ 17.2,   1. ],\n",
       "       [166.8,   1. ],\n",
       "       [149.7,   1. ],\n",
       "       [ 38.2,   1. ],\n",
       "       [ 94.2,   1. ],\n",
       "       [177. ,   1. ],\n",
       "       [283.6,   1. ],\n",
       "       [232.1,   1. ]])"
      ]
     },
     "execution_count": 279,
     "metadata": {},
     "output_type": "execute_result"
    }
   ],
   "source": [
    "X"
   ]
  },
  {
   "cell_type": "markdown",
   "metadata": {},
   "source": [
    "Computing beta will throw the following error: \n",
    "\n",
    "    ValueError: operands could not be broadcast together with shapes (2,200) (200,2) "
   ]
  },
  {
   "cell_type": "code",
   "execution_count": 281,
   "metadata": {},
   "outputs": [
    {
     "ename": "ValueError",
     "evalue": "operands could not be broadcast together with shapes (2,200) (200,2) ",
     "output_type": "error",
     "traceback": [
      "\u001b[0;31m---------------------------------------------------------------------------\u001b[0m",
      "\u001b[0;31mValueError\u001b[0m                                Traceback (most recent call last)",
      "\u001b[0;32m<ipython-input-281-b68c576e752f>\u001b[0m in \u001b[0;36m<module>\u001b[0;34m()\u001b[0m\n\u001b[0;32m----> 1\u001b[0;31m \u001b[0mbeta\u001b[0m \u001b[0;34m=\u001b[0m \u001b[0;34m(\u001b[0m\u001b[0;34m(\u001b[0m\u001b[0mX\u001b[0m\u001b[0;34m.\u001b[0m\u001b[0mT\u001b[0m \u001b[0;34m*\u001b[0m \u001b[0mX\u001b[0m\u001b[0;34m)\u001b[0m\u001b[0;34m**\u001b[0m\u001b[0;34m-\u001b[0m\u001b[0;36m1\u001b[0m\u001b[0;34m)\u001b[0m \u001b[0;34m*\u001b[0m \u001b[0mX\u001b[0m\u001b[0;34m.\u001b[0m\u001b[0mT\u001b[0m \u001b[0;34m*\u001b[0m \u001b[0mnp\u001b[0m\u001b[0;34m.\u001b[0m\u001b[0mvstack\u001b[0m\u001b[0;34m(\u001b[0m\u001b[0my\u001b[0m\u001b[0;34m)\u001b[0m\u001b[0;34m\u001b[0m\u001b[0m\n\u001b[0m\u001b[1;32m      2\u001b[0m \u001b[0mbeta\u001b[0m\u001b[0;34m\u001b[0m\u001b[0m\n",
      "\u001b[0;31mValueError\u001b[0m: operands could not be broadcast together with shapes (2,200) (200,2) "
     ]
    }
   ],
   "source": [
    "beta = ((X.T * X)**-1) * X.T * np.vstack(y)\n",
    "beta"
   ]
  },
  {
   "cell_type": "markdown",
   "metadata": {},
   "source": [
    "#### The matrix:"
   ]
  },
  {
   "cell_type": "code",
   "execution_count": 283,
   "metadata": {},
   "outputs": [
    {
     "data": {
      "text/plain": [
       "matrix([[482108.34],\n",
       "        [  2804.5 ]])"
      ]
     },
     "execution_count": 283,
     "metadata": {},
     "output_type": "execute_result"
    }
   ],
   "source": [
    "X = np.matrix([xdata, np.ones(len(xdata))]).T  # shape(200, 2)\n",
    "X.T * np.vstack(y)"
   ]
  },
  {
   "cell_type": "markdown",
   "metadata": {},
   "source": [
    "#### The array:"
   ]
  },
  {
   "cell_type": "code",
   "execution_count": 284,
   "metadata": {},
   "outputs": [
    {
     "ename": "ValueError",
     "evalue": "operands could not be broadcast together with shapes (2,200) (200,1) ",
     "output_type": "error",
     "traceback": [
      "\u001b[0;31m---------------------------------------------------------------------------\u001b[0m",
      "\u001b[0;31mValueError\u001b[0m                                Traceback (most recent call last)",
      "\u001b[0;32m<ipython-input-284-17bbe7e2a174>\u001b[0m in \u001b[0;36m<module>\u001b[0;34m()\u001b[0m\n\u001b[1;32m      1\u001b[0m \u001b[0mX\u001b[0m \u001b[0;34m=\u001b[0m \u001b[0mnp\u001b[0m\u001b[0;34m.\u001b[0m\u001b[0masarray\u001b[0m\u001b[0;34m(\u001b[0m \u001b[0;34m[\u001b[0m\u001b[0mxdata\u001b[0m\u001b[0;34m,\u001b[0m \u001b[0mnp\u001b[0m\u001b[0;34m.\u001b[0m\u001b[0mones\u001b[0m\u001b[0;34m(\u001b[0m\u001b[0mlen\u001b[0m\u001b[0;34m(\u001b[0m\u001b[0mxdata\u001b[0m\u001b[0;34m)\u001b[0m\u001b[0;34m)\u001b[0m\u001b[0;34m]\u001b[0m \u001b[0;34m)\u001b[0m\u001b[0;34m.\u001b[0m\u001b[0mT\u001b[0m\u001b[0;34m\u001b[0m\u001b[0m\n\u001b[0;32m----> 2\u001b[0;31m \u001b[0mX\u001b[0m\u001b[0;34m.\u001b[0m\u001b[0mT\u001b[0m \u001b[0;34m*\u001b[0m \u001b[0mnp\u001b[0m\u001b[0;34m.\u001b[0m\u001b[0mvstack\u001b[0m\u001b[0;34m(\u001b[0m\u001b[0my\u001b[0m\u001b[0;34m)\u001b[0m\u001b[0;34m\u001b[0m\u001b[0m\n\u001b[0m",
      "\u001b[0;31mValueError\u001b[0m: operands could not be broadcast together with shapes (2,200) (200,1) "
     ]
    }
   ],
   "source": [
    "X = np.asarray( [xdata, np.ones(len(xdata))] ).T\n",
    "X.T * np.vstack(y)"
   ]
  },
  {
   "cell_type": "code",
   "execution_count": null,
   "metadata": {},
   "outputs": [],
   "source": []
  }
 ],
 "metadata": {
  "kernelspec": {
   "display_name": "Python 3",
   "language": "python",
   "name": "python3"
  },
  "language_info": {
   "codemirror_mode": {
    "name": "ipython",
    "version": 3
   },
   "file_extension": ".py",
   "mimetype": "text/x-python",
   "name": "python",
   "nbconvert_exporter": "python",
   "pygments_lexer": "ipython3",
   "version": "3.7.0"
  }
 },
 "nbformat": 4,
 "nbformat_minor": 2
}
