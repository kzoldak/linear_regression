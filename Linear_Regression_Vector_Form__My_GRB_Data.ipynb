{
 "cells": [
  {
   "cell_type": "markdown",
   "metadata": {},
   "source": [
    "https://en.wikipedia.org/wiki/Ordinary_least_squares\n",
    "\n",
    "\n",
    "__Linear Modeling Function:__\n",
    "\n",
    "</br>\n",
    "\n",
    "${\\displaystyle y_{i}=\\beta _{1}x_{i1}+\\beta _{2}x_{i2}+\\cdots +\\beta _{p}x_{ip}+\\varepsilon _{i}}$\n",
    "\n",
    "</br>\n",
    "\n",
    "As a rule, the constant term is always included in the set of regressors $X$, say, by taking $x_{i1} = 1$ for all observations $i = 1, …, n$. The coefficient $\\beta_1$ corresponding to this regressor is called the intercept.\n",
    "\n",
    "\n",
    "\n",
    "__In Vector Form:__\n",
    "\n",
    "</br>\n",
    "\n",
    "${\\displaystyle y_{i}=x_{i}^{T}\\beta +\\varepsilon _{i}\\,}$\n",
    "\n",
    "the $ε_i$'s are unobserved scalar random variables (errors) which account for influences upon the responses yi from sources other than the explanators $x_i$. \n",
    "$x_{i}$ is a column vector of the ith observations of all the explanatory variables.\n",
    "\n",
    "__In Matrix Form:__\n",
    "\n",
    "</br>\n",
    "\n",
    "${\\displaystyle {\\hat {\\boldsymbol {\\beta }}}=(\\mathbf {X} ^{\\mathsf {T}}\\mathbf {X} )^{-1}\\mathbf {X} ^{\\mathsf {T}}\\mathbf {y}}$\n",
    "\n",
    "\n",
    "\n",
    "${\\displaystyle \\mathbf {X} ={\\begin{bmatrix}X_{11}&X_{12}&\\cdots &X_{1p}\\\\X_{21}&X_{22}&\\cdots &X_{2p}\\\\\\vdots &\\vdots &\\ddots &\\vdots \\\\X_{N1}&X_{N2}&\\cdots &X_{Np}\\end{bmatrix}},\\qquad {\\boldsymbol {\\beta }}={\\begin{bmatrix}\\beta _{1}\\\\\\beta _{2}\\\\\\vdots \\\\\\beta _{p}\\end{bmatrix}},\\qquad \\mathbf {y} ={\\begin{bmatrix}y_{1}\\\\y_{2}\\\\\\vdots \\\\y_{N}\\end{bmatrix}}.}$\n",
    "\n",
    "\n",
    "N is the number of observations and p is the number of features, predictors, independent variables, regressors, etc...\n",
    "The terms representing the variables in the training data set have many names. \n",
    "\n",
    "$\\beta$ is the coefficient vector.\n",
    "\n",
    "$y$ is the response vector, or vector of dependent variables. When you are training a model, $y$ is the response that that model should be able to closely predict.  \n",
    "\n",
    "#### The below notes are from Wikipedia, so make sure they match the book. \n",
    "\n",
    "Suppose $\\beta$ is a \"candidate\" value for the parameter vector $\\boldsymbol{\\beta}$. The quantity $y_i − x_i^T \\beta$, called the residual for the _i_th observation, measures the vertical distance between the data point ($x_i$, $y_i$) and the hyperplane $y = x^T \\beta$, and thus assesses the degree of fit between the actual data and the model. The sum of squared residuals (SSR) (also called the error sum of squares (ESS) or residual sum of squares (RSS)) is a measure of the overall model fit:\n",
    "\n",
    "\n",
    "${\\displaystyle RSS(\\beta)=\\sum _{i=1}^{N}(y_{i}-x_{i}^{\\mathrm {T} }\\beta)^{2} = (\\boldsymbol{y}-\\boldsymbol{X}\\beta)^{\\mathrm {T} }(\\boldsymbol{y}-\\boldsymbol{X}\\beta)}$\n",
    "\n",
    "The goal is to find the set of coefficients $\\beta$ that minimize the residual sum of squares (RSS). \n",
    "\n",
    "\n",
    "\n",
    "${\\displaystyle RSS(\\beta)= (\\boldsymbol{y}-\\boldsymbol{X}\\beta)^{\\mathrm {T} }(\\boldsymbol{y}-\\boldsymbol{X}\\beta)}$\n",
    "\n",
    "${\\displaystyle {\\hat {\\boldsymbol {\\beta }}}=(\\mathbf {X} ^{\\mathsf {T}}\\mathbf {X} )^{-1}\\mathbf {X} ^{\\mathsf {T}}\\mathbf {y}}$"
   ]
  },
  {
   "cell_type": "markdown",
   "metadata": {},
   "source": [
    "```\n",
    "\n",
    "\n",
    "\n",
    "```\n",
    "# Hogg's Notation.\n",
    "## In Hogg's paper on linear regresstion (https://arxiv.org/pdf/1008.4686.pdf) he uses A instead of X for the features matrix. Moving Forward I will also adopt A instead of X, so replace A for X in all the equations above. \n"
   ]
  },
  {
   "cell_type": "markdown",
   "metadata": {},
   "source": [
    "```\n",
    "\n",
    "```\n",
    "# Code Shortcuts:\n",
    "\n",
    "`np.linalg.inv(A.T * np.linalg.inv(C) * A)` \n",
    " is the same as \n",
    " `(A.T * C**-1 * A)**-1`\n",
    " \n",
    " \n",
    "`A * A.T`\n",
    " is the same as \n",
    "`np.dot(A, A.T)`"
   ]
  },
  {
   "cell_type": "markdown",
   "metadata": {},
   "source": [
    "# Read in Data"
   ]
  },
  {
   "cell_type": "code",
   "execution_count": 1,
   "metadata": {},
   "outputs": [],
   "source": [
    "import pandas as pd\n",
    "import numpy as np\n",
    "\n",
    "import matplotlib.pyplot as plt\n",
    "%matplotlib inline\n",
    "\n",
    "from Zoldak.Math.tools import to_log"
   ]
  },
  {
   "cell_type": "code",
   "execution_count": 2,
   "metadata": {},
   "outputs": [],
   "source": [
    "data = pd.read_csv(('/Users/kimzoldak/Github/GRB_Hubble_Diagram/data/'\n",
    "                    'Band_13_GBM+LAT__22_GBMconstrained.txt'), \n",
    "                   sep='\\t')\n",
    "\n",
    "data = data[data.trigger.map(lambda x: x != 'bn090510016')]  # remove short burst\n",
    "data.index = range(0, len(data))\n",
    "\n",
    "df = pd.DataFrame()\n",
    "df['eiso'] = data['eiso']/1E52\n",
    "df['eiso_err'] = data.loc[:, ['eiso_err_low', 'eiso_err_up']].apply(np.mean, 1)\n",
    "df['eiso_err'] = df['eiso_err']/1E52\n",
    "df['epeakRest'] = data['epeakRest']\n",
    "df['epeakRest_err'] = data.loc[:, ['epeakRest_err_low', 'epeakRest_err_up']].apply(np.mean, 1)\n",
    "\n",
    "x,xerr = to_log(df['eiso'], df['eiso_err'], which='average', errTypeReturn='moe')\n",
    "y,yerr = to_log(df['epeakRest'], df['epeakRest_err'], which='average', errTypeReturn='moe')\n"
   ]
  },
  {
   "cell_type": "code",
   "execution_count": 3,
   "metadata": {},
   "outputs": [
    {
     "data": {
      "text/plain": [
       "<ErrorbarContainer object of 3 artists>"
      ]
     },
     "execution_count": 3,
     "metadata": {},
     "output_type": "execute_result"
    },
    {
     "data": {
      "image/png": "[encoded data removed]",
      "text/plain": [
       "<Figure size 432x288 with 1 Axes>"
      ]
     },
     "metadata": {
      "needs_background": "light"
     },
     "output_type": "display_data"
    }
   ],
   "source": [
    "plt.errorbar(x, y, xerr=xerr, yerr=yerr, fmt='.')"
   ]
  },
  {
   "cell_type": "code",
   "execution_count": 163,
   "metadata": {},
   "outputs": [
    {
     "data": {
      "text/plain": [
       "[<matplotlib.lines.Line2D at 0x11c562278>]"
      ]
     },
     "execution_count": 163,
     "metadata": {},
     "output_type": "execute_result"
    },
    {
     "data": {
      "image/png": "[encoded data removed]",
      "text/plain": [
       "<Figure size 432x288 with 1 Axes>"
      ]
     },
     "metadata": {
      "needs_background": "light"
     },
     "output_type": "display_data"
    }
   ],
   "source": [
    "plt.plot(x, y, '.')"
   ]
  },
  {
   "cell_type": "code",
   "execution_count": 164,
   "metadata": {},
   "outputs": [
    {
     "data": {
      "text/plain": [
       "[<matplotlib.lines.Line2D at 0x11c6518d0>]"
      ]
     },
     "execution_count": 164,
     "metadata": {},
     "output_type": "execute_result"
    },
    {
     "data": {
      "image/png": "[encoded data removed]",
      "text/plain": [
       "<Figure size 432x288 with 1 Axes>"
      ]
     },
     "metadata": {
      "needs_background": "light"
     },
     "output_type": "display_data"
    }
   ],
   "source": [
    "plt.plot(xerr, yerr, '.')"
   ]
  },
  {
   "cell_type": "code",
   "execution_count": 165,
   "metadata": {},
   "outputs": [
    {
     "data": {
      "text/plain": [
       "[]"
      ]
     },
     "execution_count": 165,
     "metadata": {},
     "output_type": "execute_result"
    },
    {
     "data": {
      "image/png": "[encoded data removed]",
      "text/plain": [
       "<Figure size 432x288 with 1 Axes>"
      ]
     },
     "metadata": {
      "needs_background": "light"
     },
     "output_type": "display_data"
    }
   ],
   "source": [
    "plt.plot(xerr, yerr, '.')\n",
    "plt.loglog()"
   ]
  },
  {
   "cell_type": "markdown",
   "metadata": {},
   "source": [
    "## A is the features matrix"
   ]
  },
  {
   "cell_type": "code",
   "execution_count": 4,
   "metadata": {},
   "outputs": [],
   "source": [
    "A = np.matrix([np.ones(len(x)), x]).T  # shape(34, 2)"
   ]
  },
  {
   "cell_type": "code",
   "execution_count": 5,
   "metadata": {},
   "outputs": [
    {
     "data": {
      "text/plain": [
       "matrix([[ 1.        ,  2.54185491],\n",
       "        [ 1.        ,  2.61299381],\n",
       "        [ 1.        ,  1.07236324],\n",
       "        [ 1.        ,  2.52902616],\n",
       "        [ 1.        ,  2.29584438],\n",
       "        [ 1.        ,  0.95559486],\n",
       "        [ 1.        ,  0.377605  ],\n",
       "        [ 1.        ,  1.95587216],\n",
       "        [ 1.        ,  1.7817039 ],\n",
       "        [ 1.        ,  2.22798906],\n",
       "        [ 1.        ,  1.77951585],\n",
       "        [ 1.        ,  1.27529528],\n",
       "        [ 1.        ,  1.50577426],\n",
       "        [ 1.        ,  1.5529516 ],\n",
       "        [ 1.        ,  1.37900051],\n",
       "        [ 1.        ,  0.6214454 ],\n",
       "        [ 1.        ,  1.38880257],\n",
       "        [ 1.        ,  0.59277242],\n",
       "        [ 1.        ,  0.16047497],\n",
       "        [ 1.        ,  0.80329796],\n",
       "        [ 1.        ,  0.60744442],\n",
       "        [ 1.        ,  1.10608739],\n",
       "        [ 1.        , -0.11498411],\n",
       "        [ 1.        ,  1.41045805],\n",
       "        [ 1.        ,  0.93947386],\n",
       "        [ 1.        ,  0.39290272],\n",
       "        [ 1.        ,  1.55206348],\n",
       "        [ 1.        ,  0.55165741],\n",
       "        [ 1.        ,  2.26252752],\n",
       "        [ 1.        ,  1.28786324],\n",
       "        [ 1.        ,  1.09571032],\n",
       "        [ 1.        ,  0.45143842],\n",
       "        [ 1.        ,  1.49451712],\n",
       "        [ 1.        ,  0.98435176]])"
      ]
     },
     "execution_count": 5,
     "metadata": {},
     "output_type": "execute_result"
    }
   ],
   "source": [
    "A"
   ]
  },
  {
   "cell_type": "code",
   "execution_count": 6,
   "metadata": {},
   "outputs": [
    {
     "data": {
      "text/plain": [
       "34"
      ]
     },
     "execution_count": 6,
     "metadata": {},
     "output_type": "execute_result"
    }
   ],
   "source": [
    "N = len(A)  # number of data points\n",
    "N"
   ]
  },
  {
   "cell_type": "markdown",
   "metadata": {},
   "source": [
    "## y is the response matrix "
   ]
  },
  {
   "cell_type": "code",
   "execution_count": 7,
   "metadata": {},
   "outputs": [],
   "source": [
    "y = y"
   ]
  },
  {
   "cell_type": "code",
   "execution_count": 8,
   "metadata": {},
   "outputs": [
    {
     "data": {
      "text/plain": [
       "array([3.43646946, 3.50643145, 3.04247935, 3.45950575, 2.97325762,\n",
       "       2.86648647, 2.33270509, 2.88375434, 2.99229292, 3.16820682,\n",
       "       3.05053867, 2.55857095, 2.85059   , 2.457404  , 2.79032391,\n",
       "       2.40343558, 2.43401211, 2.27210394, 1.74770618, 2.3255078 ,\n",
       "       2.53830136, 2.42366128, 2.38899218, 2.43898041, 2.11096192,\n",
       "       1.78440188, 2.74683131, 2.08541495, 3.46699154, 2.94254254,\n",
       "       2.32751543, 2.06024854, 2.66904495, 2.30113692])"
      ]
     },
     "execution_count": 8,
     "metadata": {},
     "output_type": "execute_result"
    }
   ],
   "source": [
    "y"
   ]
  },
  {
   "cell_type": "code",
   "execution_count": 9,
   "metadata": {},
   "outputs": [
    {
     "data": {
      "text/plain": [
       "array([[3.43646946],\n",
       "       [3.50643145],\n",
       "       [3.04247935],\n",
       "       [3.45950575],\n",
       "       [2.97325762],\n",
       "       [2.86648647],\n",
       "       [2.33270509],\n",
       "       [2.88375434],\n",
       "       [2.99229292],\n",
       "       [3.16820682],\n",
       "       [3.05053867],\n",
       "       [2.55857095],\n",
       "       [2.85059   ],\n",
       "       [2.457404  ],\n",
       "       [2.79032391],\n",
       "       [2.40343558],\n",
       "       [2.43401211],\n",
       "       [2.27210394],\n",
       "       [1.74770618],\n",
       "       [2.3255078 ],\n",
       "       [2.53830136],\n",
       "       [2.42366128],\n",
       "       [2.38899218],\n",
       "       [2.43898041],\n",
       "       [2.11096192],\n",
       "       [1.78440188],\n",
       "       [2.74683131],\n",
       "       [2.08541495],\n",
       "       [3.46699154],\n",
       "       [2.94254254],\n",
       "       [2.32751543],\n",
       "       [2.06024854],\n",
       "       [2.66904495],\n",
       "       [2.30113692]])"
      ]
     },
     "execution_count": 9,
     "metadata": {},
     "output_type": "execute_result"
    }
   ],
   "source": [
    "np.vstack(y)"
   ]
  },
  {
   "cell_type": "code",
   "execution_count": 10,
   "metadata": {},
   "outputs": [
    {
     "name": "stdout",
     "output_type": "stream",
     "text": [
      "(34, 2)\n",
      "(34,)\n",
      "(34, 1)\n"
     ]
    }
   ],
   "source": [
    "print(A.shape)            # (34, 2)\n",
    "print(y.shape)            # (34, )\n",
    "print(np.vstack(y).shape) # (34, 1)"
   ]
  },
  {
   "cell_type": "markdown",
   "metadata": {},
   "source": [
    "#### The diagonal of the covariance matrix are the $(y_{err,i}^2)$, or $\\sigma_{y,i}^2$ "
   ]
  },
  {
   "cell_type": "code",
   "execution_count": 11,
   "metadata": {},
   "outputs": [
    {
     "data": {
      "text/plain": [
       "matrix([[0.00085582, 0.        , 0.        , ..., 0.        , 0.        ,\n",
       "         0.        ],\n",
       "        [0.        , 0.00108717, 0.        , ..., 0.        , 0.        ,\n",
       "         0.        ],\n",
       "        [0.        , 0.        , 0.00125941, ..., 0.        , 0.        ,\n",
       "         0.        ],\n",
       "        ...,\n",
       "        [0.        , 0.        , 0.        , ..., 0.00022282, 0.        ,\n",
       "         0.        ],\n",
       "        [0.        , 0.        , 0.        , ..., 0.        , 0.00057234,\n",
       "         0.        ],\n",
       "        [0.        , 0.        , 0.        , ..., 0.        , 0.        ,\n",
       "         0.0002867 ]])"
      ]
     },
     "execution_count": 11,
     "metadata": {},
     "output_type": "execute_result"
    }
   ],
   "source": [
    "C = np.zeros(shape=(N,N))\n",
    "C = np.asmatrix(C)\n",
    "\n",
    "np.fill_diagonal(C, yerr**2)\n",
    "\n",
    "C"
   ]
  },
  {
   "cell_type": "markdown",
   "metadata": {},
   "source": [
    "#### Hogg's eqn 5"
   ]
  },
  {
   "cell_type": "markdown",
   "metadata": {},
   "source": [
    "The best-fit values for the parameters $m$ and $b$ are just the components of a column vector found by:"
   ]
  },
  {
   "cell_type": "code",
   "execution_count": 12,
   "metadata": {},
   "outputs": [
    {
     "data": {
      "text/plain": [
       "matrix([[ 4.32358178e-05, -2.25435877e-05],\n",
       "        [-2.25435877e-05,  1.37248402e-05]])"
      ]
     },
     "execution_count": 12,
     "metadata": {},
     "output_type": "execute_result"
    }
   ],
   "source": [
    "(A.T * C**-1 * A)**-1"
   ]
  },
  {
   "cell_type": "markdown",
   "metadata": {},
   "source": [
    "OR"
   ]
  },
  {
   "cell_type": "code",
   "execution_count": 13,
   "metadata": {},
   "outputs": [
    {
     "data": {
      "text/plain": [
       "matrix([[ 4.32358178e-05, -2.25435877e-05],\n",
       "        [-2.25435877e-05,  1.37248402e-05]])"
      ]
     },
     "execution_count": 13,
     "metadata": {},
     "output_type": "execute_result"
    }
   ],
   "source": [
    "np.dot(np.dot(A.T, C**-1), A)**-1"
   ]
  },
  {
   "cell_type": "markdown",
   "metadata": {},
   "source": [
    "OR"
   ]
  },
  {
   "cell_type": "code",
   "execution_count": 14,
   "metadata": {},
   "outputs": [
    {
     "data": {
      "text/plain": [
       "matrix([[ 4.32358178e-05, -2.25435877e-05],\n",
       "        [-2.25435877e-05,  1.37248402e-05]])"
      ]
     },
     "execution_count": 14,
     "metadata": {},
     "output_type": "execute_result"
    }
   ],
   "source": [
    "np.linalg.inv(np.dot(np.dot(A.T, np.linalg.inv(C)), A))"
   ]
  },
  {
   "cell_type": "markdown",
   "metadata": {},
   "source": [
    "## Estimates of linear coefficients; intercept and slope.\n",
    "## $[A^T C^{-1} A]^{-1} [A^T C^{-1} y]$"
   ]
  },
  {
   "cell_type": "markdown",
   "metadata": {},
   "source": [
    "#### Without a covariance matrix it is:"
   ]
  },
  {
   "cell_type": "code",
   "execution_count": 15,
   "metadata": {},
   "outputs": [
    {
     "data": {
      "text/plain": [
       "matrix([[1.93207633],\n",
       "        [0.55595839]])"
      ]
     },
     "execution_count": 15,
     "metadata": {},
     "output_type": "execute_result"
    }
   ],
   "source": [
    "((A.T * A)**-1) * A.T * np.vstack(y) # equation 3.6"
   ]
  },
  {
   "cell_type": "markdown",
   "metadata": {},
   "source": [
    "#### With a covariance matrix:"
   ]
  },
  {
   "cell_type": "code",
   "execution_count": 17,
   "metadata": {},
   "outputs": [
    {
     "name": "stdout",
     "output_type": "stream",
     "text": [
      "[[1.8836383 ]\n",
      " [0.53134399]]\n"
     ]
    }
   ],
   "source": [
    "beta = ((A.T * C**-1 * A)**-1) * A.T * C**-1 * np.vstack(y) # equation 3.6\n",
    "print(beta)"
   ]
  },
  {
   "cell_type": "markdown",
   "metadata": {},
   "source": [
    "**Notice they are different values!**"
   ]
  },
  {
   "cell_type": "markdown",
   "metadata": {},
   "source": [
    "## Hogg calls this vector X, and the Y values given the model are thus:  \n",
    "## Y = AX"
   ]
  },
  {
   "cell_type": "code",
   "execution_count": 18,
   "metadata": {},
   "outputs": [],
   "source": [
    "X = ((A.T * C**-1 * A)**-1) * A.T * C**-1 * np.vstack(y)"
   ]
  },
  {
   "cell_type": "code",
   "execution_count": 19,
   "metadata": {},
   "outputs": [
    {
     "data": {
      "text/plain": [
       "matrix([[3.23423763],\n",
       "        [3.27203686],\n",
       "        [2.45343206],\n",
       "        [3.22742115],\n",
       "        [3.10352141],\n",
       "        [2.39138789],\n",
       "        [2.08427645],\n",
       "        [2.92287922],\n",
       "        [2.83033596],\n",
       "        [3.0674669 ],\n",
       "        [2.82917335],\n",
       "        [2.56125879],\n",
       "        [2.68372241],\n",
       "        [2.7087898 ],\n",
       "        [2.61636194],\n",
       "        [2.21383958],\n",
       "        [2.6215702 ],\n",
       "        [2.19860437],\n",
       "        [1.96890571],\n",
       "        [2.31046584],\n",
       "        [2.20640025],\n",
       "        [2.47135119],\n",
       "        [1.82254219],\n",
       "        [2.63307671],\n",
       "        [2.38282209],\n",
       "        [2.0924048 ],\n",
       "        [2.70831791],\n",
       "        [2.17675815],\n",
       "        [3.0858187 ],\n",
       "        [2.56793669],\n",
       "        [2.46583739],\n",
       "        [2.1235074 ],\n",
       "        [2.67774099],\n",
       "        [2.40666769]])"
      ]
     },
     "execution_count": 19,
     "metadata": {},
     "output_type": "execute_result"
    }
   ],
   "source": [
    "Y = A*X\n",
    "Y"
   ]
  },
  {
   "cell_type": "markdown",
   "metadata": {},
   "source": [
    "OR"
   ]
  },
  {
   "cell_type": "code",
   "execution_count": 20,
   "metadata": {},
   "outputs": [
    {
     "data": {
      "text/plain": [
       "matrix([[3.23423763],\n",
       "        [3.27203686],\n",
       "        [2.45343206],\n",
       "        [3.22742115],\n",
       "        [3.10352141],\n",
       "        [2.39138789],\n",
       "        [2.08427645],\n",
       "        [2.92287922],\n",
       "        [2.83033596],\n",
       "        [3.0674669 ],\n",
       "        [2.82917335],\n",
       "        [2.56125879],\n",
       "        [2.68372241],\n",
       "        [2.7087898 ],\n",
       "        [2.61636194],\n",
       "        [2.21383958],\n",
       "        [2.6215702 ],\n",
       "        [2.19860437],\n",
       "        [1.96890571],\n",
       "        [2.31046584],\n",
       "        [2.20640025],\n",
       "        [2.47135119],\n",
       "        [1.82254219],\n",
       "        [2.63307671],\n",
       "        [2.38282209],\n",
       "        [2.0924048 ],\n",
       "        [2.70831791],\n",
       "        [2.17675815],\n",
       "        [3.0858187 ],\n",
       "        [2.56793669],\n",
       "        [2.46583739],\n",
       "        [2.1235074 ],\n",
       "        [2.67774099],\n",
       "        [2.40666769]])"
      ]
     },
     "execution_count": 20,
     "metadata": {},
     "output_type": "execute_result"
    }
   ],
   "source": [
    "Y = A*beta\n",
    "Y"
   ]
  },
  {
   "cell_type": "markdown",
   "metadata": {},
   "source": [
    "You want to solve the equation\n",
    "$Y = AX $, but you can't because that equation is over-constrained.\n",
    "So you weight everything with the inverse of the covariance matrix ($C^{-1}$ or `C**-1`) (as you would if you were doing, say, a weighted average), and then left-multiply everything by $A^T$ to reduce the dimensionality, and then equation $[A^T C^{-1} A]^{-1} [A^T C^{-1} y]$ is the solution of that reduced-dimensionality equation. This procedure is not arbitrary; it minimizes an objective function \n",
    "(\"chi-squared\"), which is the total squared error, scaled by the uncertainties, or\"\n",
    "\n",
    "$\\chi^2 = \\sum^N_{i=-1} \\frac{[y_i - f(x_i)]^2}{\\sigma_{y_i}^2} = [Y-AX]^T C^{-1} [Y-AX]$\n",
    "\n",
    "or \n",
    "\n",
    "$\\chi^2 = \\sum^N_{i=-1} \\frac{[y_i - y_{model,i}]^2}{\\sigma_{y_i}^2} = [Y-AX]^T C^{-1} [Y-AX]$\n"
   ]
  },
  {
   "cell_type": "markdown",
   "metadata": {},
   "source": [
    "The probability density function for a standard normal distribution is:\n",
    "\n",
    "${\\displaystyle f(x\\mid \\mu ,\\sigma ^{2})={\\frac {1}{\\sqrt {2\\pi \\sigma ^{2}}}}e^{-{\\frac {(x-\\mu )^{2}}{2\\sigma ^{2}}}}}$"
   ]
  },
  {
   "cell_type": "markdown",
   "metadata": {},
   "source": [
    "${\\displaystyle f(x\\mid \\mu ,\\sigma ^{2})={\\frac {1}{\\sqrt {2\\pi \\sigma ^{2}}}} \\exp\\left[ -\\frac{(x-\\mu)^2}{2\\sigma^2} \\right] }$\n",
    "\n",
    "OR\n",
    "\n",
    "${\\displaystyle {\\frac {1}{\\sqrt {2\\pi \\sigma ^{2}}}} \\exp\\left[ -\\frac{1}{2}\\frac{(y-y_{model})^2}{\\sigma^2} \\right] }$\n",
    "\n",
    "Thus, chi-squared minimization comes from the normal distribution. "
   ]
  },
  {
   "cell_type": "markdown",
   "metadata": {},
   "source": [
    "## In Eqns 16-18 of Kelly 2007:\n",
    "\n",
    "$\\frac{1}{2\\pi |V_{k,i}|^{1/2}} \\times \\exp\\left[ -\\frac{1}{2}(z_i - \\zeta_k)^T V_{k,i}^{-1} (z_i - \\zeta_k) \\right]$\n",
    "\n",
    "where\n",
    "\n",
    "$z_i=(y,x)$\n",
    "\n",
    "$\\zeta_k = (\\alpha + \\beta\\mu_k, \\mu_k)$\n",
    "\n",
    "and \n",
    "\n",
    "$V_{k,i} = \n",
    "\\left(\n",
    "\\begin{matrix}\n",
    "\\beta^2 \\tau_k^2 + \\sigma^2 + \\sigma_{y,i}^2 & \\beta \\tau_k^2 + \\sigma_{xy,i} \\\\\n",
    "\\beta \\tau_k^2 + \\sigma_{xy,i} & \\tau_k^2 + \\sigma_{x,i}^2\n",
    "\\end{matrix}\n",
    "\\right)\n",
    "$"
   ]
  },
  {
   "cell_type": "markdown",
   "metadata": {},
   "source": [
    "### Focusing on the exponential term in the normal distribution we have:\n",
    "\n",
    "$\\exp\\left[-\\frac{1}{2} \\left((\\text{data} - \\text{model})^T \\  Cov^{-1} \\ (\\text{data} - \\text{model})\\right) \\right]$\n",
    "\n",
    "which from the $\\chi^2$ equation this is $\\exp[\\frac{1}{2}\\chi^2] = \\exp\\left[\\frac{1}{2} \\left[ [Y-AX]^T C^{-1} [Y-AX] \\right]\\right]$\n",
    "\n",
    "where $AX$ is the model. This should make sense since $Y=AX$ gave us the y-values given the model's parameters (that are given by the $X$ matrix). I don't like calling it the $X$ matrix becuase it makes you think it is the xdata. It is dependent on the xdata, but is not the xdata alone. So $Y = AX$ or $Y = A\\beta$, as I prefer. Recall that $X$ (or $\\beta$) is a matrix of the intercept and slope.\n",
    "\n",
    "This should confirm now that Kelly 2007's (equation 16) is $\\frac{1}{2 \\pi \\sqrt{Cov} }\\exp\\left[-\\frac{1}{2} \\left((\\text{data} - \\text{model})^T \\  Cov^{-1} \\ (\\text{data} - \\text{model})\\right) \\right]$"
   ]
  },
  {
   "cell_type": "markdown",
   "metadata": {},
   "source": [
    "```\n",
    "\n",
    "\n",
    "```\n",
    "$\\chi^2 = [Y-AX]^T C^{-1} [Y-AX]$\n",
    "\n",
    "This equation yields the values of slope and intercept that minimizes $\\chi^2$. \n",
    "\n",
    "Technically the $Y$ should be $ydata$, not the $ymodel$. So we will use lower case $y$, which is our data.\n",
    "\n",
    "```\n",
    "\n",
    "\n",
    "```"
   ]
  },
  {
   "cell_type": "code",
   "execution_count": 143,
   "metadata": {},
   "outputs": [],
   "source": [
    "beta = ((A.T * C**-1 * A)**-1) * A.T * C**-1 * np.vstack(y)\n",
    "Y = A * beta"
   ]
  },
  {
   "cell_type": "code",
   "execution_count": 144,
   "metadata": {},
   "outputs": [
    {
     "data": {
      "text/plain": [
       "matrix([[1.8836383 ],\n",
       "        [0.53134399]])"
      ]
     },
     "execution_count": 144,
     "metadata": {},
     "output_type": "execute_result"
    }
   ],
   "source": [
    "beta"
   ]
  },
  {
   "cell_type": "code",
   "execution_count": 159,
   "metadata": {},
   "outputs": [
    {
     "data": {
      "text/plain": [
       "matrix([[6599.40126548]])"
      ]
     },
     "execution_count": 159,
     "metadata": {},
     "output_type": "execute_result"
    }
   ],
   "source": [
    "# $\\chi^2 = [y-AX]^T C^{-1} [y-AX]$\n",
    "chi_sqrd = (np.vstack(y) - A*beta).T * C**-1 * (np.vstack(y) - A*beta)\n",
    "chi_sqrd"
   ]
  },
  {
   "cell_type": "markdown",
   "metadata": {},
   "source": [
    "Conceptually, $\\chi^2$ is like a metric distance in the data space. This, of course, is\n",
    "only one possible meaning of the phrase \"best-fit\"; that issue is addressed more below."
   ]
  },
  {
   "cell_type": "markdown",
   "metadata": {},
   "source": [
    "When the uncertainties are Gaussian and their variances \\sigma_{y,i} are correctly estimated, the matrix $[A^T C^{-1} A]^{-1}$ that appears in equation (5) is\n",
    "just the covariance matrix *(Gaussian uncertainty -- uncertainty not error(variances on the diagonal, covariances off the diagonal)* for the parameters\n",
    "in X. "
   ]
  },
  {
   "cell_type": "code",
   "execution_count": 161,
   "metadata": {},
   "outputs": [
    {
     "data": {
      "text/plain": [
       "matrix([[ 4.32358178e-05, -2.25435877e-05],\n",
       "        [-2.25435877e-05,  1.37248402e-05]])"
      ]
     },
     "execution_count": 161,
     "metadata": {},
     "output_type": "execute_result"
    }
   ],
   "source": [
    "(A.T * C**-1 * A)**-1"
   ]
  },
  {
   "cell_type": "markdown",
   "metadata": {},
   "source": [
    "# Plot the models"
   ]
  },
  {
   "cell_type": "code",
   "execution_count": 176,
   "metadata": {},
   "outputs": [],
   "source": [
    "beta_wo_cov = ((A.T * A)**-1) * A.T * np.vstack(y)\n",
    "beta_w_cov = ((A.T * C**-1 * A)**-1) * A.T * C**-1 * np.vstack(y)\n",
    "ymodel_wo_cov = A * beta_wo_cov\n",
    "ymodel_w_cov = A * beta_w_cov"
   ]
  },
  {
   "cell_type": "code",
   "execution_count": 177,
   "metadata": {},
   "outputs": [
    {
     "name": "stdout",
     "output_type": "stream",
     "text": [
      "[[1.93207633]\n",
      " [0.55595839]]\n",
      "[[1.8836383 ]\n",
      " [0.53134399]]\n"
     ]
    }
   ],
   "source": [
    "print(beta_wo_cov)\n",
    "print(beta_w_cov)"
   ]
  },
  {
   "cell_type": "code",
   "execution_count": 178,
   "metadata": {},
   "outputs": [
    {
     "data": {
      "text/plain": [
       "<matplotlib.legend.Legend at 0x11bf524e0>"
      ]
     },
     "execution_count": 178,
     "metadata": {},
     "output_type": "execute_result"
    },
    {
     "data": {
      "image/png": "[encoded data removed]",
      "text/plain": [
       "<Figure size 432x288 with 1 Axes>"
      ]
     },
     "metadata": {
      "needs_background": "light"
     },
     "output_type": "display_data"
    }
   ],
   "source": [
    "plt.plot(x, y, 'co', alpha=0.3, label='data')  # data for y\n",
    "plt.plot(x, ymodel_wo_cov, color='k', ls='-', label='model without covmat')  \n",
    "plt.plot(x, ymodel_w_cov, color='red', ls='--', label='model with covmat')\n",
    "plt.legend(loc=0)"
   ]
  },
  {
   "cell_type": "markdown",
   "metadata": {},
   "source": [
    "N is already defined, but we can just define it again here."
   ]
  },
  {
   "cell_type": "markdown",
   "metadata": {},
   "source": [
    "# Variance and the Variance-Covariance Matrix"
   ]
  },
  {
   "cell_type": "code",
   "execution_count": 180,
   "metadata": {},
   "outputs": [
    {
     "data": {
      "text/plain": [
       "(34, 2)"
      ]
     },
     "execution_count": 180,
     "metadata": {},
     "output_type": "execute_result"
    }
   ],
   "source": [
    "N,p = A.shape  # number of observations, number of features (aka predictors)\n",
    "N,p"
   ]
  },
  {
   "cell_type": "code",
   "execution_count": 181,
   "metadata": {},
   "outputs": [
    {
     "name": "stdout",
     "output_type": "stream",
     "text": [
      "31\n"
     ]
    }
   ],
   "source": [
    "# degrees of freedom\n",
    "dof = N-p-1\n",
    "print(dof)"
   ]
  },
  {
   "cell_type": "code",
   "execution_count": 182,
   "metadata": {},
   "outputs": [],
   "source": [
    "def variance(dof, y, ymodel):\n",
    "    ymod = np.asarray(ymodel.flatten())[0]\n",
    "    var = (1./dof)*((y - ymod)**2).sum()\n",
    "    return var\n",
    "\n",
    "def variance_covariance_matrix(A, dof=None, y=None, ymodel=None, var=None):\n",
    "    if var is None:\n",
    "        var = variance(dof, y, ymodel)\n",
    "    return ((A.T * A)**-1) * var\n",
    "    "
   ]
  },
  {
   "cell_type": "code",
   "execution_count": 198,
   "metadata": {},
   "outputs": [
    {
     "data": {
      "text/plain": [
       "matrix([[ 4.32358178e-05, -2.25435877e-05],\n",
       "        [-2.25435877e-05,  1.37248402e-05]])"
      ]
     },
     "execution_count": 198,
     "metadata": {},
     "output_type": "execute_result"
    }
   ],
   "source": [
    "COVARMAT = (A.T * C**-1 * A)**-1\n",
    "COVARMAT"
   ]
  },
  {
   "cell_type": "code",
   "execution_count": 199,
   "metadata": {},
   "outputs": [
    {
     "data": {
      "text/plain": [
       "matrix([[ 0.00848007, -0.00507543],\n",
       "        [-0.00507543,  0.00397324]])"
      ]
     },
     "execution_count": 199,
     "metadata": {},
     "output_type": "execute_result"
    }
   ],
   "source": [
    "VARCOVARMAT = variance_covariance_matrix(A, dof, y, ymodel_w_cov)\n",
    "VARCOVARMAT"
   ]
  },
  {
   "cell_type": "code",
   "execution_count": 202,
   "metadata": {},
   "outputs": [
    {
     "data": {
      "text/plain": [
       "0.0678880022381801"
      ]
     },
     "execution_count": 202,
     "metadata": {},
     "output_type": "execute_result"
    }
   ],
   "source": [
    "var = variance(dof, y, ymodel_w_cov)\n",
    "var"
   ]
  },
  {
   "cell_type": "code",
   "execution_count": 203,
   "metadata": {},
   "outputs": [
    {
     "data": {
      "text/plain": [
       "matrix([[ 0.00848007, -0.00507543],\n",
       "        [-0.00507543,  0.00397324]])"
      ]
     },
     "execution_count": 203,
     "metadata": {},
     "output_type": "execute_result"
    }
   ],
   "source": [
    "variance_covariance_matrix(A, var=var)"
   ]
  },
  {
   "cell_type": "code",
   "execution_count": 227,
   "metadata": {},
   "outputs": [
    {
     "name": "stderr",
     "output_type": "stream",
     "text": [
      "/Users/kimzoldak/anaconda3/lib/python3.7/site-packages/ipykernel_launcher.py:1: RuntimeWarning: invalid value encountered in sqrt\n",
      "  \"\"\"Entry point for launching an IPython kernel.\n"
     ]
    },
    {
     "data": {
      "text/plain": [
       "matrix([[0.00657539,        nan],\n",
       "        [       nan, 0.00370471]])"
      ]
     },
     "execution_count": 227,
     "metadata": {},
     "output_type": "execute_result"
    }
   ],
   "source": [
    "np.sqrt(COVARMAT)"
   ]
  },
  {
   "cell_type": "markdown",
   "metadata": {},
   "source": [
    "The full uncertainty covariance matrix for each data point is given by\n",
    "$\n",
    "\\left(\n",
    "\\begin{matrix}\n",
    "\\sigma_x^2 & \\rho_{xy}\\sigma_x \\sigma_y \\\\\n",
    "\\rho_{xy}\\sigma_x \\sigma_y  & \\sigma_y^2\n",
    "\\end{matrix}\n",
    "\\right)\n",
    "$"
   ]
  },
  {
   "cell_type": "code",
   "execution_count": null,
   "metadata": {},
   "outputs": [],
   "source": []
  },
  {
   "cell_type": "code",
   "execution_count": null,
   "metadata": {},
   "outputs": [],
   "source": []
  },
  {
   "cell_type": "code",
   "execution_count": 170,
   "metadata": {},
   "outputs": [
    {
     "data": {
      "text/plain": [
       "0.0678880022381801"
      ]
     },
     "execution_count": 170,
     "metadata": {},
     "output_type": "execute_result"
    }
   ],
   "source": [
    "var"
   ]
  },
  {
   "cell_type": "code",
   "execution_count": 171,
   "metadata": {},
   "outputs": [
    {
     "data": {
      "text/plain": [
       "matrix([[ 0.00756417, -0.00452725],\n",
       "        [-0.00452725,  0.00354411]])"
      ]
     },
     "execution_count": 171,
     "metadata": {},
     "output_type": "execute_result"
    }
   ],
   "source": [
    "variance_covariance_matrix(A, dof, y, ymodel_wo_cov)"
   ]
  },
  {
   "cell_type": "code",
   "execution_count": 172,
   "metadata": {},
   "outputs": [],
   "source": [
    "var = variance(dof, y, ymodel_wo_cov)"
   ]
  },
  {
   "cell_type": "code",
   "execution_count": 173,
   "metadata": {},
   "outputs": [
    {
     "data": {
      "text/plain": [
       "matrix([[ 0.00756417, -0.00452725],\n",
       "        [-0.00452725,  0.00354411]])"
      ]
     },
     "execution_count": 173,
     "metadata": {},
     "output_type": "execute_result"
    }
   ],
   "source": [
    "variance_covariance_matrix(A, var=var)"
   ]
  },
  {
   "cell_type": "code",
   "execution_count": 174,
   "metadata": {},
   "outputs": [
    {
     "data": {
      "text/plain": [
       "0.06055566009953621"
      ]
     },
     "execution_count": 174,
     "metadata": {},
     "output_type": "execute_result"
    }
   ],
   "source": [
    "var"
   ]
  },
  {
   "cell_type": "code",
   "execution_count": null,
   "metadata": {},
   "outputs": [],
   "source": []
  },
  {
   "cell_type": "code",
   "execution_count": null,
   "metadata": {},
   "outputs": [],
   "source": []
  },
  {
   "cell_type": "code",
   "execution_count": null,
   "metadata": {},
   "outputs": [],
   "source": []
  },
  {
   "cell_type": "code",
   "execution_count": null,
   "metadata": {},
   "outputs": [],
   "source": []
  },
  {
   "cell_type": "code",
   "execution_count": null,
   "metadata": {},
   "outputs": [],
   "source": []
  },
  {
   "cell_type": "code",
   "execution_count": 61,
   "metadata": {},
   "outputs": [],
   "source": [
    "sigma_squared = lambda dof, y, ymod: (1./dof)*np.sum( (y - np.asarray(ymod.flatten()))**2 )\n",
    "variance_beta = lambda sigsqrd: ((A.T * A)**-1) * sigsqrd "
   ]
  },
  {
   "cell_type": "code",
   "execution_count": 80,
   "metadata": {},
   "outputs": [
    {
     "data": {
      "text/plain": [
       "0.06055566009953621"
      ]
     },
     "execution_count": 80,
     "metadata": {},
     "output_type": "execute_result"
    }
   ],
   "source": [
    "sigsq = sigma_squared(dof, y, ymodel_wo_cov)\n",
    "sigsq"
   ]
  },
  {
   "cell_type": "code",
   "execution_count": 93,
   "metadata": {},
   "outputs": [
    {
     "data": {
      "text/plain": [
       "0.15532942486759438"
      ]
     },
     "execution_count": 93,
     "metadata": {},
     "output_type": "execute_result"
    }
   ],
   "source": [
    "np.var(np.asarray(ymodel_wo_cov.flatten()))"
   ]
  },
  {
   "cell_type": "code",
   "execution_count": 86,
   "metadata": {},
   "outputs": [
    {
     "data": {
      "text/plain": [
       "0.15532942486759438"
      ]
     },
     "execution_count": 86,
     "metadata": {},
     "output_type": "execute_result"
    }
   ],
   "source": [
    "np.var(ymodel_wo_cov)"
   ]
  },
  {
   "cell_type": "code",
   "execution_count": 81,
   "metadata": {},
   "outputs": [
    {
     "data": {
      "text/plain": [
       "matrix([[ 0.00756417, -0.00452725],\n",
       "        [-0.00452725,  0.00354411]])"
      ]
     },
     "execution_count": 81,
     "metadata": {},
     "output_type": "execute_result"
    }
   ],
   "source": [
    "variance_beta(sigsq)"
   ]
  },
  {
   "cell_type": "code",
   "execution_count": 82,
   "metadata": {},
   "outputs": [
    {
     "data": {
      "text/plain": [
       "0.0678880022381801"
      ]
     },
     "execution_count": 82,
     "metadata": {},
     "output_type": "execute_result"
    }
   ],
   "source": [
    "sigsq = sigma_squared(dof, y, ymodel_w_cov)\n",
    "sigsq"
   ]
  },
  {
   "cell_type": "code",
   "execution_count": 83,
   "metadata": {},
   "outputs": [
    {
     "data": {
      "text/plain": [
       "matrix([[ 0.00848007, -0.00507543],\n",
       "        [-0.00507543,  0.00397324]])"
      ]
     },
     "execution_count": 83,
     "metadata": {},
     "output_type": "execute_result"
    }
   ],
   "source": [
    "variance_beta(sigsq)"
   ]
  },
  {
   "cell_type": "code",
   "execution_count": null,
   "metadata": {},
   "outputs": [],
   "source": []
  },
  {
   "cell_type": "code",
   "execution_count": null,
   "metadata": {},
   "outputs": [],
   "source": []
  },
  {
   "cell_type": "code",
   "execution_count": null,
   "metadata": {},
   "outputs": [],
   "source": []
  },
  {
   "cell_type": "markdown",
   "metadata": {},
   "source": [
    "### Residual Sum of Squares (RSS)\n",
    "These are the squared differences between the true y-data values and the estimated y values given the model. \n",
    "\n",
    "**Keep in mind, the variables y and ydata are the same thing; the y-axis data of the data points. We just gave it two names.**"
   ]
  },
  {
   "cell_type": "code",
   "execution_count": null,
   "metadata": {},
   "outputs": [],
   "source": [
    "# y_hat is in matrix form, make y_hat into a flattened array.\n",
    "y_hat_arr = np.asarray(y_hat.flatten())\n",
    "\n",
    "residuals = (y - y_hat_arr ) # vertical distances between the model and the y-data"
   ]
  },
  {
   "cell_type": "code",
   "execution_count": null,
   "metadata": {},
   "outputs": [],
   "source": [
    "# RSS = sum(residuals**2)\n",
    "RSS = np.sum( (y - y_hat_arr )**2 )\n",
    "print(RSS)"
   ]
  },
  {
   "cell_type": "code",
   "execution_count": null,
   "metadata": {},
   "outputs": [],
   "source": [
    "# RSS IN MATRIX FORMAT\n",
    "((np.vstack(y) - X * beta).T) * (np.vstack(y) - X * beta)  # equation 3.3"
   ]
  },
  {
   "cell_type": "markdown",
   "metadata": {},
   "source": [
    "### Plot with $\\hat{y}$ and residuals."
   ]
  },
  {
   "cell_type": "code",
   "execution_count": null,
   "metadata": {},
   "outputs": [],
   "source": [
    "plt.plot(xdata, y, 'ro', alpha=0.3)  # data for y\n",
    "plt.plot(xdata, y_hat)  # model estimate for y\n",
    "plt.vlines(xdata, y, y-residuals, color='grey', alpha=0.75)"
   ]
  },
  {
   "cell_type": "code",
   "execution_count": null,
   "metadata": {},
   "outputs": [],
   "source": [
    "residuals"
   ]
  },
  {
   "cell_type": "markdown",
   "metadata": {},
   "source": [
    "### First Derivative of the RSS"
   ]
  },
  {
   "cell_type": "code",
   "execution_count": null,
   "metadata": {},
   "outputs": [],
   "source": [
    "-2 * X.T * (np.vstack(y) - X*beta)   # equation 3.4"
   ]
  },
  {
   "cell_type": "markdown",
   "metadata": {},
   "source": [
    "### Second Derivative of the RSS"
   ]
  },
  {
   "cell_type": "code",
   "execution_count": null,
   "metadata": {},
   "outputs": [],
   "source": [
    "2 * X * X.T     # equation 3.4"
   ]
  },
  {
   "cell_type": "markdown",
   "metadata": {},
   "source": [
    "### Degrees of Freedom\n",
    "n_observations - n_predictors - 1"
   ]
  },
  {
   "cell_type": "code",
   "execution_count": null,
   "metadata": {},
   "outputs": [],
   "source": [
    "N,p = X.shape  # number of observations, number of features (aka predictors)\n",
    "\n",
    "degrees_of_freedom = N-p-1\n",
    "print(degrees_of_freedom)"
   ]
  },
  {
   "cell_type": "markdown",
   "metadata": {},
   "source": [
    "### Variance"
   ]
  },
  {
   "cell_type": "code",
   "execution_count": null,
   "metadata": {},
   "outputs": [],
   "source": [
    "sigma_squared = (1./(N-p-1)) * np.sum( (y - y_hat_arr )**2 )\n",
    "\n",
    "print(sigma_squared)"
   ]
  },
  {
   "cell_type": "code",
   "execution_count": null,
   "metadata": {},
   "outputs": [],
   "source": [
    "# OR \n",
    "RSS/degrees_of_freedom"
   ]
  },
  {
   "cell_type": "code",
   "execution_count": null,
   "metadata": {},
   "outputs": [],
   "source": [
    "# sigma_squared IN MATRIX FORM:\n",
    "(1./(N-p-1)) * ( ((np.vstack(y) - X * beta).T) * (np.vstack(y) - X * beta) ) "
   ]
  },
  {
   "cell_type": "markdown",
   "metadata": {},
   "source": [
    "### Variance-Covariance Matrix"
   ]
  },
  {
   "cell_type": "code",
   "execution_count": null,
   "metadata": {},
   "outputs": [],
   "source": [
    "variance_beta = ((X.T * X)**-1) * sigma_squared  # equation 3.8\n",
    "print(variance_beta)"
   ]
  },
  {
   "cell_type": "markdown",
   "metadata": {},
   "source": [
    "### Standard Error on the parameters. 0.459 is on $\\beta_0$ and 0.0027 is on $\\beta_1$"
   ]
  },
  {
   "cell_type": "code",
   "execution_count": null,
   "metadata": {},
   "outputs": [],
   "source": [
    "# standard error of the parameters are the diago elements of this matrix.\n",
    "np.sqrt(variance_beta)"
   ]
  },
  {
   "cell_type": "code",
   "execution_count": null,
   "metadata": {},
   "outputs": [],
   "source": [
    "SE_mat = np.sqrt(variance_beta)\n",
    "print(SE_mat)"
   ]
  },
  {
   "cell_type": "code",
   "execution_count": null,
   "metadata": {},
   "outputs": [],
   "source": [
    "# get rid of the nans\n",
    "standard_error = SE_mat[ ~np.isnan(SE_mat) ]\n",
    "print(standard_error)"
   ]
  },
  {
   "cell_type": "markdown",
   "metadata": {},
   "source": [
    "### Confidence Intervals\n",
    "$1\\sigma$, $2\\sigma$, and $3\\sigma$ confidence intervals are calculated using:\n",
    "\n",
    "$\\hat{\\beta_0} \\pm 1 \\ SE(\\hat{\\beta_0})$ \n",
    "\n",
    "$\\hat{\\beta_0} \\pm 2 \\ SE(\\hat{\\beta_0})$ \n",
    "\n",
    "$\\hat{\\beta_0} \\pm 3 \\ SE(\\hat{\\beta_0})$ \n",
    "\n",
    "and \n",
    "\n",
    "$\\hat{\\beta_1} \\pm 1 \\ SE(\\hat{\\beta_1})$ \n",
    "\n",
    "$\\hat{\\beta_1} \\pm 2 \\ SE(\\hat{\\beta_1})$ \n",
    "\n",
    "$\\hat{\\beta_1} \\pm 3 \\ SE(\\hat{\\beta_1})$ \n",
    "\n",
    "\n",
    "where 2 is the z-score for a 95% confidence interval. "
   ]
  },
  {
   "cell_type": "code",
   "execution_count": null,
   "metadata": {},
   "outputs": [],
   "source": [
    "beta"
   ]
  },
  {
   "cell_type": "code",
   "execution_count": null,
   "metadata": {},
   "outputs": [],
   "source": [
    "beta - 1*SE_mat, beta + 1*SE_mat, \\\n",
    "beta - 2*SE_mat, beta + 2*SE_mat, \\\n",
    "beta - 3*SE_mat, beta + 3*SE_mat"
   ]
  },
  {
   "cell_type": "code",
   "execution_count": null,
   "metadata": {},
   "outputs": [],
   "source": [
    "standard_error"
   ]
  },
  {
   "cell_type": "code",
   "execution_count": null,
   "metadata": {},
   "outputs": [],
   "source": [
    "np.asarray(beta.flatten())"
   ]
  },
  {
   "cell_type": "code",
   "execution_count": null,
   "metadata": {},
   "outputs": [],
   "source": [
    "beta.flatten() - 1*standard_error, beta.flatten() + 1*standard_error"
   ]
  },
  {
   "cell_type": "code",
   "execution_count": null,
   "metadata": {},
   "outputs": [],
   "source": [
    "beta.flatten() - 2*standard_error, beta.flatten() + 2*standard_error"
   ]
  },
  {
   "cell_type": "code",
   "execution_count": null,
   "metadata": {},
   "outputs": [],
   "source": [
    "beta.flatten() - 3*standard_error, beta.flatten() + 3*standard_error"
   ]
  },
  {
   "cell_type": "markdown",
   "metadata": {},
   "source": [
    "### Residual Standard Error"
   ]
  },
  {
   "cell_type": "code",
   "execution_count": null,
   "metadata": {},
   "outputs": [],
   "source": [
    "RSE = np.sqrt(RSS/(N-2))\n",
    "print(RSE)"
   ]
  },
  {
   "cell_type": "markdown",
   "metadata": {},
   "source": [
    "### $R^2$ Statistic\n",
    "$R^2 = \\frac{TSS-RSS}{TSS} = 1-\\frac{RSS}{TSS}$,\n",
    "\n",
    "where\n",
    "\n",
    "$TSS = \\sum{(y_i - \\bar{y})^2}$ is the total sum of squares. TSS measures the total variance int he response Y, and can be thought of as the amount of variability inherent in the response before regression in performed. In contrast, RSS measures the amount of variability that is left unexplained after performing the regression. Hence, TSS-RSS measures the amount of variability in the response that is explained (or removed) by performing the regression, and $R^2$ measures the proportion of variability in Y that can be explained using X. An $R^2$ close to 1 indicates a large proportion of the variability in the response has been explained by the regression. A number near 0 indicates the regression did not explain much of the variability in the response. This may occur when the linear model is wrong, the inherent error $\\sigma^2$ is high, or both. "
   ]
  },
  {
   "cell_type": "code",
   "execution_count": null,
   "metadata": {},
   "outputs": [],
   "source": [
    "TSS = np.sum((ydata - ydata.mean())**2)"
   ]
  },
  {
   "cell_type": "code",
   "execution_count": null,
   "metadata": {},
   "outputs": [],
   "source": [
    "R_squared = 1-(RSS/TSS)\n",
    "print(R_squared)"
   ]
  },
  {
   "cell_type": "markdown",
   "metadata": {},
   "source": [
    "Just under 2/3rds of the variability in sales is explained by a linear regression on TV. "
   ]
  },
  {
   "cell_type": "markdown",
   "metadata": {},
   "source": [
    "### Adjusted $R^2$"
   ]
  },
  {
   "cell_type": "code",
   "execution_count": null,
   "metadata": {},
   "outputs": [],
   "source": [
    "R_squared_adjusted = 1 - ( (RSS/(N-p)) / (TSS/(N-1)) )\n",
    "print(R_squared_adjusted)"
   ]
  },
  {
   "cell_type": "markdown",
   "metadata": {},
   "source": [
    "### Mean Squared Error"
   ]
  },
  {
   "cell_type": "code",
   "execution_count": null,
   "metadata": {},
   "outputs": [],
   "source": [
    "MSE = RSS/N\n",
    "print(MSE)"
   ]
  },
  {
   "cell_type": "markdown",
   "metadata": {},
   "source": [
    "### Root Mean Squared Error"
   ]
  },
  {
   "cell_type": "code",
   "execution_count": null,
   "metadata": {},
   "outputs": [],
   "source": [
    "RMSE = np.sqrt(RSS/N)\n",
    "print(RMSE)"
   ]
  },
  {
   "cell_type": "code",
   "execution_count": null,
   "metadata": {},
   "outputs": [],
   "source": [
    "# THESE SHOULD BE VERY CLOSE IF NOT EXACTLY THE SAME.\n",
    "print(RMSE, np.std(residuals))"
   ]
  },
  {
   "cell_type": "code",
   "execution_count": null,
   "metadata": {},
   "outputs": [],
   "source": [
    "RMSE == np.std(residuals)"
   ]
  },
  {
   "cell_type": "markdown",
   "metadata": {},
   "source": [
    "### t-statistic\n",
    "$t=\\frac{\\hat{\\beta_0}-0}{\\text{SE}(\\hat{\\beta_0})}$\n",
    "\n",
    "and \n",
    "\n",
    "$t=\\frac{\\hat{\\beta_1}-0}{\\text{SE}(\\hat{\\beta_1})}$"
   ]
  },
  {
   "cell_type": "code",
   "execution_count": null,
   "metadata": {},
   "outputs": [],
   "source": [
    "SE_beta0 = np.asarray(standard_error)[0][0]\n",
    "SE_beta1 = np.asarray(standard_error)[0][1]\n",
    "\n",
    "beta0 = np.asarray(beta.flatten())[0][0]\n",
    "beta1 = np.asarray(beta.flatten())[0][1]\n"
   ]
  },
  {
   "cell_type": "code",
   "execution_count": null,
   "metadata": {},
   "outputs": [],
   "source": [
    "tstat_beta0 = (beta0 - 0)/(SE_beta0)\n",
    "print(tstat_beta0)"
   ]
  },
  {
   "cell_type": "code",
   "execution_count": null,
   "metadata": {},
   "outputs": [],
   "source": [
    "tstat_beta1 = (beta1 - 0)/(SE_beta1)\n",
    "print(tstat_beta1)"
   ]
  },
  {
   "cell_type": "markdown",
   "metadata": {},
   "source": [
    "### Common forms for the Log-Likelihood Equation of a Normal Distribution.\n",
    "\n",
    "${\\displaystyle \\log {\\Big (}{\\mathcal {L}}(\\mu ,\\sigma ){\\Big )}=-{\\frac {\\,n\\,}{2}}\\log(2\\pi \\sigma ^{2})-{\\frac {1}{2\\sigma ^{2}}}\\sum _{i=1}^{n}(\\,x_{i}-\\mu \\,)^{2}}$\n",
    "\n",
    "$\\ln(f) = -\\frac{1}{2} n \\ln(2 \\pi) - n\\ln \\sigma - \\frac{\\sum(x_i - \\mu)^2}{2\\sigma^2}$\n",
    "\n",
    "Unfortunately, these are confusing.\n",
    "\n",
    "The $(x_i - \\mu)^2$ appears to be the $ith$ element of the xdata and $\\mu$ the mean of that data. However, this is wrong!! \n",
    "\n",
    "$(x_i - \\mu)^2$ would be better written as $(y_i - \\hat{y_i})$.\n",
    "\n",
    "$y_i$ is the y-axis values of the real data.\n",
    "\n",
    "$\\hat{y_i}$ are the estimates of each $y_i$, given the linear model. \n",
    "\n",
    "Another confusing aspect of these equations; $\\sigma$ is NOT the sigma we have been using. $\\sigma$ is the standard deviation of the residuals; std($y_i - \\hat{y_i}$). Instead of using $\\sigma$, we will use $s$. \n",
    "\n",
    "We are trying to estimate the true model $f$ that produced the true datapoints ($x_i$, $y_i$). If we accurately estimate $f$ with no trend of overestimating or underestimating the dependent variable (i.e., no bias), then the differences between the true values and our estimates of them will be normally distributed about the model. Thus, ($y_i - \\hat{y_i}$) will be normally distributed about the linear model. \n",
    "\n",
    "($y_i - \\hat{y_i}$) are the vertical offsets between the model and the true data, since y is the dependent variable and the y-axis is the vertical axis. They are the fit residuals, or the errors of the fit. It should now make sense that $s=\\text{std}(y_i - \\hat{y_i}) = \\text{std}(residuals)$ is also the standard deviation of the normal distribution that the data ($x_i$, $y_i$) are scattered about the true model $f$. \n",
    "\n",
    "*NOTE: Taking a look at the linear fit to the data we use in this notebook example, there is clearly a bias and the residuals are NOT normally distributed about the model. We will discuss that at a later time when covering the topic of bias.*"
   ]
  },
  {
   "cell_type": "markdown",
   "metadata": {},
   "source": [
    "https://www.stat.cmu.edu/~cshalizi/mreg/15/lectures/06/lecture-06.pdf\n",
    "\n",
    "### Log-Likelihood Equation we will use:\n",
    "\n",
    "$\\log (f) = -\\frac{n}{2} \\log(2 \\pi) - n \\log(s) - \\frac{1}{2s^2}\\sum_{i=1}^{n} (y_i - (\\beta_0 + \\beta_1 x_i))^2$\n",
    "\n",
    "OR\n",
    "\n",
    "$\\log (f) = -\\frac{n}{2} \\log(2 \\pi s^2) - \\frac{1}{2s^2}\\sum_{i=1}^{n} (y_i - (\\beta_0 + \\beta_1 x_i))^2$\n",
    "\n",
    "Notice that $(\\beta_0 + \\beta_1 x_i)$ is $\\hat{y_i}$, the estimates of the ydata. \n",
    "\n",
    "Thus,\n",
    "\n",
    "$\\sum_{i=1}^{n} (y_i - (\\beta_0 + \\beta_1 x_i))^2 \\ \\ \\ = \\ \\ \\ \\sum_{i=1}^{n} (y_i - \\hat{y_i})^2$, \n",
    "\n",
    "which is the residual sum of squares, the $RSS$."
   ]
  },
  {
   "cell_type": "code",
   "execution_count": null,
   "metadata": {},
   "outputs": [],
   "source": [
    "s = np.std(residuals)\n",
    "LOGLIKE = -0.5*N*np.log(2.0*np.pi*(s**2)) - (np.sum(residuals**2)/(2.0*(s**2)))\n",
    "print(LOGLIKE)"
   ]
  },
  {
   "cell_type": "markdown",
   "metadata": {},
   "source": [
    "### AIC and BIC"
   ]
  },
  {
   "cell_type": "code",
   "execution_count": null,
   "metadata": {},
   "outputs": [],
   "source": [
    "AIC = -2.* LOGLIKE + 2.*p\n",
    "print(AIC)\n",
    "BIC = -2.* LOGLIKE + np.log(N)*p\n",
    "print(BIC)"
   ]
  },
  {
   "cell_type": "code",
   "execution_count": null,
   "metadata": {},
   "outputs": [],
   "source": []
  },
  {
   "cell_type": "code",
   "execution_count": null,
   "metadata": {},
   "outputs": [],
   "source": []
  },
  {
   "cell_type": "markdown",
   "metadata": {},
   "source": [
    "[Projection Matrix](https://en.wikipedia.org/wiki/Projection_matrix)\n",
    "\n",
    "[Identity Matrix](https://en.wikipedia.org/wiki/Identity_matrix)"
   ]
  },
  {
   "cell_type": "markdown",
   "metadata": {},
   "source": [
    "${\\displaystyle \\mathbf {\\hat {y}} =\\mathbf {P} \\mathbf {y} }$"
   ]
  },
  {
   "cell_type": "markdown",
   "metadata": {},
   "source": [
    "$P = X(X^TX)^{−1}X^T$"
   ]
  },
  {
   "cell_type": "code",
   "execution_count": null,
   "metadata": {},
   "outputs": [],
   "source": [
    "projection_matrix = (X*(X.T*X)**-1) * X.T\n",
    "print(projection_matrix)"
   ]
  },
  {
   "cell_type": "code",
   "execution_count": null,
   "metadata": {},
   "outputs": [],
   "source": [
    "identity_matrix = np.identity(n=len(X))\n",
    "print(identity_matrix)"
   ]
  },
  {
   "cell_type": "code",
   "execution_count": null,
   "metadata": {},
   "outputs": [],
   "source": [
    "residual_maker_matrix = identity_matrix - projection_matrix\n",
    "print(residual_maker_matrix)"
   ]
  },
  {
   "cell_type": "markdown",
   "metadata": {},
   "source": [
    "M is the \"residual maker matrix\"\n",
    "\n",
    "M = I − P  \n",
    "\n",
    "I is the identity matrix and P is the projection matrix. Puts a hat onto y."
   ]
  },
  {
   "cell_type": "code",
   "execution_count": null,
   "metadata": {},
   "outputs": [],
   "source": [
    "N,p = X.shape\n",
    "M = residual_maker_matrix\n",
    "s_squared = (np.vstack(y).T * M * np.vstack(y))/(N-p)\n",
    "\n",
    "print(s_squared)  # appears to be same as RSS/(n-p)\n",
    "\n",
    "print(RSS/(N-p))"
   ]
  },
  {
   "cell_type": "code",
   "execution_count": null,
   "metadata": {},
   "outputs": [],
   "source": []
  }
 ],
 "metadata": {
  "kernelspec": {
   "display_name": "Python 3",
   "language": "python",
   "name": "python3"
  },
  "language_info": {
   "codemirror_mode": {
    "name": "ipython",
    "version": 3
   },
   "file_extension": ".py",
   "mimetype": "text/x-python",
   "name": "python",
   "nbconvert_exporter": "python",
   "pygments_lexer": "ipython3",
   "version": "3.7.0"
  }
 },
 "nbformat": 4,
 "nbformat_minor": 2
}
