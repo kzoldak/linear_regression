{
 "cells": [
  {
   "cell_type": "markdown",
   "metadata": {},
   "source": [
    "This guys example with our data. \n",
    "\n",
    "https://dfm.io/posts/fitting-a-plane/"
   ]
  },
  {
   "cell_type": "code",
   "execution_count": 1,
   "metadata": {},
   "outputs": [],
   "source": [
    "import numpy as np\n",
    "import pandas as pd\n",
    "import matplotlib.pyplot as plt\n",
    "from matplotlib.patches import Ellipse\n",
    "\n",
    "import emcee\n",
    "import corner"
   ]
  },
  {
   "cell_type": "code",
   "execution_count": 2,
   "metadata": {},
   "outputs": [],
   "source": [
    "def to_log(x, xerr=[], base=10, which='average'):\n",
    "    \"\"\"\n",
    "    Take linear measurements and uncertainties and transform to log\n",
    "    values.\n",
    "    Parameters\n",
    "    ----------\n",
    "    x : array of floats\n",
    "        measurements of which to take logarithms\n",
    "    Optional Parameters\n",
    "    -------------------\n",
    "    xerr : array of floats\n",
    "        uncertainties on x\n",
    "    base : float\n",
    "        base with which the logarithms should be calculated. FOR NOW USE\n",
    "        ONLY 10.\n",
    "    which : {'lower', 'upper', 'both', 'average'}\n",
    "        Which uncertainty to report; note that when converting to/from\n",
    "        linear and logarithmic spaces, errorbar symmetry is not\n",
    "        preserved. The following are the available options:\n",
    "            if which=='lower': logxerr = logx - log(x-xerr)\n",
    "            if which=='upper': logxerr = log(x+xerr) - logx\n",
    "        If `which=='both'` then both values are returned, and if\n",
    "        `which=='average'`, then the average of the two is returned.\n",
    "        Default is 'average'.\n",
    "    Returns\n",
    "    -------\n",
    "    logx : array of floats\n",
    "        values in log space, i.e., base**logx\n",
    "    logxerr : array of floats\n",
    "        log-uncertainties, as discussed above\n",
    "    \"\"\"\n",
    "    if np.iterable(x):\n",
    "        return_scalar = False\n",
    "    else:\n",
    "        return_scalar = True\n",
    "        x = [x]\n",
    "    x = np.array(x)\n",
    "    if not np.iterable(xerr):\n",
    "        xerr = [xerr]\n",
    "    if len(xerr) == 0:\n",
    "        xerr = np.zeros(x.shape)\n",
    "    else:\n",
    "        xerr = np.array(xerr)\n",
    "    assert xerr.shape == x.shape, \\\n",
    "        'The shape of x and xerr must be the same'\n",
    "    assert which in ('lower', 'upper', 'both', 'average'), \\\n",
    "        \"Valid values for optional argument `which` are 'lower', 'upper',\" \\\n",
    "        \" 'average' or 'both'.\"\n",
    "    logx = np.log10(x)\n",
    "    logxlo = logx - np.log10(x-xerr)\n",
    "    logxhi = np.log10(x+xerr) - logx\n",
    "    if return_scalar:\n",
    "        logx = logx[0]\n",
    "        logxlo = logxlo[0]\n",
    "        logxhi = logxhi[0]\n",
    "    if which == 'both':\n",
    "        return logx, logxlo, logxhi\n",
    "    if which == 'lower':\n",
    "        logxerr = logxlo\n",
    "    elif which == 'upper':\n",
    "        logxerr = logxhi\n",
    "    else:\n",
    "        logxerr = 0.5 * (logxlo+logxhi)\n",
    "    return logx, logxerr"
   ]
  },
  {
   "cell_type": "markdown",
   "metadata": {},
   "source": [
    "# Data"
   ]
  },
  {
   "cell_type": "raw",
   "metadata": {},
   "source": [
    "direc = '/Users/kimzoldak/Github/GRB_Hubble_Diagram/data/'\n",
    "data = pd.read_csv(direc+'Band_13_GBM+LAT__22_GBMconstrained.txt', sep='\\t')\n",
    "\n",
    "data = data[data.trigger.map(lambda x: x != 'bn090510016')]  # remove short burst\n",
    "data.index = range(0, len(data))\n",
    "\n",
    "df = pd.DataFrame()\n",
    "df['eiso'] = data['eiso']/1E52\n",
    "df['eiso_err'] = data.loc[:, ['eiso_err_low', 'eiso_err_up']].apply(np.mean, 1)\n",
    "df['eiso_err'] = df['eiso_err']/1E52\n",
    "df['epeakRest'] = data['epeakRest']\n",
    "df['epeakRest_err'] = data.loc[:, ['epeakRest_err_low', 'epeakRest_err_up']].apply(np.mean, 1)\n",
    "\n",
    "\n",
    "\n",
    "xdata = np.asarray(df['eiso'].apply(np.log10))\n",
    "xdata_err = np.asarray(df['eiso_err'].apply(np.log10))\n",
    "\n",
    "ydata = np.asarray(df['epeakRest'].apply(np.log10))\n",
    "ydata_err = np.asarray(df['epeakRest_err'].apply(np.log10))\n"
   ]
  },
  {
   "cell_type": "code",
   "execution_count": 3,
   "metadata": {},
   "outputs": [],
   "source": [
    "direc = '/Users/kimzoldak/Github/GRB_Hubble_Diagram/data/'\n",
    "data = pd.read_csv(direc+'Band_13_GBM+LAT__22_GBMconstrained.txt', sep='\\t')\n",
    "\n",
    "data = data[data.trigger.map(lambda x: x != 'bn090510016')]  # remove short burst\n",
    "data.index = range(0, len(data))\n",
    "\n",
    "df = pd.DataFrame()\n",
    "df['eiso'] = data['eiso']/1E52\n",
    "df['eiso_err'] = data.loc[:, ['eiso_err_low', 'eiso_err_up']].apply(np.mean, 1)\n",
    "df['eiso_err'] = df['eiso_err']/1E52\n",
    "df['epeakRest'] = data['epeakRest']\n",
    "df['epeakRest_err'] = data.loc[:, ['epeakRest_err_low', 'epeakRest_err_up']].apply(np.mean, 1)"
   ]
  },
  {
   "cell_type": "code",
   "execution_count": 4,
   "metadata": {},
   "outputs": [],
   "source": [
    "# pre-log data\n",
    "\n",
    "xdata,xdataerr = to_log(x=np.asarray(df['eiso']), \n",
    "                        xerr=np.asarray(df['eiso_err']))\n",
    "\n",
    "ydata,ydataerr = to_log(x=np.asarray(df['epeakRest']), \n",
    "                        xerr=np.asarray(df['epeakRest_err']))"
   ]
  },
  {
   "cell_type": "code",
   "execution_count": 5,
   "metadata": {},
   "outputs": [],
   "source": [
    "# A helper function to make the plots with error ellipses\n",
    "def plot_error_ellipses(ax, X, S, color=\"k\"):\n",
    "    for n in range(len(X)):\n",
    "        vals, vecs = np.linalg.eig(S[n])\n",
    "        theta = np.degrees(np.arctan2(*vecs[::-1, 0]))\n",
    "        w, h = 2 * np.sqrt(vals)\n",
    "        ell = Ellipse(xy=X[n], width=w, height=h,\n",
    "                      angle=theta, color=color, lw=0.5)\n",
    "        ell.set_facecolor(\"none\")\n",
    "        ax.add_artist(ell)\n",
    "    ax.plot(X[:, 0], X[:, 1], \".\", color=color, ms=4)"
   ]
  },
  {
   "cell_type": "code",
   "execution_count": 6,
   "metadata": {},
   "outputs": [],
   "source": [
    "N = df.shape[0]\n",
    "X_true = np.empty((N, 2))\n",
    "X_true[:, 0] = xdata\n",
    "X_true[:, 1] = ydata\n",
    "X = np.empty((N, 2))"
   ]
  },
  {
   "cell_type": "code",
   "execution_count": 7,
   "metadata": {},
   "outputs": [
    {
     "data": {
      "text/plain": [
       "[<matplotlib.lines.Line2D at 0x1a1b939668>]"
      ]
     },
     "execution_count": 7,
     "metadata": {},
     "output_type": "execute_result"
    },
    {
     "data": {
      "image/png": "[encoded data removed]",
      "text/plain": [
       "<Figure size 432x288 with 1 Axes>"
      ]
     },
     "metadata": {
      "needs_background": "light"
     },
     "output_type": "display_data"
    }
   ],
   "source": [
    "plt.plot(xdataerr, ydataerr, '.')"
   ]
  },
  {
   "cell_type": "code",
   "execution_count": 8,
   "metadata": {},
   "outputs": [
    {
     "data": {
      "text/html": [
       "<div>\n",
       "<style scoped>\n",
       "    .dataframe tbody tr th:only-of-type {\n",
       "        vertical-align: middle;\n",
       "    }\n",
       "\n",
       "    .dataframe tbody tr th {\n",
       "        vertical-align: top;\n",
       "    }\n",
       "\n",
       "    .dataframe thead th {\n",
       "        text-align: right;\n",
       "    }\n",
       "</style>\n",
       "<table border=\"1\" class=\"dataframe\">\n",
       "  <thead>\n",
       "    <tr style=\"text-align: right;\">\n",
       "      <th></th>\n",
       "      <th>eiso</th>\n",
       "      <th>eiso_err</th>\n",
       "      <th>epeakRest</th>\n",
       "      <th>epeakRest_err</th>\n",
       "    </tr>\n",
       "  </thead>\n",
       "  <tbody>\n",
       "    <tr>\n",
       "      <th>eiso</th>\n",
       "      <td>1.000000</td>\n",
       "      <td>0.855393</td>\n",
       "      <td>0.917614</td>\n",
       "      <td>0.645743</td>\n",
       "    </tr>\n",
       "    <tr>\n",
       "      <th>eiso_err</th>\n",
       "      <td>0.855393</td>\n",
       "      <td>1.000000</td>\n",
       "      <td>0.796381</td>\n",
       "      <td>0.843605</td>\n",
       "    </tr>\n",
       "    <tr>\n",
       "      <th>epeakRest</th>\n",
       "      <td>0.917614</td>\n",
       "      <td>0.796381</td>\n",
       "      <td>1.000000</td>\n",
       "      <td>0.725225</td>\n",
       "    </tr>\n",
       "    <tr>\n",
       "      <th>epeakRest_err</th>\n",
       "      <td>0.645743</td>\n",
       "      <td>0.843605</td>\n",
       "      <td>0.725225</td>\n",
       "      <td>1.000000</td>\n",
       "    </tr>\n",
       "  </tbody>\n",
       "</table>\n",
       "</div>"
      ],
      "text/plain": [
       "                   eiso  eiso_err  epeakRest  epeakRest_err\n",
       "eiso           1.000000  0.855393   0.917614       0.645743\n",
       "eiso_err       0.855393  1.000000   0.796381       0.843605\n",
       "epeakRest      0.917614  0.796381   1.000000       0.725225\n",
       "epeakRest_err  0.645743  0.843605   0.725225       1.000000"
      ]
     },
     "execution_count": 8,
     "metadata": {},
     "output_type": "execute_result"
    }
   ],
   "source": [
    "df.corr()"
   ]
  },
  {
   "cell_type": "raw",
   "metadata": {},
   "source": [
    "df.apply(np.log10).corr()"
   ]
  },
  {
   "cell_type": "code",
   "execution_count": 9,
   "metadata": {},
   "outputs": [],
   "source": [
    "import scipy"
   ]
  },
  {
   "cell_type": "code",
   "execution_count": 12,
   "metadata": {},
   "outputs": [
    {
     "data": {
      "text/plain": [
       "(0.7196066469353194, 1.6173908427725868e-06)"
      ]
     },
     "execution_count": 12,
     "metadata": {},
     "output_type": "execute_result"
    }
   ],
   "source": [
    "scipy.stats.pearsonr(xdataerr, ydataerr)"
   ]
  },
  {
   "cell_type": "code",
   "execution_count": 13,
   "metadata": {},
   "outputs": [
    {
     "data": {
      "text/plain": [
       "SpearmanrResult(correlation=0.7952635599694422, pvalue=1.920825847608142e-08)"
      ]
     },
     "execution_count": 13,
     "metadata": {},
     "output_type": "execute_result"
    }
   ],
   "source": [
    "scipy.stats.spearmanr(xdataerr, ydataerr)"
   ]
  },
  {
   "cell_type": "code",
   "execution_count": 14,
   "metadata": {},
   "outputs": [
    {
     "data": {
      "text/plain": [
       "array([[1.        , 0.71960665],\n",
       "       [0.71960665, 1.        ]])"
      ]
     },
     "execution_count": 14,
     "metadata": {},
     "output_type": "execute_result"
    }
   ],
   "source": [
    "scipy.corrcoef(xdataerr, ydataerr)"
   ]
  },
  {
   "cell_type": "markdown",
   "metadata": {},
   "source": [
    "# S may be wrong becuase we don't have covariance terms."
   ]
  },
  {
   "cell_type": "code",
   "execution_count": 15,
   "metadata": {},
   "outputs": [],
   "source": [
    "# Generate error ellipses and add uncertainties to each point.\n",
    "S = np.zeros((N, 2, 2))\n",
    "for n in range(N):\n",
    "    L = np.zeros((2, 2))\n",
    "    # Draw samples from a uniform distribution.\n",
    "    L[0, 0] = np.asarray(xdataerr)[n]\n",
    "    L[1, 1] = np.asarray(ydataerr)[n] \n",
    "\n",
    "    # Sn is the uncertainty tensor of the n-th data point:\n",
    "    S[n] = np.dot(L, L.T)  # Dot product of two arrays. \n",
    "    X[n] = np.random.multivariate_normal(X_true[n], S[n])"
   ]
  },
  {
   "cell_type": "markdown",
   "metadata": {},
   "source": [
    "### S[n] is the uncertainty tensor of the nth data point"
   ]
  },
  {
   "cell_type": "raw",
   "metadata": {},
   "source": [
    "X_true[:, 0]  # xdata\n",
    "X_true[:, 1]  # ydata"
   ]
  },
  {
   "cell_type": "markdown",
   "metadata": {},
   "source": [
    "$S_n = \n",
    "\\left(\n",
    "\\begin{matrix} \n",
    "\\sigma_{x,n}^2 & \\sigma_{xy,n} \\\\\n",
    "\\sigma_{xy,n} & \\sigma_{y,n}^2 \n",
    "\\end{matrix}\n",
    "\\right)$\n",
    "\n",
    "`S[0, 0, 0]` is $\\sigma_{x,n}^2$ for `n=0` (top left)\n",
    "\n",
    "`S[0, 0, 1]` is $\\sigma_{xy,n}$ for `n=0`  (top right)\n",
    "\n",
    "`S[0, 1, 0]` is $\\sigma_{xy,n}$ for `n=0` (bottom left)\n",
    "\n",
    "`S[0, 1, 1]` is $\\sigma_{y,n}^2$ for `n=0` (bottom right)\n",
    "\n",
    "Format is: `S[nth, row, col]`\n",
    "\n",
    "Therefore the errors on the ($x_n$, $y_n$) data points are the square root of the diagonals of each nth element. "
   ]
  },
  {
   "cell_type": "code",
   "execution_count": 17,
   "metadata": {},
   "outputs": [
    {
     "name": "stdout",
     "output_type": "stream",
     "text": [
      "[0.00880018 0.00960102 0.01249492 0.00337187 0.00232923 0.01244287\n",
      " 0.04578638 0.01442056 0.00722275 0.00694363 0.00707757 0.00386576\n",
      " 0.03001827 0.00767281 0.02603479 0.01008966 0.00669013 0.02594262\n",
      " 0.00749881 0.03333501 0.07933074 0.05161403 0.03345206 0.03404931\n",
      " 0.02511293 0.03736718 0.01840785 0.02666182 0.00572004 0.04564094\n",
      " 0.02216509 0.01215324 0.01984748 0.01198458]\n",
      "[0.02925435 0.03297223 0.03548819 0.00782851 0.00568645 0.0262969\n",
      " 0.07435292 0.0142109  0.02381436 0.01517615 0.02238772 0.00669906\n",
      " 0.06643355 0.00690299 0.029092   0.01045163 0.00907947 0.01764416\n",
      " 0.02456336 0.04513165 0.05735654 0.05815116 0.01947638 0.08597159\n",
      " 0.06594926 0.04133206 0.01782434 0.07313081 0.01196801 0.08627908\n",
      " 0.04017442 0.01492702 0.02392353 0.01693227]\n"
     ]
    }
   ],
   "source": [
    "# Uncertainties in the x- and y- directions are then the \n",
    "#   sqrt of the diagonal terms of each nth element.\n",
    "err = np.asarray([[np.sqrt(i) for i in np.diagonal(S[n])] for n in range(len(S))])\n",
    "print(err[:,0])  # all x-direction errors\n",
    "print(err[:,1])  # all y-direction errors"
   ]
  },
  {
   "cell_type": "markdown",
   "metadata": {},
   "source": [
    "### plotting error bars in the traditional sense:"
   ]
  },
  {
   "cell_type": "code",
   "execution_count": 18,
   "metadata": {},
   "outputs": [
    {
     "data": {
      "image/png": "[encoded data removed]",
      "text/plain": [
       "<Figure size 504x504 with 1 Axes>"
      ]
     },
     "metadata": {
      "needs_background": "light"
     },
     "output_type": "display_data"
    }
   ],
   "source": [
    "# Plot the simulated dataset.\n",
    "fig, ax = plt.subplots(1, 1, figsize=(7,7))\n",
    "err = np.asarray([[np.sqrt(i) for i in np.diagonal(S[n])] for n in range(len(S))])\n",
    "plt.errorbar(X[:, 0], X[:, 1], \n",
    "             xerr=err[:,0],\n",
    "             yerr=err[:,1],\n",
    "             fmt='o') \n",
    "# ax.set_xlim(-2, 12)\n",
    "# ax.set_ylim(-2, 12)\n",
    "ax.set_xlabel(\"logged $E_{iso, 52}$\")\n",
    "ax.set_ylabel(\"logged $E^*_{pk}$\")\n",
    "plt.show()"
   ]
  },
  {
   "cell_type": "markdown",
   "metadata": {},
   "source": [
    "### Now with the ellipses"
   ]
  },
  {
   "cell_type": "code",
   "execution_count": 19,
   "metadata": {},
   "outputs": [
    {
     "data": {
      "image/png": "[encoded data removed]",
      "text/plain": [
       "<Figure size 648x648 with 1 Axes>"
      ]
     },
     "metadata": {
      "needs_background": "light"
     },
     "output_type": "display_data"
    }
   ],
   "source": [
    "# Plot the simulated dataset.\n",
    "fig, ax = plt.subplots(1, 1, figsize=(9, 9))\n",
    "#x0 = np.array([-2, 12])\n",
    "#ax.plot(x0, m_true*x0 + b_true, lw=1)\n",
    "plot_error_ellipses(ax, X, S)\n",
    "err = np.asarray([[np.sqrt(i) for i in np.diagonal(S[n])] for n in range(len(S))])\n",
    "plt.errorbar(X[:, 0], X[:, 1], \n",
    "             xerr=err[:,0],\n",
    "             yerr=err[:,1],\n",
    "             fmt='o', color='blue') \n",
    "# ax.set_xlim(-2, 12)\n",
    "# ax.set_ylim(-2, 12)\n",
    "ax.set_xlabel(\"logged $E_{iso, 52}$\")\n",
    "ax.set_ylabel(\"logged $E^*_{pk}$\")\n",
    "plt.show()"
   ]
  },
  {
   "cell_type": "markdown",
   "metadata": {},
   "source": [
    "Notice these errors are symmetric in their respective directions. For simplicity, we may want to do the same in our work. Take the average of the lower and upper uncertainties. "
   ]
  },
  {
   "cell_type": "markdown",
   "metadata": {},
   "source": [
    "# True parameters, the OLS fit?"
   ]
  },
  {
   "cell_type": "code",
   "execution_count": 42,
   "metadata": {},
   "outputs": [],
   "source": [
    "m_true, b_true = [0.556, 1.932]"
   ]
  },
  {
   "cell_type": "code",
   "execution_count": 29,
   "metadata": {},
   "outputs": [],
   "source": [
    "from scipy import optimize, stats"
   ]
  },
  {
   "cell_type": "code",
   "execution_count": null,
   "metadata": {},
   "outputs": [],
   "source": [
    "scipy.optimize.minimize"
   ]
  },
  {
   "cell_type": "code",
   "execution_count": 45,
   "metadata": {},
   "outputs": [
    {
     "data": {
      "text/plain": [
       "      fun: -3.5721413258897135e+21\n",
       " hess_inv: array([[1, 0],\n",
       "       [0, 1]])\n",
       "      jac: array([0., 0.])\n",
       "  message: 'Optimization terminated successfully.'\n",
       "     nfev: 72\n",
       "      nit: 1\n",
       "     njev: 18\n",
       "   status: 0\n",
       "  success: True\n",
       "        x: array([ 7.44546494e+07, -3.26724772e+08])"
      ]
     },
     "execution_count": 45,
     "metadata": {},
     "output_type": "execute_result"
    }
   ],
   "source": [
    "# Pre-compute the inverses for speed.\n",
    "Sinv = np.array([np.linalg.inv(Sn) for Sn in S])\n",
    "\n",
    "\n",
    "def lnlike(theta, xhat):\n",
    "    \"\"\"Likelihood\"\"\"\n",
    "    m,b = theta\n",
    "    yhat = m * xhat + b\n",
    "    # Compute the residuals.\n",
    "    r = np.array(X)\n",
    "    r[:, 0] -= xhat\n",
    "    r[:, 1] -= yhat\n",
    "    # Use some numpy magic to compute the likelihood (up to a constant).\n",
    "    #ll = -0.5*np.einsum(\"n...i,nij,n...j\", r, Sinv, r)\n",
    "    ll = -0.5*np.einsum(\"n...i,nij,n...j\", r, Sinv, r)\n",
    "    return ll\n",
    "\n",
    "xhat0 = np.array(X[:, 0])\n",
    "fit = scipy.optimize.minimize(lnlike, [1.,1.], args=(xhat0,))\n",
    "fit"
   ]
  },
  {
   "cell_type": "code",
   "execution_count": 46,
   "metadata": {},
   "outputs": [
    {
     "data": {
      "text/plain": [
       "      fun: -4.243879016375915e+22\n",
       " hess_inv: array([[1, 0],\n",
       "       [0, 1]])\n",
       "      jac: array([0., 0.])\n",
       "  message: 'Optimization terminated successfully.'\n",
       "     nfev: 64\n",
       "      nit: 1\n",
       "     njev: 16\n",
       "   status: 0\n",
       "  success: True\n",
       "        x: array([3.15183384e+08, 1.77021700e+08])"
      ]
     },
     "execution_count": 46,
     "metadata": {},
     "output_type": "execute_result"
    }
   ],
   "source": [
    "fit = scipy.optimize.minimize(lnlike, [m_true, b_true], args=(xhat0,))\n",
    "fit"
   ]
  },
  {
   "cell_type": "code",
   "execution_count": 47,
   "metadata": {},
   "outputs": [
    {
     "data": {
      "text/plain": [
       "array([ 2.54498999,  2.61427893,  1.07053942,  2.52777136,  2.29482046,\n",
       "        0.96879079,  0.34717862,  1.95793534,  1.76894705,  2.24132354,\n",
       "        1.77583988,  1.27973304,  1.46280955,  1.54283174,  1.38371856,\n",
       "        0.61660196,  1.38722792,  0.62950882,  0.16121858,  0.771041  ,\n",
       "        0.4478574 ,  1.08843738, -0.11766088,  1.43370383,  0.95342905,\n",
       "        0.39119975,  1.52926368,  0.57727685,  2.25909695,  1.27736885,\n",
       "        1.0821841 ,  0.45839334,  1.49104905,  0.97015904])"
      ]
     },
     "execution_count": 47,
     "metadata": {},
     "output_type": "execute_result"
    }
   ],
   "source": [
    "xhat0"
   ]
  },
  {
   "cell_type": "code",
   "execution_count": null,
   "metadata": {},
   "outputs": [],
   "source": []
  },
  {
   "cell_type": "code",
   "execution_count": 22,
   "metadata": {},
   "outputs": [
    {
     "name": "stderr",
     "output_type": "stream",
     "text": [
      "/Users/kimzoldak/anaconda3/lib/python3.7/site-packages/emcee/ensemble.py:258: RuntimeWarning: Initial state is not linearly independent and it will not allow a full exploration of parameter space\n",
      "  category=RuntimeWarning,\n"
     ]
    }
   ],
   "source": [
    "# emcee \n",
    "\n",
    "nwalkers = 300  # was 64, but too few.\n",
    "xhat0 = np.array(X[:, 0])\n",
    "p0 = np.append([m_true, b_true], xhat0)\n",
    "p0 = p0 + 1e-4 * np.random.randn(nwalkers, len(p0))\n",
    "\n",
    "sampler_naive = emcee.EnsembleSampler(nwalkers, p0.shape[1], log_prob_naive)\n",
    "pos, _, _ = sampler_naive.run_mcmc(p0, 5000)\n",
    "sampler_naive.reset()\n",
    "sampler_naive.run_mcmc(pos, 10000)\n",
    "samples_naive = sampler_naive.flatchain[:, :2]\n"
   ]
  },
  {
   "cell_type": "code",
   "execution_count": 23,
   "metadata": {},
   "outputs": [],
   "source": [
    "nsamples = len(samples_naive)"
   ]
  },
  {
   "cell_type": "raw",
   "metadata": {},
   "source": [
    "tau = sampler_naive.get_autocorr_time(c=4)\n",
    "nsamples = len(samples_naive)\n",
    "print(\"{0:.0f} independent samples of m\".format(nsamples / tau[0]))\n",
    "print(\"{0:.0f} independent samples of b\".format(nsamples / tau[1]))"
   ]
  },
  {
   "cell_type": "code",
   "execution_count": 24,
   "metadata": {},
   "outputs": [
    {
     "data": {
      "text/plain": [
       "(3000000, 2)"
      ]
     },
     "execution_count": 24,
     "metadata": {},
     "output_type": "execute_result"
    }
   ],
   "source": [
    "samples_naive.shape"
   ]
  },
  {
   "cell_type": "code",
   "execution_count": 25,
   "metadata": {},
   "outputs": [
    {
     "data": {
      "text/plain": [
       "((0.5756276721176786, 0.004329024045026553, 0.004255317127753955),\n",
       " (1.8104202952294157, 0.007711865877434665, 0.0077587304733437445))"
      ]
     },
     "execution_count": 25,
     "metadata": {},
     "output_type": "execute_result"
    }
   ],
   "source": [
    "m_mcmc, b_mcmc = map(lambda v: (v[1], v[2]-v[1], v[1]-v[0]), zip(*np.percentile(samples_naive, \n",
    "                                                                                [16, 50, 84], \n",
    "                                                                                axis=0)))\n",
    "\n",
    "m_mcmc, b_mcmc"
   ]
  },
  {
   "cell_type": "markdown",
   "metadata": {},
   "source": [
    "### Corner plot"
   ]
  },
  {
   "cell_type": "code",
   "execution_count": null,
   "metadata": {},
   "outputs": [],
   "source": [
    "m_true, b_true"
   ]
  },
  {
   "cell_type": "code",
   "execution_count": null,
   "metadata": {},
   "outputs": [],
   "source": [
    "\n",
    "rng = [(x.min(), x.max()) for x in samples_naive.T]\n",
    "corner.corner(samples_naive, labels=[\"m\", \"b\"], truths=[m_mcmc[0], b_mcmc[0]],\n",
    "              range=rng);"
   ]
  },
  {
   "cell_type": "code",
   "execution_count": null,
   "metadata": {},
   "outputs": [],
   "source": [
    "\n",
    "rng = [(x.min(), x.max()) for x in samples_naive.T]\n",
    "corner.corner(samples_naive, labels=[\"m\", \"b\"], truths=[m_true, b_true],\n",
    "              range=rng);"
   ]
  },
  {
   "cell_type": "code",
   "execution_count": null,
   "metadata": {},
   "outputs": [],
   "source": [
    "len(p0[:, :2])"
   ]
  },
  {
   "cell_type": "code",
   "execution_count": null,
   "metadata": {},
   "outputs": [],
   "source": []
  },
  {
   "cell_type": "code",
   "execution_count": null,
   "metadata": {},
   "outputs": [],
   "source": [
    "def log_marg_prob(params):\n",
    "    m, b = params\n",
    "    v = np.array([-m, 1.0])\n",
    "    \n",
    "    # Compute \\Sigma^2 and \\Delta.\n",
    "    # You can probably convince yourself that this formulation of\n",
    "    # \\Sigma^2 is equivalent to the one in the text.\n",
    "    Sigma2 = np.dot(np.dot(S, v), v)\n",
    "    Delta = m * X[:, 0] + b - X[:, 1]\n",
    "    \n",
    "    # Compute the log likelihood up to a constant (zero, oops...).\n",
    "    ll = -0.5 * np.sum(Delta**2 / Sigma2 + np.log(Sigma2))\n",
    "    return ll + log_prior(params)"
   ]
  },
  {
   "cell_type": "code",
   "execution_count": null,
   "metadata": {},
   "outputs": [],
   "source": [
    "# Run the MCMC with the same initialization as above.\n",
    "sampler_marg = emcee.EnsembleSampler(nwalkers, 2, log_marg_prob)\n",
    "pos, _, _ = sampler_marg.run_mcmc(p0[:, :2], 100)"
   ]
  },
  {
   "cell_type": "code",
   "execution_count": null,
   "metadata": {},
   "outputs": [],
   "source": [
    "def Prior(parameters):\n",
    "    m, b, f = parameters\n",
    "    #if 0.4 < m < 0.6 and 1.0 < b < 3.0 and 0.1 < f < 0.3:\n",
    "    #if 0.1 < m < 1.0 and 0.1 < b < 5.0 and 0.1 < f < 1.0:\n",
    "    if -1.0 < m < 1.0 and 0 < b < 10.0 and 0 < f < 1.0:\n",
    "        return 0.0\n",
    "    return -np.inf\n",
    "\n",
    "def Prob(parameters, x, y): \n",
    "    lp = Prior(parameters)\n",
    "    if not np.isfinite(lp):\n",
    "        return -np.inf\n",
    "    return lp - LogLikelihood(parameters, x, y) \n",
    "# lp + LogLikelihood(parameters, x, y) # our version needs - sign.\n",
    "\n",
    "ndim, nwalkers = 3, 300\n",
    "pos = [result.x + 1e-4*np.random.randn(ndim) for i in range(nwalkers)]\n",
    "\n",
    "sampler = emcee.EnsembleSampler(nwalkers, ndim, Prob, args=(x, y))\n",
    "sampler.run_mcmc(pos, 1000)\n",
    "samples = sampler.chain[:, 50:, :].reshape((-1, ndim))"
   ]
  },
  {
   "cell_type": "code",
   "execution_count": null,
   "metadata": {},
   "outputs": [],
   "source": [
    "sampler_marg.reset()\n",
    "sampler_marg.run_mcmc(pos, 10000)\n",
    "samples_marg = sampler_marg.flatchain"
   ]
  },
  {
   "cell_type": "code",
   "execution_count": null,
   "metadata": {},
   "outputs": [],
   "source": [
    "pos.shape"
   ]
  },
  {
   "cell_type": "code",
   "execution_count": null,
   "metadata": {},
   "outputs": [],
   "source": [
    "sampler.chain[:, 50:, :].reshape((-1, ndim))"
   ]
  },
  {
   "cell_type": "code",
   "execution_count": null,
   "metadata": {},
   "outputs": [],
   "source": [
    "samples_marg.shape"
   ]
  },
  {
   "cell_type": "code",
   "execution_count": null,
   "metadata": {},
   "outputs": [],
   "source": [
    "tau = sampler_marg.get_autocorr_time(c=4)\n",
    "nsamples = len(samples_marg)\n",
    "print(\"{0:.0f} independent samples of m\".format(nsamples / tau[0]))\n",
    "print(\"{0:.0f} independent samples of b\".format(nsamples / tau[1]))"
   ]
  },
  {
   "cell_type": "code",
   "execution_count": null,
   "metadata": {},
   "outputs": [],
   "source": [
    "m_mcmc, b_mcmc = map(lambda v: (v[1], v[2]-v[1], v[1]-v[0]), zip(*np.percentile(samples_marg, \n",
    "                                                                                [16, 50, 84], \n",
    "                                                                                axis=0)))\n",
    "\n",
    "m_mcmc, b_mcmc"
   ]
  },
  {
   "cell_type": "code",
   "execution_count": null,
   "metadata": {},
   "outputs": [],
   "source": [
    "# Plot the posterior constraints for the naive sampling.\n",
    "fig = corner.corner(samples_naive, labels=[\"m\", \"b\"], truths=[m_true, b_true],\n",
    "                    range=rng)\n",
    "\n",
    "# Plot the constraints from the marginalized sampling.\n",
    "# We need to re-weight the samples because we didn't need to run\n",
    "# as many steps to converge in 2 dimensions as we did in 12.\n",
    "w = len(samples_naive) / len(samples_marg) + np.zeros(len(samples_marg))\n",
    "corner.corner(samples_marg, range=rng, color=\"g\", fig=fig, weights=w);"
   ]
  },
  {
   "cell_type": "code",
   "execution_count": null,
   "metadata": {},
   "outputs": [],
   "source": [
    "np.array([-2, 12])"
   ]
  },
  {
   "cell_type": "code",
   "execution_count": null,
   "metadata": {},
   "outputs": [],
   "source": [
    "m"
   ]
  },
  {
   "cell_type": "code",
   "execution_count": null,
   "metadata": {},
   "outputs": [],
   "source": [
    "plt.plot(sampler_marg)"
   ]
  },
  {
   "cell_type": "code",
   "execution_count": null,
   "metadata": {},
   "outputs": [],
   "source": [
    "fig, ax = plt.subplots(1, 1, figsize=(8,8))\n",
    "x0 = np.array([xdata.min(), xdata.max()])\n",
    "\n",
    "\n",
    "# Plot posterior predictions for a few samples.\n",
    "for m, b in samples_marg[np.random.randint(len(samples_marg), size=100)]:\n",
    "    ax.plot(x0, m*x0 + b, lw=1, alpha=0.1, color=\"g\")\n",
    "    \n",
    "ax.plot(x0, m_true*x0 + b_true, \"k\", lw=2)\n",
    "plot_error_ellipses(ax, X, S)\n",
    "# ax.set_xlim(-2, 12)\n",
    "# ax.set_ylim(-2, 12)\n",
    "# ax.set_xlabel(\"x\")\n",
    "# ax.set_ylabel(\"y\");"
   ]
  },
  {
   "cell_type": "code",
   "execution_count": null,
   "metadata": {},
   "outputs": [],
   "source": [
    "# Reproducible!\n",
    "np.random.seed(42)\n",
    "\n",
    "# Add some scatter perpendicular to the line.\n",
    "lambda_true = 2.0\n",
    "X_scatter = np.array(X)\n",
    "X_scatter[:, 1] += lambda_true * np.random.randn(N)\n",
    "\n",
    "# Plot the updated dataset.\n",
    "fig, ax = plt.subplots(1, 1, figsize=(5, 5))\n",
    "x0 = np.array([-2, 12])\n",
    "ax.plot(x0, m_true*x0 + b_true, lw=1)\n",
    "plot_error_ellipses(ax, X_scatter, S)\n",
    "\n",
    "# Plot the displacement vectors.\n",
    "for n in range(N):\n",
    "    ax.plot([X[n, 0], X_scatter[n, 0]],\n",
    "            [X[n, 1], X_scatter[n, 1]],\n",
    "            \"k\", lw=0.5)\n",
    "\n",
    "ax.set_xlim(-2, 12)\n",
    "ax.set_ylim(-2, 12)\n",
    "ax.set_xlabel(\"x\")\n",
    "ax.set_ylabel(\"y\");"
   ]
  },
  {
   "cell_type": "code",
   "execution_count": null,
   "metadata": {},
   "outputs": [],
   "source": [
    "def log_marg_prob_scatter(params):\n",
    "    m, b, log_lambda = params\n",
    "    v = np.array([-m, 1.0])\n",
    "    \n",
    "    # Enforce the log-uniform prior on lambda. \n",
    "    if not -5.0 < log_lambda < 5.0:\n",
    "        return -np.inf\n",
    "        \n",
    "    # Compute \\Sigma^2 and \\Delta.\n",
    "    Sigma2 = np.dot(np.dot(S, v), v) + np.exp(2*log_lambda)\n",
    "    Delta = m * X_scatter[:, 0] + b - X_scatter[:, 1]\n",
    "    \n",
    "    # Compute the log likelihood up to a constant.\n",
    "    ll = -0.5 * np.sum(Delta**2 / Sigma2 + np.log(Sigma2))\n",
    "    return ll + log_prior(params)\n",
    "\n",
    "# Run the MCMC.\n",
    "sampler_scatter = emcee.EnsembleSampler(nwalkers, 3, log_marg_prob_scatter)\n",
    "p0 = np.array([m_true, b_true, np.log(lambda_true)])\n",
    "p0 = p0 + 1e-4 * np.random.randn(nwalkers, len(p0))\n",
    "pos, _, _ = sampler_scatter.run_mcmc(p0, 1000)\n",
    "sampler_scatter.reset()\n",
    "sampler_scatter.run_mcmc(pos, 6000)\n",
    "samples_scatter = sampler_scatter.flatchain\n",
    "\n",
    "tau = sampler_scatter.get_autocorr_time(c=4)\n",
    "nsamples = len(samples_scatter)\n",
    "print(\"{0:.0f} independent samples of m\".format(nsamples / tau[0]))\n",
    "print(\"{0:.0f} independent samples of b\".format(nsamples / tau[1]))\n",
    "print(\"{0:.0f} independent samples of lambda\".format(nsamples / tau[2]))\n",
    "\n",
    "corner.corner(samples_scatter, labels=[\"m\", \"b\", \"$\\ln\\lambda$\"],\n",
    "              truths=[m_true, b_true, np.log(lambda_true)]);"
   ]
  },
  {
   "cell_type": "code",
   "execution_count": null,
   "metadata": {},
   "outputs": [],
   "source": [
    "fig, ax = plt.subplots(1, 1, figsize=(5, 5))\n",
    "x0 = np.array([-2, 12])\n",
    "\n",
    "# Plot posterior predictions for a few samples.\n",
    "for m, b, _ in samples_scatter[np.random.randint(len(samples_scatter), size=100)]:\n",
    "    ax.plot(x0, m*x0 + b, lw=1, alpha=0.1, color=\"g\")\n",
    "    \n",
    "ax.plot(x0, m_true*x0 + b_true, \"k\", lw=2)\n",
    "plot_error_ellipses(ax, X_scatter, S)\n",
    "ax.set_xlim(-2, 12)\n",
    "ax.set_ylim(-2, 12)\n",
    "ax.set_xlabel(\"x\")\n",
    "ax.set_ylabel(\"y\");\n"
   ]
  },
  {
   "cell_type": "code",
   "execution_count": null,
   "metadata": {},
   "outputs": [],
   "source": []
  }
 ],
 "metadata": {
  "kernelspec": {
   "display_name": "Python 3",
   "language": "python",
   "name": "python3"
  },
  "language_info": {
   "codemirror_mode": {
    "name": "ipython",
    "version": 3
   },
   "file_extension": ".py",
   "mimetype": "text/x-python",
   "name": "python",
   "nbconvert_exporter": "python",
   "pygments_lexer": "ipython3",
   "version": "3.7.0"
  }
 },
 "nbformat": 4,
 "nbformat_minor": 2
}
