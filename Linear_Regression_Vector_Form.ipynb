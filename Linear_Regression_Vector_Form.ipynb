{
 "cells": [
  {
   "cell_type": "code",
   "execution_count": 1,
   "metadata": {},
   "outputs": [],
   "source": [
    "import pandas as pd\n",
    "import numpy as np\n",
    "\n",
    "import matplotlib.pyplot as plt\n",
    "%matplotlib inline"
   ]
  },
  {
   "cell_type": "markdown",
   "metadata": {},
   "source": [
    "https://en.wikipedia.org/wiki/Ordinary_least_squares\n",
    "\n",
    "\n",
    "__Linear Modeling Function:__\n",
    "\n",
    "</br>\n",
    "\n",
    "${\\displaystyle y_{i}=\\beta _{1}x_{i1}+\\beta _{2}x_{i2}+\\cdots +\\beta _{p}x_{ip}+\\varepsilon _{i}}$\n",
    "\n",
    "</br>\n",
    "\n",
    "As a rule, the constant term is always included in the set of regressors $X$, say, by taking $x_{i1} = 1$ for all observations $i = 1, …, n$. The coefficient $\\beta_1$ corresponding to this regressor is called the intercept.\n",
    "\n",
    "\n",
    "\n",
    "__In Vector Form:__\n",
    "\n",
    "</br>\n",
    "\n",
    "${\\displaystyle y_{i}=x_{i}^{T}\\beta +\\varepsilon _{i}\\,}$\n",
    "\n",
    "the $ε_i$'s are unobserved scalar random variables (errors) which account for influences upon the responses yi from sources other than the explanators $x_i$. \n",
    "$x_{i}$ is a column vector of the ith observations of all the explanatory variables.\n",
    "\n",
    "__In Matrix Form:__\n",
    "\n",
    "</br>\n",
    "\n",
    "${\\displaystyle {\\hat {\\boldsymbol {\\beta }}}=(\\mathbf {X} ^{\\mathsf {T}}\\mathbf {X} )^{-1}\\mathbf {X} ^{\\mathsf {T}}\\mathbf {y}}$\n",
    "\n",
    "\n",
    "\n",
    "${\\displaystyle \\mathbf {X} ={\\begin{bmatrix}X_{11}&X_{12}&\\cdots &X_{1p}\\\\X_{21}&X_{22}&\\cdots &X_{2p}\\\\\\vdots &\\vdots &\\ddots &\\vdots \\\\X_{N1}&X_{N2}&\\cdots &X_{Np}\\end{bmatrix}},\\qquad {\\boldsymbol {\\beta }}={\\begin{bmatrix}\\beta _{1}\\\\\\beta _{2}\\\\\\vdots \\\\\\beta _{p}\\end{bmatrix}},\\qquad \\mathbf {y} ={\\begin{bmatrix}y_{1}\\\\y_{2}\\\\\\vdots \\\\y_{N}\\end{bmatrix}}.}$\n",
    "\n",
    "\n",
    "N is the number of observations and p is the number of features, predictors, independent variables, regressors, etc...\n",
    "The terms representing the variables in the training data set have many names. \n",
    "\n",
    "$\\beta$ is the coefficient vector.\n",
    "\n",
    "$y$ is the response vector, or vector of dependent variables. When you are training a model, $y$ is the response that that model should be able to closely predict.  "
   ]
  },
  {
   "cell_type": "markdown",
   "metadata": {},
   "source": [
    "#### The below notes are from Wikipedia, so make sure they match the book. \n",
    "\n",
    "Suppose $\\beta$ is a \"candidate\" value for the parameter vector $\\boldsymbol{\\beta}$. The quantity $y_i − x_i^T \\beta$, called the residual for the _i_th observation, measures the vertical distance between the data point ($x_i$, $y_i$) and the hyperplane $y = x^T \\beta$, and thus assesses the degree of fit between the actual data and the model. The sum of squared residuals (SSR) (also called the error sum of squares (ESS) or residual sum of squares (RSS)) is a measure of the overall model fit:\n",
    "\n",
    "\n",
    "${\\displaystyle RSS(\\beta)=\\sum _{i=1}^{N}(y_{i}-x_{i}^{\\mathrm {T} }\\beta)^{2} = (\\boldsymbol{y}-\\boldsymbol{X}\\beta)^{\\mathrm {T} }(\\boldsymbol{y}-\\boldsymbol{X}\\beta)}$\n",
    "\n",
    "The goal is to find the set of coefficients $\\beta$ that minimize the residual sum of squares (RSS). \n",
    "\n"
   ]
  },
  {
   "cell_type": "markdown",
   "metadata": {},
   "source": [
    "${\\displaystyle RSS(\\beta)= (\\boldsymbol{y}-\\boldsymbol{X}\\beta)^{\\mathrm {T} }(\\boldsymbol{y}-\\boldsymbol{X}\\beta)}$\n",
    "\n",
    "${\\displaystyle {\\hat {\\boldsymbol {\\beta }}}=(\\mathbf {X} ^{\\mathsf {T}}\\mathbf {X} )^{-1}\\mathbf {X} ^{\\mathsf {T}}\\mathbf {y}}$"
   ]
  },
  {
   "cell_type": "markdown",
   "metadata": {},
   "source": [
    "```\n",
    "\n",
    "\n",
    "```"
   ]
  },
  {
   "cell_type": "markdown",
   "metadata": {},
   "source": [
    "### read in data"
   ]
  },
  {
   "cell_type": "code",
   "execution_count": 2,
   "metadata": {},
   "outputs": [
    {
     "data": {
      "text/html": [
       "<div>\n",
       "<style scoped>\n",
       "    .dataframe tbody tr th:only-of-type {\n",
       "        vertical-align: middle;\n",
       "    }\n",
       "\n",
       "    .dataframe tbody tr th {\n",
       "        vertical-align: top;\n",
       "    }\n",
       "\n",
       "    .dataframe thead th {\n",
       "        text-align: right;\n",
       "    }\n",
       "</style>\n",
       "<table border=\"1\" class=\"dataframe\">\n",
       "  <thead>\n",
       "    <tr style=\"text-align: right;\">\n",
       "      <th></th>\n",
       "      <th>TV</th>\n",
       "      <th>radio</th>\n",
       "      <th>newspaper</th>\n",
       "      <th>sales</th>\n",
       "    </tr>\n",
       "  </thead>\n",
       "  <tbody>\n",
       "    <tr>\n",
       "      <th>1</th>\n",
       "      <td>230.1</td>\n",
       "      <td>37.8</td>\n",
       "      <td>69.2</td>\n",
       "      <td>22.1</td>\n",
       "    </tr>\n",
       "    <tr>\n",
       "      <th>2</th>\n",
       "      <td>44.5</td>\n",
       "      <td>39.3</td>\n",
       "      <td>45.1</td>\n",
       "      <td>10.4</td>\n",
       "    </tr>\n",
       "    <tr>\n",
       "      <th>3</th>\n",
       "      <td>17.2</td>\n",
       "      <td>45.9</td>\n",
       "      <td>69.3</td>\n",
       "      <td>9.3</td>\n",
       "    </tr>\n",
       "    <tr>\n",
       "      <th>4</th>\n",
       "      <td>151.5</td>\n",
       "      <td>41.3</td>\n",
       "      <td>58.5</td>\n",
       "      <td>18.5</td>\n",
       "    </tr>\n",
       "    <tr>\n",
       "      <th>5</th>\n",
       "      <td>180.8</td>\n",
       "      <td>10.8</td>\n",
       "      <td>58.4</td>\n",
       "      <td>12.9</td>\n",
       "    </tr>\n",
       "  </tbody>\n",
       "</table>\n",
       "</div>"
      ],
      "text/plain": [
       "      TV  radio  newspaper  sales\n",
       "1  230.1   37.8       69.2   22.1\n",
       "2   44.5   39.3       45.1   10.4\n",
       "3   17.2   45.9       69.3    9.3\n",
       "4  151.5   41.3       58.5   18.5\n",
       "5  180.8   10.8       58.4   12.9"
      ]
     },
     "execution_count": 2,
     "metadata": {},
     "output_type": "execute_result"
    }
   ],
   "source": [
    "data = pd.read_csv('http://www-bcf.usc.edu/~gareth/ISL/Advertising.csv', index_col=0)\n",
    "data.head()"
   ]
  },
  {
   "cell_type": "markdown",
   "metadata": {},
   "source": [
    "**We will only perform a linear model fit between Sales and TV**"
   ]
  },
  {
   "cell_type": "code",
   "execution_count": 3,
   "metadata": {},
   "outputs": [],
   "source": [
    "xdata = np.asarray(data.TV)\n",
    "ydata = np.asarray(data.sales)"
   ]
  },
  {
   "cell_type": "code",
   "execution_count": 4,
   "metadata": {},
   "outputs": [
    {
     "data": {
      "text/plain": [
       "Text(0, 0.5, 'Sales')"
      ]
     },
     "execution_count": 4,
     "metadata": {},
     "output_type": "execute_result"
    },
    {
     "data": {
      "image/png": "[encoded data removed]",
      "text/plain": [
       "<Figure size 432x288 with 1 Axes>"
      ]
     },
     "metadata": {
      "needs_background": "light"
     },
     "output_type": "display_data"
    }
   ],
   "source": [
    "plt.plot(xdata, ydata, 'ro', alpha=0.3)\n",
    "plt.xlabel('TV Advertisement, money spent (x\\'s $1,000)')\n",
    "plt.ylabel('Sales')"
   ]
  },
  {
   "cell_type": "markdown",
   "metadata": {},
   "source": [
    "### Features matrix (X) and response matrix (y)"
   ]
  },
  {
   "cell_type": "code",
   "execution_count": 5,
   "metadata": {},
   "outputs": [
    {
     "name": "stdout",
     "output_type": "stream",
     "text": [
      "(200, 2)\n",
      "(200,)\n",
      "(200, 1)\n"
     ]
    }
   ],
   "source": [
    "X = np.matrix([ np.ones(len(xdata)), xdata ]).T  # shape(200, 2)\n",
    "y = ydata\n",
    "\n",
    "print(X.shape)            # (200, 2)\n",
    "print(y.shape)            # (200, )\n",
    "print(np.vstack(y).shape) # (200, 1)"
   ]
  },
  {
   "cell_type": "markdown",
   "metadata": {},
   "source": [
    "### Multiplication of Matrices and dot product\n",
    "Wanted to point out, before beginning, that \n",
    "`X * X.T`\n",
    "and\n",
    "`np.dot(X, X.T)`\n",
    "are the exact same result. \n",
    "\n"
   ]
  },
  {
   "cell_type": "code",
   "execution_count": 6,
   "metadata": {},
   "outputs": [
    {
     "data": {
      "text/plain": [
       "matrix([[ True,  True,  True, ...,  True,  True,  True],\n",
       "        [ True,  True,  True, ...,  True,  True,  True],\n",
       "        [ True,  True,  True, ...,  True,  True,  True],\n",
       "        ...,\n",
       "        [ True,  True,  True, ...,  True,  True,  True],\n",
       "        [ True,  True,  True, ...,  True,  True,  True],\n",
       "        [ True,  True,  True, ...,  True,  True,  True]])"
      ]
     },
     "execution_count": 6,
     "metadata": {},
     "output_type": "execute_result"
    }
   ],
   "source": [
    "X * X.T == np.dot(X, X.T)"
   ]
  },
  {
   "cell_type": "code",
   "execution_count": 7,
   "metadata": {},
   "outputs": [
    {
     "data": {
      "text/plain": [
       "matrix([[ True],\n",
       "        [ True]])"
      ]
     },
     "execution_count": 7,
     "metadata": {},
     "output_type": "execute_result"
    }
   ],
   "source": [
    "X.T * np.vstack(y) == np.dot(X.T, np.vstack(y))"
   ]
  },
  {
   "cell_type": "markdown",
   "metadata": {},
   "source": [
    "### Estimates of $\\beta_0$ and $\\beta_1$ contained in a single matrix."
   ]
  },
  {
   "cell_type": "code",
   "execution_count": 8,
   "metadata": {},
   "outputs": [
    {
     "name": "stdout",
     "output_type": "stream",
     "text": [
      "\n",
      "[[7.03259355]\n",
      " [0.04753664]]\n"
     ]
    }
   ],
   "source": [
    "# ESTIMATE FOR COEFFICIENTS. \n",
    "beta = ((X.T * X)**-1) * X.T * np.vstack(y) # equation 3.6\n",
    "print('')\n",
    "print(beta)"
   ]
  },
  {
   "cell_type": "markdown",
   "metadata": {},
   "source": [
    "### $\\hat{y}$ estimates, given the linear model."
   ]
  },
  {
   "cell_type": "code",
   "execution_count": 9,
   "metadata": {},
   "outputs": [],
   "source": [
    "# y estimates given the linear model.\n",
    "y_hat = X * ((X.T * X)**-1) * X.T * np.vstack(y)  # or X * beta. equation 3.7 "
   ]
  },
  {
   "cell_type": "code",
   "execution_count": 10,
   "metadata": {},
   "outputs": [
    {
     "data": {
      "text/plain": [
       "[<matplotlib.lines.Line2D at 0x11c4c2d30>]"
      ]
     },
     "execution_count": 10,
     "metadata": {},
     "output_type": "execute_result"
    },
    {
     "data": {
      "image/png": "[encoded data removed]",
      "text/plain": [
       "<Figure size 432x288 with 1 Axes>"
      ]
     },
     "metadata": {
      "needs_background": "light"
     },
     "output_type": "display_data"
    }
   ],
   "source": [
    "# xdata and estimates for y given the model.\n",
    "plt.plot(xdata, y, 'ro', alpha=0.3)  # data for y\n",
    "plt.plot(xdata, y_hat)  # model estimate for y"
   ]
  },
  {
   "cell_type": "markdown",
   "metadata": {},
   "source": [
    "### Residual Sum of Squares (RSS)\n",
    "These are the squared differences between the true y-data values and the estimated y values given the model. \n",
    "\n",
    "**Keep in mind, the variables y and ydata are the same thing; the y-axis data of the data points. We just gave it two names.**"
   ]
  },
  {
   "cell_type": "code",
   "execution_count": 11,
   "metadata": {},
   "outputs": [],
   "source": [
    "# y_hat is in matrix form, make y_hat into a flattened array.\n",
    "y_hat_arr = np.asarray(y_hat.flatten())\n",
    "\n",
    "residuals = (y - y_hat_arr ) # vertical distances between the model and the y-data"
   ]
  },
  {
   "cell_type": "code",
   "execution_count": 12,
   "metadata": {},
   "outputs": [
    {
     "name": "stdout",
     "output_type": "stream",
     "text": [
      "2102.5305831313503\n"
     ]
    }
   ],
   "source": [
    "# RSS = sum(residuals**2)\n",
    "RSS = np.sum( (y - y_hat_arr )**2 )\n",
    "print(RSS)"
   ]
  },
  {
   "cell_type": "code",
   "execution_count": 13,
   "metadata": {},
   "outputs": [
    {
     "data": {
      "text/plain": [
       "matrix([[2102.53058313]])"
      ]
     },
     "execution_count": 13,
     "metadata": {},
     "output_type": "execute_result"
    }
   ],
   "source": [
    "# RSS IN MATRIX FORMAT\n",
    "((np.vstack(y) - X * beta).T) * (np.vstack(y) - X * beta)  # equation 3.3"
   ]
  },
  {
   "cell_type": "markdown",
   "metadata": {},
   "source": [
    "### Plot with $\\hat{y}$ and residuals."
   ]
  },
  {
   "cell_type": "code",
   "execution_count": 14,
   "metadata": {},
   "outputs": [
    {
     "data": {
      "text/plain": [
       "<matplotlib.collections.LineCollection at 0x10cbedda0>"
      ]
     },
     "execution_count": 14,
     "metadata": {},
     "output_type": "execute_result"
    },
    {
     "data": {
      "image/png": "[encoded data removed]",
      "text/plain": [
       "<Figure size 432x288 with 1 Axes>"
      ]
     },
     "metadata": {
      "needs_background": "light"
     },
     "output_type": "display_data"
    }
   ],
   "source": [
    "plt.plot(xdata, y, 'ro', alpha=0.3)  # data for y\n",
    "plt.plot(xdata, y_hat)  # model estimate for y\n",
    "plt.vlines(xdata, y, y-residuals, color='grey', alpha=0.75)"
   ]
  },
  {
   "cell_type": "code",
   "execution_count": 15,
   "metadata": {},
   "outputs": [
    {
     "data": {
      "text/plain": [
       "array([[ 4.12922549,  1.25202595,  1.44977624,  4.26560543, -2.72721814,\n",
       "        -0.24616232,  2.03404963,  0.45350227, -2.64140866, -5.93041431,\n",
       "        -1.57476548,  0.16128975,  1.03603441, -1.96741599,  2.26517814,\n",
       "         6.07874691,  2.24442223,  3.99059583,  0.97787093,  0.56525932,\n",
       "         0.58540418, -5.81779199, -2.0600772 , -2.38520856, -0.29412625,\n",
       "        -7.52997632,  1.17442053, -2.54614092,  0.04029031,  0.11131964,\n",
       "         0.44392447, -0.49948025, -2.053155  , -2.25832525, -2.08185004,\n",
       "        -8.05149492,  5.67987712,  4.11641941,  1.01857725,  3.62905243,\n",
       "        -0.05876324,  1.65342109, -0.28935118, -3.96792445,  0.27423678,\n",
       "        -0.45625929, -0.6966302 ,  4.76336641, -3.03291826, -0.51279479,\n",
       "        -5.13041431, -1.10527225,  5.28047746,  5.48721591,  0.67953101,\n",
       "         7.21236867, -1.87961102, -0.30708398,  6.74668265,  1.35143631,\n",
       "        -1.47580381,  4.74608231, -2.7081116 ,  2.08539348,  4.73535289,\n",
       "        -1.01262174,  0.97000228, -0.25444756,  0.58220801,  4.9614628 ,\n",
       "         1.80286134,  0.14788333,  0.49342449, -2.18383482, -0.17691262,\n",
       "         0.86403723, -1.43985116,  1.43924128, -1.98929141, -1.54684384,\n",
       "         1.13560712, -6.13187992,  0.68789743,  3.31590025,  4.51833372,\n",
       "        -1.01667248,  1.34036079,  3.70510035,  1.6699211 ,  4.44788333,\n",
       "        -2.21676436, -1.09214147,  2.01867983,  3.24046337, -0.63802873,\n",
       "         2.10467307, -4.7258337 , -0.32211837,  4.59604172,  3.74045266,\n",
       "        -5.90474238,  2.67754623, -5.5523602 , -1.26472829,  2.3441787 ,\n",
       "         5.61210374, -1.02100956, -2.62990584, -2.35532354,  0.62654848,\n",
       "        -4.36636696,  3.27780046, -1.28478127, -1.09627338,  3.85004117,\n",
       "         1.99740475, -1.4496939 , -1.26439288,  2.89205075, -1.35480437,\n",
       "         1.75047916, -0.92628239, -6.08080101,  2.31564601,  1.75774747,\n",
       "        -0.57778859, -0.80337934, -2.04503211,  7.19508456, -0.16577732,\n",
       "        -5.4658692 , -6.93931059, -1.73190133,  2.11885288,  2.01330442,\n",
       "         2.27138672,  1.25046846,  0.75662796,  0.52333091,  4.87788163,\n",
       "         0.37821704,  2.9595592 ,  2.58557724, -1.60492614, -0.20561836,\n",
       "        -3.4019842 , -5.24614092,  6.8064955 ,  2.06101411,  0.94251862,\n",
       "        -4.27612852, -1.18452704,  0.1741663 ,  3.82437994, -0.35997462,\n",
       "        -4.02749377,  3.80371591, -4.05358229, -0.28877224, -0.39316909,\n",
       "        -0.83266402,  2.19351637, -1.08849661,  3.19516574, -0.70388781,\n",
       "        -6.27993573,  0.11650059, -4.66317079, -0.1719859 , -5.54726042,\n",
       "        -1.00942557, -0.3523709 , -0.3643117 , -3.3377638 , -6.10474238,\n",
       "         6.80451071,  1.35930497, -3.42332975, -8.38598196, -2.3046612 ,\n",
       "        -3.97683144, -5.21934948, -1.00415274,  5.49586866, -1.49739289,\n",
       "         5.82239516, -3.36395489,  1.18315446, -4.72807271, -1.22152873,\n",
       "         1.88970915, -0.7216099 , -1.95022376,  4.63829483,  3.15117138,\n",
       "        -1.24849321, -1.81054508, -2.64657891,  4.98601522, -4.66584779]])"
      ]
     },
     "execution_count": 15,
     "metadata": {},
     "output_type": "execute_result"
    }
   ],
   "source": [
    "residuals"
   ]
  },
  {
   "cell_type": "markdown",
   "metadata": {},
   "source": [
    "### First Derivative of the RSS"
   ]
  },
  {
   "cell_type": "code",
   "execution_count": 16,
   "metadata": {},
   "outputs": [
    {
     "data": {
      "text/plain": [
       "matrix([[3.95061761e-12],\n",
       "        [5.38420863e-10]])"
      ]
     },
     "execution_count": 16,
     "metadata": {},
     "output_type": "execute_result"
    }
   ],
   "source": [
    "-2 * X.T * (np.vstack(y) - X*beta)   # equation 3.4"
   ]
  },
  {
   "cell_type": "markdown",
   "metadata": {},
   "source": [
    "### Second Derivative of the RSS"
   ]
  },
  {
   "cell_type": "code",
   "execution_count": 17,
   "metadata": {},
   "outputs": [
    {
     "data": {
      "text/plain": [
       "matrix([[105894.02,  20480.9 ,   7917.44, ...,  81457.4 , 130514.72,\n",
       "         106814.42],\n",
       "        [ 20480.9 ,   3962.5 ,   1532.8 , ...,  15755.  ,  25242.4 ,\n",
       "          20658.9 ],\n",
       "        [  7917.44,   1532.8 ,    593.68, ...,   6090.8 ,   9757.84,\n",
       "           7986.24],\n",
       "        ...,\n",
       "        [ 81457.4 ,  15755.  ,   6090.8 , ...,  62660.  , 100396.4 ,\n",
       "          82165.4 ],\n",
       "        [130514.72,  25242.4 ,   9757.84, ..., 100396.4 , 160859.92,\n",
       "         131649.12],\n",
       "        [106814.42,  20658.9 ,   7986.24, ...,  82165.4 , 131649.12,\n",
       "         107742.82]])"
      ]
     },
     "execution_count": 17,
     "metadata": {},
     "output_type": "execute_result"
    }
   ],
   "source": [
    "2 * X * X.T     # equation 3.4"
   ]
  },
  {
   "cell_type": "markdown",
   "metadata": {},
   "source": [
    "### Degrees of Freedom\n",
    "n_observations - n_predictors - 1"
   ]
  },
  {
   "cell_type": "code",
   "execution_count": 18,
   "metadata": {},
   "outputs": [
    {
     "name": "stdout",
     "output_type": "stream",
     "text": [
      "197\n"
     ]
    }
   ],
   "source": [
    "N,p = X.shape  # number of observations, number of features (aka predictors)\n",
    "\n",
    "degrees_of_freedom = N-p-1\n",
    "print(degrees_of_freedom)"
   ]
  },
  {
   "cell_type": "markdown",
   "metadata": {},
   "source": [
    "### Variance"
   ]
  },
  {
   "cell_type": "code",
   "execution_count": 21,
   "metadata": {},
   "outputs": [
    {
     "name": "stdout",
     "output_type": "stream",
     "text": [
      "10.672744076808884\n"
     ]
    }
   ],
   "source": [
    "sigma_squared = (1./(N-p-1)) * np.sum( (y - y_hat_arr )**2 )\n",
    "\n",
    "print(sigma_squared)"
   ]
  },
  {
   "cell_type": "code",
   "execution_count": 22,
   "metadata": {},
   "outputs": [
    {
     "data": {
      "text/plain": [
       "10.672744076808884"
      ]
     },
     "execution_count": 22,
     "metadata": {},
     "output_type": "execute_result"
    }
   ],
   "source": [
    "# OR \n",
    "RSS/degrees_of_freedom"
   ]
  },
  {
   "cell_type": "code",
   "execution_count": 23,
   "metadata": {},
   "outputs": [
    {
     "data": {
      "text/plain": [
       "matrix([[10.67274408]])"
      ]
     },
     "execution_count": 23,
     "metadata": {},
     "output_type": "execute_result"
    }
   ],
   "source": [
    "# sigma_squared IN MATRIX FORM:\n",
    "(1./(N-p-1)) * ( ((np.vstack(y) - X * beta).T) * (np.vstack(y) - X * beta) ) "
   ]
  },
  {
   "cell_type": "markdown",
   "metadata": {},
   "source": [
    "### Variance-Covariance Matrix"
   ]
  },
  {
   "cell_type": "code",
   "execution_count": 24,
   "metadata": {},
   "outputs": [
    {
     "name": "stdout",
     "output_type": "stream",
     "text": [
      "[[ 2.10684220e-01 -1.06989815e-03]\n",
      " [-1.06989815e-03  7.27611510e-06]]\n"
     ]
    }
   ],
   "source": [
    "variance_beta = ((X.T * X)**-1) * sigma_squared  # equation 3.8\n",
    "print(variance_beta)"
   ]
  },
  {
   "cell_type": "markdown",
   "metadata": {},
   "source": [
    "### Standard Error on the parameters. 0.459 is on $\\beta_0$ and 0.0027 is on $\\beta_1$"
   ]
  },
  {
   "cell_type": "code",
   "execution_count": 25,
   "metadata": {},
   "outputs": [
    {
     "name": "stderr",
     "output_type": "stream",
     "text": [
      "/Users/kimzoldak/anaconda3/lib/python3.7/site-packages/ipykernel_launcher.py:2: RuntimeWarning: invalid value encountered in sqrt\n",
      "  \n"
     ]
    },
    {
     "data": {
      "text/plain": [
       "matrix([[0.45900351,        nan],\n",
       "        [       nan, 0.00269743]])"
      ]
     },
     "execution_count": 25,
     "metadata": {},
     "output_type": "execute_result"
    }
   ],
   "source": [
    "# standard error of the parameters are the diago elements of this matrix.\n",
    "np.sqrt(variance_beta)"
   ]
  },
  {
   "cell_type": "code",
   "execution_count": 26,
   "metadata": {},
   "outputs": [
    {
     "name": "stdout",
     "output_type": "stream",
     "text": [
      "[[0.45900351        nan]\n",
      " [       nan 0.00269743]]\n"
     ]
    },
    {
     "name": "stderr",
     "output_type": "stream",
     "text": [
      "/Users/kimzoldak/anaconda3/lib/python3.7/site-packages/ipykernel_launcher.py:1: RuntimeWarning: invalid value encountered in sqrt\n",
      "  \"\"\"Entry point for launching an IPython kernel.\n"
     ]
    }
   ],
   "source": [
    "SE_mat = np.sqrt(variance_beta)\n",
    "print(SE_mat)"
   ]
  },
  {
   "cell_type": "code",
   "execution_count": 27,
   "metadata": {},
   "outputs": [
    {
     "name": "stdout",
     "output_type": "stream",
     "text": [
      "[[0.45900351 0.00269743]]\n"
     ]
    }
   ],
   "source": [
    "# get rid of the nans\n",
    "standard_error = SE_mat[ ~np.isnan(SE_mat) ]\n",
    "print(standard_error)"
   ]
  },
  {
   "cell_type": "markdown",
   "metadata": {},
   "source": [
    "### Confidence Intervals\n",
    "$1\\sigma$, $2\\sigma$, and $3\\sigma$ confidence intervals are calculated using:\n",
    "\n",
    "$\\hat{\\beta_0} \\pm 1 \\ SE(\\hat{\\beta_0})$ \n",
    "\n",
    "$\\hat{\\beta_0} \\pm 2 \\ SE(\\hat{\\beta_0})$ \n",
    "\n",
    "$\\hat{\\beta_0} \\pm 3 \\ SE(\\hat{\\beta_0})$ \n",
    "\n",
    "and \n",
    "\n",
    "$\\hat{\\beta_1} \\pm 1 \\ SE(\\hat{\\beta_1})$ \n",
    "\n",
    "$\\hat{\\beta_1} \\pm 2 \\ SE(\\hat{\\beta_1})$ \n",
    "\n",
    "$\\hat{\\beta_1} \\pm 3 \\ SE(\\hat{\\beta_1})$ \n",
    "\n",
    "\n",
    "where 2 is the z-score for a 95% confidence interval. "
   ]
  },
  {
   "cell_type": "code",
   "execution_count": 28,
   "metadata": {},
   "outputs": [
    {
     "data": {
      "text/plain": [
       "matrix([[7.03259355],\n",
       "        [0.04753664]])"
      ]
     },
     "execution_count": 28,
     "metadata": {},
     "output_type": "execute_result"
    }
   ],
   "source": [
    "beta"
   ]
  },
  {
   "cell_type": "code",
   "execution_count": 29,
   "metadata": {},
   "outputs": [
    {
     "data": {
      "text/plain": [
       "(matrix([[6.57359004,        nan],\n",
       "         [       nan, 0.04483921]]), matrix([[7.49159706,        nan],\n",
       "         [       nan, 0.05023407]]), matrix([[6.11458653,        nan],\n",
       "         [       nan, 0.04214179]]), matrix([[7.95060056,        nan],\n",
       "         [       nan, 0.0529315 ]]), matrix([[5.65558303,        nan],\n",
       "         [       nan, 0.03944436]]), matrix([[8.40960407,        nan],\n",
       "         [       nan, 0.05562892]]))"
      ]
     },
     "execution_count": 29,
     "metadata": {},
     "output_type": "execute_result"
    }
   ],
   "source": [
    "beta - 1*SE_mat, beta + 1*SE_mat, \\\n",
    "beta - 2*SE_mat, beta + 2*SE_mat, \\\n",
    "beta - 3*SE_mat, beta + 3*SE_mat"
   ]
  },
  {
   "cell_type": "code",
   "execution_count": 30,
   "metadata": {},
   "outputs": [
    {
     "data": {
      "text/plain": [
       "matrix([[0.45900351, 0.00269743]])"
      ]
     },
     "execution_count": 30,
     "metadata": {},
     "output_type": "execute_result"
    }
   ],
   "source": [
    "standard_error"
   ]
  },
  {
   "cell_type": "code",
   "execution_count": 31,
   "metadata": {},
   "outputs": [
    {
     "data": {
      "text/plain": [
       "array([[7.03259355, 0.04753664]])"
      ]
     },
     "execution_count": 31,
     "metadata": {},
     "output_type": "execute_result"
    }
   ],
   "source": [
    "np.asarray(beta.flatten())"
   ]
  },
  {
   "cell_type": "code",
   "execution_count": 32,
   "metadata": {},
   "outputs": [
    {
     "data": {
      "text/plain": [
       "(matrix([[6.57359004, 0.04483921]]), matrix([[7.49159706, 0.05023407]]))"
      ]
     },
     "execution_count": 32,
     "metadata": {},
     "output_type": "execute_result"
    }
   ],
   "source": [
    "beta.flatten() - 1*standard_error, beta.flatten() + 1*standard_error"
   ]
  },
  {
   "cell_type": "code",
   "execution_count": 33,
   "metadata": {},
   "outputs": [
    {
     "data": {
      "text/plain": [
       "(matrix([[6.11458653, 0.04214179]]), matrix([[7.95060056, 0.0529315 ]]))"
      ]
     },
     "execution_count": 33,
     "metadata": {},
     "output_type": "execute_result"
    }
   ],
   "source": [
    "beta.flatten() - 2*standard_error, beta.flatten() + 2*standard_error"
   ]
  },
  {
   "cell_type": "code",
   "execution_count": 34,
   "metadata": {},
   "outputs": [
    {
     "data": {
      "text/plain": [
       "(matrix([[5.65558303, 0.03944436]]), matrix([[8.40960407, 0.05562892]]))"
      ]
     },
     "execution_count": 34,
     "metadata": {},
     "output_type": "execute_result"
    }
   ],
   "source": [
    "beta.flatten() - 3*standard_error, beta.flatten() + 3*standard_error"
   ]
  },
  {
   "cell_type": "markdown",
   "metadata": {},
   "source": [
    "### Residual Standard Error"
   ]
  },
  {
   "cell_type": "code",
   "execution_count": 35,
   "metadata": {},
   "outputs": [
    {
     "name": "stdout",
     "output_type": "stream",
     "text": [
      "3.258656368650462\n"
     ]
    }
   ],
   "source": [
    "RSE = np.sqrt(RSS/(N-2))\n",
    "print(RSE)"
   ]
  },
  {
   "cell_type": "markdown",
   "metadata": {},
   "source": [
    "### $R^2$ Statistic\n",
    "$R^2 = \\frac{TSS-RSS}{TSS} = 1-\\frac{RSS}{TSS}$,\n",
    "\n",
    "where\n",
    "\n",
    "$TSS = \\sum{(y_i - \\bar{y})^2}$ is the total sum of squares. TSS measures the total variance int he response Y, and can be thought of as the amount of variability inherent in the response before regression in performed. In contrast, RSS measures the amount of variability that is left unexplained after performing the regression. Hence, TSS-RSS measures the amount of variability in the response that is explained (or removed) by performing the regression, and $R^2$ measures the proportion of variability in Y that can be explained using X. An $R^2$ close to 1 indicates a large proportion of the variability in the response has been explained by the regression. A number near 0 indicates the regression did not explain much of the variability in the response. This may occur when the linear model is wrong, the inherent error $\\sigma^2$ is high, or both. "
   ]
  },
  {
   "cell_type": "code",
   "execution_count": 36,
   "metadata": {},
   "outputs": [],
   "source": [
    "TSS = np.sum((ydata - ydata.mean())**2)"
   ]
  },
  {
   "cell_type": "code",
   "execution_count": 37,
   "metadata": {},
   "outputs": [
    {
     "name": "stdout",
     "output_type": "stream",
     "text": [
      "0.6118750508500712\n"
     ]
    }
   ],
   "source": [
    "R_squared = 1-(RSS/TSS)\n",
    "print(R_squared)"
   ]
  },
  {
   "cell_type": "markdown",
   "metadata": {},
   "source": [
    "Just under 2/3rds of the variability in sales is explained by a linear regression on TV. "
   ]
  },
  {
   "cell_type": "markdown",
   "metadata": {},
   "source": [
    "### Adjusted $R^2$"
   ]
  },
  {
   "cell_type": "code",
   "execution_count": 38,
   "metadata": {},
   "outputs": [
    {
     "name": "stdout",
     "output_type": "stream",
     "text": [
      "0.6099148238341625\n"
     ]
    }
   ],
   "source": [
    "R_squared_adjusted = 1 - ( (RSS/(N-p)) / (TSS/(N-1)) )\n",
    "print(R_squared_adjusted)"
   ]
  },
  {
   "cell_type": "markdown",
   "metadata": {},
   "source": [
    "### Mean Squared Error"
   ]
  },
  {
   "cell_type": "code",
   "execution_count": 39,
   "metadata": {},
   "outputs": [
    {
     "name": "stdout",
     "output_type": "stream",
     "text": [
      "10.512652915656751\n"
     ]
    }
   ],
   "source": [
    "MSE = RSS/N\n",
    "print(MSE)"
   ]
  },
  {
   "cell_type": "markdown",
   "metadata": {},
   "source": [
    "### Root Mean Squared Error"
   ]
  },
  {
   "cell_type": "code",
   "execution_count": 40,
   "metadata": {},
   "outputs": [
    {
     "name": "stdout",
     "output_type": "stream",
     "text": [
      "3.242322148654688\n"
     ]
    }
   ],
   "source": [
    "RMSE = np.sqrt(RSS/N)\n",
    "print(RMSE)"
   ]
  },
  {
   "cell_type": "code",
   "execution_count": 41,
   "metadata": {},
   "outputs": [
    {
     "name": "stdout",
     "output_type": "stream",
     "text": [
      "3.242322148654688 3.242322148654688\n"
     ]
    }
   ],
   "source": [
    "# THESE SHOULD BE VERY CLOSE IF NOT EXACTLY THE SAME.\n",
    "print(RMSE, np.std(residuals))"
   ]
  },
  {
   "cell_type": "code",
   "execution_count": 42,
   "metadata": {},
   "outputs": [
    {
     "data": {
      "text/plain": [
       "True"
      ]
     },
     "execution_count": 42,
     "metadata": {},
     "output_type": "execute_result"
    }
   ],
   "source": [
    "RMSE == np.std(residuals)"
   ]
  },
  {
   "cell_type": "markdown",
   "metadata": {},
   "source": [
    "### t-statistic\n",
    "$t=\\frac{\\hat{\\beta_0}-0}{\\text{SE}(\\hat{\\beta_0})}$\n",
    "\n",
    "and \n",
    "\n",
    "$t=\\frac{\\hat{\\beta_1}-0}{\\text{SE}(\\hat{\\beta_1})}$"
   ]
  },
  {
   "cell_type": "code",
   "execution_count": 43,
   "metadata": {},
   "outputs": [],
   "source": [
    "SE_beta0 = np.asarray(standard_error)[0][0]\n",
    "SE_beta1 = np.asarray(standard_error)[0][1]\n",
    "\n",
    "beta0 = np.asarray(beta.flatten())[0][0]\n",
    "beta1 = np.asarray(beta.flatten())[0][1]\n"
   ]
  },
  {
   "cell_type": "code",
   "execution_count": 44,
   "metadata": {},
   "outputs": [
    {
     "name": "stdout",
     "output_type": "stream",
     "text": [
      "15.321437500906555\n"
     ]
    }
   ],
   "source": [
    "tstat_beta0 = (beta0 - 0)/(SE_beta0)\n",
    "print(tstat_beta0)"
   ]
  },
  {
   "cell_type": "code",
   "execution_count": 45,
   "metadata": {},
   "outputs": [
    {
     "name": "stdout",
     "output_type": "stream",
     "text": [
      "17.62295390966407\n"
     ]
    }
   ],
   "source": [
    "tstat_beta1 = (beta1 - 0)/(SE_beta1)\n",
    "print(tstat_beta1)"
   ]
  },
  {
   "cell_type": "markdown",
   "metadata": {},
   "source": [
    "### Common forms for the Log-Likelihood Equation of a Normal Distribution.\n",
    "\n",
    "${\\displaystyle \\log {\\Big (}{\\mathcal {L}}(\\mu ,\\sigma ){\\Big )}=-{\\frac {\\,n\\,}{2}}\\log(2\\pi \\sigma ^{2})-{\\frac {1}{2\\sigma ^{2}}}\\sum _{i=1}^{n}(\\,x_{i}-\\mu \\,)^{2}}$\n",
    "\n",
    "$\\ln(f) = -\\frac{1}{2} n \\ln(2 \\pi) - n\\ln \\sigma - \\frac{\\sum(x_i - \\mu)^2}{2\\sigma^2}$\n",
    "\n",
    "Unfortunately, these are confusing.\n",
    "\n",
    "The $(x_i - \\mu)^2$ appears to be the $ith$ element of the xdata and $\\mu$ the mean of that data. However, this is wrong!! \n",
    "\n",
    "$(x_i - \\mu)^2$ would be better written as $(y_i - \\hat{y_i})$.\n",
    "\n",
    "$y_i$ is the y-axis values of the real data.\n",
    "\n",
    "$\\hat{y_i}$ are the estimates of each $y_i$, given the linear model. \n",
    "\n",
    "Another confusing aspect of these equations; $\\sigma$ is NOT the sigma we have been using. $\\sigma$ is the standard deviation of the residuals; std($y_i - \\hat{y_i}$). Instead of using $\\sigma$, we will use $s$. \n",
    "\n",
    "We are trying to estimate the true model $f$ that produced the true datapoints ($x_i$, $y_i$). If we accurately estimate $f$ with no trend of overestimating or underestimating the dependent variable (i.e., no bias), then the differences between the true values and our estimates of them will be normally distributed about the model. Thus, ($y_i - \\hat{y_i}$) will be normally distributed about the linear model. \n",
    "\n",
    "($y_i - \\hat{y_i}$) are the vertical offsets between the model and the true data, since y is the dependent variable and the y-axis is the vertical axis. They are the fit residuals, or the errors of the fit. It should now make sense that $s=\\text{std}(y_i - \\hat{y_i}) = \\text{std}(residuals)$ is also the standard deviation of the normal distribution that the data ($x_i$, $y_i$) are scattered about the true model $f$. \n",
    "\n",
    "*NOTE: Taking a look at the linear fit to the data we use in this notebook example, there is clearly a bias and the residuals are NOT normally distributed about the model. We will discuss that at a later time when covering the topic of bias.*"
   ]
  },
  {
   "cell_type": "markdown",
   "metadata": {},
   "source": [
    "https://www.stat.cmu.edu/~cshalizi/mreg/15/lectures/06/lecture-06.pdf\n",
    "\n",
    "### Log-Likelihood Equation we will use:\n",
    "\n",
    "$\\log (f) = -\\frac{n}{2} \\log(2 \\pi) - n \\log(s) - \\frac{1}{2s^2}\\sum_{i=1}^{n} (y_i - (\\beta_0 + \\beta_1 x_i))^2$\n",
    "\n",
    "OR\n",
    "\n",
    "$\\log (f) = -\\frac{n}{2} \\log(2 \\pi s^2) - \\frac{1}{2s^2}\\sum_{i=1}^{n} (y_i - (\\beta_0 + \\beta_1 x_i))^2$\n",
    "\n",
    "Notice that $(\\beta_0 + \\beta_1 x_i)$ is $\\hat{y_i}$, the estimates of the ydata. \n",
    "\n",
    "Thus,\n",
    "\n",
    "$\\sum_{i=1}^{n} (y_i - (\\beta_0 + \\beta_1 x_i))^2 \\ \\ \\ = \\ \\ \\ \\sum_{i=1}^{n} (y_i - \\hat{y_i})^2$, \n",
    "\n",
    "which is the residual sum of squares, the $RSS$."
   ]
  },
  {
   "cell_type": "code",
   "execution_count": 46,
   "metadata": {},
   "outputs": [
    {
     "name": "stdout",
     "output_type": "stream",
     "text": [
      "-519.0456637681739\n"
     ]
    }
   ],
   "source": [
    "s = np.std(residuals)\n",
    "LOGLIKE = -0.5*N*np.log(2.0*np.pi*(s**2)) - (np.sum(residuals**2)/(2.0*(s**2)))\n",
    "print(LOGLIKE)"
   ]
  },
  {
   "cell_type": "markdown",
   "metadata": {},
   "source": [
    "### AIC and BIC"
   ]
  },
  {
   "cell_type": "code",
   "execution_count": 47,
   "metadata": {},
   "outputs": [
    {
     "name": "stdout",
     "output_type": "stream",
     "text": [
      "1042.0913275363478\n",
      "1048.687962269444\n"
     ]
    }
   ],
   "source": [
    "AIC = -2.* LOGLIKE + 2.*p\n",
    "print(AIC)\n",
    "BIC = -2.* LOGLIKE + np.log(N)*p\n",
    "print(BIC)"
   ]
  },
  {
   "cell_type": "code",
   "execution_count": null,
   "metadata": {},
   "outputs": [],
   "source": []
  },
  {
   "cell_type": "code",
   "execution_count": null,
   "metadata": {},
   "outputs": [],
   "source": []
  },
  {
   "cell_type": "markdown",
   "metadata": {},
   "source": [
    "[Projection Matrix](https://en.wikipedia.org/wiki/Projection_matrix)\n",
    "\n",
    "[Identity Matrix](https://en.wikipedia.org/wiki/Identity_matrix)"
   ]
  },
  {
   "cell_type": "markdown",
   "metadata": {},
   "source": [
    "${\\displaystyle \\mathbf {\\hat {y}} =\\mathbf {P} \\mathbf {y} }$"
   ]
  },
  {
   "cell_type": "markdown",
   "metadata": {},
   "source": [
    "$P = X(X^TX)^{−1}X^T$"
   ]
  },
  {
   "cell_type": "code",
   "execution_count": 48,
   "metadata": {},
   "outputs": [
    {
     "name": "stdout",
     "output_type": "stream",
     "text": [
      "[[ 0.00970307 -0.00080639 -0.00235223 ...  0.00669632  0.01273246\n",
      "   0.00981632]\n",
      " [-0.00080639  0.01216855  0.01407704 ...  0.00290573 -0.00454647\n",
      "  -0.00094621]\n",
      " [-0.00235223  0.01407704  0.01649363 ...  0.00234817 -0.00708804\n",
      "  -0.00252927]\n",
      " ...\n",
      " [ 0.00669632  0.00290573  0.00234817 ...  0.00561184  0.00778897\n",
      "   0.00673717]\n",
      " [ 0.01273246 -0.00454647 -0.00708804 ...  0.00778897  0.01771319\n",
      "   0.01291866]\n",
      " [ 0.00981632 -0.00094621 -0.00252927 ...  0.00673717  0.01291866\n",
      "   0.00993229]]\n"
     ]
    }
   ],
   "source": [
    "projection_matrix = (X*(X.T*X)**-1) * X.T\n",
    "print(projection_matrix)"
   ]
  },
  {
   "cell_type": "code",
   "execution_count": 49,
   "metadata": {},
   "outputs": [
    {
     "name": "stdout",
     "output_type": "stream",
     "text": [
      "[[1. 0. 0. ... 0. 0. 0.]\n",
      " [0. 1. 0. ... 0. 0. 0.]\n",
      " [0. 0. 1. ... 0. 0. 0.]\n",
      " ...\n",
      " [0. 0. 0. ... 1. 0. 0.]\n",
      " [0. 0. 0. ... 0. 1. 0.]\n",
      " [0. 0. 0. ... 0. 0. 1.]]\n"
     ]
    }
   ],
   "source": [
    "identity_matrix = np.identity(n=len(X))\n",
    "print(identity_matrix)"
   ]
  },
  {
   "cell_type": "code",
   "execution_count": 50,
   "metadata": {},
   "outputs": [
    {
     "name": "stdout",
     "output_type": "stream",
     "text": [
      "[[ 9.90296933e-01  8.06390241e-04  2.35223176e-03 ... -6.69632041e-03\n",
      "  -1.27324635e-02 -9.81631556e-03]\n",
      " [ 8.06390241e-04  9.87831451e-01 -1.40770397e-02 ... -2.90572873e-03\n",
      "   4.54647245e-03  9.46206398e-04]\n",
      " [ 2.35223176e-03 -1.40770397e-02  9.83506370e-01 ... -2.34816864e-03\n",
      "   7.08804007e-03  2.52927132e-03]\n",
      " ...\n",
      " [-6.69632041e-03 -2.90572873e-03 -2.34816864e-03 ...  9.94388165e-01\n",
      "  -7.78897480e-03 -6.73716730e-03]\n",
      " [-1.27324635e-02  4.54647245e-03  7.08804007e-03 ... -7.78897480e-03\n",
      "   9.82286809e-01 -1.29186589e-02]\n",
      " [-9.81631556e-03  9.46206398e-04  2.52927132e-03 ... -6.73716730e-03\n",
      "  -1.29186589e-02  9.90067709e-01]]\n"
     ]
    }
   ],
   "source": [
    "residual_maker_matrix = identity_matrix - projection_matrix\n",
    "print(residual_maker_matrix)"
   ]
  },
  {
   "cell_type": "markdown",
   "metadata": {},
   "source": [
    "M is the \"residual maker matrix\"\n",
    "\n",
    "M = I − P  \n",
    "\n",
    "I is the identity matrix and P is the projection matrix. Puts a hat onto y."
   ]
  },
  {
   "cell_type": "code",
   "execution_count": 51,
   "metadata": {},
   "outputs": [
    {
     "name": "stdout",
     "output_type": "stream",
     "text": [
      "[[10.61884133]]\n",
      "10.618841328946214\n"
     ]
    }
   ],
   "source": [
    "N,p = X.shape\n",
    "M = residual_maker_matrix\n",
    "s_squared = (np.vstack(y).T * M * np.vstack(y))/(N-p)\n",
    "\n",
    "print(s_squared)  # appears to be same as RSS/(n-p)\n",
    "\n",
    "print(RSS/(N-p))"
   ]
  },
  {
   "cell_type": "code",
   "execution_count": null,
   "metadata": {},
   "outputs": [],
   "source": []
  }
 ],
 "metadata": {
  "kernelspec": {
   "display_name": "Python 3",
   "language": "python",
   "name": "python3"
  },
  "language_info": {
   "codemirror_mode": {
    "name": "ipython",
    "version": 3
   },
   "file_extension": ".py",
   "mimetype": "text/x-python",
   "name": "python",
   "nbconvert_exporter": "python",
   "pygments_lexer": "ipython3",
   "version": "3.7.0"
  }
 },
 "nbformat": 4,
 "nbformat_minor": 2
}
