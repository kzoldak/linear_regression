{
 "cells": [
  {
   "cell_type": "markdown",
   "metadata": {},
   "source": [
    "`np.einsum`\n",
    "\n",
    "`np.cov(x, y, ddof=1)`\n",
    "\n",
    "`np.linalg.inv(np.dot(X.T, X))`"
   ]
  },
  {
   "cell_type": "raw",
   "metadata": {},
   "source": [
    "ll = -0.5*np.einsum(\"n...i,nij,n...j\", r, Sinv, r)"
   ]
  },
  {
   "cell_type": "code",
   "execution_count": 1,
   "metadata": {},
   "outputs": [],
   "source": [
    "import numpy as np"
   ]
  },
  {
   "cell_type": "markdown",
   "metadata": {},
   "source": [
    "# Inverse of a matrix, M$^{-1}$"
   ]
  },
  {
   "cell_type": "markdown",
   "metadata": {},
   "source": [
    "```\n",
    "np.linalg.inv(a)\n",
    "\n",
    "\n",
    "\n",
    "Compute the (multiplicative) inverse of a matrix.\n",
    "\n",
    "Given a square matrix `a`, return the matrix `ainv` satisfying\n",
    "``dot(a, ainv) = dot(ainv, a) = eye(a.shape[0])``.\n",
    "\n",
    "Parameters\n",
    "----------\n",
    "a : (..., M, M) array_like\n",
    "    Matrix to be inverted.\n",
    "\n",
    "Returns\n",
    "-------\n",
    "ainv : (..., M, M) ndarray or matrix\n",
    "    (Multiplicative) inverse of the matrix `a`.\n",
    "    \n",
    "```"
   ]
  },
  {
   "cell_type": "code",
   "execution_count": 62,
   "metadata": {},
   "outputs": [
    {
     "data": {
      "text/plain": [
       "matrix([[4, 7],\n",
       "        [2, 6]])"
      ]
     },
     "execution_count": 62,
     "metadata": {},
     "output_type": "execute_result"
    }
   ],
   "source": [
    "M = np.matrix([[4,7],[2,6]])\n",
    "M"
   ]
  },
  {
   "cell_type": "markdown",
   "metadata": {},
   "source": [
    "This is not the inverse of a matrix:"
   ]
  },
  {
   "cell_type": "code",
   "execution_count": 63,
   "metadata": {},
   "outputs": [
    {
     "data": {
      "text/plain": [
       "matrix([[0.25      , 0.14285714],\n",
       "        [0.5       , 0.16666667]])"
      ]
     },
     "execution_count": 63,
     "metadata": {},
     "output_type": "execute_result"
    }
   ],
   "source": [
    "1./M"
   ]
  },
  {
   "cell_type": "markdown",
   "metadata": {},
   "source": [
    "This is:"
   ]
  },
  {
   "cell_type": "code",
   "execution_count": 64,
   "metadata": {},
   "outputs": [
    {
     "data": {
      "text/plain": [
       "matrix([[ 0.6, -0.7],\n",
       "        [-0.2,  0.4]])"
      ]
     },
     "execution_count": 64,
     "metadata": {},
     "output_type": "execute_result"
    }
   ],
   "source": [
    "M**-1"
   ]
  },
  {
   "cell_type": "markdown",
   "metadata": {},
   "source": [
    "So is this:"
   ]
  },
  {
   "cell_type": "code",
   "execution_count": 65,
   "metadata": {},
   "outputs": [
    {
     "data": {
      "text/plain": [
       "matrix([[ 0.6, -0.7],\n",
       "        [-0.2,  0.4]])"
      ]
     },
     "execution_count": 65,
     "metadata": {},
     "output_type": "execute_result"
    }
   ],
   "source": [
    "np.linalg.inv(M)"
   ]
  },
  {
   "cell_type": "code",
   "execution_count": null,
   "metadata": {},
   "outputs": [],
   "source": []
  }
 ],
 "metadata": {
  "kernelspec": {
   "display_name": "Python 3",
   "language": "python",
   "name": "python3"
  },
  "language_info": {
   "codemirror_mode": {
    "name": "ipython",
    "version": 3
   },
   "file_extension": ".py",
   "mimetype": "text/x-python",
   "name": "python",
   "nbconvert_exporter": "python",
   "pygments_lexer": "ipython3",
   "version": "3.7.0"
  }
 },
 "nbformat": 4,
 "nbformat_minor": 2
}
