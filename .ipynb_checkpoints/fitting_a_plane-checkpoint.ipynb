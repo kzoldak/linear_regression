{
 "cells": [
  {
   "cell_type": "markdown",
   "metadata": {},
   "source": [
    "This example:\n",
    "https://dfm.io/posts/fitting-a-plane/"
   ]
  },
  {
   "cell_type": "code",
   "execution_count": 14,
   "metadata": {},
   "outputs": [],
   "source": [
    "import numpy as np\n",
    "import matplotlib.pyplot as plt\n",
    "from matplotlib.patches import Ellipse\n",
    "\n",
    "import emcee\n",
    "import corner"
   ]
  },
  {
   "cell_type": "code",
   "execution_count": 17,
   "metadata": {},
   "outputs": [],
   "source": [
    "# A helper function to make the plots with error ellipses\n",
    "def plot_error_ellipses(ax, X, S, color=\"k\"):\n",
    "    for n in range(len(X)):\n",
    "        vals, vecs = np.linalg.eig(S[n])\n",
    "        theta = np.degrees(np.arctan2(*vecs[::-1, 0]))\n",
    "        w, h = 2 * np.sqrt(vals)\n",
    "        ell = Ellipse(xy=X[n], width=w, height=h,\n",
    "                      angle=theta, color=color, lw=0.5)\n",
    "        ell.set_facecolor(\"none\")\n",
    "        ax.add_artist(ell)\n",
    "    ax.plot(X[:, 0], X[:, 1], \".\", color=color, ms=4)"
   ]
  },
  {
   "cell_type": "markdown",
   "metadata": {},
   "source": [
    "# Make Data to use"
   ]
  },
  {
   "cell_type": "code",
   "execution_count": 19,
   "metadata": {},
   "outputs": [],
   "source": [
    "# Reproducible!\n",
    "np.random.seed(42)\n",
    "\n",
    "# Generate the true coordinates of the data points.\n",
    "N = 10\n",
    "m_true = 1.2\n",
    "b_true = -0.1\n",
    "X_true = np.empty((N, 2))\n",
    "X_true[:, 0] = np.random.uniform(0, 10, N)      # xdata\n",
    "X_true[:, 1] = m_true * X_true[:, 0] + b_true   # ydata\n",
    "X = np.empty((N, 2))"
   ]
  },
  {
   "cell_type": "code",
   "execution_count": 20,
   "metadata": {},
   "outputs": [
    {
     "data": {
      "text/plain": [
       "array([[ 3.74540119,  4.39448143],\n",
       "       [ 9.50714306, 11.30857168],\n",
       "       [ 7.31993942,  8.6839273 ],\n",
       "       [ 5.98658484,  7.08390181],\n",
       "       [ 1.5601864 ,  1.77222369],\n",
       "       [ 1.5599452 ,  1.77193424],\n",
       "       [ 0.58083612,  0.59700335],\n",
       "       [ 8.66176146, 10.29411375],\n",
       "       [ 6.01115012,  7.11338014],\n",
       "       [ 7.08072578,  8.39687093]])"
      ]
     },
     "execution_count": 20,
     "metadata": {},
     "output_type": "execute_result"
    }
   ],
   "source": [
    "X_true"
   ]
  },
  {
   "cell_type": "code",
   "execution_count": 21,
   "metadata": {},
   "outputs": [
    {
     "data": {
      "text/plain": [
       "array([3.74540119, 9.50714306, 7.31993942, 5.98658484, 1.5601864 ,\n",
       "       1.5599452 , 0.58083612, 8.66176146, 6.01115012, 7.08072578])"
      ]
     },
     "execution_count": 21,
     "metadata": {},
     "output_type": "execute_result"
    }
   ],
   "source": [
    "X_true[:, 0]"
   ]
  },
  {
   "cell_type": "raw",
   "metadata": {},
   "source": [
    "np.random.uniform\n",
    "uniform(low=0.0, high=1.0, size=None)\n",
    "Draw samples from a uniform distribution.\n",
    "\n",
    "\n",
    "np.random.randn()\n",
    "randn(d0, d1, ..., dn)\n",
    "Return a sample (or samples) from the \"standard normal\" distribution."
   ]
  },
  {
   "cell_type": "code",
   "execution_count": 22,
   "metadata": {},
   "outputs": [],
   "source": [
    "# Generate error ellipses and add uncertainties to each point.\n",
    "S = np.zeros((N, 2, 2))\n",
    "for n in range(N):\n",
    "    L = np.zeros((2, 2))\n",
    "    # Draw samples from a uniform distribution.\n",
    "    L[0, 0] = np.exp(np.random.uniform(-1, 1))  \n",
    "    L[1, 1] = np.exp(np.random.uniform(-1, 1))  \n",
    "    # np.random.randn: return a sample (or samples) from the “standard normal” distribution.\n",
    "    L[1, 0] = 0.5 * np.random.randn()\n",
    "    # Sn is the uncertainty tensor of the n-th data point:\n",
    "    S[n] = np.dot(L, L.T)  # Dot product of two arrays. \n",
    "    X[n] = np.random.multivariate_normal(X_true[n], S[n])"
   ]
  },
  {
   "cell_type": "raw",
   "metadata": {},
   "source": [
    "X_true[:, 0]  # xdata\n",
    "X_true[:, 1]  # ydata"
   ]
  },
  {
   "cell_type": "code",
   "execution_count": 26,
   "metadata": {},
   "outputs": [
    {
     "data": {
      "text/plain": [
       "array([[ 0.14695013, -0.08998433],\n",
       "       [-0.08998433,  6.6062437 ]])"
      ]
     },
     "execution_count": 26,
     "metadata": {},
     "output_type": "execute_result"
    }
   ],
   "source": [
    "S[0]"
   ]
  },
  {
   "cell_type": "code",
   "execution_count": 27,
   "metadata": {},
   "outputs": [
    {
     "data": {
      "text/plain": [
       "array([[0.22050232, 0.43489338],\n",
       "       [0.43489338, 1.83862617]])"
      ]
     },
     "execution_count": 27,
     "metadata": {},
     "output_type": "execute_result"
    }
   ],
   "source": [
    "S[5]"
   ]
  },
  {
   "cell_type": "markdown",
   "metadata": {},
   "source": [
    "### S[n] is the uncertainty tensor of the nth data point"
   ]
  },
  {
   "cell_type": "code",
   "execution_count": 28,
   "metadata": {},
   "outputs": [
    {
     "data": {
      "text/plain": [
       "(10, 2, 2)"
      ]
     },
     "execution_count": 28,
     "metadata": {},
     "output_type": "execute_result"
    }
   ],
   "source": [
    "S.shape"
   ]
  },
  {
   "cell_type": "code",
   "execution_count": 29,
   "metadata": {},
   "outputs": [
    {
     "data": {
      "text/plain": [
       "array([[[ 0.14695013, -0.08998433],\n",
       "        [-0.08998433,  6.6062437 ]],\n",
       "\n",
       "       [[ 0.45701867, -0.15742401],\n",
       "        [-0.15742401,  1.15832075]],\n",
       "\n",
       "       [[ 1.56425798, -0.56783422],\n",
       "        [-0.56783422,  0.4425755 ]],\n",
       "\n",
       "       [[ 0.30080145, -0.06191392],\n",
       "        [-0.06191392,  1.07133365]],\n",
       "\n",
       "       [[ 1.53753334, -0.37238792],\n",
       "        [-0.37238792,  0.35788765]],\n",
       "\n",
       "       [[ 0.22050232,  0.43489338],\n",
       "        [ 0.43489338,  1.83862617]],\n",
       "\n",
       "       [[ 0.47087826, -0.45570442],\n",
       "        [-0.45570442,  1.5246014 ]],\n",
       "\n",
       "       [[ 0.19281386,  0.0376244 ],\n",
       "        [ 0.0376244 ,  0.30373491]],\n",
       "\n",
       "       [[ 0.64063793, -0.18434731],\n",
       "        [-0.18434731,  0.45372233]],\n",
       "\n",
       "       [[ 0.23780528, -0.42987576],\n",
       "        [-0.42987576,  4.12650008]]])"
      ]
     },
     "execution_count": 29,
     "metadata": {},
     "output_type": "execute_result"
    }
   ],
   "source": [
    "S"
   ]
  },
  {
   "cell_type": "raw",
   "metadata": {},
   "source": [
    "X_true[:, 0]  # xdata\n",
    "X_true[:, 1]  # ydata"
   ]
  },
  {
   "cell_type": "markdown",
   "metadata": {},
   "source": [
    "$S_n = \n",
    "\\left(\n",
    "\\begin{matrix} \n",
    "\\sigma_{x,n}^2 & \\sigma_{xy,n} \\\\\n",
    "\\sigma_{xy,n} & \\sigma_{y,n}^2 \n",
    "\\end{matrix}\n",
    "\\right)$\n",
    "\n",
    "`S[0, 0, 0]` is $\\sigma_{x,n}^2$ for `n=0` (top left)\n",
    "\n",
    "`S[0, 0, 1]` is $\\sigma_{xy,n}$ for `n=0`  (top right)\n",
    "\n",
    "`S[0, 1, 0]` is $\\sigma_{xy,n}$ for `n=0` (bottom left)\n",
    "\n",
    "`S[0, 1, 1]` is $\\sigma_{y,n}^2$ for `n=0` (bottom right)\n",
    "\n",
    "Format is: `S[nth, row, col]`\n",
    "\n",
    "Therefore the errors on the ($x_n$, $y_n$) data points are the square root of the diagonals of each nth element. "
   ]
  },
  {
   "cell_type": "code",
   "execution_count": 30,
   "metadata": {},
   "outputs": [
    {
     "data": {
      "text/plain": [
       "(0.14695012686205156,\n",
       " -0.08998433045735406,\n",
       " -0.08998433045735406,\n",
       " 6.6062437007868615)"
      ]
     },
     "execution_count": 30,
     "metadata": {},
     "output_type": "execute_result"
    }
   ],
   "source": [
    "n = 0\n",
    "(S[n, 0, 0],\n",
    " S[n, 0, 1],\n",
    " S[n, 1, 0],\n",
    " S[n, 1, 1])"
   ]
  },
  {
   "cell_type": "code",
   "execution_count": 33,
   "metadata": {},
   "outputs": [
    {
     "name": "stdout",
     "output_type": "stream",
     "text": [
      "[0.38334075 0.67603156 1.250703   0.54845369 1.23997312 0.46957675\n",
      " 0.6862057  0.43910575 0.8003986  0.48765283]\n",
      "[2.57026141 1.07625311 0.66526348 1.03505249 0.59823712 1.3559595\n",
      " 1.2347475  0.5511215  0.67358914 2.03137886]\n"
     ]
    }
   ],
   "source": [
    "# Uncertainties in the x- and y- directions are then the \n",
    "#   sqrt of the diagonal terms of each nth element.\n",
    "err = np.asarray([[np.sqrt(i) for i in np.diagonal(S[n])] for n in range(len(S))])\n",
    "print(err[:,0])  # all x-direction errors\n",
    "print(err[:,1])  # all y-direction errors"
   ]
  },
  {
   "cell_type": "code",
   "execution_count": 34,
   "metadata": {},
   "outputs": [
    {
     "data": {
      "text/plain": [
       "<matplotlib.collections.PathCollection at 0x11b157fd0>"
      ]
     },
     "execution_count": 34,
     "metadata": {},
     "output_type": "execute_result"
    },
    {
     "data": {
      "image/png": "[encoded data removed]",
      "text/plain": [
       "<Figure size 432x288 with 1 Axes>"
      ]
     },
     "metadata": {
      "needs_background": "light"
     },
     "output_type": "display_data"
    }
   ],
   "source": [
    "plt.scatter(err[:,0], err[:,1])"
   ]
  },
  {
   "cell_type": "code",
   "execution_count": 35,
   "metadata": {},
   "outputs": [
    {
     "data": {
      "text/plain": [
       "[<matplotlib.lines.Line2D at 0x11ba63748>]"
      ]
     },
     "execution_count": 35,
     "metadata": {},
     "output_type": "execute_result"
    },
    {
     "data": {
      "image/png": "[encoded data removed]",
      "text/plain": [
       "<Figure size 432x288 with 1 Axes>"
      ]
     },
     "metadata": {
      "needs_background": "light"
     },
     "output_type": "display_data"
    }
   ],
   "source": [
    "plt.plot(err[:,0], 'o')"
   ]
  },
  {
   "cell_type": "code",
   "execution_count": 36,
   "metadata": {},
   "outputs": [
    {
     "data": {
      "text/plain": [
       "[<matplotlib.lines.Line2D at 0x1a1fcc40f0>]"
      ]
     },
     "execution_count": 36,
     "metadata": {},
     "output_type": "execute_result"
    },
    {
     "data": {
      "image/png": "[encoded data removed]",
      "text/plain": [
       "<Figure size 432x288 with 1 Axes>"
      ]
     },
     "metadata": {
      "needs_background": "light"
     },
     "output_type": "display_data"
    }
   ],
   "source": [
    "plt.plot(err[:,1], 'o')"
   ]
  },
  {
   "cell_type": "markdown",
   "metadata": {},
   "source": [
    "### plotting error bars in the traditional sense:"
   ]
  },
  {
   "cell_type": "code",
   "execution_count": 37,
   "metadata": {},
   "outputs": [
    {
     "data": {
      "image/png": "[encoded data removed]",
      "text/plain": [
       "<Figure size 504x504 with 1 Axes>"
      ]
     },
     "metadata": {
      "needs_background": "light"
     },
     "output_type": "display_data"
    }
   ],
   "source": [
    "# Plot the simulated dataset.\n",
    "fig, ax = plt.subplots(1, 1, figsize=(7,7))\n",
    "err = np.asarray([[np.sqrt(i) for i in np.diagonal(S[n])] for n in range(len(S))])\n",
    "plt.errorbar(X[:, 0], X[:, 1], \n",
    "             xerr=err[:,0],\n",
    "             yerr=err[:,1],\n",
    "             fmt='o') \n",
    "ax.set_xlim(-2, 12)\n",
    "ax.set_ylim(-2, 12)\n",
    "ax.set_xlabel(\"x\")\n",
    "ax.set_ylabel(\"y\");"
   ]
  },
  {
   "cell_type": "markdown",
   "metadata": {},
   "source": [
    "### Now with the ellipses"
   ]
  },
  {
   "cell_type": "code",
   "execution_count": 38,
   "metadata": {},
   "outputs": [
    {
     "data": {
      "image/png": "[encoded data removed]",
      "text/plain": [
       "<Figure size 648x648 with 1 Axes>"
      ]
     },
     "metadata": {
      "needs_background": "light"
     },
     "output_type": "display_data"
    }
   ],
   "source": [
    "# Plot the simulated dataset.\n",
    "fig, ax = plt.subplots(1, 1, figsize=(9, 9))\n",
    "x0 = np.array([-2, 12])\n",
    "ax.plot(x0, m_true*x0 + b_true, lw=1)\n",
    "plot_error_ellipses(ax, X, S)\n",
    "err = np.asarray([[np.sqrt(i) for i in np.diagonal(S[n])] for n in range(len(S))])\n",
    "plt.errorbar(X[:, 0], X[:, 1], \n",
    "             xerr=err[:,0],\n",
    "             yerr=err[:,1],\n",
    "             fmt='o', color='blue') \n",
    "ax.set_xlim(-2, 12)\n",
    "ax.set_ylim(-2, 12)\n",
    "ax.set_xlabel(\"x\")\n",
    "ax.set_ylabel(\"y\");"
   ]
  },
  {
   "cell_type": "markdown",
   "metadata": {},
   "source": [
    "Notice these errors are symmetric in their respective directions. For simplicity, we may want to do the same in our work. Take the average of the lower and upper uncertainties. "
   ]
  },
  {
   "cell_type": "code",
   "execution_count": 39,
   "metadata": {},
   "outputs": [],
   "source": [
    "def log_prior(params):\n",
    "    m = params[0]\n",
    "    return -1.5 * np.log(1 + m*m)\n",
    "\n",
    "# Pre-compute the inverses for speed.\n",
    "Sinv = np.array([np.linalg.inv(Sn) for Sn in S])\n",
    "\n",
    "def log_prob_naive(params):\n",
    "    # Compute the \"true\" model predictions.\n",
    "    m, b = params[:2]\n",
    "    xhat = params[2:]\n",
    "    yhat = m * xhat + b\n",
    "    \n",
    "    # Compute the residuals.\n",
    "    r = np.array(X)\n",
    "    r[:, 0] -= xhat\n",
    "    r[:, 1] -= yhat\n",
    "    \n",
    "    # Use some numpy magic to compute the likelihood (up to a constant).\n",
    "    ll = -0.5*np.einsum(\"n...i,nij,n...j\", r, Sinv, r)\n",
    "    \n",
    "    return ll + log_prior(params)"
   ]
  },
  {
   "cell_type": "code",
   "execution_count": 43,
   "metadata": {},
   "outputs": [],
   "source": [
    "xhat0 = np.array(X[:, 0])"
   ]
  },
  {
   "cell_type": "code",
   "execution_count": 45,
   "metadata": {},
   "outputs": [
    {
     "data": {
      "text/plain": [
       "(10,)"
      ]
     },
     "execution_count": 45,
     "metadata": {},
     "output_type": "execute_result"
    }
   ],
   "source": [
    "xhat0.shape"
   ]
  },
  {
   "cell_type": "code",
   "execution_count": 40,
   "metadata": {},
   "outputs": [
    {
     "name": "stderr",
     "output_type": "stream",
     "text": [
      "/Users/kimzoldak/anaconda3/lib/python3.7/site-packages/emcee/ensemble.py:258: RuntimeWarning: Initial state is not linearly independent and it will not allow a full exploration of parameter space\n",
      "  category=RuntimeWarning,\n"
     ]
    }
   ],
   "source": [
    "# emcee \n",
    "\n",
    "nwalkers = 64\n",
    "xhat0 = np.array(X[:, 0])\n",
    "p0 = np.append([m_true, b_true], xhat0)\n",
    "p0 = p0 + 1e-4 * np.random.randn(nwalkers, len(p0))\n",
    "\n",
    "sampler_naive = emcee.EnsembleSampler(nwalkers, p0.shape[1], log_prob_naive)\n",
    "pos, _, _ = sampler_naive.run_mcmc(p0, 5000)\n",
    "sampler_naive.reset()\n",
    "sampler_naive.run_mcmc(pos, 10000)\n",
    "samples_naive = sampler_naive.flatchain[:, :2]\n"
   ]
  },
  {
   "cell_type": "code",
   "execution_count": 41,
   "metadata": {},
   "outputs": [
    {
     "name": "stdout",
     "output_type": "stream",
     "text": [
      "4613 independent samples of m\n",
      "4809 independent samples of b\n"
     ]
    }
   ],
   "source": [
    "tau = sampler_naive.get_autocorr_time(c=4)\n",
    "nsamples = len(samples_naive)\n",
    "print(\"{0:.0f} independent samples of m\".format(nsamples / tau[0]))\n",
    "print(\"{0:.0f} independent samples of b\".format(nsamples / tau[1]))"
   ]
  },
  {
   "cell_type": "code",
   "execution_count": 42,
   "metadata": {},
   "outputs": [
    {
     "data": {
      "text/plain": [
       "(640000, 2)"
      ]
     },
     "execution_count": 42,
     "metadata": {},
     "output_type": "execute_result"
    }
   ],
   "source": [
    "samples_naive.shape"
   ]
  },
  {
   "cell_type": "code",
   "execution_count": null,
   "metadata": {},
   "outputs": [],
   "source": [
    "m_mcmc, b_mcmc = map(lambda v: (v[1], v[2]-v[1], v[1]-v[0]), zip(*np.percentile(samples_naive, \n",
    "                                                                                [16, 50, 84], \n",
    "                                                                                axis=0)))\n",
    "\n",
    "m_mcmc, b_mcmc"
   ]
  },
  {
   "cell_type": "raw",
   "metadata": {},
   "source": [
    "((1.2351689977333726, 0.14847961499571039, 0.13215013062627112),\n",
    " (-0.7235439294077207, 0.8453771665087908, 0.8737772397438454))"
   ]
  },
  {
   "cell_type": "markdown",
   "metadata": {},
   "source": [
    "### Corner plot"
   ]
  },
  {
   "cell_type": "code",
   "execution_count": null,
   "metadata": {},
   "outputs": [],
   "source": [
    "m_true, b_true"
   ]
  },
  {
   "cell_type": "code",
   "execution_count": null,
   "metadata": {},
   "outputs": [],
   "source": [
    "\n",
    "rng = [(x.min(), x.max()) for x in samples_naive.T]\n",
    "corner.corner(samples_naive, labels=[\"m\", \"b\"], truths=[m_true, b_true],\n",
    "              range=rng);"
   ]
  },
  {
   "cell_type": "code",
   "execution_count": null,
   "metadata": {},
   "outputs": [],
   "source": [
    "def log_marg_prob(params):\n",
    "    m, b = params\n",
    "    v = np.array([-m, 1.0])\n",
    "    \n",
    "    # Compute \\Sigma^2 and \\Delta.\n",
    "    # You can probably convince yourself that this formulation of\n",
    "    # \\Sigma^2 is equivalent to the one in the text.\n",
    "    Sigma2 = np.dot(np.dot(S, v), v)\n",
    "    Delta = m * X[:, 0] + b - X[:, 1]\n",
    "    \n",
    "    # Compute the log likelihood up to a constant (zero, oops...).\n",
    "    ll = -0.5 * np.sum(Delta**2 / Sigma2 + np.log(Sigma2))\n",
    "    return ll + log_prior(params)"
   ]
  },
  {
   "cell_type": "code",
   "execution_count": null,
   "metadata": {},
   "outputs": [],
   "source": [
    "# Run the MCMC with the same initialization as above.\n",
    "sampler_marg = emcee.EnsembleSampler(nwalkers, 2, log_marg_prob)\n",
    "pos, _, _ = sampler_marg.run_mcmc(p0[:, :2], 100)"
   ]
  },
  {
   "cell_type": "code",
   "execution_count": null,
   "metadata": {},
   "outputs": [],
   "source": [
    "sampler_marg.reset()\n",
    "sampler_marg.run_mcmc(pos, 10000)\n",
    "samples_marg = sampler_marg.flatchain"
   ]
  },
  {
   "cell_type": "code",
   "execution_count": null,
   "metadata": {},
   "outputs": [],
   "source": [
    "samples_marg.shape"
   ]
  },
  {
   "cell_type": "code",
   "execution_count": null,
   "metadata": {},
   "outputs": [],
   "source": [
    "tau = sampler_marg.get_autocorr_time(c=4)\n",
    "nsamples = len(samples_marg)\n",
    "print(\"{0:.0f} independent samples of m\".format(nsamples / tau[0]))\n",
    "print(\"{0:.0f} independent samples of b\".format(nsamples / tau[1]))"
   ]
  },
  {
   "cell_type": "code",
   "execution_count": null,
   "metadata": {},
   "outputs": [],
   "source": [
    "m_mcmc, b_mcmc = map(lambda v: (v[1], v[2]-v[1], v[1]-v[0]), zip(*np.percentile(samples_naive, \n",
    "                                                                                [16, 50, 84], \n",
    "                                                                                axis=0)))\n",
    "\n",
    "m_mcmc, b_mcmc"
   ]
  },
  {
   "cell_type": "code",
   "execution_count": null,
   "metadata": {},
   "outputs": [],
   "source": [
    "# Plot the posterior constraints for the naive sampling.\n",
    "fig = corner.corner(samples_naive, labels=[\"m\", \"b\"], truths=[m_true, b_true],\n",
    "                    range=rng)\n",
    "\n",
    "# Plot the constraints from the marginalized sampling.\n",
    "# We need to re-weight the samples because we didn't need to run\n",
    "# as many steps to converge in 2 dimensions as we did in 12.\n",
    "w = len(samples_naive) / len(samples_marg) + np.zeros(len(samples_marg))\n",
    "corner.corner(samples_marg, range=rng, color=\"g\", fig=fig, weights=w);"
   ]
  },
  {
   "cell_type": "code",
   "execution_count": null,
   "metadata": {},
   "outputs": [],
   "source": [
    "fig, ax = plt.subplots(1, 1, figsize=(5, 5))\n",
    "x0 = np.array([-2, 12])\n",
    "\n",
    "# Plot posterior predictions for a few samples.\n",
    "for m, b in samples_marg[np.random.randint(len(samples_marg), size=100)]:\n",
    "    ax.plot(x0, m*x0 + b, lw=1, alpha=0.1, color=\"g\")\n",
    "    \n",
    "ax.plot(x0, m_true*x0 + b_true, \"k\", lw=2)\n",
    "plot_error_ellipses(ax, X, S)\n",
    "ax.set_xlim(-2, 12)\n",
    "ax.set_ylim(-2, 12)\n",
    "ax.set_xlabel(\"x\")\n",
    "ax.set_ylabel(\"y\");"
   ]
  },
  {
   "cell_type": "code",
   "execution_count": null,
   "metadata": {},
   "outputs": [],
   "source": [
    "# Reproducible!\n",
    "np.random.seed(42)\n",
    "\n",
    "# Add some scatter perpendicular to the line.\n",
    "lambda_true = 2.0\n",
    "X_scatter = np.array(X)\n",
    "X_scatter[:, 1] += lambda_true * np.random.randn(N)\n",
    "\n",
    "# Plot the updated dataset.\n",
    "fig, ax = plt.subplots(1, 1, figsize=(5, 5))\n",
    "x0 = np.array([-2, 12])\n",
    "ax.plot(x0, m_true*x0 + b_true, lw=1)\n",
    "plot_error_ellipses(ax, X_scatter, S)\n",
    "\n",
    "# Plot the displacement vectors.\n",
    "for n in range(N):\n",
    "    ax.plot([X[n, 0], X_scatter[n, 0]],\n",
    "            [X[n, 1], X_scatter[n, 1]],\n",
    "            \"k\", lw=0.5)\n",
    "\n",
    "ax.set_xlim(-2, 12)\n",
    "ax.set_ylim(-2, 12)\n",
    "ax.set_xlabel(\"x\")\n",
    "ax.set_ylabel(\"y\");"
   ]
  },
  {
   "cell_type": "code",
   "execution_count": null,
   "metadata": {},
   "outputs": [],
   "source": [
    "def log_marg_prob_scatter(params):\n",
    "    m, b, log_lambda = params\n",
    "    v = np.array([-m, 1.0])\n",
    "    \n",
    "    # Enforce the log-uniform prior on lambda. \n",
    "    if not -5.0 < log_lambda < 5.0:\n",
    "        return -np.inf\n",
    "        \n",
    "    # Compute \\Sigma^2 and \\Delta.\n",
    "    Sigma2 = np.dot(np.dot(S, v), v) + np.exp(2*log_lambda)\n",
    "    Delta = m * X_scatter[:, 0] + b - X_scatter[:, 1]\n",
    "    \n",
    "    # Compute the log likelihood up to a constant.\n",
    "    ll = -0.5 * np.sum(Delta**2 / Sigma2 + np.log(Sigma2))\n",
    "    return ll + log_prior(params)\n",
    "\n",
    "# Run the MCMC.\n",
    "sampler_scatter = emcee.EnsembleSampler(nwalkers, 3, log_marg_prob_scatter)\n",
    "p0 = np.array([m_true, b_true, np.log(lambda_true)])\n",
    "p0 = p0 + 1e-4 * np.random.randn(nwalkers, len(p0))\n",
    "pos, _, _ = sampler_scatter.run_mcmc(p0, 1000)\n",
    "sampler_scatter.reset()\n",
    "sampler_scatter.run_mcmc(pos, 6000)\n",
    "samples_scatter = sampler_scatter.flatchain\n",
    "\n",
    "tau = sampler_scatter.get_autocorr_time(c=4)\n",
    "nsamples = len(samples_scatter)\n",
    "print(\"{0:.0f} independent samples of m\".format(nsamples / tau[0]))\n",
    "print(\"{0:.0f} independent samples of b\".format(nsamples / tau[1]))\n",
    "print(\"{0:.0f} independent samples of lambda\".format(nsamples / tau[2]))\n",
    "\n",
    "corner.corner(samples_scatter, labels=[\"m\", \"b\", \"$\\ln\\lambda$\"],\n",
    "              truths=[m_true, b_true, np.log(lambda_true)]);"
   ]
  },
  {
   "cell_type": "code",
   "execution_count": null,
   "metadata": {},
   "outputs": [],
   "source": [
    "fig, ax = plt.subplots(1, 1, figsize=(5, 5))\n",
    "x0 = np.array([-2, 12])\n",
    "\n",
    "# Plot posterior predictions for a few samples.\n",
    "for m, b, _ in samples_scatter[np.random.randint(len(samples_scatter), size=100)]:\n",
    "    ax.plot(x0, m*x0 + b, lw=1, alpha=0.1, color=\"g\")\n",
    "    \n",
    "ax.plot(x0, m_true*x0 + b_true, \"k\", lw=2)\n",
    "plot_error_ellipses(ax, X_scatter, S)\n",
    "ax.set_xlim(-2, 12)\n",
    "ax.set_ylim(-2, 12)\n",
    "ax.set_xlabel(\"x\")\n",
    "ax.set_ylabel(\"y\");\n"
   ]
  },
  {
   "cell_type": "code",
   "execution_count": null,
   "metadata": {},
   "outputs": [],
   "source": []
  }
 ],
 "metadata": {
  "kernelspec": {
   "display_name": "Python 3",
   "language": "python",
   "name": "python3"
  },
  "language_info": {
   "codemirror_mode": {
    "name": "ipython",
    "version": 3
   },
   "file_extension": ".py",
   "mimetype": "text/x-python",
   "name": "python",
   "nbconvert_exporter": "python",
   "pygments_lexer": "ipython3",
   "version": "3.7.0"
  }
 },
 "nbformat": 4,
 "nbformat_minor": 2
}
