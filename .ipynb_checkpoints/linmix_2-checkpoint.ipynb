{
 "cells": [
  {
   "cell_type": "code",
   "execution_count": 1,
   "metadata": {},
   "outputs": [],
   "source": [
    "import numpy as np\n",
    "import pandas as pd\n",
    "\n",
    "import linmix\n",
    "\n",
    "import matplotlib.pyplot as plt\n",
    "%matplotlib inline\n",
    "\n",
    "from Zoldak.Math.tools import to_log"
   ]
  },
  {
   "cell_type": "code",
   "execution_count": 2,
   "metadata": {},
   "outputs": [],
   "source": [
    "data = pd.read_csv(('/Users/kimzoldak/Github/GRB_Hubble_Diagram/data/'\n",
    "                    'Band_13_GBM+LAT__22_GBMconstrained.txt'), \n",
    "                   sep='\\t')\n",
    "\n",
    "data = data[data.trigger.map(lambda x: x != 'bn090510016')]  # remove short burst\n",
    "data.index = range(0, len(data))\n",
    "\n",
    "df = pd.DataFrame()\n",
    "df['eiso'] = data['eiso']/1E52\n",
    "df['eiso_err'] = data.loc[:, ['eiso_err_low', 'eiso_err_up']].apply(np.mean, 1)\n",
    "df['eiso_err'] = df['eiso_err']/1E52\n",
    "df['epeakRest'] = data['epeakRest']\n",
    "df['epeakRest_err'] = data.loc[:, ['epeakRest_err_low', 'epeakRest_err_up']].apply(np.mean, 1)\n",
    "\n",
    "\n",
    "y, ysig = to_log(df['eiso'], df['eiso_err'], which='average', errTypeReturn='moe')\n",
    "x, xsig = to_log(df['epeakRest'], df['epeakRest_err'], which='average', errTypeReturn='moe')"
   ]
  },
  {
   "cell_type": "code",
   "execution_count": 3,
   "metadata": {},
   "outputs": [
    {
     "data": {
      "image/png": "[encoded data removed]",
      "text/plain": [
       "<Figure size 720x288 with 2 Axes>"
      ]
     },
     "metadata": {
      "needs_background": "light"
     },
     "output_type": "display_data"
    }
   ],
   "source": [
    "fig = plt.figure(figsize=(10,4))\n",
    "ax = fig.add_subplot(121)\n",
    "\n",
    "ax.set_xlabel(r'$\\xi$')\n",
    "ax.set_ylabel(r'$\\eta$')\n",
    "# ax.set_xlim(-6,6)\n",
    "# ax.set_ylim(-3,4)\n",
    "ax = fig.add_subplot(122)\n",
    "ax.scatter(x, y, alpha=0.5)\n",
    "ax.errorbar(x, y, xerr=xsig, yerr=ysig, ls=' ', alpha=0.5)\n",
    "ax.set_xlabel(r'x')\n",
    "ax.set_ylabel(r'y')\n",
    "# ax.set_xlim(-10,10)\n",
    "# ax.set_ylim(-5,6)\n",
    "# ax.plot([-6,6,6,-6,-6], [-3,-3,4,4,-3], color='k')\n",
    "fig.tight_layout()\n",
    "plt.show()"
   ]
  },
  {
   "cell_type": "code",
   "execution_count": 5,
   "metadata": {
    "scrolled": false
   },
   "outputs": [
    {
     "name": "stdout",
     "output_type": "stream",
     "text": [
      "\n",
      "Iteration:  100\n",
      "Rhat values for alpha, beta, log(sigma^2), mean(xi), log(var(xi)), atanh(corr(xi, eta)):\n",
      "[1.00427187 1.00448632 1.01283315 0.99580446 0.99481692 1.01134419]\n",
      "\n",
      "Iteration:  200\n",
      "Rhat values for alpha, beta, log(sigma^2), mean(xi), log(var(xi)), atanh(corr(xi, eta)):\n",
      "[0.99898627 0.99860544 1.00365438 1.01175819 1.01063239 1.00055774]\n",
      "\n",
      "Iteration:  300\n",
      "Rhat values for alpha, beta, log(sigma^2), mean(xi), log(var(xi)), atanh(corr(xi, eta)):\n",
      "[0.99949304 0.9992746  1.00841865 1.00897869 1.00609774 1.00076345]\n",
      "\n",
      "Iteration:  400\n",
      "Rhat values for alpha, beta, log(sigma^2), mean(xi), log(var(xi)), atanh(corr(xi, eta)):\n",
      "[0.99925208 0.99889426 1.00591652 1.00819289 1.0031626  1.00527322]\n",
      "\n",
      "Iteration:  500\n",
      "Rhat values for alpha, beta, log(sigma^2), mean(xi), log(var(xi)), atanh(corr(xi, eta)):\n",
      "[0.99901857 0.99911456 1.00291639 1.00520921 0.99997651 1.00410555]\n",
      "\n",
      "Iteration:  600\n",
      "Rhat values for alpha, beta, log(sigma^2), mean(xi), log(var(xi)), atanh(corr(xi, eta)):\n",
      "[0.99882717 0.9989072  1.00132813 1.00389982 0.99995147 1.0021962 ]\n",
      "\n",
      "Iteration:  700\n",
      "Rhat values for alpha, beta, log(sigma^2), mean(xi), log(var(xi)), atanh(corr(xi, eta)):\n",
      "[0.9998083  0.99988814 1.00099734 1.00171109 0.99995861 1.00374942]\n",
      "\n",
      "Iteration:  800\n",
      "Rhat values for alpha, beta, log(sigma^2), mean(xi), log(var(xi)), atanh(corr(xi, eta)):\n",
      "[1.00106133 1.00097636 1.00080392 1.00194453 0.99994774 1.00283386]\n",
      "\n",
      "Iteration:  900\n",
      "Rhat values for alpha, beta, log(sigma^2), mean(xi), log(var(xi)), atanh(corr(xi, eta)):\n",
      "[1.0024098  1.00260352 1.00013928 1.00173191 0.9999535  1.00262553]\n",
      "\n",
      "Iteration:  1000\n",
      "Rhat values for alpha, beta, log(sigma^2), mean(xi), log(var(xi)), atanh(corr(xi, eta)):\n",
      "[1.00273565 1.00256288 1.00009313 1.00199241 0.99995799 1.00225753]\n",
      "\n",
      "Iteration:  1100\n",
      "Rhat values for alpha, beta, log(sigma^2), mean(xi), log(var(xi)), atanh(corr(xi, eta)):\n",
      "[1.00150994 1.00142272 1.00032758 1.00211902 0.99996205 1.00251535]\n",
      "\n",
      "Iteration:  1200\n",
      "Rhat values for alpha, beta, log(sigma^2), mean(xi), log(var(xi)), atanh(corr(xi, eta)):\n",
      "[1.00076995 1.00058016 0.99984343 1.0018725  0.99996389 1.00076317]\n",
      "\n",
      "Iteration:  1300\n",
      "Rhat values for alpha, beta, log(sigma^2), mean(xi), log(var(xi)), atanh(corr(xi, eta)):\n",
      "[1.00045638 1.00035929 0.99984287 1.00147342 0.99992247 1.00217078]\n",
      "\n",
      "Iteration:  1400\n",
      "Rhat values for alpha, beta, log(sigma^2), mean(xi), log(var(xi)), atanh(corr(xi, eta)):\n",
      "[0.99975887 0.99971239 0.99989566 1.00122713 0.99988553 1.0026619 ]\n",
      "\n",
      "Iteration:  1500\n",
      "Rhat values for alpha, beta, log(sigma^2), mean(xi), log(var(xi)), atanh(corr(xi, eta)):\n",
      "[1.00033526 1.00033296 0.99997137 1.00130514 0.99989737 1.00294119]\n",
      "\n",
      "Iteration:  1600\n",
      "Rhat values for alpha, beta, log(sigma^2), mean(xi), log(var(xi)), atanh(corr(xi, eta)):\n",
      "[1.00031023 1.00028765 1.00017432 1.00124584 0.99990867 1.00307073]\n",
      "\n",
      "Iteration:  1700\n",
      "Rhat values for alpha, beta, log(sigma^2), mean(xi), log(var(xi)), atanh(corr(xi, eta)):\n",
      "[1.00019355 1.0001345  1.0003132  1.00091288 0.99992396 1.00286449]\n",
      "\n",
      "Iteration:  1800\n",
      "Rhat values for alpha, beta, log(sigma^2), mean(xi), log(var(xi)), atanh(corr(xi, eta)):\n",
      "[1.0001138  1.00003371 1.0005778  1.00123473 0.99992807 1.00296973]\n",
      "\n",
      "Iteration:  1900\n",
      "Rhat values for alpha, beta, log(sigma^2), mean(xi), log(var(xi)), atanh(corr(xi, eta)):\n",
      "[0.99997379 0.99984884 1.00026934 1.00120372 0.99993173 1.00262559]\n",
      "\n",
      "Iteration:  2000\n",
      "Rhat values for alpha, beta, log(sigma^2), mean(xi), log(var(xi)), atanh(corr(xi, eta)):\n",
      "[0.99997971 0.99987993 1.00037567 1.00126246 0.99993521 1.00223077]\n",
      "\n",
      "Iteration:  2100\n",
      "Rhat values for alpha, beta, log(sigma^2), mean(xi), log(var(xi)), atanh(corr(xi, eta)):\n",
      "[0.99986364 0.99981702 1.00035137 1.00097793 0.99993918 1.00210703]\n",
      "\n",
      "Iteration:  2200\n",
      "Rhat values for alpha, beta, log(sigma^2), mean(xi), log(var(xi)), atanh(corr(xi, eta)):\n",
      "[0.99987815 0.99981546 1.00056653 1.00100352 0.99977555 1.00124584]\n",
      "\n",
      "Iteration:  2300\n",
      "Rhat values for alpha, beta, log(sigma^2), mean(xi), log(var(xi)), atanh(corr(xi, eta)):\n",
      "[0.99987429 0.9998314  1.0005109  1.00148956 0.99978544 1.00101174]\n",
      "\n",
      "Iteration:  2400\n",
      "Rhat values for alpha, beta, log(sigma^2), mean(xi), log(var(xi)), atanh(corr(xi, eta)):\n",
      "[0.99988966 0.99982584 1.00019043 1.00103308 0.99979444 1.00070441]\n",
      "\n",
      "Iteration:  2500\n",
      "Rhat values for alpha, beta, log(sigma^2), mean(xi), log(var(xi)), atanh(corr(xi, eta)):\n",
      "[0.99980155 0.99976951 1.00002817 1.000853   0.99980256 1.00069951]\n",
      "\n",
      "Iteration:  2600\n",
      "Rhat values for alpha, beta, log(sigma^2), mean(xi), log(var(xi)), atanh(corr(xi, eta)):\n",
      "[0.99979563 0.9997679  0.99996331 1.00058402 0.99981124 1.0004446 ]\n",
      "\n",
      "Iteration:  2700\n",
      "Rhat values for alpha, beta, log(sigma^2), mean(xi), log(var(xi)), atanh(corr(xi, eta)):\n",
      "[0.99978092 0.99974339 0.99989383 1.00077429 0.99981708 1.0002519 ]\n",
      "\n",
      "Iteration:  2800\n",
      "Rhat values for alpha, beta, log(sigma^2), mean(xi), log(var(xi)), atanh(corr(xi, eta)):\n",
      "[0.99979059 0.99975934 0.99981311 1.00084352 0.99982363 1.00019801]\n",
      "\n",
      "Iteration:  2900\n",
      "Rhat values for alpha, beta, log(sigma^2), mean(xi), log(var(xi)), atanh(corr(xi, eta)):\n",
      "[0.99975674 0.99972105 0.99982099 1.00078694 0.99982971 1.00009764]\n",
      "\n",
      "Iteration:  3000\n",
      "Rhat values for alpha, beta, log(sigma^2), mean(xi), log(var(xi)), atanh(corr(xi, eta)):\n",
      "[0.99977864 0.99973609 0.99979734 1.0004601  0.999838   0.99994935]\n",
      "\n",
      "Iteration:  3100\n",
      "Rhat values for alpha, beta, log(sigma^2), mean(xi), log(var(xi)), atanh(corr(xi, eta)):\n",
      "[0.99986259 0.99980314 0.99980818 1.00066278 0.99984151 1.00001145]\n",
      "\n",
      "Iteration:  3200\n",
      "Rhat values for alpha, beta, log(sigma^2), mean(xi), log(var(xi)), atanh(corr(xi, eta)):\n",
      "[0.9999404  0.99987604 0.99980488 1.00071092 0.99984647 1.00005819]\n",
      "\n",
      "Iteration:  3300\n",
      "Rhat values for alpha, beta, log(sigma^2), mean(xi), log(var(xi)), atanh(corr(xi, eta)):\n",
      "[0.99988785 0.99984565 0.99984002 1.00056188 0.9998511  0.99997974]\n",
      "\n",
      "Iteration:  3400\n",
      "Rhat values for alpha, beta, log(sigma^2), mean(xi), log(var(xi)), atanh(corr(xi, eta)):\n",
      "[0.99982694 0.99980029 0.99985432 1.00073681 0.99985482 0.99991225]\n",
      "\n",
      "Iteration:  3500\n",
      "Rhat values for alpha, beta, log(sigma^2), mean(xi), log(var(xi)), atanh(corr(xi, eta)):\n",
      "[0.99977633 0.99976972 0.99986145 1.00054434 0.99985894 0.99991377]\n",
      "\n",
      "Iteration:  3600\n",
      "Rhat values for alpha, beta, log(sigma^2), mean(xi), log(var(xi)), atanh(corr(xi, eta)):\n",
      "[0.99977414 0.99976856 0.99982803 1.00050769 0.99986288 0.99994656]\n",
      "\n",
      "Iteration:  3700\n",
      "Rhat values for alpha, beta, log(sigma^2), mean(xi), log(var(xi)), atanh(corr(xi, eta)):\n",
      "[0.99978461 0.99978215 0.99981712 1.00064126 0.99986656 0.99992012]\n",
      "\n",
      "Iteration:  3800\n",
      "Rhat values for alpha, beta, log(sigma^2), mean(xi), log(var(xi)), atanh(corr(xi, eta)):\n",
      "[0.99980616 0.99979443 0.99984664 1.00047897 0.99987003 0.99993237]\n",
      "\n",
      "Iteration:  3900\n",
      "Rhat values for alpha, beta, log(sigma^2), mean(xi), log(var(xi)), atanh(corr(xi, eta)):\n",
      "[0.99979529 0.99978659 0.99983127 1.00045466 0.99987366 0.99993146]\n",
      "\n",
      "Iteration:  4000\n",
      "Rhat values for alpha, beta, log(sigma^2), mean(xi), log(var(xi)), atanh(corr(xi, eta)):\n",
      "[0.99980361 0.99978596 0.99983862 1.00042551 0.99987678 1.00002633]\n",
      "\n",
      "Iteration:  4100\n",
      "Rhat values for alpha, beta, log(sigma^2), mean(xi), log(var(xi)), atanh(corr(xi, eta)):\n",
      "[0.99981586 0.9997959  0.99984454 1.00036629 0.99987679 1.00005704]\n",
      "\n",
      "Iteration:  4200\n",
      "Rhat values for alpha, beta, log(sigma^2), mean(xi), log(var(xi)), atanh(corr(xi, eta)):\n",
      "[0.99979766 0.99978844 0.99984162 1.00039177 0.99987979 1.00006826]\n",
      "\n",
      "Iteration:  4300\n",
      "Rhat values for alpha, beta, log(sigma^2), mean(xi), log(var(xi)), atanh(corr(xi, eta)):\n",
      "[0.99983623 0.99981325 0.99985139 1.00048957 0.99988259 1.00008703]\n",
      "\n",
      "Iteration:  4400\n",
      "Rhat values for alpha, beta, log(sigma^2), mean(xi), log(var(xi)), atanh(corr(xi, eta)):\n",
      "[0.99983859 0.99982053 0.99985122 1.00048899 0.99988527 1.00003877]\n",
      "\n",
      "Iteration:  4500\n",
      "Rhat values for alpha, beta, log(sigma^2), mean(xi), log(var(xi)), atanh(corr(xi, eta)):\n",
      "[0.99983903 0.99983655 0.99985538 1.00052926 0.99988774 1.0000177 ]\n",
      "\n",
      "Iteration:  4600\n",
      "Rhat values for alpha, beta, log(sigma^2), mean(xi), log(var(xi)), atanh(corr(xi, eta)):\n",
      "[0.99983632 0.99982322 0.99989898 1.00058328 0.99989146 0.99996408]\n",
      "\n",
      "Iteration:  4700\n",
      "Rhat values for alpha, beta, log(sigma^2), mean(xi), log(var(xi)), atanh(corr(xi, eta)):\n",
      "[0.9998302  0.99983019 0.9999914  1.00053473 0.99989378 0.99997762]\n"
     ]
    },
    {
     "name": "stdout",
     "output_type": "stream",
     "text": [
      "\n",
      "Iteration:  4800\n",
      "Rhat values for alpha, beta, log(sigma^2), mean(xi), log(var(xi)), atanh(corr(xi, eta)):\n",
      "[0.99985659 0.99985609 0.99997379 1.00050735 0.99989397 0.99993043]\n",
      "\n",
      "Iteration:  4900\n",
      "Rhat values for alpha, beta, log(sigma^2), mean(xi), log(var(xi)), atanh(corr(xi, eta)):\n",
      "[0.99985861 0.99986165 0.99994478 1.00061747 0.99989616 0.99993557]\n",
      "\n",
      "Iteration:  5000\n",
      "Rhat values for alpha, beta, log(sigma^2), mean(xi), log(var(xi)), atanh(corr(xi, eta)):\n",
      "[0.99984892 0.9998651  0.99992292 1.00057463 0.99989822 0.99992163]\n"
     ]
    }
   ],
   "source": [
    "lm = linmix.LinMix(x=x, y=y, xsig=xsig, ysig=ysig, K=2)\n",
    "lm.run_mcmc(silent=False)"
   ]
  },
  {
   "cell_type": "raw",
   "metadata": {},
   "source": [
    "    def update_chain(self):\n",
    "        self.chain['alpha'][self.ichain] = self.alpha\n",
    "        self.chain['beta'][self.ichain] = self.beta\n",
    "        self.chain['sigsqr'][self.ichain] = self.sigsqr\n",
    "        self.chain['pi'][self.ichain] = self.pi\n",
    "        self.chain['mu'][self.ichain] = self.mu\n",
    "        self.chain['tausqr'][self.ichain] = self.tausqr\n",
    "        self.chain['mu0'][self.ichain] = self.mu0\n",
    "        self.chain['usqr'][self.ichain] = self.usqr\n",
    "        self.chain['wsqr'][self.ichain] = self.wsqr\n",
    "        ximean = np.sum(self.pi * self.mu)\n",
    "        self.chain['ximean'][self.ichain] = ximean\n",
    "        xisig = np.sqrt(np.sum(self.pi * (self.tausqr + self.mu**2)) - ximean**2)\n",
    "        self.chain['xisig'][self.ichain] = xisig\n",
    "        self.chain['corr'][self.ichain] = self.beta * xisig / np.sqrt(self.beta**2 * xisig**2\n",
    "                                                                      + self.sigsqr)\n",
    "        self.ichain += 1"
   ]
  },
  {
   "cell_type": "code",
   "execution_count": 6,
   "metadata": {},
   "outputs": [],
   "source": [
    "cols = ['alpha', 'beta', 'sigsqr', 'pi', 'mu', 'tausqr', 'mu0', 'usqr', 'wsqr', 'ximean', 'xisig', 'corr']"
   ]
  },
  {
   "cell_type": "code",
   "execution_count": 7,
   "metadata": {},
   "outputs": [
    {
     "data": {
      "text/plain": [
       "[array([-2.2513622 , -2.64920202, -1.84879142]),\n",
       " array([1.33640398, 1.18658948, 1.48400625]),\n",
       " array([0.14985682, 0.11598079, 0.19687971])]"
      ]
     },
     "execution_count": 7,
     "metadata": {},
     "output_type": "execute_result"
    }
   ],
   "source": [
    "[np.percentile(lm.chain[:][col], [50., 16., 84.]) for col in ['alpha', 'beta', 'sigsqr']]"
   ]
  },
  {
   "cell_type": "code",
   "execution_count": 8,
   "metadata": {},
   "outputs": [
    {
     "data": {
      "text/plain": [
       "[array([-2.2513622 , -2.64920202, -1.84879142]),\n",
       " array([1.33640398, 1.18658948, 1.48400625]),\n",
       " array([0.38711344, 0.34055953, 0.44371129])]"
      ]
     },
     "execution_count": 8,
     "metadata": {},
     "output_type": "execute_result"
    }
   ],
   "source": [
    "[np.percentile((lm.chain[:][col]**0.5 if 'sig' in col else lm.chain[:][col]), [50., 16., 84.]) for col in ['alpha', 'beta', 'sigsqr']]"
   ]
  },
  {
   "cell_type": "code",
   "execution_count": 9,
   "metadata": {},
   "outputs": [
    {
     "name": "stdout",
     "output_type": "stream",
     "text": [
      "     alpha:    -2.2505\n",
      "      beta:     1.3357\n",
      "    sigsqr:     0.1570\n",
      "        pi:     0.5000\n",
      "        mu:     2.6372\n",
      "    tausqr:     6.8812\n",
      "       mu0:     2.6367\n",
      "      usqr:     0.1357\n",
      "      wsqr:     0.2497\n",
      "    ximean:     2.6390\n",
      "     xisig:     0.5253\n",
      "      corr:     0.8527\n"
     ]
    }
   ],
   "source": [
    "for col in cols:\n",
    "    print('%10s: %10.4f'%(col, lm.chain[:][col].mean()))"
   ]
  },
  {
   "cell_type": "code",
   "execution_count": 10,
   "metadata": {},
   "outputs": [
    {
     "name": "stdout",
     "output_type": "stream",
     "text": [
      "     alpha: -2.2513622\n",
      "      beta:  1.3364040\n",
      "    sigsqr:  0.1498568\n",
      "        pi:  0.5000000\n",
      "        mu:  2.6329313\n",
      "    tausqr:  0.2020617\n",
      "       mu0:  2.6337840\n",
      "      usqr:  0.1196384\n",
      "      wsqr:  0.1830867\n",
      "    ximean:  2.6392634\n",
      "     xisig:  0.4860680\n",
      "      corr:  0.8596799\n"
     ]
    }
   ],
   "source": [
    "for col in cols:\n",
    "    print('%10s: %10.7f'%(col, np.median(lm.chain[:][col])))"
   ]
  },
  {
   "cell_type": "code",
   "execution_count": 12,
   "metadata": {},
   "outputs": [],
   "source": [
    "alpha = np.percentile(lm.chain[:]['alpha'], 50.)\n",
    "beta = np.percentile(lm.chain[:]['beta'], 50.)\n",
    "sigsqr = np.percentile(lm.chain[:]['sigsqr'], 50.)\n",
    "sig = sigsqr**0.5"
   ]
  },
  {
   "cell_type": "code",
   "execution_count": 13,
   "metadata": {},
   "outputs": [
    {
     "data": {
      "text/plain": [
       "<Figure size 432x288 with 0 Axes>"
      ]
     },
     "metadata": {},
     "output_type": "display_data"
    },
    {
     "data": {
      "image/png": "[encoded data removed]",
      "text/plain": [
       "<Figure size 576x576 with 1 Axes>"
      ]
     },
     "metadata": {
      "needs_background": "light"
     },
     "output_type": "display_data"
    }
   ],
   "source": [
    "plt.clf()\n",
    "plt.figure(figsize=(8,8))\n",
    "plt.scatter(x, y, alpha=0.5)\n",
    "plt.errorbar(x, y, xerr=xsig, yerr=ysig, ls=' ', alpha=0.5)\n",
    "for i in range(0, len(lm.chain), 25):\n",
    "    xs = np.arange(-10,11)\n",
    "    ys = lm.chain[i]['alpha'] + xs * lm.chain[i]['beta']\n",
    "    plt.plot(xs, ys, color='r', alpha=0.02)\n",
    "ys = alpha + xs * beta\n",
    "plt.plot(xs, ys, color='k')\n",
    "plt.xlabel(r'x')\n",
    "plt.ylabel(r'y')\n",
    "plt.ylim(-3,5)\n",
    "plt.xlim(0,5)\n",
    "plt.show()\n",
    "# ax.plot([-6,6,6,-6,-6], [-3,-3,4,4,-3], color='k')\n",
    "#fig.tight_layout()"
   ]
  },
  {
   "cell_type": "code",
   "execution_count": 14,
   "metadata": {},
   "outputs": [
    {
     "name": "stdout",
     "output_type": "stream",
     "text": [
      "-2.2513622029592 1.3364039784613113 0.38711344216750687\n"
     ]
    }
   ],
   "source": [
    "print(alpha, beta, sig)"
   ]
  },
  {
   "cell_type": "code",
   "execution_count": null,
   "metadata": {},
   "outputs": [],
   "source": []
  }
 ],
 "metadata": {
  "kernelspec": {
   "display_name": "Python 3",
   "language": "python",
   "name": "python3"
  },
  "language_info": {
   "codemirror_mode": {
    "name": "ipython",
    "version": 3
   },
   "file_extension": ".py",
   "mimetype": "text/x-python",
   "name": "python",
   "nbconvert_exporter": "python",
   "pygments_lexer": "ipython3",
   "version": "3.7.0"
  }
 },
 "nbformat": 4,
 "nbformat_minor": 2
}
