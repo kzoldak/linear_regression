{
 "cells": [
  {
   "cell_type": "raw",
   "metadata": {},
   "source": [
    "d = data.loc[data.ID.between(5,data.ID.max()), :]\n",
    "N = len(d)\n",
    "\n",
    "A = np.matrix([np.ones(N), d.x]).T \n",
    "A\n",
    "\n",
    "Y = np.vstack(d.y)\n",
    "\n",
    "C = np.zeros(shape=(N,N))\n",
    "C = np.asmatrix(C)\n",
    "\n",
    "np.fill_diagonal(C, d.yerr**2)\n",
    "\n",
    "C\n",
    "\n",
    "X = ((A.T * C**-1 * A)**-1) * A.T * C**-1 * Y\n",
    "X\n",
    "\n",
    "\n",
    "YMODEL = A*X\n",
    "\n",
    "(Y-YMODEL).T * C**-1 * (Y-YMODEL)\n",
    "\n",
    "chi_sqrd = (Y-A*X).T * C**-1 * (Y-A*X)\n",
    "chi_sqrd\n",
    "\n",
    "fit_covariance = ((A.T * C**-1 * A)**-1)\n",
    "\n",
    "fit_covariance\n",
    "\n",
    "param_var = np.asarray(fit_covariance.diagonal().ravel())[0]\n",
    "param_var\n",
    "\n",
    "param_unc = param_var**0.5\n",
    "param_unc"
   ]
  },
  {
   "cell_type": "code",
   "execution_count": 137,
   "metadata": {},
   "outputs": [
    {
     "data": {
      "application/javascript": [
       "MathJax.Hub.Config({\n",
       "    TeX: { equationNumbers: { autoNumber: \"AMS\" } }\n",
       "});"
      ],
      "text/plain": [
       "<IPython.core.display.Javascript object>"
      ]
     },
     "metadata": {},
     "output_type": "display_data"
    }
   ],
   "source": [
    "%%javascript\n",
    "MathJax.Hub.Config({\n",
    "    TeX: { equationNumbers: { autoNumber: \"AMS\" } }\n",
    "});"
   ]
  },
  {
   "cell_type": "markdown",
   "metadata": {},
   "source": [
    "## $A$ is the features matrix, $Y$ is the response matrix, $C$ is the covariance matrix. "
   ]
  },
  {
   "cell_type": "markdown",
   "metadata": {},
   "source": [
    "${\\displaystyle \\qquad \\mathbf{y}={\\begin{bmatrix}y_{1}\\\\y_{2}\\\\\\vdots \\\\y_{N}\\end{bmatrix}}}$\n",
    "\n",
    "${\\displaystyle \\qquad \\mathbf{A}={\\begin{bmatrix}1 & x_{1}\\\\ 1 & x_{2}\\\\\\vdots \\\\ 1 & x_{N}\\end{bmatrix}}}$\n",
    "\n",
    "${\\displaystyle \n",
    "\\qquad \\mathbf{C}={\n",
    "\\begin{bmatrix}\n",
    "\\sigma_{y_1}^2 & 0 & \\ldots & 0 \\\\ \n",
    "0 & \\sigma_{y_2}^2 & \\ldots & 0 \\\\\n",
    "0 & 0 & \\ddots & 0 \\\\ \n",
    "0 & 0 & \\ldots & \\sigma_{y_N}^2 \n",
    "\\end{bmatrix}\n",
    "}}$"
   ]
  },
  {
   "cell_type": "markdown",
   "metadata": {},
   "source": [
    "### The $x_i$ and $y_i$ are the data point's x- and y-axis values. There are $N$ data points in the full sample. \n",
    "### $\\sigma_{x,i}$ is the x-error in the ith data point, thus $\\sigma_{x,i} = xerr[i]$\n",
    "### $\\sigma_{y,i}$ is the y-error in the ith data point, thus $\\sigma_{y,i} = yerr[i]$\n",
    "### $\\sigma_{x,i}^2$ and $\\sigma_{y,i}^2$ are called the variances. (xerr[i]^2) and (yerr[i]^2) for the ith data point. "
   ]
  },
  {
   "cell_type": "raw",
   "metadata": {},
   "source": [
    "\\begin{equation}\\label{eq:abc}\n",
    "\\end{equation}"
   ]
  },
  {
   "cell_type": "markdown",
   "metadata": {},
   "source": [
    "\\begin{equation}\\label{eq:linearmodel}\n",
    "f(x) = mx + b\n",
    "\\end{equation}\n",
    "\n",
    "\\begin{equation}\\label{eq:Yvector}\n",
    "\\qquad \n",
    "\\mathbf{Y}=\n",
    "\\begin{bmatrix}\n",
    "y_{1} \\\\\n",
    "y_{2} \\\\\n",
    "\\vdots \\\\\n",
    "y_{N}\n",
    "\\end{bmatrix}\n",
    "\\end{equation}\n",
    "\n",
    "\\begin{equation}\\label{eq:Amatrix}\n",
    "\\qquad \n",
    "\\mathbf{A}=\n",
    "\\begin{bmatrix}\n",
    "1 & x_{1}\\\\ \n",
    "1 & x_{2}\\\\\n",
    "\\vdots \\\\ \n",
    "1 & x_{N}\n",
    "\\end{bmatrix}\n",
    "\\end{equation}\n",
    "\n",
    "\\begin{equation}\\label{eq:Cmatrix}\n",
    "\\mathbf{C}=\n",
    "\\begin{bmatrix}\n",
    "\\sigma_{y_1}^2 & 0 & \\ldots & 0 \\\\ \n",
    "0 & \\sigma_{y_2}^2 & \\ldots & 0 \\\\\n",
    "0 & 0 & \\ddots & 0 \\\\ \n",
    "0 & 0 & \\ldots & \\sigma_{y_N}^2 \n",
    "\\end{bmatrix}\n",
    "\\end{equation}\n",
    "\n",
    "\n",
    "#### NOTE:  There will be a $\\mathbf{C_i}$ for every set of data points, and combined they make $\\mathbf{C}$  The full uncertainty covariance matrix for each data point is given by:\n",
    "\\begin{equation}\n",
    "\\mathbf{C_{i}} =\n",
    "\\left(\n",
    "\\begin{matrix}\n",
    "\\sigma_{x,i}^2 & \\rho_{xy,i}\\sigma_{x,i} \\sigma_{y,i} \\\\\n",
    "\\rho_{xy,i}\\sigma_{x,i} \\sigma_{y,i}  & \\sigma_{y,i}^2\n",
    "\\end{matrix}\n",
    "\\right)\n",
    "\\end{equation}\n",
    "But for now we will ignore the off-diagonal terms and move forward with only the diagonal terms.\n",
    "\n",
    "\n",
    "### Estimate of parameters; b-intercept, m-slope. \n",
    "\n",
    "\\begin{equation}\\label{eq:parammatrix}\n",
    "\\begin{bmatrix}\n",
    "b \\\\\n",
    "m\n",
    "\\end{bmatrix} = \\mathbf{X} = [\\mathbf{A}^T \\mathbf{C}^{-1} \\mathbf{A}]^{-1} [\\mathbf{A}^T \\mathbf{C}^{-1} \\mathbf{Y}]\n",
    "\\end{equation}\n",
    "\n",
    "You weight everything with the inverse of the covariance matrix (as you would if you were\n",
    "doing, say, a weighted average), and then left-multiply everything by $A^T$\n",
    "to reduce the dimensionality, and then equation $\\ref{eq:parammatrix}$ is the solution of that\n",
    "reduced-dimensionality equation. \n",
    "\n",
    "### Ymodel values. The yvalues given the model, where X represents the model parameters. \n",
    "\\begin{equation}\\label{eq:ymodel}\n",
    "\\mathbf{Y} = \\mathbf{AX}\n",
    "\\end{equation}\n",
    "\n",
    "**Here, $Y$ represents $YMODEL$, and we wish to know $(YDATA - YMODEL)$. $YDATA$ is our $Y$ vector from above (equation $\\ref{eq:Yvector}$).**\n",
    "\n",
    "**I'm not fond of this formalism. I'd prefer it if X was used to represent the features matrix (which are the x-data points) and if $\\beta$ represented the parameters. $Y=X\\beta$ makes more sense to me since $y=\\beta_0 + \\beta_1x$ is a linear model with $\\beta$ parameters.**\n",
    "```\n",
    "\n",
    "```\n",
    "\n",
    "\\begin{equation}\\label{eq:chisqrd}\n",
    "\\chi^2 = \\sum^N_{i=-1} \\frac{[y_i - f(x_i)]^2}{\\sigma_{y_i}^2} = [Y-AX]^T C^{-1} [Y-AX]\n",
    "\\end{equation}\n",
    "\n",
    "$\\chi^2$ is what is minimized, and equation $\\ref{eq:parammatrix}$ yields the values $b$ and $m$ that minimize it. Conceptually, $\\chi^2$ is a metric distance in data space. \n",
    "\n",
    "Notice that the $\\chi^2$ equation is the exponential term (without the $-1/2$) of a standard normal distribution. This is becuase we are assuming our errors are normally distributed. Otherwise, you'd see the left hand side of the above equation set to a different distribution. \n",
    "\n",
    "\\begin{equation}\n",
    "\\chi^2 = [Y-AX]^T C^{-1} [Y-AX]\n",
    " = \\left((\\text{data} - \\text{model})^T \\  Cov^{-1} \\ (\\text{data} - \\text{model})\\right)\n",
    "\\end{equation}\n",
    "Thus, $[Y-AX]$ is is the $data-model$. This shouldn't be surprising. \n",
    "\n",
    "\n",
    "When the uncertainties are Gaussian and their variances, $\\sigma_{y,i}$ are correctly estimated, the matrix $[A^T C^{-1} A]^{-1}$ is the covariance matrix for the parameters in $\\mathbf{X}$ (equation $\\ref{eq:parammatrix}$). This assumes Gaussian uncertainty--uncertainty not error. In the \"covariance matrix\" returned, variances are on the diagonal and covariances are the off off diagonal terms. This is commonly called the covariance matrix of the fit. I like to call it the variance-covariance matrix for this reason. \n",
    "\n",
    "The matrix $\\mathbf{C}$ that we call the covaraince matrix above is the covariance between the data's errors, not the covariance matrix of the model fit to the data. Techinically though, $\\mathbf{C}$ as shown in equation $\\ref{eq:Cmatrix}$ holds only variances and no covariances. We will add covariances (off-diag terms) later. "
   ]
  },
  {
   "cell_type": "raw",
   "metadata": {},
   "source": [
    "data = pd.read_clipboard(sep=' ', header=0)"
   ]
  },
  {
   "cell_type": "code",
   "execution_count": 138,
   "metadata": {},
   "outputs": [],
   "source": [
    "import pandas as pd\n",
    "import numpy as np\n",
    "\n",
    "import matplotlib.pyplot as plt\n",
    "%matplotlib inline"
   ]
  },
  {
   "cell_type": "code",
   "execution_count": 139,
   "metadata": {},
   "outputs": [],
   "source": [
    "table1 =\"\"\"\n",
    "ID x y yerr xerr rhoxy\n",
    "1 201 592 61 9 -0.84\n",
    "2 244 401 25 4 0.31\n",
    "3 47 583 38 11 0.64\n",
    "4 287 402 15 7 -0.27\n",
    "5 203 495 21 5 -0.33\n",
    "6 58 173 15 9 0.67\n",
    "7 210 479 27 4 -0.02\n",
    "8 202 504 14 4 -0.05\n",
    "9 198 510 30 11 -0.84\n",
    "10 158 416 16 7 -0.69\n",
    "11 165 393 14 5 0.30\n",
    "12 201 442 25 5 -0.46\n",
    "13 157 317 52 5 -0.03\n",
    "14 131 311 16 6 0.50\n",
    "15 166 400 34 6 0.73\n",
    "16 160 337 31 5 -0.52\n",
    "17 186 423 42 9 0.90\n",
    "18 125 334 26 8 0.40\n",
    "19 218 533 16 6 -0.78\n",
    "20 146 344 22 5 -0.56\n",
    "\"\"\""
   ]
  },
  {
   "cell_type": "code",
   "execution_count": 140,
   "metadata": {},
   "outputs": [],
   "source": [
    "data = table1.split('\\n')[2:-1]\n",
    "\n",
    "data = [data[i].split(' ') for i in range(len(data))]\n",
    "\n",
    "colnames = table1.split('\\n')[1].split(' ')\n",
    "\n",
    "data = pd.DataFrame(data, columns=colnames)\n",
    "\n",
    "data = data.astype(float)\n",
    "\n",
    "data.ID = data.ID.astype(int)"
   ]
  },
  {
   "cell_type": "code",
   "execution_count": 141,
   "metadata": {},
   "outputs": [
    {
     "data": {
      "text/html": [
       "<div>\n",
       "<style scoped>\n",
       "    .dataframe tbody tr th:only-of-type {\n",
       "        vertical-align: middle;\n",
       "    }\n",
       "\n",
       "    .dataframe tbody tr th {\n",
       "        vertical-align: top;\n",
       "    }\n",
       "\n",
       "    .dataframe thead th {\n",
       "        text-align: right;\n",
       "    }\n",
       "</style>\n",
       "<table border=\"1\" class=\"dataframe\">\n",
       "  <thead>\n",
       "    <tr style=\"text-align: right;\">\n",
       "      <th></th>\n",
       "      <th>ID</th>\n",
       "      <th>x</th>\n",
       "      <th>y</th>\n",
       "      <th>yerr</th>\n",
       "      <th>xerr</th>\n",
       "      <th>rhoxy</th>\n",
       "    </tr>\n",
       "  </thead>\n",
       "  <tbody>\n",
       "    <tr>\n",
       "      <th>0</th>\n",
       "      <td>1</td>\n",
       "      <td>201.0</td>\n",
       "      <td>592.0</td>\n",
       "      <td>61.0</td>\n",
       "      <td>9.0</td>\n",
       "      <td>-0.84</td>\n",
       "    </tr>\n",
       "    <tr>\n",
       "      <th>1</th>\n",
       "      <td>2</td>\n",
       "      <td>244.0</td>\n",
       "      <td>401.0</td>\n",
       "      <td>25.0</td>\n",
       "      <td>4.0</td>\n",
       "      <td>0.31</td>\n",
       "    </tr>\n",
       "    <tr>\n",
       "      <th>2</th>\n",
       "      <td>3</td>\n",
       "      <td>47.0</td>\n",
       "      <td>583.0</td>\n",
       "      <td>38.0</td>\n",
       "      <td>11.0</td>\n",
       "      <td>0.64</td>\n",
       "    </tr>\n",
       "    <tr>\n",
       "      <th>3</th>\n",
       "      <td>4</td>\n",
       "      <td>287.0</td>\n",
       "      <td>402.0</td>\n",
       "      <td>15.0</td>\n",
       "      <td>7.0</td>\n",
       "      <td>-0.27</td>\n",
       "    </tr>\n",
       "    <tr>\n",
       "      <th>4</th>\n",
       "      <td>5</td>\n",
       "      <td>203.0</td>\n",
       "      <td>495.0</td>\n",
       "      <td>21.0</td>\n",
       "      <td>5.0</td>\n",
       "      <td>-0.33</td>\n",
       "    </tr>\n",
       "    <tr>\n",
       "      <th>5</th>\n",
       "      <td>6</td>\n",
       "      <td>58.0</td>\n",
       "      <td>173.0</td>\n",
       "      <td>15.0</td>\n",
       "      <td>9.0</td>\n",
       "      <td>0.67</td>\n",
       "    </tr>\n",
       "    <tr>\n",
       "      <th>6</th>\n",
       "      <td>7</td>\n",
       "      <td>210.0</td>\n",
       "      <td>479.0</td>\n",
       "      <td>27.0</td>\n",
       "      <td>4.0</td>\n",
       "      <td>-0.02</td>\n",
       "    </tr>\n",
       "    <tr>\n",
       "      <th>7</th>\n",
       "      <td>8</td>\n",
       "      <td>202.0</td>\n",
       "      <td>504.0</td>\n",
       "      <td>14.0</td>\n",
       "      <td>4.0</td>\n",
       "      <td>-0.05</td>\n",
       "    </tr>\n",
       "    <tr>\n",
       "      <th>8</th>\n",
       "      <td>9</td>\n",
       "      <td>198.0</td>\n",
       "      <td>510.0</td>\n",
       "      <td>30.0</td>\n",
       "      <td>11.0</td>\n",
       "      <td>-0.84</td>\n",
       "    </tr>\n",
       "    <tr>\n",
       "      <th>9</th>\n",
       "      <td>10</td>\n",
       "      <td>158.0</td>\n",
       "      <td>416.0</td>\n",
       "      <td>16.0</td>\n",
       "      <td>7.0</td>\n",
       "      <td>-0.69</td>\n",
       "    </tr>\n",
       "    <tr>\n",
       "      <th>10</th>\n",
       "      <td>11</td>\n",
       "      <td>165.0</td>\n",
       "      <td>393.0</td>\n",
       "      <td>14.0</td>\n",
       "      <td>5.0</td>\n",
       "      <td>0.30</td>\n",
       "    </tr>\n",
       "    <tr>\n",
       "      <th>11</th>\n",
       "      <td>12</td>\n",
       "      <td>201.0</td>\n",
       "      <td>442.0</td>\n",
       "      <td>25.0</td>\n",
       "      <td>5.0</td>\n",
       "      <td>-0.46</td>\n",
       "    </tr>\n",
       "    <tr>\n",
       "      <th>12</th>\n",
       "      <td>13</td>\n",
       "      <td>157.0</td>\n",
       "      <td>317.0</td>\n",
       "      <td>52.0</td>\n",
       "      <td>5.0</td>\n",
       "      <td>-0.03</td>\n",
       "    </tr>\n",
       "    <tr>\n",
       "      <th>13</th>\n",
       "      <td>14</td>\n",
       "      <td>131.0</td>\n",
       "      <td>311.0</td>\n",
       "      <td>16.0</td>\n",
       "      <td>6.0</td>\n",
       "      <td>0.50</td>\n",
       "    </tr>\n",
       "    <tr>\n",
       "      <th>14</th>\n",
       "      <td>15</td>\n",
       "      <td>166.0</td>\n",
       "      <td>400.0</td>\n",
       "      <td>34.0</td>\n",
       "      <td>6.0</td>\n",
       "      <td>0.73</td>\n",
       "    </tr>\n",
       "    <tr>\n",
       "      <th>15</th>\n",
       "      <td>16</td>\n",
       "      <td>160.0</td>\n",
       "      <td>337.0</td>\n",
       "      <td>31.0</td>\n",
       "      <td>5.0</td>\n",
       "      <td>-0.52</td>\n",
       "    </tr>\n",
       "    <tr>\n",
       "      <th>16</th>\n",
       "      <td>17</td>\n",
       "      <td>186.0</td>\n",
       "      <td>423.0</td>\n",
       "      <td>42.0</td>\n",
       "      <td>9.0</td>\n",
       "      <td>0.90</td>\n",
       "    </tr>\n",
       "    <tr>\n",
       "      <th>17</th>\n",
       "      <td>18</td>\n",
       "      <td>125.0</td>\n",
       "      <td>334.0</td>\n",
       "      <td>26.0</td>\n",
       "      <td>8.0</td>\n",
       "      <td>0.40</td>\n",
       "    </tr>\n",
       "    <tr>\n",
       "      <th>18</th>\n",
       "      <td>19</td>\n",
       "      <td>218.0</td>\n",
       "      <td>533.0</td>\n",
       "      <td>16.0</td>\n",
       "      <td>6.0</td>\n",
       "      <td>-0.78</td>\n",
       "    </tr>\n",
       "    <tr>\n",
       "      <th>19</th>\n",
       "      <td>20</td>\n",
       "      <td>146.0</td>\n",
       "      <td>344.0</td>\n",
       "      <td>22.0</td>\n",
       "      <td>5.0</td>\n",
       "      <td>-0.56</td>\n",
       "    </tr>\n",
       "  </tbody>\n",
       "</table>\n",
       "</div>"
      ],
      "text/plain": [
       "    ID      x      y  yerr  xerr  rhoxy\n",
       "0    1  201.0  592.0  61.0   9.0  -0.84\n",
       "1    2  244.0  401.0  25.0   4.0   0.31\n",
       "2    3   47.0  583.0  38.0  11.0   0.64\n",
       "3    4  287.0  402.0  15.0   7.0  -0.27\n",
       "4    5  203.0  495.0  21.0   5.0  -0.33\n",
       "5    6   58.0  173.0  15.0   9.0   0.67\n",
       "6    7  210.0  479.0  27.0   4.0  -0.02\n",
       "7    8  202.0  504.0  14.0   4.0  -0.05\n",
       "8    9  198.0  510.0  30.0  11.0  -0.84\n",
       "9   10  158.0  416.0  16.0   7.0  -0.69\n",
       "10  11  165.0  393.0  14.0   5.0   0.30\n",
       "11  12  201.0  442.0  25.0   5.0  -0.46\n",
       "12  13  157.0  317.0  52.0   5.0  -0.03\n",
       "13  14  131.0  311.0  16.0   6.0   0.50\n",
       "14  15  166.0  400.0  34.0   6.0   0.73\n",
       "15  16  160.0  337.0  31.0   5.0  -0.52\n",
       "16  17  186.0  423.0  42.0   9.0   0.90\n",
       "17  18  125.0  334.0  26.0   8.0   0.40\n",
       "18  19  218.0  533.0  16.0   6.0  -0.78\n",
       "19  20  146.0  344.0  22.0   5.0  -0.56"
      ]
     },
     "execution_count": 141,
     "metadata": {},
     "output_type": "execute_result"
    }
   ],
   "source": [
    "data"
   ]
  },
  {
   "cell_type": "code",
   "execution_count": 142,
   "metadata": {},
   "outputs": [
    {
     "data": {
      "text/plain": [
       "ID         int64\n",
       "x        float64\n",
       "y        float64\n",
       "yerr     float64\n",
       "xerr     float64\n",
       "rhoxy    float64\n",
       "dtype: object"
      ]
     },
     "execution_count": 142,
     "metadata": {},
     "output_type": "execute_result"
    }
   ],
   "source": [
    "data.dtypes"
   ]
  },
  {
   "cell_type": "markdown",
   "metadata": {},
   "source": [
    "### Exercise 1: \n",
    "\n",
    "Using the standard linear algebra method of this Section, fit\n",
    "the straight line $y = mx + b$ to the $x,y$, and $\\sigma_y$ values for data points 5\n",
    "through 20 in Table 1 on page 6. That is, ignore the first four data points,\n",
    "and also ignore the columns for $\\sigma_x$ and $\\rho_xy$. Make a plot showing the points,\n",
    "their uncertainties, and the best-fit line. Your plot should end up looking\n",
    "like Figure 1. What is the standard uncertainty variance $\\sigma_m^2$ on the slope of the line?"
   ]
  },
  {
   "cell_type": "code",
   "execution_count": 143,
   "metadata": {},
   "outputs": [
    {
     "data": {
      "text/plain": [
       "array([201., 244.,  47., 287., 203.,  58., 210., 202., 198., 158., 165.,\n",
       "       201., 157., 131., 166., 160., 186., 125., 218., 146.])"
      ]
     },
     "execution_count": 143,
     "metadata": {},
     "output_type": "execute_result"
    }
   ],
   "source": [
    "data.x.values"
   ]
  },
  {
   "cell_type": "code",
   "execution_count": null,
   "metadata": {},
   "outputs": [],
   "source": []
  },
  {
   "cell_type": "code",
   "execution_count": 144,
   "metadata": {},
   "outputs": [],
   "source": [
    "class Least_Squares(object):\n",
    "    def __init__(self, df):\n",
    "        self.df = df\n",
    "        self.colnames = df.columns.tolist()\n",
    "        self.xdata = self.df.x.values\n",
    "        self.ydata = self.df.y.values\n",
    "        self.xdataerr = self.df.xerr.values\n",
    "        self.ydataerr = self.df.yerr.values\n",
    "        self.N = self.df.shape[0]\n",
    "        \n",
    "    def _model(self, x, model='linear', params=None, uncerts=None):\n",
    "        \"\"\"\n",
    "        m*x + b\n",
    "        \n",
    "        \"\"\"\n",
    "        if params is None:\n",
    "            p = self.params  # b,m\n",
    "            u = self.uncertainty\n",
    "        else:\n",
    "            p = params\n",
    "            u = uncerts\n",
    "        if model == 'linear':\n",
    "            eqn = p[0] + p[1]*x\n",
    "            eqnstr = \"$y=%.2f(\\pm%.2f)x + %.0f(\\pm%.0f)$\"%(p[1],\n",
    "                                                           u[1],\n",
    "                                                           p[0],\n",
    "                                                           u[0])\n",
    "        elif model == 'quadratic':\n",
    "            eqn = p[0] + p[1]*x + p[2]*x**2\n",
    "            eqnstr = ('$y=%.4f(\\pm%.4f)x^2 + '\n",
    "                      '%.2f(\\pm%.2f)x + '\n",
    "                      '%.0f(\\pm%.0f)$')%(p[2],u[2],p[1],u[1],p[0],u[0])\n",
    "        return eqn, eqnstr\n",
    "        \n",
    "    \n",
    "    def matrices(self, model='linear', cuts=None):\n",
    "        if cuts is not None:\n",
    "            key = [key for key in cuts.keys()][0]\n",
    "            df = self.df\n",
    "            df = df.loc[df[key].between(*cuts[key]), :]\n",
    "            self.df = df\n",
    "            Least_Squares.__init__(self, self.df)\n",
    "            \n",
    "        N = self.N\n",
    "        if model == 'linear':\n",
    "            AMAT = np.matrix([np.ones(N), self.df.x]).T \n",
    "        elif model == 'quadratic':\n",
    "            AMAT = np.matrix([np.ones(N), self.df.x, self.df.x**2]).T \n",
    "        YMAT = np.vstack(self.df.y)\n",
    "        CMAT = np.zeros(shape=(N,N))\n",
    "        CMAT = np.asmatrix(CMAT)\n",
    "        np.fill_diagonal(CMAT, self.df.yerr**2)\n",
    "        self.A = AMAT\n",
    "        self.Y = YMAT\n",
    "        self.C = CMAT\n",
    "        return AMAT, YMAT, CMAT\n",
    "\n",
    "    def fit(self):\n",
    "        \"\"\"\n",
    "        When using matrices in Python:\n",
    "        ------------------------------\n",
    "        - A*C is the same as np.dot(A, C), the dot product.\n",
    "        - A**-1 is the same as np.linalg.inv(A), the inverse of A.\n",
    "        - A.T is the transpose of A.\n",
    "        \n",
    "        Our Matrices \n",
    "        (using Hogg et al. notation)\n",
    "        see \n",
    "        https://arxiv.org/pdf/1008.4686.pdf\n",
    "        ------------------------------------\n",
    "        A : features matrix, holds x-data, but the first column \n",
    "            of the matrix is all 1s, and the second column is x_i.\n",
    "        Y : the response vector. A vertical vector holding the y-data. \n",
    "        C : Covariance Matrix of the (x,y) data's variances, \n",
    "            so the square of their uncertainties. We use y-axis \n",
    "            uncertainties only usually. \n",
    "            The diagonals are (yerr[i]**2) for the ith data points.\n",
    "        \n",
    "        Parmater Estimates:\n",
    "        -------------------\n",
    "        X = ((A.T * C**-1 * A)**-1) * A.T * C**-1 * Y \n",
    "        Weight everything by the inverse of the covariance matrix \n",
    "        (as you would if you were doing, say, a weighted average),\n",
    "        and then left-multiply everything by A^T (the transpose of \n",
    "        A) to reduce the dimensionality. \n",
    "        \n",
    "        Y Model Values:\n",
    "        ---------------\n",
    "        YMODEL = A*X\n",
    "        The values of y given the model.\n",
    "        \n",
    "        Chi-Squared:\n",
    "        ------------\n",
    "        chisqrd = (Y-A*X).T * C**-1 * (Y-A*X)\n",
    "        OR \n",
    "        chisqrd = (Y-YMODEL).T * C**-1 * (Y-YMODEL)\n",
    "        What you minimize in the fit. The total squared error, \n",
    "        scaled by the uncertainties. The parameter estimation \n",
    "        equation (X above) yields the intercept and slope that \n",
    "        minimizes the chisqrd (this eqn). \n",
    "        \n",
    "        \n",
    "        Covariance Matrix of \n",
    "        the Parameters (or fit)\n",
    "        ------------------------\n",
    "        COVARMAT = (A.T * C**-1 * A)**-1\n",
    "        \n",
    "        Variance on the Parameters:\n",
    "        ---------------------------\n",
    "        VAR = ((A.T * C**-1 * A)**-1).diagonal()\n",
    "        OR\n",
    "        VAR = COVARMAT.diagonal()\n",
    "        The variance on the parameters are along the diagonal of \n",
    "        the paramter's covariance matrix. Techinially the diagonals \n",
    "        of COVARMAT are the variances and the off-diagonals are the \n",
    "        covariances. So the covariance matrix is better named the \n",
    "        variance-covariance matrix of the parameters (or fit). \n",
    "        \n",
    "        Uncertainty on the Parameters:\n",
    "        ------------------------------\n",
    "        VAR = np.asarray(VAR.ravel())[0]  # make it an array\n",
    "        UNC = VAR**0.5\n",
    "        The uncertainties are the sqr roots of the variances. \n",
    "        \n",
    "        NOTE:\n",
    "        ----\n",
    "        Recall the propagation of uncertainty equation has two \n",
    "        main parts; one for variance terms and one for \n",
    "        covariance terms. \n",
    "        \n",
    "        Var(f) = PDMAT.T * COVMAT**-1 * PDMAT\n",
    "        Where PDMAT is the matrix holdign the partial derivatives \n",
    "        of the function WRT each free parameter in the model. \n",
    "        \n",
    "        \n",
    "        \n",
    "        \"\"\"\n",
    "        N = self.N\n",
    "        A = self.A\n",
    "        C = self.C\n",
    "        Y = self.Y\n",
    "        \n",
    "        X = ((A.T * C**-1 * A)**-1) * A.T * C**-1 * Y         \n",
    "        self.X = X\n",
    "        self.params = X\n",
    "        self.ymodeldata = A*X \n",
    "        self.chisqrd = (Y-A*X).T * C**-1 * (Y-A*X)\n",
    "        self.covarmat = (A.T * C**-1 * A)**-1\n",
    "        var = ((A.T * C**-1 * A)**-1).diagonal() # covarmat.diagonal()\n",
    "        var = np.asarray(var.ravel())[0]\n",
    "        self.variance = var\n",
    "        self.uncertainty = var**0.5\n",
    "        \n",
    "        out = {}\n",
    "        out['params'] = self.params\n",
    "        out['ymodeldata'] = self.ymodeldata \n",
    "        out['chisqrd'] = self.chisqrd\n",
    "        out['covarmat'] = self.covarmat\n",
    "        out['variance'] = self.variance\n",
    "        out['uncertainty'] = self.uncertainty\n",
    "        self.fitresult = out\n",
    "        \n",
    "        self.params = np.asarray(self.params.ravel())[0]\n",
    "        self.ymodeldata = np.asarray(self.ymodeldata.ravel())[0]\n",
    "        \n",
    "        return out\n",
    "    \n",
    "    \n",
    "    def plot(self, model='linear'):\n",
    "        x,y = self.xdata,self.ydata\n",
    "        xerr,yerr = self.xdataerr,self.ydataerr\n",
    "        \n",
    "        pars = self.params\n",
    "        uncs = self.uncertainty\n",
    "        \n",
    "        \n",
    "        plt.clf()\n",
    "        plt.figure(figsize=(8,6))\n",
    "        plt.errorbar(x, y, xerr=xerr, yerr=yerr, \n",
    "                     fmt='ro', alpha=0.5, label='data')\n",
    "        x = np.linspace(x.min(), x.max(), 100)\n",
    "        ymodel,ymodelstr = self._model(x, model=model, params=pars, uncerts=uncs)\n",
    "        plt.plot(x, ymodel, color='k', ls='-', label='model') \n",
    "        plt.figtext(0.3, 0.2, ymodelstr, fontsize=12)\n",
    "        plt.legend(loc=0)\n",
    "        plt.show()   \n",
    "\n",
    " \n"
   ]
  },
  {
   "cell_type": "code",
   "execution_count": 145,
   "metadata": {},
   "outputs": [
    {
     "data": {
      "text/plain": [
       "matrix([[34.04772776],\n",
       "        [ 2.23992083]])"
      ]
     },
     "execution_count": 145,
     "metadata": {},
     "output_type": "execute_result"
    }
   ],
   "source": [
    "result = LS.fit()\n",
    "result['params']"
   ]
  },
  {
   "cell_type": "code",
   "execution_count": 146,
   "metadata": {},
   "outputs": [
    {
     "data": {
      "text/plain": [
       "array([488.75165658, 163.96313599, 504.4311024 , 486.51173575,\n",
       "       477.55205242, 387.95521916, 403.63466498, 484.27181492,\n",
       "       385.71529832, 327.4773567 , 405.87458581, 392.43506082,\n",
       "       450.67300244, 314.03783171, 522.35046905, 361.07616918])"
      ]
     },
     "execution_count": 146,
     "metadata": {},
     "output_type": "execute_result"
    }
   ],
   "source": [
    "LS.ymodel"
   ]
  },
  {
   "cell_type": "code",
   "execution_count": 147,
   "metadata": {},
   "outputs": [],
   "source": [
    "fit1 = Least_Squares(data)\n",
    "fit1.matrices(cuts = {'ID':[5,20]});\n",
    "result1 = fit1.fit()"
   ]
  },
  {
   "cell_type": "code",
   "execution_count": 148,
   "metadata": {},
   "outputs": [
    {
     "data": {
      "text/plain": [
       "<Figure size 432x288 with 0 Axes>"
      ]
     },
     "metadata": {},
     "output_type": "display_data"
    },
    {
     "data": {
      "image/png": "[encoded data removed]",
      "text/plain": [
       "<Figure size 576x432 with 1 Axes>"
      ]
     },
     "metadata": {
      "needs_background": "light"
     },
     "output_type": "display_data"
    }
   ],
   "source": [
    "fit1.plot()"
   ]
  },
  {
   "cell_type": "code",
   "execution_count": 149,
   "metadata": {},
   "outputs": [
    {
     "data": {
      "text/plain": [
       "array([34.04772776,  2.23992083])"
      ]
     },
     "execution_count": 149,
     "metadata": {},
     "output_type": "execute_result"
    }
   ],
   "source": [
    "fit1.params"
   ]
  },
  {
   "cell_type": "code",
   "execution_count": 150,
   "metadata": {},
   "outputs": [
    {
     "data": {
      "text/plain": [
       "array([18.24616675,  0.10778048])"
      ]
     },
     "execution_count": 150,
     "metadata": {},
     "output_type": "execute_result"
    }
   ],
   "source": [
    "fit1.uncertainty"
   ]
  },
  {
   "cell_type": "code",
   "execution_count": 151,
   "metadata": {},
   "outputs": [
    {
     "data": {
      "text/plain": [
       "array([3.32922601e+02, 1.16166311e-02])"
      ]
     },
     "execution_count": 151,
     "metadata": {},
     "output_type": "execute_result"
    }
   ],
   "source": [
    "fit1.variance"
   ]
  },
  {
   "cell_type": "code",
   "execution_count": 152,
   "metadata": {},
   "outputs": [
    {
     "data": {
      "text/plain": [
       "matrix([[18.68076991]])"
      ]
     },
     "execution_count": 152,
     "metadata": {},
     "output_type": "execute_result"
    }
   ],
   "source": [
    "fit1.chisqrd"
   ]
  },
  {
   "cell_type": "code",
   "execution_count": 153,
   "metadata": {},
   "outputs": [
    {
     "data": {
      "text/plain": [
       "0.011616631123297434"
      ]
     },
     "execution_count": 153,
     "metadata": {},
     "output_type": "execute_result"
    }
   ],
   "source": [
    "fit1.variance[1]"
   ]
  },
  {
   "cell_type": "markdown",
   "metadata": {},
   "source": [
    "#### standard uncertainty variance on the slope of the line is: $\\sigma_m^2 = 0.0116$"
   ]
  },
  {
   "cell_type": "markdown",
   "metadata": {},
   "source": [
    "# This is an example of the standard weighted least-square fit."
   ]
  },
  {
   "cell_type": "markdown",
   "metadata": {},
   "source": [
    "# Exercise 2: \n",
    "Repeat Exercise 1 but for all the data points in Table 1 on\n",
    "page 6. Your plot should end up looking like Figure 2. What is the standard uncertainty variance $\\sigma_m^2$ on the slope of the line? Is there anything you don't\n",
    "like about the result? Is there anything different about the new points you have included beyond those used in Exercise 1?"
   ]
  },
  {
   "cell_type": "code",
   "execution_count": 154,
   "metadata": {},
   "outputs": [],
   "source": [
    "fit2 = Least_Squares(data)\n",
    "fit2.matrices();\n",
    "result2 = fit2.fit()"
   ]
  },
  {
   "cell_type": "code",
   "execution_count": 155,
   "metadata": {},
   "outputs": [
    {
     "data": {
      "text/plain": [
       "<Figure size 432x288 with 0 Axes>"
      ]
     },
     "metadata": {},
     "output_type": "display_data"
    },
    {
     "data": {
      "image/png": "[encoded data removed]",
      "text/plain": [
       "<Figure size 576x432 with 1 Axes>"
      ]
     },
     "metadata": {
      "needs_background": "light"
     },
     "output_type": "display_data"
    }
   ],
   "source": [
    "fit2.plot()"
   ]
  },
  {
   "cell_type": "code",
   "execution_count": 156,
   "metadata": {},
   "outputs": [
    {
     "data": {
      "text/plain": [
       "<Figure size 432x288 with 0 Axes>"
      ]
     },
     "metadata": {},
     "output_type": "display_data"
    },
    {
     "data": {
      "image/png": "[encoded data removed]",
      "text/plain": [
       "<Figure size 576x432 with 1 Axes>"
      ]
     },
     "metadata": {
      "needs_background": "light"
     },
     "output_type": "display_data"
    }
   ],
   "source": [
    "fit1.plot()"
   ]
  },
  {
   "cell_type": "markdown",
   "metadata": {},
   "source": [
    "# Exercise 3: Quadratic Model"
   ]
  },
  {
   "cell_type": "code",
   "execution_count": 157,
   "metadata": {},
   "outputs": [],
   "source": [
    "fit3 = Least_Squares(data)\n",
    "fit3.matrices(cuts = {'ID':[5,20]}, model='quadratic');\n",
    "result3 = fit3.fit()"
   ]
  },
  {
   "cell_type": "code",
   "execution_count": 158,
   "metadata": {},
   "outputs": [
    {
     "data": {
      "text/plain": [
       "<Figure size 432x288 with 0 Axes>"
      ]
     },
     "metadata": {},
     "output_type": "display_data"
    },
    {
     "data": {
      "image/png": "[encoded data removed]",
      "text/plain": [
       "<Figure size 576x432 with 1 Axes>"
      ]
     },
     "metadata": {
      "needs_background": "light"
     },
     "output_type": "display_data"
    }
   ],
   "source": [
    "fit3.plot(model='quadratic')"
   ]
  },
  {
   "cell_type": "markdown",
   "metadata": {},
   "source": [
    "# Exercise 4"
   ]
  },
  {
   "cell_type": "code",
   "execution_count": 190,
   "metadata": {},
   "outputs": [],
   "source": [
    "import sympy\n",
    "\n",
    "from sympy import symbols\n",
    "from sympy import diff, Derivative\n",
    "from sympy import init_printing\n",
    "\n",
    "from sympy import diff, exp, sqrt, pi, ln, log"
   ]
  },
  {
   "cell_type": "code",
   "execution_count": 191,
   "metadata": {},
   "outputs": [],
   "source": [
    "init_printing(use_unicode=True)"
   ]
  },
  {
   "cell_type": "code",
   "execution_count": 192,
   "metadata": {},
   "outputs": [],
   "source": [
    "sigma, x, mu = symbols('sigma x mu')"
   ]
  },
  {
   "cell_type": "code",
   "execution_count": 193,
   "metadata": {},
   "outputs": [],
   "source": [
    "eqn = (1/sqrt(2*pi*sigma**2))*exp(-0.5*((x-mu)/sigma)**2)"
   ]
  },
  {
   "cell_type": "code",
   "execution_count": 194,
   "metadata": {},
   "outputs": [
    {
     "data": {
      "image/png": "[encoded data removed]",
      "text/latex": [
       "$$\\frac{\\partial}{\\partial \\mu} \\log{\\left (\\frac{\\sqrt{2} e^{- \\frac{0.5 \\left(- \\mu + x\\right)^{2}}{\\sigma^{2}}}}{2 \\sqrt{\\pi} \\sqrt{\\sigma^{2}}} \\right )}$$"
      ],
      "text/plain": [
       "  ⎛   ⎛                 2 ⎞⎞\n",
       "  ⎜   ⎜    -0.5⋅(-μ + x)  ⎟⎟\n",
       "  ⎜   ⎜    ───────────────⎟⎟\n",
       "  ⎜   ⎜            2      ⎟⎟\n",
       "  ⎜   ⎜           σ       ⎟⎟\n",
       "∂ ⎜   ⎜√2⋅ℯ               ⎟⎟\n",
       "──⎜log⎜───────────────────⎟⎟\n",
       "∂μ⎜   ⎜            ____   ⎟⎟\n",
       "  ⎜   ⎜           ╱  2    ⎟⎟\n",
       "  ⎝   ⎝    2⋅√π⋅╲╱  σ     ⎠⎠"
      ]
     },
     "execution_count": 194,
     "metadata": {},
     "output_type": "execute_result"
    }
   ],
   "source": [
    "Derivative(ln(eqn), mu)"
   ]
  },
  {
   "cell_type": "code",
   "execution_count": 195,
   "metadata": {},
   "outputs": [
    {
     "data": {
      "image/png": "[encoded data removed]",
      "text/latex": [
       "$$- \\frac{0.5 \\left(2 \\mu - 2 x\\right)}{\\sigma^{2}}$$"
      ],
      "text/plain": [
       "-0.5⋅(2⋅μ - 2⋅x) \n",
       "─────────────────\n",
       "         2       \n",
       "        σ        "
      ]
     },
     "execution_count": 195,
     "metadata": {},
     "output_type": "execute_result"
    }
   ],
   "source": [
    "Derivative(ln(eqn), mu).doit()"
   ]
  },
  {
   "cell_type": "code",
   "execution_count": 196,
   "metadata": {},
   "outputs": [
    {
     "data": {
      "image/png": "[encoded data removed]",
      "text/latex": [
       "$$- \\frac{0.5 \\left(2 \\mu - 2 x\\right)}{\\sigma^{2}}$$"
      ],
      "text/plain": [
       "-0.5⋅(2⋅μ - 2⋅x) \n",
       "─────────────────\n",
       "         2       \n",
       "        σ        "
      ]
     },
     "execution_count": 196,
     "metadata": {},
     "output_type": "execute_result"
    }
   ],
   "source": [
    "diff(ln(eqn), mu)"
   ]
  },
  {
   "cell_type": "code",
   "execution_count": 202,
   "metadata": {},
   "outputs": [
    {
     "data": {
      "image/png": "[encoded data removed]",
      "text/latex": [
       "$$\\frac{1.0 \\left(- \\mu + x\\right)}{\\sigma^{2}}$$"
      ],
      "text/plain": [
       "1.0⋅(-μ + x)\n",
       "────────────\n",
       "      2     \n",
       "     σ      "
      ]
     },
     "execution_count": 202,
     "metadata": {},
     "output_type": "execute_result"
    }
   ],
   "source": [
    "diff(ln(eqn), mu).simplify()"
   ]
  },
  {
   "cell_type": "code",
   "execution_count": 197,
   "metadata": {},
   "outputs": [
    {
     "data": {
      "image/png": "[encoded data removed]",
      "text/latex": [
       "$$\\sqrt{2} \\sqrt{\\pi} \\left(- \\frac{\\sqrt{2} e^{- \\frac{0.5 \\left(- \\mu + x\\right)^{2}}{\\sigma^{2}}}}{2 \\sqrt{\\pi} \\sigma \\sqrt{\\sigma^{2}}} + \\frac{0.5 \\sqrt{2} \\left(- \\mu + x\\right)^{2} e^{- \\frac{0.5 \\left(- \\mu + x\\right)^{2}}{\\sigma^{2}}}}{\\sqrt{\\pi} \\sigma^{3} \\sqrt{\\sigma^{2}}}\\right) \\sqrt{\\sigma^{2}} e^{\\frac{0.5 \\left(- \\mu + x\\right)^{2}}{\\sigma^{2}}}$$"
      ],
      "text/plain": [
       "      ⎛                   2                                   2 ⎞             \n",
       "      ⎜      -0.5⋅(-μ + x)                       -0.5⋅(-μ + x)  ⎟             \n",
       "      ⎜      ───────────────                     ───────────────⎟          0.5\n",
       "      ⎜              2                                   2      ⎟          ───\n",
       "      ⎜             σ                         2         σ       ⎟    ____     \n",
       "      ⎜  √2⋅ℯ                  0.5⋅√2⋅(-μ + x) ⋅ℯ               ⎟   ╱  2      \n",
       "√2⋅√π⋅⎜- ─────────────────── + ─────────────────────────────────⎟⋅╲╱  σ  ⋅ℯ   \n",
       "      ⎜               ____                        ____          ⎟             \n",
       "      ⎜              ╱  2                    3   ╱  2           ⎟             \n",
       "      ⎝     2⋅√π⋅σ⋅╲╱  σ                 √π⋅σ ⋅╲╱  σ            ⎠             \n",
       "\n",
       "          \n",
       "         2\n",
       "⋅(-μ + x) \n",
       "──────────\n",
       "    2     \n",
       "   σ      \n",
       "          \n",
       "          \n",
       "          \n",
       "          "
      ]
     },
     "execution_count": 197,
     "metadata": {},
     "output_type": "execute_result"
    }
   ],
   "source": [
    "Derivative(ln(eqn), sigma).doit()"
   ]
  },
  {
   "cell_type": "code",
   "execution_count": 201,
   "metadata": {},
   "outputs": [
    {
     "data": {
      "image/png": "[encoded data removed]",
      "text/latex": [
       "$$\\frac{- \\sigma^{2} + \\left(\\mu - x\\right)^{2}}{\\sigma^{3}}$$"
      ],
      "text/plain": [
       "   2          2\n",
       "- σ  + (μ - x) \n",
       "───────────────\n",
       "        3      \n",
       "       σ       "
      ]
     },
     "execution_count": 201,
     "metadata": {},
     "output_type": "execute_result"
    }
   ],
   "source": [
    "Derivative(ln(eqn), sigma).doit().simplify()"
   ]
  },
  {
   "cell_type": "code",
   "execution_count": 198,
   "metadata": {},
   "outputs": [
    {
     "data": {
      "image/png": "[encoded data removed]",
      "text/latex": [
       "$$\\sqrt{2} \\sqrt{\\pi} \\left(- \\frac{\\sqrt{2} e^{- \\frac{0.5 \\left(- \\mu + x\\right)^{2}}{\\sigma^{2}}}}{2 \\sqrt{\\pi} \\sigma \\sqrt{\\sigma^{2}}} + \\frac{0.5 \\sqrt{2} \\left(- \\mu + x\\right)^{2} e^{- \\frac{0.5 \\left(- \\mu + x\\right)^{2}}{\\sigma^{2}}}}{\\sqrt{\\pi} \\sigma^{3} \\sqrt{\\sigma^{2}}}\\right) \\sqrt{\\sigma^{2}} e^{\\frac{0.5 \\left(- \\mu + x\\right)^{2}}{\\sigma^{2}}}$$"
      ],
      "text/plain": [
       "      ⎛                   2                                   2 ⎞             \n",
       "      ⎜      -0.5⋅(-μ + x)                       -0.5⋅(-μ + x)  ⎟             \n",
       "      ⎜      ───────────────                     ───────────────⎟          0.5\n",
       "      ⎜              2                                   2      ⎟          ───\n",
       "      ⎜             σ                         2         σ       ⎟    ____     \n",
       "      ⎜  √2⋅ℯ                  0.5⋅√2⋅(-μ + x) ⋅ℯ               ⎟   ╱  2      \n",
       "√2⋅√π⋅⎜- ─────────────────── + ─────────────────────────────────⎟⋅╲╱  σ  ⋅ℯ   \n",
       "      ⎜               ____                        ____          ⎟             \n",
       "      ⎜              ╱  2                    3   ╱  2           ⎟             \n",
       "      ⎝     2⋅√π⋅σ⋅╲╱  σ                 √π⋅σ ⋅╲╱  σ            ⎠             \n",
       "\n",
       "          \n",
       "         2\n",
       "⋅(-μ + x) \n",
       "──────────\n",
       "    2     \n",
       "   σ      \n",
       "          \n",
       "          \n",
       "          \n",
       "          "
      ]
     },
     "execution_count": 198,
     "metadata": {},
     "output_type": "execute_result"
    }
   ],
   "source": [
    "diff(ln(eqn), sigma)"
   ]
  },
  {
   "cell_type": "code",
   "execution_count": 200,
   "metadata": {},
   "outputs": [
    {
     "data": {
      "image/png": "[encoded data removed]",
      "text/latex": [
       "$$\\frac{- \\sigma^{2} + \\left(\\mu - x\\right)^{2}}{\\sigma^{3}}$$"
      ],
      "text/plain": [
       "   2          2\n",
       "- σ  + (μ - x) \n",
       "───────────────\n",
       "        3      \n",
       "       σ       "
      ]
     },
     "execution_count": 200,
     "metadata": {},
     "output_type": "execute_result"
    }
   ],
   "source": [
    "diff(ln(eqn), sigma).simplify()"
   ]
  },
  {
   "cell_type": "code",
   "execution_count": 203,
   "metadata": {},
   "outputs": [],
   "source": [
    "sigma, x, y, m, b = symbols('sigma x y m b')\n",
    "eqn = (1/sqrt(2*pi*sigma**2))*exp(-0.5*((y-m*x-b)/sigma)**2)"
   ]
  },
  {
   "cell_type": "code",
   "execution_count": 205,
   "metadata": {},
   "outputs": [
    {
     "data": {
      "image/png": "[encoded data removed]",
      "text/latex": [
       "$$\\frac{1.0 x \\left(- b - m x + y\\right)}{\\sigma^{2}}$$"
      ],
      "text/plain": [
       "1.0⋅x⋅(-b - m⋅x + y)\n",
       "────────────────────\n",
       "          2         \n",
       "         σ          "
      ]
     },
     "execution_count": 205,
     "metadata": {},
     "output_type": "execute_result"
    }
   ],
   "source": [
    "diff(ln(eqn), m)"
   ]
  },
  {
   "cell_type": "code",
   "execution_count": 204,
   "metadata": {},
   "outputs": [
    {
     "data": {
      "image/png": "[encoded data removed]",
      "text/latex": [
       "$$- \\frac{1.0 x \\left(b + m x - y\\right)}{\\sigma^{2}}$$"
      ],
      "text/plain": [
       "-1.0⋅x⋅(b + m⋅x - y) \n",
       "─────────────────────\n",
       "           2         \n",
       "          σ          "
      ]
     },
     "execution_count": 204,
     "metadata": {},
     "output_type": "execute_result"
    }
   ],
   "source": [
    "diff(ln(eqn), m).simplify()"
   ]
  },
  {
   "cell_type": "code",
   "execution_count": 206,
   "metadata": {},
   "outputs": [
    {
     "data": {
      "image/png": "[encoded data removed]",
      "text/latex": [
       "$$- \\frac{0.5 \\left(2 b + 2 m x - 2 y\\right)}{\\sigma^{2}}$$"
      ],
      "text/plain": [
       "-0.5⋅(2⋅b + 2⋅m⋅x - 2⋅y) \n",
       "─────────────────────────\n",
       "             2           \n",
       "            σ            "
      ]
     },
     "execution_count": 206,
     "metadata": {},
     "output_type": "execute_result"
    }
   ],
   "source": [
    "diff(ln(eqn), b)"
   ]
  },
  {
   "cell_type": "code",
   "execution_count": 207,
   "metadata": {},
   "outputs": [
    {
     "data": {
      "image/png": "[encoded data removed]",
      "text/latex": [
       "$$\\frac{1.0 \\left(- b - m x + y\\right)}{\\sigma^{2}}$$"
      ],
      "text/plain": [
       "1.0⋅(-b - m⋅x + y)\n",
       "──────────────────\n",
       "         2        \n",
       "        σ         "
      ]
     },
     "execution_count": 207,
     "metadata": {},
     "output_type": "execute_result"
    }
   ],
   "source": [
    "diff(ln(eqn), b).simplify()"
   ]
  }
 ],
 "metadata": {
  "kernelspec": {
   "display_name": "Python 3",
   "language": "python",
   "name": "python3"
  },
  "language_info": {
   "codemirror_mode": {
    "name": "ipython",
    "version": 3
   },
   "file_extension": ".py",
   "mimetype": "text/x-python",
   "name": "python",
   "nbconvert_exporter": "python",
   "pygments_lexer": "ipython3",
   "version": "3.7.0"
  }
 },
 "nbformat": 4,
 "nbformat_minor": 2
}
