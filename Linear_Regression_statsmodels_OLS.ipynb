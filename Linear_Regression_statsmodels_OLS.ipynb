{
 "cells": [
  {
   "cell_type": "markdown",
   "metadata": {},
   "source": [
    "https://www.datascience.com/blog/7-methods-to-fit-linear-model-python"
   ]
  },
  {
   "cell_type": "code",
   "execution_count": 31,
   "metadata": {},
   "outputs": [],
   "source": [
    "import pandas as pd\n",
    "import numpy as np\n",
    "# ordinary least squares linear regression\n",
    "import statsmodels.formula.api as smf\n",
    "\n",
    "import matplotlib.pyplot as plt\n",
    "%matplotlib inline"
   ]
  },
  {
   "cell_type": "markdown",
   "metadata": {},
   "source": [
    "## read in data"
   ]
  },
  {
   "cell_type": "code",
   "execution_count": 32,
   "metadata": {},
   "outputs": [
    {
     "data": {
      "text/html": [
       "<div>\n",
       "<style scoped>\n",
       "    .dataframe tbody tr th:only-of-type {\n",
       "        vertical-align: middle;\n",
       "    }\n",
       "\n",
       "    .dataframe tbody tr th {\n",
       "        vertical-align: top;\n",
       "    }\n",
       "\n",
       "    .dataframe thead th {\n",
       "        text-align: right;\n",
       "    }\n",
       "</style>\n",
       "<table border=\"1\" class=\"dataframe\">\n",
       "  <thead>\n",
       "    <tr style=\"text-align: right;\">\n",
       "      <th></th>\n",
       "      <th>TV</th>\n",
       "      <th>radio</th>\n",
       "      <th>newspaper</th>\n",
       "      <th>sales</th>\n",
       "    </tr>\n",
       "  </thead>\n",
       "  <tbody>\n",
       "    <tr>\n",
       "      <th>1</th>\n",
       "      <td>230.1</td>\n",
       "      <td>37.8</td>\n",
       "      <td>69.2</td>\n",
       "      <td>22.1</td>\n",
       "    </tr>\n",
       "    <tr>\n",
       "      <th>2</th>\n",
       "      <td>44.5</td>\n",
       "      <td>39.3</td>\n",
       "      <td>45.1</td>\n",
       "      <td>10.4</td>\n",
       "    </tr>\n",
       "    <tr>\n",
       "      <th>3</th>\n",
       "      <td>17.2</td>\n",
       "      <td>45.9</td>\n",
       "      <td>69.3</td>\n",
       "      <td>9.3</td>\n",
       "    </tr>\n",
       "    <tr>\n",
       "      <th>4</th>\n",
       "      <td>151.5</td>\n",
       "      <td>41.3</td>\n",
       "      <td>58.5</td>\n",
       "      <td>18.5</td>\n",
       "    </tr>\n",
       "    <tr>\n",
       "      <th>5</th>\n",
       "      <td>180.8</td>\n",
       "      <td>10.8</td>\n",
       "      <td>58.4</td>\n",
       "      <td>12.9</td>\n",
       "    </tr>\n",
       "  </tbody>\n",
       "</table>\n",
       "</div>"
      ],
      "text/plain": [
       "      TV  radio  newspaper  sales\n",
       "1  230.1   37.8       69.2   22.1\n",
       "2   44.5   39.3       45.1   10.4\n",
       "3   17.2   45.9       69.3    9.3\n",
       "4  151.5   41.3       58.5   18.5\n",
       "5  180.8   10.8       58.4   12.9"
      ]
     },
     "execution_count": 32,
     "metadata": {},
     "output_type": "execute_result"
    }
   ],
   "source": [
    "# read data into a DataFrame\n",
    "data = pd.read_csv('http://www-bcf.usc.edu/~gareth/ISL/Advertising.csv', index_col=0)\n",
    "data.head()"
   ]
  },
  {
   "cell_type": "code",
   "execution_count": 33,
   "metadata": {},
   "outputs": [],
   "source": [
    "?smf.ols"
   ]
  },
  {
   "cell_type": "code",
   "execution_count": 34,
   "metadata": {},
   "outputs": [],
   "source": [
    "result = smf.ols(formula='sales ~ TV', data=data).fit()"
   ]
  },
  {
   "cell_type": "code",
   "execution_count": 35,
   "metadata": {},
   "outputs": [
    {
     "data": {
      "text/plain": [
       "Intercept    7.032594\n",
       "TV           0.047537\n",
       "dtype: float64"
      ]
     },
     "execution_count": 35,
     "metadata": {},
     "output_type": "execute_result"
    }
   ],
   "source": [
    "result.params"
   ]
  },
  {
   "cell_type": "markdown",
   "metadata": {},
   "source": [
    "### Variance-Covariance Matrix"
   ]
  },
  {
   "cell_type": "code",
   "execution_count": 36,
   "metadata": {},
   "outputs": [
    {
     "data": {
      "text/html": [
       "<div>\n",
       "<style scoped>\n",
       "    .dataframe tbody tr th:only-of-type {\n",
       "        vertical-align: middle;\n",
       "    }\n",
       "\n",
       "    .dataframe tbody tr th {\n",
       "        vertical-align: top;\n",
       "    }\n",
       "\n",
       "    .dataframe thead th {\n",
       "        text-align: right;\n",
       "    }\n",
       "</style>\n",
       "<table border=\"1\" class=\"dataframe\">\n",
       "  <thead>\n",
       "    <tr style=\"text-align: right;\">\n",
       "      <th></th>\n",
       "      <th>Intercept</th>\n",
       "      <th>TV</th>\n",
       "    </tr>\n",
       "  </thead>\n",
       "  <tbody>\n",
       "    <tr>\n",
       "      <th>Intercept</th>\n",
       "      <td>0.209620</td>\n",
       "      <td>-0.001064</td>\n",
       "    </tr>\n",
       "    <tr>\n",
       "      <th>TV</th>\n",
       "      <td>-0.001064</td>\n",
       "      <td>0.000007</td>\n",
       "    </tr>\n",
       "  </tbody>\n",
       "</table>\n",
       "</div>"
      ],
      "text/plain": [
       "           Intercept        TV\n",
       "Intercept   0.209620 -0.001064\n",
       "TV         -0.001064  0.000007"
      ]
     },
     "execution_count": 36,
     "metadata": {},
     "output_type": "execute_result"
    }
   ],
   "source": [
    "result.cov_params()"
   ]
  },
  {
   "cell_type": "markdown",
   "metadata": {},
   "source": [
    "### Residual Sum of Squares:\n",
    "RSS = sum(residuals**2)"
   ]
  },
  {
   "cell_type": "code",
   "execution_count": 37,
   "metadata": {},
   "outputs": [
    {
     "data": {
      "text/plain": [
       "2102.5305831313517"
      ]
     },
     "execution_count": 37,
     "metadata": {},
     "output_type": "execute_result"
    }
   ],
   "source": [
    "result.ssr  # RSS"
   ]
  },
  {
   "cell_type": "markdown",
   "metadata": {},
   "source": [
    "### Residuals"
   ]
  },
  {
   "cell_type": "code",
   "execution_count": 38,
   "metadata": {
    "scrolled": false
   },
   "outputs": [
    {
     "data": {
      "text/plain": [
       "[4.129225487234464,\n",
       " 1.2520259516029295,\n",
       " 1.449776235424368,\n",
       " 4.265605425269815,\n",
       " -2.727218139417664,\n",
       " -0.24616232089496481,\n",
       " 2.0340496259736724,\n",
       " 0.45350227082333205,\n",
       " -2.641408656851663,\n",
       " -5.930414307645039,\n",
       " -1.5747654817502994,\n",
       " 0.1612897499029664,\n",
       " 1.0360344085664366,\n",
       " -1.967415991347119,\n",
       " 2.2651781384929777,\n",
       " 6.0787469102602465,\n",
       " 2.2444222295135674,\n",
       " 3.9905958330205493,\n",
       " 0.9778709329073401,\n",
       " 0.5652593150884968,\n",
       " 0.5854041803007917,\n",
       " -5.817791987926583,\n",
       " -2.060077202843554,\n",
       " -2.385208559986104,\n",
       " -0.29412624810482413,\n",
       " -7.529976318968586,\n",
       " 1.1744205329937856,\n",
       " -2.546140917095732,\n",
       " 0.04029031113699233,\n",
       " 0.11131963630111308,\n",
       " 0.4439244680408194,\n",
       " -0.4994802540156229,\n",
       " -2.053154999217213,\n",
       " -2.2583252481377407,\n",
       " -2.0818500385676835,\n",
       " -8.051494923006533,\n",
       " 5.679877119299334,\n",
       " 4.116419410525731,\n",
       " 1.018577248209155,\n",
       " 3.629052432143805,\n",
       " -0.05876323681419038,\n",
       " 1.653421094227813,\n",
       " -0.2893511802622939,\n",
       " -3.967924454719478,\n",
       " 0.2742367760035105,\n",
       " -0.45625928894945034,\n",
       " -0.6966301959695649,\n",
       " 4.763366410990866,\n",
       " -3.032918255509781,\n",
       " -0.512794794096715,\n",
       " -5.130414307645038,\n",
       " -1.1052722486028763,\n",
       " 5.280477461166832,\n",
       " 5.4872159078029,\n",
       " 0.6795310091180191,\n",
       " 7.212368668744677,\n",
       " -1.879611024288737,\n",
       " -0.30708397610498395,\n",
       " 6.746682647591744,\n",
       " 1.3514363116350445,\n",
       " -1.4758038122942505,\n",
       " 4.746082305724247,\n",
       " -2.7081116047493197,\n",
       " 2.08539347840118,\n",
       " 4.735352890103417,\n",
       " -1.012621739006054,\n",
       " 0.9700022772321848,\n",
       " -0.2544475614473445,\n",
       " 0.5822080120734157,\n",
       " 4.9614628049936265,\n",
       " 1.802861340658076,\n",
       " 0.1478833313267387,\n",
       " 0.49342448726737764,\n",
       " -2.183834821160449,\n",
       " -0.17691261753410714,\n",
       " 0.8640372275542729,\n",
       " -1.439851161035735,\n",
       " 1.4392412786934266,\n",
       " -1.9892914074660002,\n",
       " -1.546843839357983,\n",
       " 1.135607121789599,\n",
       " -6.131879924965826,\n",
       " 0.6878974262659199,\n",
       " 3.315900245253756,\n",
       " 4.518333718422589,\n",
       " -1.0166724807871113,\n",
       " 1.3403607858328996,\n",
       " 3.70510035493702,\n",
       " 1.6699211006366639,\n",
       " 4.447883331326738,\n",
       " -2.216764359282248,\n",
       " -1.092141465512058,\n",
       " 2.018679828603908,\n",
       " 3.240463366227651,\n",
       " -0.6380287316340141,\n",
       " 2.1046730681601797,\n",
       " -4.725833698692394,\n",
       " -0.32211836519304526,\n",
       " 4.596041717426484,\n",
       " 3.7404526643280356,\n",
       " -5.904742381431287,\n",
       " 2.677546226525255,\n",
       " -5.5523601984598265,\n",
       " -1.2647282864921046,\n",
       " 2.344178699727003,\n",
       " 5.6121037351588825,\n",
       " -1.0210095599531863,\n",
       " -2.6299058442726793,\n",
       " -2.355323538800252,\n",
       " 0.6265484842790627,\n",
       " -4.366366958903553,\n",
       " 3.277800458211434,\n",
       " -1.284781273209262,\n",
       " -1.0962733838886312,\n",
       " 3.8500411690101615,\n",
       " 1.997404754352523,\n",
       " -1.4496938974040425,\n",
       " -1.2643928782104012,\n",
       " 2.892050748441724,\n",
       " -1.3548043735282764,\n",
       " 1.750479157686616,\n",
       " -0.9262823892684642,\n",
       " -6.080801006124117,\n",
       " 2.3156460135675765,\n",
       " 1.7577474714942731,\n",
       " -0.5777885948870161,\n",
       " -0.8033793445052471,\n",
       " -2.0450321118558765,\n",
       " 7.195084563478055,\n",
       " -0.16577731893567105,\n",
       " -5.465869197430807,\n",
       " -6.9393105919645315,\n",
       " -1.7319013287650584,\n",
       " 2.118852883694565,\n",
       " 2.0133044188938793,\n",
       " 2.271386717957453,\n",
       " 1.2504684557870007,\n",
       " 0.7566279643548022,\n",
       " 0.5233309122524563,\n",
       " 4.877881634806954,\n",
       " 0.37821704308865733,\n",
       " 2.9595591989963808,\n",
       " 2.5855772353914546,\n",
       " -1.6049261384215594,\n",
       " -0.20561835878419288,\n",
       " -3.4019842018803637,\n",
       " -5.246140917095733,\n",
       " 6.8064954975619045,\n",
       " 2.0610141144175564,\n",
       " 0.9425186235163228,\n",
       " -4.276128518676337,\n",
       " -1.1845270415230829,\n",
       " 0.1741663013076078,\n",
       " 3.824379944696023,\n",
       " -0.35997462244880296,\n",
       " -4.027493774903074,\n",
       " 3.803715914211754,\n",
       " -4.053582285994052,\n",
       " -0.28877224219402375,\n",
       " -0.39316909415639323,\n",
       " -0.8326640238236003,\n",
       " 2.193516365762516,\n",
       " -1.0884966067086133,\n",
       " 3.195165740073577,\n",
       " -0.7038878078776083,\n",
       " -6.2799357306708234,\n",
       " 0.11650058712125322,\n",
       " -4.66317079067618,\n",
       " -0.17198589840014478,\n",
       " -5.547260424235208,\n",
       " -1.0094255707786797,\n",
       " -0.35237090035944263,\n",
       " -0.3643117016148807,\n",
       " -3.33776379804822,\n",
       " -6.1047423814312864,\n",
       " 6.80451071496914,\n",
       " 1.359304967310198,\n",
       " -3.423329750827655,\n",
       " -8.385981956944256,\n",
       " -2.3046612048357638,\n",
       " -3.976831440938586,\n",
       " -5.2193494837425085,\n",
       " -1.004152741463404,\n",
       " 5.495868662335827,\n",
       " -1.497392891028106,\n",
       " 5.822395162103259,\n",
       " -3.3639548895339466,\n",
       " 1.1831544641222358,\n",
       " -4.728072712971342,\n",
       " -1.2215287252251619,\n",
       " 1.8897091537680275,\n",
       " -0.721609901820683,\n",
       " -1.9502237645756324,\n",
       " 4.638294826644614,\n",
       " 3.151171378049252,\n",
       " -1.2484932136690485,\n",
       " -1.8105450779181531,\n",
       " -2.646578905772188,\n",
       " 4.986015224067906,\n",
       " -4.665847793631576]"
      ]
     },
     "execution_count": 38,
     "metadata": {},
     "output_type": "execute_result"
    }
   ],
   "source": [
    "result.resid.tolist()"
   ]
  },
  {
   "cell_type": "code",
   "execution_count": 39,
   "metadata": {},
   "outputs": [
    {
     "data": {
      "text/plain": [
       "0.611875050850071"
      ]
     },
     "execution_count": 39,
     "metadata": {},
     "output_type": "execute_result"
    }
   ],
   "source": [
    "result.rsquared"
   ]
  },
  {
   "cell_type": "code",
   "execution_count": 40,
   "metadata": {},
   "outputs": [
    {
     "data": {
      "text/plain": [
       "0.6099148238341623"
      ]
     },
     "execution_count": 40,
     "metadata": {},
     "output_type": "execute_result"
    }
   ],
   "source": [
    "result.rsquared_adj"
   ]
  },
  {
   "cell_type": "code",
   "execution_count": 42,
   "metadata": {},
   "outputs": [
    {
     "name": "stdout",
     "output_type": "stream",
     "text": [
      "                            OLS Regression Results                            \n",
      "==============================================================================\n",
      "Dep. Variable:                  sales   R-squared:                       0.612\n",
      "Model:                            OLS   Adj. R-squared:                  0.610\n",
      "Method:                 Least Squares   F-statistic:                     312.1\n",
      "Date:                Mon, 11 Feb 2019   Prob (F-statistic):           1.47e-42\n",
      "Time:                        16:43:14   Log-Likelihood:                -519.05\n",
      "No. Observations:                 200   AIC:                             1042.\n",
      "Df Residuals:                     198   BIC:                             1049.\n",
      "Df Model:                           1                                         \n",
      "Covariance Type:            nonrobust                                         \n",
      "==============================================================================\n",
      "                 coef    std err          t      P>|t|      [0.025      0.975]\n",
      "------------------------------------------------------------------------------\n",
      "Intercept      7.0326      0.458     15.360      0.000       6.130       7.935\n",
      "TV             0.0475      0.003     17.668      0.000       0.042       0.053\n",
      "==============================================================================\n",
      "Omnibus:                        0.531   Durbin-Watson:                   1.935\n",
      "Prob(Omnibus):                  0.767   Jarque-Bera (JB):                0.669\n",
      "Skew:                          -0.089   Prob(JB):                        0.716\n",
      "Kurtosis:                       2.779   Cond. No.                         338.\n",
      "==============================================================================\n",
      "\n",
      "Warnings:\n",
      "[1] Standard Errors assume that the covariance matrix of the errors is correctly specified.\n"
     ]
    }
   ],
   "source": [
    "print(result.summary())"
   ]
  },
  {
   "cell_type": "code",
   "execution_count": 45,
   "metadata": {},
   "outputs": [
    {
     "data": {
      "text/html": [
       "<div>\n",
       "<style scoped>\n",
       "    .dataframe tbody tr th:only-of-type {\n",
       "        vertical-align: middle;\n",
       "    }\n",
       "\n",
       "    .dataframe tbody tr th {\n",
       "        vertical-align: top;\n",
       "    }\n",
       "\n",
       "    .dataframe thead th {\n",
       "        text-align: right;\n",
       "    }\n",
       "</style>\n",
       "<table border=\"1\" class=\"dataframe\">\n",
       "  <thead>\n",
       "    <tr style=\"text-align: right;\">\n",
       "      <th></th>\n",
       "      <th>Intercept</th>\n",
       "      <th>TV</th>\n",
       "    </tr>\n",
       "  </thead>\n",
       "  <tbody>\n",
       "    <tr>\n",
       "      <th>Intercept</th>\n",
       "      <td>0.209620</td>\n",
       "      <td>-0.001064</td>\n",
       "    </tr>\n",
       "    <tr>\n",
       "      <th>TV</th>\n",
       "      <td>-0.001064</td>\n",
       "      <td>0.000007</td>\n",
       "    </tr>\n",
       "  </tbody>\n",
       "</table>\n",
       "</div>"
      ],
      "text/plain": [
       "           Intercept        TV\n",
       "Intercept   0.209620 -0.001064\n",
       "TV         -0.001064  0.000007"
      ]
     },
     "execution_count": 45,
     "metadata": {},
     "output_type": "execute_result"
    }
   ],
   "source": [
    "result.cov_params()"
   ]
  },
  {
   "cell_type": "code",
   "execution_count": 47,
   "metadata": {},
   "outputs": [
    {
     "data": {
      "text/plain": [
       "Intercept    0.457843\n",
       "TV           0.002691\n",
       "dtype: float64"
      ]
     },
     "execution_count": 47,
     "metadata": {},
     "output_type": "execute_result"
    }
   ],
   "source": [
    "result.bse"
   ]
  },
  {
   "cell_type": "code",
   "execution_count": 48,
   "metadata": {},
   "outputs": [
    {
     "data": {
      "text/plain": [
       "1042.0913275363478"
      ]
     },
     "execution_count": 48,
     "metadata": {},
     "output_type": "execute_result"
    }
   ],
   "source": [
    "result.aic"
   ]
  },
  {
   "cell_type": "code",
   "execution_count": 49,
   "metadata": {},
   "outputs": [
    {
     "data": {
      "text/plain": [
       "1048.687962269444"
      ]
     },
     "execution_count": 49,
     "metadata": {},
     "output_type": "execute_result"
    }
   ],
   "source": [
    "result.bic"
   ]
  },
  {
   "cell_type": "code",
   "execution_count": 43,
   "metadata": {
    "scrolled": true
   },
   "outputs": [
    {
     "name": "stdout",
     "output_type": "stream",
     "text": [
      "                 Results: Ordinary least squares\n",
      "==================================================================\n",
      "Model:              OLS              Adj. R-squared:     0.610    \n",
      "Dependent Variable: sales            AIC:                1042.0913\n",
      "Date:               2019-02-11 16:43 BIC:                1048.6880\n",
      "No. Observations:   200              Log-Likelihood:     -519.05  \n",
      "Df Model:           1                F-statistic:        312.1    \n",
      "Df Residuals:       198              Prob (F-statistic): 1.47e-42 \n",
      "R-squared:          0.612            Scale:              10.619   \n",
      "--------------------------------------------------------------------\n",
      "              Coef.    Std.Err.      t      P>|t|    [0.025   0.975]\n",
      "--------------------------------------------------------------------\n",
      "Intercept     7.0326     0.4578   15.3603   0.0000   6.1297   7.9355\n",
      "TV            0.0475     0.0027   17.6676   0.0000   0.0422   0.0528\n",
      "------------------------------------------------------------------\n",
      "Omnibus:              0.531         Durbin-Watson:           1.935\n",
      "Prob(Omnibus):        0.767         Jarque-Bera (JB):        0.669\n",
      "Skew:                 -0.089        Prob(JB):                0.716\n",
      "Kurtosis:             2.779         Condition No.:           338  \n",
      "==================================================================\n",
      "\n"
     ]
    }
   ],
   "source": [
    "print(result.summary2())"
   ]
  },
  {
   "cell_type": "code",
   "execution_count": 53,
   "metadata": {},
   "outputs": [
    {
     "data": {
      "text/plain": [
       "312.1449943727128"
      ]
     },
     "execution_count": 53,
     "metadata": {},
     "output_type": "execute_result"
    }
   ],
   "source": [
    "result.fvalue"
   ]
  },
  {
   "cell_type": "code",
   "execution_count": null,
   "metadata": {},
   "outputs": [],
   "source": []
  },
  {
   "cell_type": "code",
   "execution_count": null,
   "metadata": {},
   "outputs": [],
   "source": []
  },
  {
   "cell_type": "markdown",
   "metadata": {},
   "source": [
    "## Scikit-learn"
   ]
  },
  {
   "cell_type": "code",
   "execution_count": 285,
   "metadata": {},
   "outputs": [],
   "source": [
    "from sklearn.linear_model import LinearRegression"
   ]
  },
  {
   "cell_type": "code",
   "execution_count": 286,
   "metadata": {},
   "outputs": [],
   "source": [
    "linreg = LinearRegression( )"
   ]
  },
  {
   "cell_type": "code",
   "execution_count": 287,
   "metadata": {},
   "outputs": [],
   "source": [
    "ones = np.ones(shape=len(data.TV))   # works\n",
    "zeros = np.zeros(shape=len(data.TV)) # works\n",
    "empty = np.empty(shape=len(data.TV)) # works\n",
    "\n",
    "xdata = np.asarray(data.TV)\n",
    "\n",
    "# ALL 3 OF THESE WORK THE SAME. THE SECOND COEFF WILL BE 0 SINCE ITS A DUMMY ARRAY IN X. \n",
    "\n",
    "X = np.asarray(list(zip(xdata, ones)))  # works\n",
    "#X = np.asarray(list(zip(xdata, zeros))) # works\n",
    "#X = np.asarray(list(zip(xdata, empty))) # works\n",
    "\n",
    "y = np.asarray(data.sales)"
   ]
  },
  {
   "cell_type": "code",
   "execution_count": 288,
   "metadata": {},
   "outputs": [
    {
     "name": "stdout",
     "output_type": "stream",
     "text": [
      "7.0325935491276965\n",
      "[0.04753664 0.        ]\n"
     ]
    }
   ],
   "source": [
    "result = linreg.fit(X, y) \n",
    "\n",
    "# print the intercept and coefficients\n",
    "print(result.intercept_)\n",
    "print(result.coef_)"
   ]
  },
  {
   "cell_type": "code",
   "execution_count": 293,
   "metadata": {},
   "outputs": [
    {
     "data": {
      "text/plain": [
       "array([1211.12304443,    0.        ])"
      ]
     },
     "execution_count": 293,
     "metadata": {},
     "output_type": "execute_result"
    }
   ],
   "source": [
    "result.singular_"
   ]
  },
  {
   "cell_type": "markdown",
   "metadata": {},
   "source": [
    "## Using Matrices/Vector Algebra\n",
    "\n",
    "See [Wikipedia page](https://en.wikipedia.org/wiki/Ordinary_least_squares) under the Linear Model section and Matrix/vector formulation subsection. \n",
    "\n",
    "${\\displaystyle {\\hat {\\boldsymbol {\\beta }}}=(\\mathbf {X} ^{\\rm {T}}\\mathbf {X} )^{-1}\\mathbf {X} ^{\\rm {T}}\\mathbf {y} .}$\n",
    "\n",
    "${\\displaystyle \\mathbf {X} ={\\begin{bmatrix}X_{11}&X_{12}&\\cdots &X_{1p}\\\\X_{21}&X_{22}&\\cdots &X_{2p}\\\\\\vdots &\\vdots &\\ddots &\\vdots \\\\X_{n1}&X_{n2}&\\cdots &X_{np}\\end{bmatrix}},\\qquad {\\boldsymbol {\\beta }}={\\begin{bmatrix}\\beta _{1}\\\\\\beta _{2}\\\\\\vdots \\\\\\beta _{p}\\end{bmatrix}},\\qquad \\mathbf {y} ={\\begin{bmatrix}y_{1}\\\\y_{2}\\\\\\vdots \\\\y_{n}\\end{bmatrix}}.}$\n",
    "\n",
    "xdata = np.asarray(data.TV)\n",
    "\n",
    "# X = np.vstack([xdata, np.ones(len(xdata))]).T\n",
    "# X = np.asmatrix(X)\n",
    "\n",
    "# OR, A BETTER SOLUTION:\n",
    "X = np.matrix([xdata, np.ones(len(xdata))]).T  # shape(200, 2)\n",
    "y = np.asarray(data.sales)\n",
    "\n",
    "print(X.shape)            # (200, 2)\n",
    "print(y.shape)            # (200, )\n",
    "print(np.vstack(y).shape) # (200, 1)\n",
    "\n",
    "beta = ((X.T * X)**-1) * X.T * np.vstack(y)\n",
    "beta\n",
    "\n",
    "### USING NUMPY ARRAY DOENS'T WORK FOR X, EVENTHOUGH IT HAS THE SAME SHAPE AND LOOKS THE SAME. "
   ]
  },
  {
   "cell_type": "code",
   "execution_count": 275,
   "metadata": {},
   "outputs": [
    {
     "data": {
      "text/plain": [
       "(200, 2)"
      ]
     },
     "execution_count": 275,
     "metadata": {},
     "output_type": "execute_result"
    }
   ],
   "source": [
    "X.shape"
   ]
  },
  {
   "cell_type": "code",
   "execution_count": 276,
   "metadata": {},
   "outputs": [
    {
     "data": {
      "text/plain": [
       "matrix([[230.1,   1. ],\n",
       "        [ 44.5,   1. ],\n",
       "        [ 17.2,   1. ],\n",
       "        [151.5,   1. ],\n",
       "        [180.8,   1. ],\n",
       "        [  8.7,   1. ],\n",
       "        [ 57.5,   1. ],\n",
       "        [120.2,   1. ],\n",
       "        [  8.6,   1. ],\n",
       "        [199.8,   1. ],\n",
       "        [ 66.1,   1. ],\n",
       "        [214.7,   1. ],\n",
       "        [ 23.8,   1. ],\n",
       "        [ 97.5,   1. ],\n",
       "        [204.1,   1. ],\n",
       "        [195.4,   1. ],\n",
       "        [ 67.8,   1. ],\n",
       "        [281.4,   1. ],\n",
       "        [ 69.2,   1. ],\n",
       "        [147.3,   1. ],\n",
       "        [218.4,   1. ],\n",
       "        [237.4,   1. ],\n",
       "        [ 13.2,   1. ],\n",
       "        [228.3,   1. ],\n",
       "        [ 62.3,   1. ],\n",
       "        [262.9,   1. ],\n",
       "        [142.9,   1. ],\n",
       "        [240.1,   1. ],\n",
       "        [248.8,   1. ],\n",
       "        [ 70.6,   1. ],\n",
       "        [292.9,   1. ],\n",
       "        [112.9,   1. ],\n",
       "        [ 97.2,   1. ],\n",
       "        [265.6,   1. ],\n",
       "        [ 95.7,   1. ],\n",
       "        [290.7,   1. ],\n",
       "        [266.9,   1. ],\n",
       "        [ 74.7,   1. ],\n",
       "        [ 43.1,   1. ],\n",
       "        [228. ,   1. ],\n",
       "        [202.5,   1. ],\n",
       "        [177. ,   1. ],\n",
       "        [293.6,   1. ],\n",
       "        [206.9,   1. ],\n",
       "        [ 25.1,   1. ],\n",
       "        [175.1,   1. ],\n",
       "        [ 89.7,   1. ],\n",
       "        [239.9,   1. ],\n",
       "        [227.2,   1. ],\n",
       "        [ 66.9,   1. ],\n",
       "        [199.8,   1. ],\n",
       "        [100.4,   1. ],\n",
       "        [216.4,   1. ],\n",
       "        [182.6,   1. ],\n",
       "        [262.7,   1. ],\n",
       "        [198.9,   1. ],\n",
       "        [  7.3,   1. ],\n",
       "        [136.2,   1. ],\n",
       "        [210.8,   1. ],\n",
       "        [210.7,   1. ],\n",
       "        [ 53.5,   1. ],\n",
       "        [261.3,   1. ],\n",
       "        [239.3,   1. ],\n",
       "        [102.7,   1. ],\n",
       "        [131.1,   1. ],\n",
       "        [ 69. ,   1. ],\n",
       "        [ 31.5,   1. ],\n",
       "        [139.3,   1. ],\n",
       "        [237.4,   1. ],\n",
       "        [216.8,   1. ],\n",
       "        [199.1,   1. ],\n",
       "        [109.8,   1. ],\n",
       "        [ 26.8,   1. ],\n",
       "        [129.4,   1. ],\n",
       "        [213.4,   1. ],\n",
       "        [ 16.9,   1. ],\n",
       "        [ 27.5,   1. ],\n",
       "        [120.5,   1. ],\n",
       "        [  5.4,   1. ],\n",
       "        [116. ,   1. ],\n",
       "        [ 76.4,   1. ],\n",
       "        [239.8,   1. ],\n",
       "        [ 75.3,   1. ],\n",
       "        [ 68.4,   1. ],\n",
       "        [213.5,   1. ],\n",
       "        [193.2,   1. ],\n",
       "        [ 76.3,   1. ],\n",
       "        [110.7,   1. ],\n",
       "        [ 88.3,   1. ],\n",
       "        [109.8,   1. ],\n",
       "        [134.3,   1. ],\n",
       "        [ 28.6,   1. ],\n",
       "        [217.7,   1. ],\n",
       "        [250.9,   1. ],\n",
       "        [107.4,   1. ],\n",
       "        [163.3,   1. ],\n",
       "        [197.6,   1. ],\n",
       "        [184.9,   1. ],\n",
       "        [289.7,   1. ],\n",
       "        [135.2,   1. ],\n",
       "        [222.4,   1. ],\n",
       "        [296.4,   1. ],\n",
       "        [280.2,   1. ],\n",
       "        [187.9,   1. ],\n",
       "        [238.2,   1. ],\n",
       "        [137.9,   1. ],\n",
       "        [ 25. ,   1. ],\n",
       "        [ 90.4,   1. ],\n",
       "        [ 13.1,   1. ],\n",
       "        [255.4,   1. ],\n",
       "        [225.8,   1. ],\n",
       "        [241.7,   1. ],\n",
       "        [175.7,   1. ],\n",
       "        [209.6,   1. ],\n",
       "        [ 78.2,   1. ],\n",
       "        [ 75.1,   1. ],\n",
       "        [139.2,   1. ],\n",
       "        [ 76.4,   1. ],\n",
       "        [125.7,   1. ],\n",
       "        [ 19.4,   1. ],\n",
       "        [141.3,   1. ],\n",
       "        [ 18.8,   1. ],\n",
       "        [224. ,   1. ],\n",
       "        [123.1,   1. ],\n",
       "        [229.5,   1. ],\n",
       "        [ 87.2,   1. ],\n",
       "        [  7.8,   1. ],\n",
       "        [ 80.2,   1. ],\n",
       "        [220.3,   1. ],\n",
       "        [ 59.6,   1. ],\n",
       "        [  0.7,   1. ],\n",
       "        [265.2,   1. ],\n",
       "        [  8.4,   1. ],\n",
       "        [219.8,   1. ],\n",
       "        [ 36.9,   1. ],\n",
       "        [ 48.3,   1. ],\n",
       "        [ 25.6,   1. ],\n",
       "        [273.7,   1. ],\n",
       "        [ 43. ,   1. ],\n",
       "        [184.9,   1. ],\n",
       "        [ 73.4,   1. ],\n",
       "        [193.7,   1. ],\n",
       "        [220.5,   1. ],\n",
       "        [104.6,   1. ],\n",
       "        [ 96.2,   1. ],\n",
       "        [140.3,   1. ],\n",
       "        [240.1,   1. ],\n",
       "        [243.2,   1. ],\n",
       "        [ 38. ,   1. ],\n",
       "        [ 44.7,   1. ],\n",
       "        [280.7,   1. ],\n",
       "        [121. ,   1. ],\n",
       "        [197.6,   1. ],\n",
       "        [171.3,   1. ],\n",
       "        [187.8,   1. ],\n",
       "        [  4.1,   1. ],\n",
       "        [ 93.9,   1. ],\n",
       "        [149.8,   1. ],\n",
       "        [ 11.7,   1. ],\n",
       "        [131.7,   1. ],\n",
       "        [172.5,   1. ],\n",
       "        [ 85.7,   1. ],\n",
       "        [188.4,   1. ],\n",
       "        [163.5,   1. ],\n",
       "        [117.2,   1. ],\n",
       "        [234.5,   1. ],\n",
       "        [ 17.9,   1. ],\n",
       "        [206.8,   1. ],\n",
       "        [215.4,   1. ],\n",
       "        [284.3,   1. ],\n",
       "        [ 50. ,   1. ],\n",
       "        [164.5,   1. ],\n",
       "        [ 19.6,   1. ],\n",
       "        [168.4,   1. ],\n",
       "        [222.4,   1. ],\n",
       "        [276.9,   1. ],\n",
       "        [248.4,   1. ],\n",
       "        [170.2,   1. ],\n",
       "        [276.7,   1. ],\n",
       "        [165.6,   1. ],\n",
       "        [156.6,   1. ],\n",
       "        [218.5,   1. ],\n",
       "        [ 56.2,   1. ],\n",
       "        [287.6,   1. ],\n",
       "        [253.8,   1. ],\n",
       "        [205. ,   1. ],\n",
       "        [139.5,   1. ],\n",
       "        [191.1,   1. ],\n",
       "        [286. ,   1. ],\n",
       "        [ 18.7,   1. ],\n",
       "        [ 39.5,   1. ],\n",
       "        [ 75.5,   1. ],\n",
       "        [ 17.2,   1. ],\n",
       "        [166.8,   1. ],\n",
       "        [149.7,   1. ],\n",
       "        [ 38.2,   1. ],\n",
       "        [ 94.2,   1. ],\n",
       "        [177. ,   1. ],\n",
       "        [283.6,   1. ],\n",
       "        [232.1,   1. ]])"
      ]
     },
     "execution_count": 276,
     "metadata": {},
     "output_type": "execute_result"
    }
   ],
   "source": [
    "X"
   ]
  },
  {
   "cell_type": "code",
   "execution_count": 277,
   "metadata": {},
   "outputs": [],
   "source": [
    "# THIS HAS SHAPE (200, 2). \n",
    "X = np.asarray( [xdata, np.ones(len(xdata))] ).T"
   ]
  },
  {
   "cell_type": "code",
   "execution_count": 278,
   "metadata": {},
   "outputs": [
    {
     "data": {
      "text/plain": [
       "(200, 2)"
      ]
     },
     "execution_count": 278,
     "metadata": {},
     "output_type": "execute_result"
    }
   ],
   "source": [
    "X.shape"
   ]
  },
  {
   "cell_type": "code",
   "execution_count": 279,
   "metadata": {},
   "outputs": [
    {
     "data": {
      "text/plain": [
       "array([[230.1,   1. ],\n",
       "       [ 44.5,   1. ],\n",
       "       [ 17.2,   1. ],\n",
       "       [151.5,   1. ],\n",
       "       [180.8,   1. ],\n",
       "       [  8.7,   1. ],\n",
       "       [ 57.5,   1. ],\n",
       "       [120.2,   1. ],\n",
       "       [  8.6,   1. ],\n",
       "       [199.8,   1. ],\n",
       "       [ 66.1,   1. ],\n",
       "       [214.7,   1. ],\n",
       "       [ 23.8,   1. ],\n",
       "       [ 97.5,   1. ],\n",
       "       [204.1,   1. ],\n",
       "       [195.4,   1. ],\n",
       "       [ 67.8,   1. ],\n",
       "       [281.4,   1. ],\n",
       "       [ 69.2,   1. ],\n",
       "       [147.3,   1. ],\n",
       "       [218.4,   1. ],\n",
       "       [237.4,   1. ],\n",
       "       [ 13.2,   1. ],\n",
       "       [228.3,   1. ],\n",
       "       [ 62.3,   1. ],\n",
       "       [262.9,   1. ],\n",
       "       [142.9,   1. ],\n",
       "       [240.1,   1. ],\n",
       "       [248.8,   1. ],\n",
       "       [ 70.6,   1. ],\n",
       "       [292.9,   1. ],\n",
       "       [112.9,   1. ],\n",
       "       [ 97.2,   1. ],\n",
       "       [265.6,   1. ],\n",
       "       [ 95.7,   1. ],\n",
       "       [290.7,   1. ],\n",
       "       [266.9,   1. ],\n",
       "       [ 74.7,   1. ],\n",
       "       [ 43.1,   1. ],\n",
       "       [228. ,   1. ],\n",
       "       [202.5,   1. ],\n",
       "       [177. ,   1. ],\n",
       "       [293.6,   1. ],\n",
       "       [206.9,   1. ],\n",
       "       [ 25.1,   1. ],\n",
       "       [175.1,   1. ],\n",
       "       [ 89.7,   1. ],\n",
       "       [239.9,   1. ],\n",
       "       [227.2,   1. ],\n",
       "       [ 66.9,   1. ],\n",
       "       [199.8,   1. ],\n",
       "       [100.4,   1. ],\n",
       "       [216.4,   1. ],\n",
       "       [182.6,   1. ],\n",
       "       [262.7,   1. ],\n",
       "       [198.9,   1. ],\n",
       "       [  7.3,   1. ],\n",
       "       [136.2,   1. ],\n",
       "       [210.8,   1. ],\n",
       "       [210.7,   1. ],\n",
       "       [ 53.5,   1. ],\n",
       "       [261.3,   1. ],\n",
       "       [239.3,   1. ],\n",
       "       [102.7,   1. ],\n",
       "       [131.1,   1. ],\n",
       "       [ 69. ,   1. ],\n",
       "       [ 31.5,   1. ],\n",
       "       [139.3,   1. ],\n",
       "       [237.4,   1. ],\n",
       "       [216.8,   1. ],\n",
       "       [199.1,   1. ],\n",
       "       [109.8,   1. ],\n",
       "       [ 26.8,   1. ],\n",
       "       [129.4,   1. ],\n",
       "       [213.4,   1. ],\n",
       "       [ 16.9,   1. ],\n",
       "       [ 27.5,   1. ],\n",
       "       [120.5,   1. ],\n",
       "       [  5.4,   1. ],\n",
       "       [116. ,   1. ],\n",
       "       [ 76.4,   1. ],\n",
       "       [239.8,   1. ],\n",
       "       [ 75.3,   1. ],\n",
       "       [ 68.4,   1. ],\n",
       "       [213.5,   1. ],\n",
       "       [193.2,   1. ],\n",
       "       [ 76.3,   1. ],\n",
       "       [110.7,   1. ],\n",
       "       [ 88.3,   1. ],\n",
       "       [109.8,   1. ],\n",
       "       [134.3,   1. ],\n",
       "       [ 28.6,   1. ],\n",
       "       [217.7,   1. ],\n",
       "       [250.9,   1. ],\n",
       "       [107.4,   1. ],\n",
       "       [163.3,   1. ],\n",
       "       [197.6,   1. ],\n",
       "       [184.9,   1. ],\n",
       "       [289.7,   1. ],\n",
       "       [135.2,   1. ],\n",
       "       [222.4,   1. ],\n",
       "       [296.4,   1. ],\n",
       "       [280.2,   1. ],\n",
       "       [187.9,   1. ],\n",
       "       [238.2,   1. ],\n",
       "       [137.9,   1. ],\n",
       "       [ 25. ,   1. ],\n",
       "       [ 90.4,   1. ],\n",
       "       [ 13.1,   1. ],\n",
       "       [255.4,   1. ],\n",
       "       [225.8,   1. ],\n",
       "       [241.7,   1. ],\n",
       "       [175.7,   1. ],\n",
       "       [209.6,   1. ],\n",
       "       [ 78.2,   1. ],\n",
       "       [ 75.1,   1. ],\n",
       "       [139.2,   1. ],\n",
       "       [ 76.4,   1. ],\n",
       "       [125.7,   1. ],\n",
       "       [ 19.4,   1. ],\n",
       "       [141.3,   1. ],\n",
       "       [ 18.8,   1. ],\n",
       "       [224. ,   1. ],\n",
       "       [123.1,   1. ],\n",
       "       [229.5,   1. ],\n",
       "       [ 87.2,   1. ],\n",
       "       [  7.8,   1. ],\n",
       "       [ 80.2,   1. ],\n",
       "       [220.3,   1. ],\n",
       "       [ 59.6,   1. ],\n",
       "       [  0.7,   1. ],\n",
       "       [265.2,   1. ],\n",
       "       [  8.4,   1. ],\n",
       "       [219.8,   1. ],\n",
       "       [ 36.9,   1. ],\n",
       "       [ 48.3,   1. ],\n",
       "       [ 25.6,   1. ],\n",
       "       [273.7,   1. ],\n",
       "       [ 43. ,   1. ],\n",
       "       [184.9,   1. ],\n",
       "       [ 73.4,   1. ],\n",
       "       [193.7,   1. ],\n",
       "       [220.5,   1. ],\n",
       "       [104.6,   1. ],\n",
       "       [ 96.2,   1. ],\n",
       "       [140.3,   1. ],\n",
       "       [240.1,   1. ],\n",
       "       [243.2,   1. ],\n",
       "       [ 38. ,   1. ],\n",
       "       [ 44.7,   1. ],\n",
       "       [280.7,   1. ],\n",
       "       [121. ,   1. ],\n",
       "       [197.6,   1. ],\n",
       "       [171.3,   1. ],\n",
       "       [187.8,   1. ],\n",
       "       [  4.1,   1. ],\n",
       "       [ 93.9,   1. ],\n",
       "       [149.8,   1. ],\n",
       "       [ 11.7,   1. ],\n",
       "       [131.7,   1. ],\n",
       "       [172.5,   1. ],\n",
       "       [ 85.7,   1. ],\n",
       "       [188.4,   1. ],\n",
       "       [163.5,   1. ],\n",
       "       [117.2,   1. ],\n",
       "       [234.5,   1. ],\n",
       "       [ 17.9,   1. ],\n",
       "       [206.8,   1. ],\n",
       "       [215.4,   1. ],\n",
       "       [284.3,   1. ],\n",
       "       [ 50. ,   1. ],\n",
       "       [164.5,   1. ],\n",
       "       [ 19.6,   1. ],\n",
       "       [168.4,   1. ],\n",
       "       [222.4,   1. ],\n",
       "       [276.9,   1. ],\n",
       "       [248.4,   1. ],\n",
       "       [170.2,   1. ],\n",
       "       [276.7,   1. ],\n",
       "       [165.6,   1. ],\n",
       "       [156.6,   1. ],\n",
       "       [218.5,   1. ],\n",
       "       [ 56.2,   1. ],\n",
       "       [287.6,   1. ],\n",
       "       [253.8,   1. ],\n",
       "       [205. ,   1. ],\n",
       "       [139.5,   1. ],\n",
       "       [191.1,   1. ],\n",
       "       [286. ,   1. ],\n",
       "       [ 18.7,   1. ],\n",
       "       [ 39.5,   1. ],\n",
       "       [ 75.5,   1. ],\n",
       "       [ 17.2,   1. ],\n",
       "       [166.8,   1. ],\n",
       "       [149.7,   1. ],\n",
       "       [ 38.2,   1. ],\n",
       "       [ 94.2,   1. ],\n",
       "       [177. ,   1. ],\n",
       "       [283.6,   1. ],\n",
       "       [232.1,   1. ]])"
      ]
     },
     "execution_count": 279,
     "metadata": {},
     "output_type": "execute_result"
    }
   ],
   "source": [
    "X"
   ]
  },
  {
   "cell_type": "markdown",
   "metadata": {},
   "source": [
    "Computing beta will throw the following error: \n",
    "\n",
    "    ValueError: operands could not be broadcast together with shapes (2,200) (200,2) "
   ]
  },
  {
   "cell_type": "code",
   "execution_count": 281,
   "metadata": {},
   "outputs": [
    {
     "ename": "ValueError",
     "evalue": "operands could not be broadcast together with shapes (2,200) (200,2) ",
     "output_type": "error",
     "traceback": [
      "\u001b[0;31m---------------------------------------------------------------------------\u001b[0m",
      "\u001b[0;31mValueError\u001b[0m                                Traceback (most recent call last)",
      "\u001b[0;32m<ipython-input-281-b68c576e752f>\u001b[0m in \u001b[0;36m<module>\u001b[0;34m()\u001b[0m\n\u001b[0;32m----> 1\u001b[0;31m \u001b[0mbeta\u001b[0m \u001b[0;34m=\u001b[0m \u001b[0;34m(\u001b[0m\u001b[0;34m(\u001b[0m\u001b[0mX\u001b[0m\u001b[0;34m.\u001b[0m\u001b[0mT\u001b[0m \u001b[0;34m*\u001b[0m \u001b[0mX\u001b[0m\u001b[0;34m)\u001b[0m\u001b[0;34m**\u001b[0m\u001b[0;34m-\u001b[0m\u001b[0;36m1\u001b[0m\u001b[0;34m)\u001b[0m \u001b[0;34m*\u001b[0m \u001b[0mX\u001b[0m\u001b[0;34m.\u001b[0m\u001b[0mT\u001b[0m \u001b[0;34m*\u001b[0m \u001b[0mnp\u001b[0m\u001b[0;34m.\u001b[0m\u001b[0mvstack\u001b[0m\u001b[0;34m(\u001b[0m\u001b[0my\u001b[0m\u001b[0;34m)\u001b[0m\u001b[0;34m\u001b[0m\u001b[0m\n\u001b[0m\u001b[1;32m      2\u001b[0m \u001b[0mbeta\u001b[0m\u001b[0;34m\u001b[0m\u001b[0m\n",
      "\u001b[0;31mValueError\u001b[0m: operands could not be broadcast together with shapes (2,200) (200,2) "
     ]
    }
   ],
   "source": [
    "beta = ((X.T * X)**-1) * X.T * np.vstack(y)\n",
    "beta"
   ]
  },
  {
   "cell_type": "markdown",
   "metadata": {},
   "source": [
    "#### The matrix:"
   ]
  },
  {
   "cell_type": "code",
   "execution_count": 283,
   "metadata": {},
   "outputs": [
    {
     "data": {
      "text/plain": [
       "matrix([[482108.34],\n",
       "        [  2804.5 ]])"
      ]
     },
     "execution_count": 283,
     "metadata": {},
     "output_type": "execute_result"
    }
   ],
   "source": [
    "X = np.matrix([xdata, np.ones(len(xdata))]).T  # shape(200, 2)\n",
    "X.T * np.vstack(y)"
   ]
  },
  {
   "cell_type": "markdown",
   "metadata": {},
   "source": [
    "#### The array:"
   ]
  },
  {
   "cell_type": "code",
   "execution_count": 284,
   "metadata": {},
   "outputs": [
    {
     "ename": "ValueError",
     "evalue": "operands could not be broadcast together with shapes (2,200) (200,1) ",
     "output_type": "error",
     "traceback": [
      "\u001b[0;31m---------------------------------------------------------------------------\u001b[0m",
      "\u001b[0;31mValueError\u001b[0m                                Traceback (most recent call last)",
      "\u001b[0;32m<ipython-input-284-17bbe7e2a174>\u001b[0m in \u001b[0;36m<module>\u001b[0;34m()\u001b[0m\n\u001b[1;32m      1\u001b[0m \u001b[0mX\u001b[0m \u001b[0;34m=\u001b[0m \u001b[0mnp\u001b[0m\u001b[0;34m.\u001b[0m\u001b[0masarray\u001b[0m\u001b[0;34m(\u001b[0m \u001b[0;34m[\u001b[0m\u001b[0mxdata\u001b[0m\u001b[0;34m,\u001b[0m \u001b[0mnp\u001b[0m\u001b[0;34m.\u001b[0m\u001b[0mones\u001b[0m\u001b[0;34m(\u001b[0m\u001b[0mlen\u001b[0m\u001b[0;34m(\u001b[0m\u001b[0mxdata\u001b[0m\u001b[0;34m)\u001b[0m\u001b[0;34m)\u001b[0m\u001b[0;34m]\u001b[0m \u001b[0;34m)\u001b[0m\u001b[0;34m.\u001b[0m\u001b[0mT\u001b[0m\u001b[0;34m\u001b[0m\u001b[0m\n\u001b[0;32m----> 2\u001b[0;31m \u001b[0mX\u001b[0m\u001b[0;34m.\u001b[0m\u001b[0mT\u001b[0m \u001b[0;34m*\u001b[0m \u001b[0mnp\u001b[0m\u001b[0;34m.\u001b[0m\u001b[0mvstack\u001b[0m\u001b[0;34m(\u001b[0m\u001b[0my\u001b[0m\u001b[0;34m)\u001b[0m\u001b[0;34m\u001b[0m\u001b[0m\n\u001b[0m",
      "\u001b[0;31mValueError\u001b[0m: operands could not be broadcast together with shapes (2,200) (200,1) "
     ]
    }
   ],
   "source": [
    "X = np.asarray( [xdata, np.ones(len(xdata))] ).T\n",
    "X.T * np.vstack(y)"
   ]
  },
  {
   "cell_type": "code",
   "execution_count": null,
   "metadata": {},
   "outputs": [],
   "source": []
  }
 ],
 "metadata": {
  "kernelspec": {
   "display_name": "Python 3",
   "language": "python",
   "name": "python3"
  },
  "language_info": {
   "codemirror_mode": {
    "name": "ipython",
    "version": 3
   },
   "file_extension": ".py",
   "mimetype": "text/x-python",
   "name": "python",
   "nbconvert_exporter": "python",
   "pygments_lexer": "ipython3",
   "version": "3.7.0"
  }
 },
 "nbformat": 4,
 "nbformat_minor": 2
}
