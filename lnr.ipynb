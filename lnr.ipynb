{
 "cells": [
  {
   "cell_type": "code",
   "execution_count": 1,
   "metadata": {},
   "outputs": [],
   "source": [
    "import numpy as np\n",
    "import pandas as pd\n",
    "\n",
    "import lnr\n",
    "\n",
    "import matplotlib.pyplot as plt\n",
    "%matplotlib inline\n",
    "\n",
    "from Zoldak.Math.tools import to_log"
   ]
  },
  {
   "cell_type": "code",
   "execution_count": 2,
   "metadata": {},
   "outputs": [],
   "source": [
    "data = pd.read_csv(('/Users/kimzoldak/Github/GRB_Hubble_Diagram/data/'\n",
    "                    'Band_13_GBM+LAT__22_GBMconstrained.txt'), \n",
    "                   sep='\\t')\n",
    "\n",
    "data = data[data.trigger.map(lambda x: x != 'bn090510016')]  # remove short burst\n",
    "data.index = range(0, len(data))\n",
    "\n",
    "df = pd.DataFrame()\n",
    "df['eiso'] = data['eiso']/1E52\n",
    "df['eiso_err'] = data.loc[:, ['eiso_err_low', 'eiso_err_up']].apply(np.mean, 1)\n",
    "df['eiso_err'] = df['eiso_err']/1E52\n",
    "df['epeakRest'] = data['epeakRest']\n",
    "df['epeakRest_err'] = data.loc[:, ['epeakRest_err_low', 'epeakRest_err_up']].apply(np.mean, 1)\n",
    "\n",
    "\n",
    "x, xerr = to_log(df['eiso'], df['eiso_err'], which='average', errTypeReturn='moe')\n",
    "y, yerr = to_log(df['epeakRest'], df['epeakRest_err'], which='average', errTypeReturn='moe')"
   ]
  },
  {
   "cell_type": "code",
   "execution_count": 6,
   "metadata": {},
   "outputs": [],
   "source": [
    "?lnr.bces"
   ]
  },
  {
   "cell_type": "raw",
   "metadata": {},
   "source": [
    "model     : {'yx', 'xy', 'bi', 'orth'}\n",
    "          BCES model with which to calculate regression. See\n",
    "          Notes below for details.\n",
    "\n",
    "              \n",
    "Notes\n",
    "-----\n",
    "  If verbose is normal or debug, the results from all the BCES\n",
    "  models will be printed (still, only the one selected in `model`\n",
    "  will be returned).\n",
    "\n",
    "  the `model` parameter:\n",
    "    -'yx' stands for BCES(Y|X)\n",
    "    -'xy' stands for BCES(X|Y)\n",
    "    -'bi' stands for BCES Bisector\n",
    "    -'orth' stands for BCES Orthogonal"
   ]
  },
  {
   "cell_type": "code",
   "execution_count": 7,
   "metadata": {},
   "outputs": [
    {
     "name": "stdout",
     "output_type": "stream",
     "text": [
      "Fit                   B          err(B)\n",
      "         A          err(A)\n",
      "BCES(Y|X)          5.57e-01 +/- 6.09e-02     1.931e+00 +/- 1.018e-01\n",
      "bootstrap          5.57e-01 +/- 6.21e-02    %10.3e +/- %9.3e\n",
      "\n",
      "BCES(X|Y)          7.48e-01 +/- 5.57e-02     1.687e+00 +/- 8.722e-02\n",
      "bootstrap          7.52e-01 +/- 6.26e-02    %10.3e +/- %9.3e\n",
      "\n",
      "BCES Bisector      6.48e-01 +/- 7.64e-02     1.814e+00 +/- 1.200e-01\n",
      "bootstrap          6.50e-01 +/- 5.17e-02    %10.3e +/- %9.3e\n",
      "\n",
      "BCES Orthogonal    6.05e-01 +/- 6.06e-02     1.870e+00 +/- 1.020e-01\n",
      "bootstrap          6.05e-01 +/- 6.26e-02    %10.3e +/- %9.3e\n",
      "\n"
     ]
    },
    {
     "data": {
      "text/plain": [
       "((1.9310691832986322, 0.1030328906677084),\n",
       " (0.5567468232928803, 0.06212707015913713),\n",
       " array([[ 0.3632883 , -0.20303876],\n",
       "        [-0.20303876,  0.13011868]]))"
      ]
     },
     "execution_count": 7,
     "metadata": {},
     "output_type": "execute_result"
    }
   ],
   "source": [
    "lnr.bces(x1 = x, \n",
    "         x2 = y,  \n",
    "         x1err = xerr,  \n",
    "         x2err= yerr, \n",
    "         cerr=[], \n",
    "         logify=False, \n",
    "         model='yx', \n",
    "         bootstrap=5000, \n",
    "         verbose='normal', \n",
    "         full_output=True)"
   ]
  },
  {
   "cell_type": "code",
   "execution_count": 9,
   "metadata": {},
   "outputs": [
    {
     "name": "stdout",
     "output_type": "stream",
     "text": [
      "Fit                   B          err(B)\n",
      "         A          err(A)\n",
      "BCES(Y|X)          5.57e-01 +/- 6.09e-02     1.931e+00 +/- 1.018e-01\n",
      "bootstrap          5.58e-01 +/- 6.22e-02    %10.3e +/- %9.3e\n",
      "\n",
      "BCES(X|Y)          7.48e-01 +/- 5.57e-02     1.687e+00 +/- 8.722e-02\n",
      "bootstrap          7.53e-01 +/- 6.21e-02    %10.3e +/- %9.3e\n",
      "\n",
      "BCES Bisector      6.48e-01 +/- 7.64e-02     1.814e+00 +/- 1.200e-01\n",
      "bootstrap          6.51e-01 +/- 5.10e-02    %10.3e +/- %9.3e\n",
      "\n",
      "BCES Orthogonal    6.05e-01 +/- 6.06e-02     1.870e+00 +/- 1.020e-01\n",
      "bootstrap          6.06e-01 +/- 6.21e-02    %10.3e +/- %9.3e\n",
      "\n"
     ]
    },
    {
     "data": {
      "text/plain": [
       "((1.687164029719201, 0.09360339409637033),\n",
       " (0.747685173607265, 0.062092493889721455),\n",
       " array([[ 0.26648115, -0.14401174],\n",
       "        [-0.14401174,  0.10869207]]))"
      ]
     },
     "execution_count": 9,
     "metadata": {},
     "output_type": "execute_result"
    }
   ],
   "source": [
    "lnr.bces(x1 = x, \n",
    "         x2 = y,  \n",
    "         x1err = xerr,  \n",
    "         x2err= yerr, \n",
    "         cerr=[], \n",
    "         logify=False, \n",
    "         model='xy', \n",
    "         bootstrap=5000, \n",
    "         verbose='normal', \n",
    "         full_output=True)"
   ]
  },
  {
   "cell_type": "code",
   "execution_count": 10,
   "metadata": {},
   "outputs": [
    {
     "name": "stdout",
     "output_type": "stream",
     "text": [
      "Fit                   B          err(B)\n",
      "         A          err(A)\n",
      "BCES(Y|X)          5.57e-01 +/- 6.09e-02     1.931e+00 +/- 1.018e-01\n",
      "bootstrap          5.57e-01 +/- 6.23e-02    %10.3e +/- %9.3e\n",
      "\n",
      "BCES(X|Y)          7.48e-01 +/- 5.57e-02     1.687e+00 +/- 8.722e-02\n",
      "bootstrap          7.53e-01 +/- 6.39e-02    %10.3e +/- %9.3e\n",
      "\n",
      "BCES Bisector      6.48e-01 +/- 7.64e-02     1.814e+00 +/- 1.200e-01\n",
      "bootstrap          6.50e-01 +/- 5.16e-02    %10.3e +/- %9.3e\n",
      "\n",
      "BCES Orthogonal    6.05e-01 +/- 6.06e-02     1.870e+00 +/- 1.020e-01\n",
      "bootstrap          6.05e-01 +/- 6.25e-02    %10.3e +/- %9.3e\n",
      "\n"
     ]
    },
    {
     "data": {
      "text/plain": [
       "((1.8144201435812346, 0.08925532624413891),\n",
       " (0.648064185318786, 0.051623333371461744),\n",
       " array([[ 0.50456411, -0.30409542],\n",
       "        [-0.30409542,  0.20445352]]))"
      ]
     },
     "execution_count": 10,
     "metadata": {},
     "output_type": "execute_result"
    }
   ],
   "source": [
    "lnr.bces(x1 = x, \n",
    "         x2 = y,  \n",
    "         x1err = xerr,  \n",
    "         x2err= yerr, \n",
    "         cerr=[], \n",
    "         logify=False, \n",
    "         model='bi', \n",
    "         bootstrap=5000, \n",
    "         verbose='normal', \n",
    "         full_output=True)"
   ]
  },
  {
   "cell_type": "code",
   "execution_count": 11,
   "metadata": {},
   "outputs": [
    {
     "name": "stdout",
     "output_type": "stream",
     "text": [
      "Fit                   B          err(B)\n",
      "         A          err(A)\n",
      "BCES(Y|X)          5.57e-01 +/- 6.09e-02     1.931e+00 +/- 1.018e-01\n",
      "bootstrap          5.58e-01 +/- 6.26e-02    %10.3e +/- %9.3e\n",
      "\n",
      "BCES(X|Y)          7.48e-01 +/- 5.57e-02     1.687e+00 +/- 8.722e-02\n",
      "bootstrap          7.50e-01 +/- 6.22e-02    %10.3e +/- %9.3e\n",
      "\n",
      "BCES Bisector      6.48e-01 +/- 7.64e-02     1.814e+00 +/- 1.200e-01\n",
      "bootstrap          6.49e-01 +/- 5.17e-02    %10.3e +/- %9.3e\n",
      "\n",
      "BCES Orthogonal    6.05e-01 +/- 6.06e-02     1.870e+00 +/- 1.020e-01\n",
      "bootstrap          6.05e-01 +/- 6.27e-02    %10.3e +/- %9.3e\n",
      "\n"
     ]
    },
    {
     "data": {
      "text/plain": [
       "((1.8696257896413782, 0.10358100960591397),\n",
       " (0.6048470788654332, 0.06273658275790171),\n",
       " array([[ 0.36446911, -0.20198149],\n",
       "        [-0.20198149,  0.12849789]]))"
      ]
     },
     "execution_count": 11,
     "metadata": {},
     "output_type": "execute_result"
    }
   ],
   "source": [
    "lnr.bces(x1 = x, \n",
    "         x2 = y,  \n",
    "         x1err = xerr,  \n",
    "         x2err= yerr, \n",
    "         cerr=[], \n",
    "         logify=False, \n",
    "         model='orth', \n",
    "         bootstrap=5000, \n",
    "         verbose='normal', \n",
    "         full_output=True)"
   ]
  },
  {
   "cell_type": "code",
   "execution_count": null,
   "metadata": {},
   "outputs": [],
   "source": []
  },
  {
   "cell_type": "code",
   "execution_count": null,
   "metadata": {},
   "outputs": [],
   "source": []
  },
  {
   "cell_type": "code",
   "execution_count": null,
   "metadata": {},
   "outputs": [],
   "source": []
  },
  {
   "cell_type": "code",
   "execution_count": 11,
   "metadata": {},
   "outputs": [],
   "source": [
    "lnr.mle?"
   ]
  },
  {
   "cell_type": "code",
   "execution_count": 4,
   "metadata": {},
   "outputs": [
    {
     "ename": "AttributeError",
     "evalue": "'numpy.ndarray' object has no attribute 'array'",
     "output_type": "error",
     "traceback": [
      "\u001b[0;31m---------------------------------------------------------------------------\u001b[0m",
      "\u001b[0;31mAttributeError\u001b[0m                            Traceback (most recent call last)",
      "\u001b[0;32m<ipython-input-4-3703718720b4>\u001b[0m in \u001b[0;36m<module>\u001b[0;34m()\u001b[0m\n\u001b[1;32m      7\u001b[0m          \u001b[0mstart\u001b[0m\u001b[0;34m=\u001b[0m\u001b[0;34m(\u001b[0m\u001b[0;36m1.0\u001b[0m\u001b[0;34m,\u001b[0m \u001b[0;36m1.0\u001b[0m\u001b[0;34m,\u001b[0m \u001b[0;36m0.1\u001b[0m\u001b[0;34m)\u001b[0m\u001b[0;34m,\u001b[0m\u001b[0;34m\u001b[0m\u001b[0m\n\u001b[1;32m      8\u001b[0m         \u001b[0mbootstrap\u001b[0m\u001b[0;34m=\u001b[0m\u001b[0;36m1000\u001b[0m\u001b[0;34m,\u001b[0m\u001b[0;34m\u001b[0m\u001b[0m\n\u001b[0;32m----> 9\u001b[0;31m         logify=True)\n\u001b[0m",
      "\u001b[0;32m~/anaconda3/lib/python3.7/site-packages/lnr-0.1.7-py3.7.egg/lnr/lnr.py\u001b[0m in \u001b[0;36mmle\u001b[0;34m(x1, x2, x1err, x2err, cerr, s_int, start, bootstrap, logify, **kwargs)\u001b[0m\n\u001b[1;32m    605\u001b[0m         \u001b[0mx2err\u001b[0m \u001b[0;34m=\u001b[0m \u001b[0;36m1e-8\u001b[0m \u001b[0;34m*\u001b[0m \u001b[0mnp\u001b[0m\u001b[0;34m.\u001b[0m\u001b[0mabsolute\u001b[0m\u001b[0;34m(\u001b[0m\u001b[0mx2\u001b[0m\u001b[0;34m.\u001b[0m\u001b[0mmin\u001b[0m\u001b[0;34m(\u001b[0m\u001b[0;34m)\u001b[0m\u001b[0;34m)\u001b[0m \u001b[0;34m*\u001b[0m \u001b[0mnp\u001b[0m\u001b[0;34m.\u001b[0m\u001b[0mones\u001b[0m\u001b[0;34m(\u001b[0m\u001b[0mn\u001b[0m\u001b[0;34m)\u001b[0m\u001b[0;34m\u001b[0m\u001b[0m\n\u001b[1;32m    606\u001b[0m     \u001b[0;32melse\u001b[0m\u001b[0;34m:\u001b[0m\u001b[0;34m\u001b[0m\u001b[0m\n\u001b[0;32m--> 607\u001b[0;31m         \u001b[0mx2err\u001b[0m\u001b[0;34m.\u001b[0m\u001b[0marray\u001b[0m\u001b[0;34m(\u001b[0m\u001b[0mx2err\u001b[0m\u001b[0;34m)\u001b[0m\u001b[0;34m\u001b[0m\u001b[0m\n\u001b[0m\u001b[1;32m    608\u001b[0m     \u001b[0;32mif\u001b[0m \u001b[0mlogify\u001b[0m\u001b[0;34m:\u001b[0m\u001b[0;34m\u001b[0m\u001b[0m\n\u001b[1;32m    609\u001b[0m         \u001b[0mx1\u001b[0m\u001b[0;34m,\u001b[0m \u001b[0mx1err\u001b[0m \u001b[0;34m=\u001b[0m \u001b[0mto_log\u001b[0m\u001b[0;34m(\u001b[0m\u001b[0mx1\u001b[0m\u001b[0;34m,\u001b[0m \u001b[0mx1err\u001b[0m\u001b[0;34m)\u001b[0m\u001b[0;34m\u001b[0m\u001b[0m\n",
      "\u001b[0;31mAttributeError\u001b[0m: 'numpy.ndarray' object has no attribute 'array'"
     ]
    }
   ],
   "source": [
    "lnr.mle(x1 = x, \n",
    "         x2 = y,  \n",
    "         x1err = xerr,  \n",
    "         x2err= yerr,  \n",
    "         cerr=[], \n",
    "         s_int=True, \n",
    "         start=(1.0, 1.0, 0.1), \n",
    "         bootstrap=1000, \n",
    "         logify=False)"
   ]
  },
  {
   "cell_type": "code",
   "execution_count": null,
   "metadata": {},
   "outputs": [],
   "source": []
  }
 ],
 "metadata": {
  "kernelspec": {
   "display_name": "Python 3",
   "language": "python",
   "name": "python3"
  },
  "language_info": {
   "codemirror_mode": {
    "name": "ipython",
    "version": 3
   },
   "file_extension": ".py",
   "mimetype": "text/x-python",
   "name": "python",
   "nbconvert_exporter": "python",
   "pygments_lexer": "ipython3",
   "version": "3.7.0"
  }
 },
 "nbformat": 4,
 "nbformat_minor": 2
}
