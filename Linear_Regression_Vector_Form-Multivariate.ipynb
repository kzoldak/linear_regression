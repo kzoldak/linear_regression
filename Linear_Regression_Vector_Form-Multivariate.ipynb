{
 "cells": [
  {
   "cell_type": "code",
   "execution_count": 1,
   "metadata": {},
   "outputs": [],
   "source": [
    "import pandas as pd\n",
    "import numpy as np\n",
    "\n",
    "import matplotlib.pyplot as plt\n",
    "%matplotlib inline"
   ]
  },
  {
   "cell_type": "markdown",
   "metadata": {},
   "source": [
    "https://en.wikipedia.org/wiki/Ordinary_least_squares\n",
    "\n",
    "\n",
    "__Linear Modeling Function:__\n",
    "\n",
    "</br>\n",
    "\n",
    "${\\displaystyle y_{i}=\\beta _{1}x_{i1}+\\beta _{2}x_{i2}+\\cdots +\\beta _{p}x_{ip}+\\varepsilon _{i}}$\n",
    "\n",
    "</br>\n",
    "\n",
    "As a rule, the constant term is always included in the set of regressors $X$, say, by taking $x_{i1} = 1$ for all observations $i = 1, …, n$. The coefficient $\\beta_1$ corresponding to this regressor is called the intercept.\n",
    "\n",
    "\n",
    "\n",
    "__In Vector Form:__\n",
    "\n",
    "</br>\n",
    "\n",
    "${\\displaystyle y_{i}=x_{i}^{T}\\beta +\\varepsilon _{i}\\,}$\n",
    "\n",
    "the $ε_i$'s are unobserved scalar random variables (errors) which account for influences upon the responses yi from sources other than the explanators $x_i$. \n",
    "$x_{i}$ is a column vector of the ith observations of all the explanatory variables.\n",
    "\n",
    "__In Matrix Form:__\n",
    "\n",
    "</br>\n",
    "\n",
    "${\\displaystyle {\\hat {\\boldsymbol {\\beta }}}=(\\mathbf {X} ^{\\mathsf {T}}\\mathbf {X} )^{-1}\\mathbf {X} ^{\\mathsf {T}}\\mathbf {y}}$\n",
    "\n",
    "\n",
    "\n",
    "${\\displaystyle \\mathbf {X} ={\\begin{bmatrix}X_{11}&X_{12}&\\cdots &X_{1p}\\\\X_{21}&X_{22}&\\cdots &X_{2p}\\\\\\vdots &\\vdots &\\ddots &\\vdots \\\\X_{N1}&X_{N2}&\\cdots &X_{Np}\\end{bmatrix}},\\qquad {\\boldsymbol {\\beta }}={\\begin{bmatrix}\\beta _{1}\\\\\\beta _{2}\\\\\\vdots \\\\\\beta _{p}\\end{bmatrix}},\\qquad \\mathbf {y} ={\\begin{bmatrix}y_{1}\\\\y_{2}\\\\\\vdots \\\\y_{N}\\end{bmatrix}}.}$\n",
    "\n",
    "\n",
    "N is the number of observations and p is the number of features, predictors, independent variables, regressors, etc...\n",
    "The terms representing the variables in the training data set have many names. \n",
    "\n",
    "$\\beta$ is the coefficient vector.\n",
    "\n",
    "$y$ is the response vector, or vector of dependent variables. When you are training a model, $y$ is the response that that model should be able to closely predict.  "
   ]
  },
  {
   "cell_type": "markdown",
   "metadata": {},
   "source": [
    "#### The below notes are from Wikipedia, so make sure they match the book. \n",
    "\n",
    "Suppose $\\beta$ is a \"candidate\" value for the parameter vector $\\boldsymbol{\\beta}$. The quantity $y_i − x_i^T \\beta$, called the residual for the _i_th observation, measures the vertical distance between the data point ($x_i$, $y_i$) and the hyperplane $y = x^T \\beta$, and thus assesses the degree of fit between the actual data and the model. The sum of squared residuals (SSR) (also called the error sum of squares (ESS) or residual sum of squares (RSS)) is a measure of the overall model fit:\n",
    "\n",
    "\n",
    "${\\displaystyle RSS(\\beta)=\\sum _{i=1}^{N}(y_{i}-x_{i}^{\\mathrm {T} }\\beta)^{2} = (\\boldsymbol{y}-\\boldsymbol{X}\\beta)^{\\mathrm {T} }(\\boldsymbol{y}-\\boldsymbol{X}\\beta)}$\n",
    "\n",
    "The goal is to find the set of coefficients $\\beta$ that minimize the residual sum of squares (RSS). \n",
    "\n"
   ]
  },
  {
   "cell_type": "markdown",
   "metadata": {},
   "source": [
    "${\\displaystyle RSS(\\beta)= (\\boldsymbol{y}-\\boldsymbol{X}\\beta)^{\\mathrm {T} }(\\boldsymbol{y}-\\boldsymbol{X}\\beta)}$\n",
    "\n",
    "${\\displaystyle {\\hat {\\boldsymbol {\\beta }}}=(\\mathbf {X} ^{\\mathsf {T}}\\mathbf {X} )^{-1}\\mathbf {X} ^{\\mathsf {T}}\\mathbf {y}}$"
   ]
  },
  {
   "cell_type": "markdown",
   "metadata": {},
   "source": [
    "```\n",
    "\n",
    "\n",
    "```"
   ]
  },
  {
   "cell_type": "markdown",
   "metadata": {},
   "source": [
    "### read in data"
   ]
  },
  {
   "cell_type": "code",
   "execution_count": 2,
   "metadata": {},
   "outputs": [
    {
     "data": {
      "text/html": [
       "<div>\n",
       "<style scoped>\n",
       "    .dataframe tbody tr th:only-of-type {\n",
       "        vertical-align: middle;\n",
       "    }\n",
       "\n",
       "    .dataframe tbody tr th {\n",
       "        vertical-align: top;\n",
       "    }\n",
       "\n",
       "    .dataframe thead th {\n",
       "        text-align: right;\n",
       "    }\n",
       "</style>\n",
       "<table border=\"1\" class=\"dataframe\">\n",
       "  <thead>\n",
       "    <tr style=\"text-align: right;\">\n",
       "      <th></th>\n",
       "      <th>TV</th>\n",
       "      <th>radio</th>\n",
       "      <th>newspaper</th>\n",
       "      <th>sales</th>\n",
       "    </tr>\n",
       "  </thead>\n",
       "  <tbody>\n",
       "    <tr>\n",
       "      <th>1</th>\n",
       "      <td>230.1</td>\n",
       "      <td>37.8</td>\n",
       "      <td>69.2</td>\n",
       "      <td>22.1</td>\n",
       "    </tr>\n",
       "    <tr>\n",
       "      <th>2</th>\n",
       "      <td>44.5</td>\n",
       "      <td>39.3</td>\n",
       "      <td>45.1</td>\n",
       "      <td>10.4</td>\n",
       "    </tr>\n",
       "    <tr>\n",
       "      <th>3</th>\n",
       "      <td>17.2</td>\n",
       "      <td>45.9</td>\n",
       "      <td>69.3</td>\n",
       "      <td>9.3</td>\n",
       "    </tr>\n",
       "    <tr>\n",
       "      <th>4</th>\n",
       "      <td>151.5</td>\n",
       "      <td>41.3</td>\n",
       "      <td>58.5</td>\n",
       "      <td>18.5</td>\n",
       "    </tr>\n",
       "    <tr>\n",
       "      <th>5</th>\n",
       "      <td>180.8</td>\n",
       "      <td>10.8</td>\n",
       "      <td>58.4</td>\n",
       "      <td>12.9</td>\n",
       "    </tr>\n",
       "  </tbody>\n",
       "</table>\n",
       "</div>"
      ],
      "text/plain": [
       "      TV  radio  newspaper  sales\n",
       "1  230.1   37.8       69.2   22.1\n",
       "2   44.5   39.3       45.1   10.4\n",
       "3   17.2   45.9       69.3    9.3\n",
       "4  151.5   41.3       58.5   18.5\n",
       "5  180.8   10.8       58.4   12.9"
      ]
     },
     "execution_count": 2,
     "metadata": {},
     "output_type": "execute_result"
    }
   ],
   "source": [
    "data = pd.read_csv('http://www-bcf.usc.edu/~gareth/ISL/Advertising.csv', index_col=0)\n",
    "data.head()"
   ]
  },
  {
   "cell_type": "code",
   "execution_count": 3,
   "metadata": {},
   "outputs": [
    {
     "data": {
      "image/png": "[encoded data removed]",
      "text/plain": [
       "<Figure size 432x288 with 1 Axes>"
      ]
     },
     "metadata": {
      "needs_background": "light"
     },
     "output_type": "display_data"
    },
    {
     "data": {
      "image/png": "[encoded data removed]",
      "text/plain": [
       "<Figure size 432x288 with 1 Axes>"
      ]
     },
     "metadata": {
      "needs_background": "light"
     },
     "output_type": "display_data"
    },
    {
     "data": {
      "image/png": "[encoded data removed]",
      "text/plain": [
       "<Figure size 432x288 with 1 Axes>"
      ]
     },
     "metadata": {
      "needs_background": "light"
     },
     "output_type": "display_data"
    }
   ],
   "source": [
    "for col in data.columns[:-1]:\n",
    "    plt.plot(data[col], data.sales, 'ro', alpha=0.3)\n",
    "    plt.xlabel('%s Advertisement, money spent (x\\'s $1,000)'%col)\n",
    "    plt.ylabel('Sales')\n",
    "    plt.show()"
   ]
  },
  {
   "cell_type": "markdown",
   "metadata": {},
   "source": [
    "### Features matrix (X) and response matrix (y)"
   ]
  },
  {
   "cell_type": "raw",
   "metadata": {},
   "source": [
    "X = np.matrix([ np.ones(len(xdata)), xdata ]).T  # shape(200, 2)\n",
    "y = ydata\n",
    "\n",
    "print(X.shape)            # (200, 2)\n",
    "print(y.shape)            # (200, )\n",
    "print(np.vstack(y).shape) # (200, 1)"
   ]
  },
  {
   "cell_type": "code",
   "execution_count": 4,
   "metadata": {},
   "outputs": [],
   "source": [
    "TV = np.asarray(data.TV)\n",
    "radio = np.asarray(data.radio)\n",
    "news = np.asarray(data.newspaper)\n",
    "\n",
    "sales = np.asarray(data.sales)"
   ]
  },
  {
   "cell_type": "code",
   "execution_count": 5,
   "metadata": {},
   "outputs": [],
   "source": [
    "X = np.matrix([ np.ones(len(data)), TV, radio, news]).T\n",
    "y = sales"
   ]
  },
  {
   "cell_type": "markdown",
   "metadata": {},
   "source": [
    "### Multiplication of Matrices and dot product\n",
    "Wanted to point out, before beginning, that \n",
    "`X * X.T`\n",
    "and\n",
    "`np.dot(X, X.T)`\n",
    "are the exact same result. \n",
    "\n"
   ]
  },
  {
   "cell_type": "code",
   "execution_count": 6,
   "metadata": {},
   "outputs": [
    {
     "data": {
      "text/plain": [
       "matrix([[ True,  True,  True, ...,  True,  True,  True],\n",
       "        [ True,  True,  True, ...,  True,  True,  True],\n",
       "        [ True,  True,  True, ...,  True,  True,  True],\n",
       "        ...,\n",
       "        [ True,  True,  True, ...,  True,  True,  True],\n",
       "        [ True,  True,  True, ...,  True,  True,  True],\n",
       "        [ True,  True,  True, ...,  True,  True,  True]])"
      ]
     },
     "execution_count": 6,
     "metadata": {},
     "output_type": "execute_result"
    }
   ],
   "source": [
    "X * X.T == np.dot(X, X.T)"
   ]
  },
  {
   "cell_type": "code",
   "execution_count": 7,
   "metadata": {},
   "outputs": [
    {
     "data": {
      "text/plain": [
       "matrix([[ True],\n",
       "        [ True],\n",
       "        [ True],\n",
       "        [ True]])"
      ]
     },
     "execution_count": 7,
     "metadata": {},
     "output_type": "execute_result"
    }
   ],
   "source": [
    "X.T * np.vstack(y) == np.dot(X.T, np.vstack(y))"
   ]
  },
  {
   "cell_type": "markdown",
   "metadata": {},
   "source": [
    "### Estimates of $\\beta_0$ and $\\beta_1$ contained in a single matrix."
   ]
  },
  {
   "cell_type": "code",
   "execution_count": 8,
   "metadata": {},
   "outputs": [
    {
     "name": "stdout",
     "output_type": "stream",
     "text": [
      "\n",
      "[[ 2.93888937e+00]\n",
      " [ 4.57646455e-02]\n",
      " [ 1.88530017e-01]\n",
      " [-1.03749304e-03]]\n"
     ]
    }
   ],
   "source": [
    "# ESTIMATE FOR COEFFICIENTS. \n",
    "beta = ((X.T * X)**-1) * X.T * np.vstack(y) # equation 3.6\n",
    "print('')\n",
    "print(beta)"
   ]
  },
  {
   "cell_type": "code",
   "execution_count": 9,
   "metadata": {},
   "outputs": [],
   "source": [
    "param_dict = {'names':['Intercept','TV','radio', 'newspaper']}"
   ]
  },
  {
   "cell_type": "code",
   "execution_count": 10,
   "metadata": {},
   "outputs": [],
   "source": [
    "param_dict['coeffs'] = [i for i in beta.flatten().tolist()][0]"
   ]
  },
  {
   "cell_type": "raw",
   "metadata": {},
   "source": [
    "np.asarray(beta.reshape((1,4)))[0]"
   ]
  },
  {
   "cell_type": "code",
   "execution_count": 11,
   "metadata": {},
   "outputs": [
    {
     "data": {
      "text/plain": [
       "{'names': ['Intercept', 'TV', 'radio', 'newspaper'],\n",
       " 'coeffs': [2.9388893694594365,\n",
       "  0.04576464545539759,\n",
       "  0.18853001691820376,\n",
       "  -0.0010374930424764152]}"
      ]
     },
     "execution_count": 11,
     "metadata": {},
     "output_type": "execute_result"
    }
   ],
   "source": [
    "param_dict"
   ]
  },
  {
   "cell_type": "markdown",
   "metadata": {},
   "source": [
    "### $\\hat{y}$ estimates, given the linear model."
   ]
  },
  {
   "cell_type": "code",
   "execution_count": 12,
   "metadata": {},
   "outputs": [],
   "source": [
    "# y estimates given the linear model.\n",
    "y_hat = X * ((X.T * X)**-1) * X.T * np.vstack(y)  # or X * beta. equation 3.7 "
   ]
  },
  {
   "cell_type": "code",
   "execution_count": 13,
   "metadata": {},
   "outputs": [
    {
     "data": {
      "image/png": "[encoded data removed]",
      "text/plain": [
       "<Figure size 432x288 with 1 Axes>"
      ]
     },
     "metadata": {
      "needs_background": "light"
     },
     "output_type": "display_data"
    },
    {
     "data": {
      "image/png": "[encoded data removed]",
      "text/plain": [
       "<Figure size 432x288 with 1 Axes>"
      ]
     },
     "metadata": {
      "needs_background": "light"
     },
     "output_type": "display_data"
    },
    {
     "data": {
      "image/png": "[encoded data removed]",
      "text/plain": [
       "<Figure size 432x288 with 1 Axes>"
      ]
     },
     "metadata": {
      "needs_background": "light"
     },
     "output_type": "display_data"
    }
   ],
   "source": [
    "for col in data.columns[:-1]:\n",
    "    plt.plot(data[col], data.sales, 'ro', alpha=0.3)\n",
    "    xdata = np.asarray(data[col])\n",
    "    ydata = np.asarray(y_hat.flatten())[0]\n",
    "    plt.plot(xdata, ydata, 'go', alpha=0.3)  # model estimate for y\n",
    "    plt.xlabel('%s Advertisement, money spent (x\\'s $1,000)'%col)\n",
    "    plt.ylabel('Sales')\n",
    "    plt.show()"
   ]
  },
  {
   "cell_type": "raw",
   "metadata": {},
   "source": [
    "# xdata and estimates for y given the model.\n",
    "plt.plot(sales, y, 'ro', alpha=0.3)  # data for y\n",
    "plt.plot(xdata, y_hat)  # model estimate for y"
   ]
  },
  {
   "cell_type": "markdown",
   "metadata": {},
   "source": [
    "### Residual Sum of Squares (RSS)\n",
    "These are the squared differences between the true y-data values and the estimated y values given the model. \n",
    "\n",
    "**Keep in mind, the variables y and ydata are the same thing; the y-axis data of the data points. We just gave it two names.**"
   ]
  },
  {
   "cell_type": "code",
   "execution_count": 14,
   "metadata": {},
   "outputs": [],
   "source": [
    "# y_hat is in matrix form, make y_hat into a flattened array.\n",
    "y_hat_arr = np.asarray(y_hat.flatten())\n",
    "\n",
    "residuals = (y - y_hat_arr ) # vertical distances between the model and the y-data"
   ]
  },
  {
   "cell_type": "code",
   "execution_count": 15,
   "metadata": {},
   "outputs": [
    {
     "name": "stdout",
     "output_type": "stream",
     "text": [
      "556.8252629021877\n"
     ]
    }
   ],
   "source": [
    "# RSS = sum(residuals**2)\n",
    "RSS = np.sum( (y - y_hat_arr )**2 )\n",
    "print(RSS)"
   ]
  },
  {
   "cell_type": "code",
   "execution_count": 16,
   "metadata": {},
   "outputs": [
    {
     "data": {
      "text/plain": [
       "matrix([[556.8252629]])"
      ]
     },
     "execution_count": 16,
     "metadata": {},
     "output_type": "execute_result"
    }
   ],
   "source": [
    "# RSS IN MATRIX FORMAT\n",
    "((np.vstack(y) - X * beta).T) * (np.vstack(y) - X * beta)  # equation 3.3"
   ]
  },
  {
   "cell_type": "markdown",
   "metadata": {},
   "source": [
    "### Plot with $\\hat{y}$ and residuals."
   ]
  },
  {
   "cell_type": "raw",
   "metadata": {},
   "source": [
    "plt.plot(xdata, y, 'ro', alpha=0.3)  # data for y\n",
    "plt.plot(xdata, y_hat)  # model estimate for y\n",
    "plt.vlines(xdata, y, y-residuals, color='grey', alpha=0.75)"
   ]
  },
  {
   "cell_type": "code",
   "execution_count": 17,
   "metadata": {},
   "outputs": [
    {
     "data": {
      "text/plain": [
       "array([[ 1.57602559e+00, -1.93785482e+00, -3.00767078e+00,\n",
       "         9.02170488e-01, -2.88671857e-01, -5.27834763e+00,\n",
       "         7.02400484e-02,  1.07704683e+00,  1.07265914e+00,\n",
       "        -1.95084872e+00,  1.56770080e+00,  1.14870817e-01,\n",
       "        -1.37712073e+00,  8.73699520e-01,  5.65633616e-01,\n",
       "         1.58070048e+00, -3.23656744e-01,  1.17504284e+00,\n",
       "         1.34831794e+00,  4.33927068e-01, -1.00767277e-01,\n",
       "        -2.24053820e+00, -8.89150304e-01, -1.04593290e+00,\n",
       "         1.55348113e+00, -3.61003860e+00,  1.04857116e-02,\n",
       "        -1.15167344e+00, -5.10538027e-01,  1.35597611e+00,\n",
       "        -2.33933803e-01,  5.53907096e-01,  1.96111686e+00,\n",
       "        -1.46426829e+00,  1.92516949e+00, -4.20682618e+00,\n",
       "         1.99409948e+00, -9.23477789e-01,  1.91318965e-01,\n",
       "         1.05238961e+00,  2.22335329e-01, -1.95983199e-01,\n",
       "        -8.95803256e-01, -1.06385684e+00, -3.87879956e-01,\n",
       "        -2.61523139e-01,  1.72661327e+00,  1.47737010e+00,\n",
       "        -1.46362018e+00,  1.53183440e+00, -1.23121132e+00,\n",
       "         1.36018704e+00,  1.93702437e+00,  1.25530043e+00,\n",
       "        -1.74430078e-01,  2.40738940e+00, -3.02771254e+00,\n",
       "         4.25411979e-01,  1.90194802e+00,  2.66513019e-01,\n",
       "         2.35784442e+00,  1.30932792e+00, -1.08426073e+00,\n",
       "         7.89307983e-01,  1.02226444e+00,  1.45095468e+00,\n",
       "         4.83968367e-01,  1.36299270e+00, -7.65792424e-02,\n",
       "         1.19108756e+00,  5.20502183e-01,  1.77306185e+00,\n",
       "        -1.56684881e+00,  1.09701794e+00, -3.29311967e-01,\n",
       "        -3.15832174e+00,  2.42241096e+00,  3.88097772e-01,\n",
       "        -3.51331353e+00,  1.32469672e+00,  3.54076361e-01,\n",
       "        -2.34794093e+00,  1.12159201e+00, -8.21842119e-01,\n",
       "         9.18635363e-01,  1.85921102e-02,  4.01292606e-01,\n",
       "         4.06215252e-01,  1.18872899e+00, -2.22255107e-01,\n",
       "         1.20077035e+00,  2.80368402e+00,  2.43603838e-01,\n",
       "         9.72426215e-01,  1.01787615e+00,  5.85078875e-01,\n",
       "        -9.35717162e-01,  1.62922177e-01,  1.28139277e+00,\n",
       "         2.59649790e-01, -2.17595844e+00,  5.57513151e-01,\n",
       "        -2.84409385e+00, -6.22114161e-02,  3.98891216e-01,\n",
       "         1.26358533e+00,  1.07397785e+00,  1.59149751e+00,\n",
       "         1.71274159e+00,  1.07068938e-01, -1.35987410e+00,\n",
       "         6.59725020e-01,  2.19390147e-01, -5.03776230e-01,\n",
       "        -7.05095926e-01, -3.19688952e-01,  2.21252563e-01,\n",
       "         2.82922260e+00,  3.33906521e-01, -2.20067667e-01,\n",
       "         1.08989395e+00, -8.38076422e-01, -2.02645710e+00,\n",
       "         1.17209103e-01,  2.45586936e-01,  1.47265042e+00,\n",
       "        -3.97717411e+00,  2.20033100e+00,  2.44450839e+00,\n",
       "         1.81589351e+00, -8.82768710e+00, -2.87779819e+00,\n",
       "        -2.74915012e+00,  3.33076929e-01, -1.03680390e+00,\n",
       "        -2.40141385e+00, -1.95348627e+00, -5.12519849e-02,\n",
       "        -1.68427955e-01,  1.02452368e+00,  1.41035903e+00,\n",
       "         8.00970681e-01,  8.50130732e-01,  1.63519738e+00,\n",
       "         1.30866597e+00,  5.91461278e-01, -2.09422368e+00,\n",
       "         2.13913897e+00, -1.36335941e+00,  2.72728899e-01,\n",
       "        -2.26720534e+00,  1.59046230e+00,  2.39999696e-01,\n",
       "         7.76098680e-01,  9.83830409e-02, -2.10755890e+00,\n",
       "        -8.48519150e-02,  8.56888003e-02, -3.08419866e+00,\n",
       "         5.00851772e-01,  1.86167020e-01, -2.59145684e-01,\n",
       "        -4.67820576e-02,  6.48363925e-01,  8.31705397e-01,\n",
       "        -2.32372138e+00, -2.82439531e+00, -1.16324677e+00,\n",
       "        -8.61428006e-02, -2.94155630e+00,  1.00502003e+00,\n",
       "         1.41726270e-01, -7.69237872e-03, -2.70938873e-01,\n",
       "        -2.24435742e+00,  2.21312969e+00,  2.20627297e-01,\n",
       "        -4.62046403e-01, -4.21099722e+00,  2.15445051e-01,\n",
       "        -8.71996995e-02, -1.72809918e+00,  2.14533000e+00,\n",
       "         2.06689987e+00, -9.38520955e-01,  1.79698941e+00,\n",
       "         6.08626869e-01,  2.23557772e-01, -2.74430648e+00,\n",
       "         6.48375893e-01, -1.68915910e+00,  1.47598067e+00,\n",
       "         1.43377044e+00,  1.11304203e+00,  8.04699562e-01,\n",
       "         2.22965752e+00,  1.53468764e+00,  1.40791831e-02,\n",
       "         1.73267851e+00, -1.77319554e+00]])"
      ]
     },
     "execution_count": 17,
     "metadata": {},
     "output_type": "execute_result"
    }
   ],
   "source": [
    "residuals"
   ]
  },
  {
   "cell_type": "markdown",
   "metadata": {},
   "source": [
    "### First Derivative of the RSS"
   ]
  },
  {
   "cell_type": "code",
   "execution_count": 18,
   "metadata": {},
   "outputs": [
    {
     "data": {
      "text/plain": [
       "matrix([[ 1.64135372e-12],\n",
       "        [ 2.45108822e-10],\n",
       "        [-2.27373675e-11],\n",
       "        [-2.95585778e-12]])"
      ]
     },
     "execution_count": 18,
     "metadata": {},
     "output_type": "execute_result"
    }
   ],
   "source": [
    "-2 * X.T * (np.vstack(y) - X*beta)   # equation 3.4"
   ]
  },
  {
   "cell_type": "markdown",
   "metadata": {},
   "source": [
    "### Second Derivative of the RSS"
   ]
  },
  {
   "cell_type": "code",
   "execution_count": 19,
   "metadata": {},
   "outputs": [
    {
     "data": {
      "text/plain": [
       "matrix([[118328.98,  29693.82,  20978.6 , ...,  83046.24, 142852.  ,\n",
       "         108668.66],\n",
       "        [ 29693.82,  11119.5 ,  11391.4 , ...,  17063.26,  34514.84,\n",
       "          22119.6 ],\n",
       "        [ 20978.6 ,  11391.4 ,  14412.28, ...,   7831.58,  22788.76,\n",
       "           9981.54],\n",
       "        ...,\n",
       "        [ 83046.24,  17063.26,   7831.58, ...,  62914.9 , 102024.96,\n",
       "          82436.72],\n",
       "        [142852.  ,  34514.84,  22788.76, ..., 102024.96, 173152.8 ,\n",
       "         133523.4 ],\n",
       "        [108668.66,  22119.6 ,   9981.54, ...,  82436.72, 133523.4 ,\n",
       "         108042.12]])"
      ]
     },
     "execution_count": 19,
     "metadata": {},
     "output_type": "execute_result"
    }
   ],
   "source": [
    "2 * X * X.T     # equation 3.4"
   ]
  },
  {
   "cell_type": "markdown",
   "metadata": {},
   "source": [
    "### Degrees of Freedom\n",
    "n_observations - n_predictors - 1"
   ]
  },
  {
   "cell_type": "code",
   "execution_count": 20,
   "metadata": {},
   "outputs": [
    {
     "name": "stdout",
     "output_type": "stream",
     "text": [
      "195\n"
     ]
    }
   ],
   "source": [
    "N,p = X.shape  # number of observations, number of features (aka predictors)\n",
    "\n",
    "degrees_of_freedom = N-p-1\n",
    "print(degrees_of_freedom)"
   ]
  },
  {
   "cell_type": "markdown",
   "metadata": {},
   "source": [
    "### Variance"
   ]
  },
  {
   "cell_type": "code",
   "execution_count": 21,
   "metadata": {},
   "outputs": [
    {
     "name": "stdout",
     "output_type": "stream",
     "text": [
      "2.8555141687291674\n"
     ]
    }
   ],
   "source": [
    "sigma_squared = (1./(N-p-1)) * np.sum( (y - y_hat_arr )**2 )\n",
    "\n",
    "print(sigma_squared)"
   ]
  },
  {
   "cell_type": "code",
   "execution_count": 22,
   "metadata": {},
   "outputs": [
    {
     "data": {
      "text/plain": [
       "2.8555141687291674"
      ]
     },
     "execution_count": 22,
     "metadata": {},
     "output_type": "execute_result"
    }
   ],
   "source": [
    "# OR \n",
    "RSS/degrees_of_freedom"
   ]
  },
  {
   "cell_type": "code",
   "execution_count": 23,
   "metadata": {},
   "outputs": [
    {
     "data": {
      "text/plain": [
       "matrix([[2.85551417]])"
      ]
     },
     "execution_count": 23,
     "metadata": {},
     "output_type": "execute_result"
    }
   ],
   "source": [
    "# sigma_squared IN MATRIX FORM:\n",
    "(1./(N-p-1)) * ( ((np.vstack(y) - X * beta).T) * (np.vstack(y) - X * beta) ) "
   ]
  },
  {
   "cell_type": "markdown",
   "metadata": {},
   "source": [
    "### Variance-Covariance Matrix"
   ]
  },
  {
   "cell_type": "code",
   "execution_count": 24,
   "metadata": {},
   "outputs": [
    {
     "name": "stdout",
     "output_type": "stream",
     "text": [
      "[[ 9.77856543e-02 -2.67090042e-04 -1.12120992e-03 -5.94052118e-04]\n",
      " [-2.67090042e-04  1.95571524e-06 -4.49331973e-07 -3.28269873e-07]\n",
      " [-1.12120992e-03 -4.49331973e-07  7.45336240e-05 -1.78919098e-05]\n",
      " [-5.94052118e-04 -3.28269873e-07 -1.78919098e-05  3.46455171e-05]]\n"
     ]
    }
   ],
   "source": [
    "variance_beta = ((X.T * X)**-1) * sigma_squared  # equation 3.8\n",
    "print(variance_beta)"
   ]
  },
  {
   "cell_type": "markdown",
   "metadata": {},
   "source": [
    "### Standard Error on the parameters. 0.459 is on $\\beta_0$ and 0.0027 is on $\\beta_1$"
   ]
  },
  {
   "cell_type": "code",
   "execution_count": 25,
   "metadata": {},
   "outputs": [
    {
     "name": "stderr",
     "output_type": "stream",
     "text": [
      "/Users/kimzoldak/anaconda3/lib/python3.7/site-packages/ipykernel_launcher.py:2: RuntimeWarning: invalid value encountered in sqrt\n",
      "  \n"
     ]
    },
    {
     "data": {
      "text/plain": [
       "matrix([[0.31270698,        nan,        nan,        nan],\n",
       "        [       nan, 0.00139847,        nan,        nan],\n",
       "        [       nan,        nan, 0.00863329,        nan],\n",
       "        [       nan,        nan,        nan, 0.00588604]])"
      ]
     },
     "execution_count": 25,
     "metadata": {},
     "output_type": "execute_result"
    }
   ],
   "source": [
    "# standard error of the parameters are the diago elements of this matrix.\n",
    "np.sqrt(variance_beta)"
   ]
  },
  {
   "cell_type": "code",
   "execution_count": 26,
   "metadata": {},
   "outputs": [
    {
     "name": "stdout",
     "output_type": "stream",
     "text": [
      "[[0.31270698        nan        nan        nan]\n",
      " [       nan 0.00139847        nan        nan]\n",
      " [       nan        nan 0.00863329        nan]\n",
      " [       nan        nan        nan 0.00588604]]\n"
     ]
    },
    {
     "name": "stderr",
     "output_type": "stream",
     "text": [
      "/Users/kimzoldak/anaconda3/lib/python3.7/site-packages/ipykernel_launcher.py:1: RuntimeWarning: invalid value encountered in sqrt\n",
      "  \"\"\"Entry point for launching an IPython kernel.\n"
     ]
    }
   ],
   "source": [
    "SE_mat = np.sqrt(variance_beta)\n",
    "print(SE_mat)"
   ]
  },
  {
   "cell_type": "code",
   "execution_count": 27,
   "metadata": {},
   "outputs": [
    {
     "name": "stdout",
     "output_type": "stream",
     "text": [
      "[[0.31270698 0.00139847 0.00863329 0.00588604]]\n"
     ]
    }
   ],
   "source": [
    "standard_error = SE_mat.diagonal()\n",
    "print(standard_error)"
   ]
  },
  {
   "cell_type": "code",
   "execution_count": 28,
   "metadata": {},
   "outputs": [
    {
     "data": {
      "text/plain": [
       "[0.3127069783116174,\n",
       " 0.0013984688917148475,\n",
       " 0.00863328581894592,\n",
       " 0.0058860442674705665]"
      ]
     },
     "execution_count": 28,
     "metadata": {},
     "output_type": "execute_result"
    }
   ],
   "source": [
    "[i for i in SE_mat.diagonal().tolist()][0]"
   ]
  },
  {
   "cell_type": "code",
   "execution_count": 29,
   "metadata": {},
   "outputs": [],
   "source": [
    "param_dict['standard_error'] = [i for i in SE_mat.diagonal().tolist()][0]"
   ]
  },
  {
   "cell_type": "raw",
   "metadata": {},
   "source": [
    "# get rid of the nans\n",
    "standard_error = SE_mat[ ~np.isnan(SE_mat) ]\n",
    "print(standard_error)"
   ]
  },
  {
   "cell_type": "markdown",
   "metadata": {},
   "source": [
    "### Confidence Intervals\n",
    "$1\\sigma$, $2\\sigma$, and $3\\sigma$ confidence intervals are calculated using:\n",
    "\n",
    "$\\hat{\\beta_0} \\pm 1 \\ SE(\\hat{\\beta_0})$ \n",
    "\n",
    "$\\hat{\\beta_0} \\pm 2 \\ SE(\\hat{\\beta_0})$ \n",
    "\n",
    "$\\hat{\\beta_0} \\pm 3 \\ SE(\\hat{\\beta_0})$ \n",
    "\n",
    "and \n",
    "\n",
    "$\\hat{\\beta_1} \\pm 1 \\ SE(\\hat{\\beta_1})$ \n",
    "\n",
    "$\\hat{\\beta_1} \\pm 2 \\ SE(\\hat{\\beta_1})$ \n",
    "\n",
    "$\\hat{\\beta_1} \\pm 3 \\ SE(\\hat{\\beta_1})$ \n",
    "\n",
    "\n",
    "where 2 is the z-score for a 95% confidence interval. "
   ]
  },
  {
   "cell_type": "code",
   "execution_count": 30,
   "metadata": {},
   "outputs": [
    {
     "data": {
      "text/plain": [
       "matrix([[ 2.93888937e+00],\n",
       "        [ 4.57646455e-02],\n",
       "        [ 1.88530017e-01],\n",
       "        [-1.03749304e-03]])"
      ]
     },
     "execution_count": 30,
     "metadata": {},
     "output_type": "execute_result"
    }
   ],
   "source": [
    "beta"
   ]
  },
  {
   "cell_type": "code",
   "execution_count": 31,
   "metadata": {},
   "outputs": [
    {
     "data": {
      "text/plain": [
       "matrix([[ 2.62618239,         nan,         nan,         nan],\n",
       "        [        nan,  0.04436618,         nan,         nan],\n",
       "        [        nan,         nan,  0.17989673,         nan],\n",
       "        [        nan,         nan,         nan, -0.00692354]])"
      ]
     },
     "execution_count": 31,
     "metadata": {},
     "output_type": "execute_result"
    }
   ],
   "source": [
    "(beta - 1*SE_mat)"
   ]
  },
  {
   "cell_type": "code",
   "execution_count": 32,
   "metadata": {},
   "outputs": [
    {
     "data": {
      "text/plain": [
       "(matrix([[ 2.62618239,  0.04436618,  0.17989673, -0.00692354]]),\n",
       " matrix([[3.25159635, 0.04716311, 0.1971633 , 0.00484855]]))"
      ]
     },
     "execution_count": 32,
     "metadata": {},
     "output_type": "execute_result"
    }
   ],
   "source": [
    "# 1-sigma Confidence intervals\n",
    "(beta - 1*SE_mat).diagonal(), (beta + 1*SE_mat).diagonal()"
   ]
  },
  {
   "cell_type": "code",
   "execution_count": 33,
   "metadata": {},
   "outputs": [
    {
     "data": {
      "text/plain": [
       "(matrix([[ 2.31347541,  0.04296771,  0.17126345, -0.01280958]]),\n",
       " matrix([[3.56430333, 0.04856158, 0.20579659, 0.0107346 ]]))"
      ]
     },
     "execution_count": 33,
     "metadata": {},
     "output_type": "execute_result"
    }
   ],
   "source": [
    "# 2-sigma Confidence intervals\n",
    "(beta - 2*SE_mat).diagonal(), (beta + 2*SE_mat).diagonal()"
   ]
  },
  {
   "cell_type": "code",
   "execution_count": 34,
   "metadata": {},
   "outputs": [
    {
     "data": {
      "text/plain": [
       "(matrix([[ 2.00076843,  0.04156924,  0.16263016, -0.01869563]]),\n",
       " matrix([[3.8770103 , 0.04996005, 0.21442987, 0.01662064]]))"
      ]
     },
     "execution_count": 34,
     "metadata": {},
     "output_type": "execute_result"
    }
   ],
   "source": [
    "# 3-sigma Confidence intervals\n",
    "(beta - 3*SE_mat).diagonal(), (beta + 3*SE_mat).diagonal()"
   ]
  },
  {
   "cell_type": "code",
   "execution_count": 35,
   "metadata": {},
   "outputs": [],
   "source": [
    "param_dict['1sigma_CI'] = []\n",
    "param_dict['2sigma_CI'] = []\n",
    "param_dict['3sigma_CI'] = []\n",
    "    \n",
    "for coeff,se in zip(param_dict['coeffs'], param_dict['standard_error']):\n",
    "    param_dict['1sigma_CI'].append([coeff - 1*se, coeff + 1*se])\n",
    "    param_dict['2sigma_CI'].append([coeff - 2*se, coeff + 2*se])\n",
    "    param_dict['3sigma_CI'].append([coeff - 3*se, coeff + 3*se])\n",
    "#     print(coeff - 1*se, coeff + 1*se)\n",
    "#     print(coeff - 2*se, coeff + 2*se)\n",
    "#     print(coeff - 3*se, coeff + 3*se)"
   ]
  },
  {
   "cell_type": "code",
   "execution_count": 36,
   "metadata": {},
   "outputs": [
    {
     "data": {
      "text/plain": [
       "{'names': ['Intercept', 'TV', 'radio', 'newspaper'],\n",
       " 'coeffs': [2.9388893694594365,\n",
       "  0.04576464545539759,\n",
       "  0.18853001691820376,\n",
       "  -0.0010374930424764152],\n",
       " 'standard_error': [0.3127069783116174,\n",
       "  0.0013984688917148475,\n",
       "  0.00863328581894592,\n",
       "  0.0058860442674705665],\n",
       " '1sigma_CI': [[2.626182391147819, 3.251596347771054],\n",
       "  [0.04436617656368274, 0.047163114347112435],\n",
       "  [0.17989673109925783, 0.1971633027371497],\n",
       "  [-0.006923537309946982, 0.004848551224994151]],\n",
       " '2sigma_CI': [[2.3134754128362016, 3.5643033260826713],\n",
       "  [0.04296770767196789, 0.04856158323882728],\n",
       "  [0.17126344528031193, 0.2057965885560956],\n",
       "  [-0.012809581577417548, 0.010734595492464718]],\n",
       " '3sigma_CI': [[2.000768434524584, 3.8770103043942887],\n",
       "  [0.041569238780253044, 0.04996005213054213],\n",
       "  [0.162630159461366, 0.21442987437504152],\n",
       "  [-0.018695625844888115, 0.016620639759935284]]}"
      ]
     },
     "execution_count": 36,
     "metadata": {},
     "output_type": "execute_result"
    }
   ],
   "source": [
    "param_dict"
   ]
  },
  {
   "cell_type": "raw",
   "metadata": {},
   "source": [
    "param_dict['standard_error'] = [i for i in SE_mat.diagonal().tolist()][0]"
   ]
  },
  {
   "cell_type": "markdown",
   "metadata": {},
   "source": [
    "### Residual Standard Error"
   ]
  },
  {
   "cell_type": "code",
   "execution_count": 37,
   "metadata": {},
   "outputs": [
    {
     "name": "stdout",
     "output_type": "stream",
     "text": [
      "1.676976088838568\n"
     ]
    }
   ],
   "source": [
    "RSE = np.sqrt(RSS/(N-2))\n",
    "print(RSE)"
   ]
  },
  {
   "cell_type": "markdown",
   "metadata": {},
   "source": [
    "### $R^2$ Statistic\n",
    "$R^2 = \\frac{TSS-RSS}{TSS} = 1-\\frac{RSS}{TSS}$,\n",
    "\n",
    "where\n",
    "\n",
    "$TSS = \\sum{(y_i - \\bar{y})^2}$ is the total sum of squares. TSS measures the total variance int he response Y, and can be thought of as the amount of variability inherent in the response before regression in performed. In contrast, RSS measures the amount of variability that is left unexplained after performing the regression. Hence, TSS-RSS measures the amount of variability in the response that is explained (or removed) by performing the regression, and $R^2$ measures the proportion of variability in Y that can be explained using X. An $R^2$ close to 1 indicates a large proportion of the variability in the response has been explained by the regression. A number near 0 indicates the regression did not explain much of the variability in the response. This may occur when the linear model is wrong, the inherent error $\\sigma^2$ is high, or both. "
   ]
  },
  {
   "cell_type": "code",
   "execution_count": 38,
   "metadata": {},
   "outputs": [],
   "source": [
    "TSS = np.sum((ydata - ydata.mean())**2)"
   ]
  },
  {
   "cell_type": "code",
   "execution_count": 39,
   "metadata": {},
   "outputs": [
    {
     "name": "stdout",
     "output_type": "stream",
     "text": [
      "0.8854345262449436\n"
     ]
    }
   ],
   "source": [
    "R_squared = 1-(RSS/TSS)\n",
    "print(R_squared)"
   ]
  },
  {
   "cell_type": "markdown",
   "metadata": {},
   "source": [
    "Just under 2/3rds of the variability in sales is explained by a linear regression on TV. "
   ]
  },
  {
   "cell_type": "markdown",
   "metadata": {},
   "source": [
    "### Adjusted $R^2$"
   ]
  },
  {
   "cell_type": "code",
   "execution_count": 40,
   "metadata": {},
   "outputs": [
    {
     "name": "stdout",
     "output_type": "stream",
     "text": [
      "0.8836809730752233\n"
     ]
    }
   ],
   "source": [
    "R_squared_adjusted = 1 - ( (RSS/(N-p)) / (TSS/(N-1)) )\n",
    "print(R_squared_adjusted)"
   ]
  },
  {
   "cell_type": "markdown",
   "metadata": {},
   "source": [
    "### Mean Squared Error"
   ]
  },
  {
   "cell_type": "code",
   "execution_count": 41,
   "metadata": {},
   "outputs": [
    {
     "name": "stdout",
     "output_type": "stream",
     "text": [
      "2.7841263145109383\n"
     ]
    }
   ],
   "source": [
    "MSE = RSS/N\n",
    "print(MSE)"
   ]
  },
  {
   "cell_type": "markdown",
   "metadata": {},
   "source": [
    "### Root Mean Squared Error"
   ]
  },
  {
   "cell_type": "code",
   "execution_count": 42,
   "metadata": {},
   "outputs": [
    {
     "name": "stdout",
     "output_type": "stream",
     "text": [
      "1.6685701407225704\n"
     ]
    }
   ],
   "source": [
    "RMSE = np.sqrt(RSS/N)\n",
    "print(RMSE)"
   ]
  },
  {
   "cell_type": "code",
   "execution_count": 43,
   "metadata": {},
   "outputs": [
    {
     "name": "stdout",
     "output_type": "stream",
     "text": [
      "1.6685701407225704 1.6685701407225704\n"
     ]
    }
   ],
   "source": [
    "# THESE SHOULD BE VERY CLOSE IF NOT EXACTLY THE SAME.\n",
    "print(RMSE, np.std(residuals))"
   ]
  },
  {
   "cell_type": "code",
   "execution_count": 44,
   "metadata": {},
   "outputs": [
    {
     "data": {
      "text/plain": [
       "True"
      ]
     },
     "execution_count": 44,
     "metadata": {},
     "output_type": "execute_result"
    }
   ],
   "source": [
    "RMSE == np.std(residuals)"
   ]
  },
  {
   "cell_type": "markdown",
   "metadata": {},
   "source": [
    "### t-statistic\n",
    "$t=\\frac{\\hat{\\beta_0}-0}{\\text{SE}(\\hat{\\beta_0})}$\n",
    "\n",
    "and \n",
    "\n",
    "$t=\\frac{\\hat{\\beta_1}-0}{\\text{SE}(\\hat{\\beta_1})}$"
   ]
  },
  {
   "cell_type": "code",
   "execution_count": 45,
   "metadata": {},
   "outputs": [
    {
     "name": "stdout",
     "output_type": "stream",
     "text": [
      "0.3127069783116174\n",
      "0.0013984688917148475\n",
      "0.00863328581894592\n",
      "0.0058860442674705665\n"
     ]
    }
   ],
   "source": [
    "for se in np.asarray(standard_error)[0]:\n",
    "    print(se)\n"
   ]
  },
  {
   "cell_type": "raw",
   "metadata": {},
   "source": [
    "param_dict['standard_error'] = [i for i in SE_mat.diagonal().tolist()][0]"
   ]
  },
  {
   "cell_type": "code",
   "execution_count": 46,
   "metadata": {},
   "outputs": [
    {
     "data": {
      "text/plain": [
       "{'names': ['Intercept', 'TV', 'radio', 'newspaper'],\n",
       " 'coeffs': [2.9388893694594365,\n",
       "  0.04576464545539759,\n",
       "  0.18853001691820376,\n",
       "  -0.0010374930424764152],\n",
       " 'standard_error': [0.3127069783116174,\n",
       "  0.0013984688917148475,\n",
       "  0.00863328581894592,\n",
       "  0.0058860442674705665],\n",
       " '1sigma_CI': [[2.626182391147819, 3.251596347771054],\n",
       "  [0.04436617656368274, 0.047163114347112435],\n",
       "  [0.17989673109925783, 0.1971633027371497],\n",
       "  [-0.006923537309946982, 0.004848551224994151]],\n",
       " '2sigma_CI': [[2.3134754128362016, 3.5643033260826713],\n",
       "  [0.04296770767196789, 0.04856158323882728],\n",
       "  [0.17126344528031193, 0.2057965885560956],\n",
       "  [-0.012809581577417548, 0.010734595492464718]],\n",
       " '3sigma_CI': [[2.000768434524584, 3.8770103043942887],\n",
       "  [0.041569238780253044, 0.04996005213054213],\n",
       "  [0.162630159461366, 0.21442987437504152],\n",
       "  [-0.018695625844888115, 0.016620639759935284]]}"
      ]
     },
     "execution_count": 46,
     "metadata": {},
     "output_type": "execute_result"
    }
   ],
   "source": [
    "param_dict"
   ]
  },
  {
   "cell_type": "code",
   "execution_count": 47,
   "metadata": {},
   "outputs": [],
   "source": [
    "param_dict['t_statistic'] = []\n",
    "for coeff,se in zip(param_dict['coeffs'], param_dict['standard_error']):\n",
    "    param_dict['t_statistic'].append((coeff - 0)/(se))"
   ]
  },
  {
   "cell_type": "code",
   "execution_count": 48,
   "metadata": {},
   "outputs": [
    {
     "data": {
      "text/plain": [
       "[9.398221252775455,\n",
       " 32.72482192956006,\n",
       " 21.837573882295292,\n",
       " -0.17626320756881791]"
      ]
     },
     "execution_count": 48,
     "metadata": {},
     "output_type": "execute_result"
    }
   ],
   "source": [
    "param_dict['t_statistic']"
   ]
  },
  {
   "cell_type": "markdown",
   "metadata": {},
   "source": [
    "### Common forms for the Log-Likelihood Equation of a Normal Distribution.\n",
    "\n",
    "${\\displaystyle \\log {\\Big (}{\\mathcal {L}}(\\mu ,\\sigma ){\\Big )}=-{\\frac {\\,n\\,}{2}}\\log(2\\pi \\sigma ^{2})-{\\frac {1}{2\\sigma ^{2}}}\\sum _{i=1}^{n}(\\,x_{i}-\\mu \\,)^{2}}$\n",
    "\n",
    "$\\ln(f) = -\\frac{1}{2} n \\ln(2 \\pi) - n\\ln \\sigma - \\frac{\\sum(x_i - \\mu)^2}{2\\sigma^2}$\n",
    "\n",
    "Unfortunately, these are confusing.\n",
    "\n",
    "The $(x_i - \\mu)^2$ appears to be the $ith$ element of the xdata and $\\mu$ the mean of that data. However, this is wrong!! \n",
    "\n",
    "$(x_i - \\mu)^2$ would be better written as $(y_i - \\hat{y_i})$.\n",
    "\n",
    "$y_i$ is the y-axis values of the real data.\n",
    "\n",
    "$\\hat{y_i}$ are the estimates of each $y_i$, given the linear model. \n",
    "\n",
    "Another confusing aspect of these equations; $\\sigma$ is NOT the sigma we have been using. $\\sigma$ is the standard deviation of the residuals; std($y_i - \\hat{y_i}$). Instead of using $\\sigma$, we will use $s$. \n",
    "\n",
    "We are trying to estimate the true model $f$ that produced the true datapoints ($x_i$, $y_i$). If we accurately estimate $f$ with no trend of overestimating or underestimating the dependent variable (i.e., no bias), then the differences between the true values and our estimates of them will be normally distributed about the model. Thus, ($y_i - \\hat{y_i}$) will be normally distributed about the linear model. \n",
    "\n",
    "($y_i - \\hat{y_i}$) are the vertical offsets between the model and the true data, since y is the dependent variable and the y-axis is the vertical axis. They are the fit residuals, or the errors of the fit. It should now make sense that $s=\\text{std}(y_i - \\hat{y_i}) = \\text{std}(residuals)$ is also the standard deviation of the normal distribution that the data ($x_i$, $y_i$) are scattered about the true model $f$. \n",
    "\n",
    "*NOTE: Taking a look at the linear fit to the data we use in this notebook example, there is clearly a bias and the residuals are NOT normally distributed about the model. We will discuss that at a later time when covering the topic of bias.*"
   ]
  },
  {
   "cell_type": "markdown",
   "metadata": {},
   "source": [
    "https://www.stat.cmu.edu/~cshalizi/mreg/15/lectures/06/lecture-06.pdf\n",
    "\n",
    "### Log-Likelihood Equation we will use:\n",
    "\n",
    "$\\log (f) = -\\frac{n}{2} \\log(2 \\pi) - n \\log(s) - \\frac{1}{2s^2}\\sum_{i=1}^{n} (y_i - (\\beta_0 + \\beta_1 x_i))^2$\n",
    "\n",
    "OR\n",
    "\n",
    "$\\log (f) = -\\frac{n}{2} \\log(2 \\pi s^2) - \\frac{1}{2s^2}\\sum_{i=1}^{n} (y_i - (\\beta_0 + \\beta_1 x_i))^2$\n",
    "\n",
    "Notice that $(\\beta_0 + \\beta_1 x_i)$ is $\\hat{y_i}$, the estimates of the ydata. \n",
    "\n",
    "Thus,\n",
    "\n",
    "$\\sum_{i=1}^{n} (y_i - (\\beta_0 + \\beta_1 x_i))^2 \\ \\ \\ = \\ \\ \\ \\sum_{i=1}^{n} (y_i - \\hat{y_i})^2$, \n",
    "\n",
    "which is the residual sum of squares, the $RSS$."
   ]
  },
  {
   "cell_type": "code",
   "execution_count": 49,
   "metadata": {},
   "outputs": [
    {
     "name": "stdout",
     "output_type": "stream",
     "text": [
      "-386.1811179443832\n"
     ]
    }
   ],
   "source": [
    "s = np.std(residuals)\n",
    "LOGLIKE = -0.5*N*np.log(2.0*np.pi*(s**2)) - (np.sum(residuals**2)/(2.0*(s**2)))\n",
    "print(LOGLIKE)"
   ]
  },
  {
   "cell_type": "markdown",
   "metadata": {},
   "source": [
    "### AIC and BIC"
   ]
  },
  {
   "cell_type": "code",
   "execution_count": 50,
   "metadata": {},
   "outputs": [
    {
     "name": "stdout",
     "output_type": "stream",
     "text": [
      "780.3622358887663\n",
      "793.5555053549585\n"
     ]
    }
   ],
   "source": [
    "AIC = -2.* LOGLIKE + 2.*p\n",
    "print(AIC)\n",
    "BIC = -2.* LOGLIKE + np.log(N)*p\n",
    "print(BIC)"
   ]
  },
  {
   "cell_type": "code",
   "execution_count": null,
   "metadata": {},
   "outputs": [],
   "source": []
  },
  {
   "cell_type": "code",
   "execution_count": null,
   "metadata": {},
   "outputs": [],
   "source": []
  },
  {
   "cell_type": "markdown",
   "metadata": {},
   "source": [
    "[Projection Matrix](https://en.wikipedia.org/wiki/Projection_matrix)\n",
    "\n",
    "[Identity Matrix](https://en.wikipedia.org/wiki/Identity_matrix)"
   ]
  },
  {
   "cell_type": "markdown",
   "metadata": {},
   "source": [
    "${\\displaystyle \\mathbf {\\hat {y}} =\\mathbf {P} \\mathbf {y} }$"
   ]
  },
  {
   "cell_type": "markdown",
   "metadata": {},
   "source": [
    "$P = X(X^TX)^{−1}X^T$"
   ]
  },
  {
   "cell_type": "code",
   "execution_count": 51,
   "metadata": {},
   "outputs": [
    {
     "name": "stdout",
     "output_type": "stream",
     "text": [
      "[[ 0.02520285  0.00720529  0.01556763 ... -0.0041267   0.02730301\n",
      "  -0.00060309]\n",
      " [ 0.00720529  0.01941823  0.0258422  ... -0.0041477   0.00440307\n",
      "  -0.00828713]\n",
      " [ 0.01556763  0.0258422   0.03922616 ... -0.01133941  0.01089922\n",
      "  -0.01614962]\n",
      " ...\n",
      " [-0.0041267  -0.0041477  -0.01133941 ...  0.01385412 -0.00305087\n",
      "   0.01493049]\n",
      " [ 0.02730301  0.00440307  0.01089922 ... -0.00305087  0.03205721\n",
      "   0.00223189]\n",
      " [-0.00060309 -0.00828713 -0.01614962 ...  0.01493049  0.00223189\n",
      "   0.01816635]]\n"
     ]
    }
   ],
   "source": [
    "projection_matrix = (X*(X.T*X)**-1) * X.T\n",
    "print(projection_matrix)"
   ]
  },
  {
   "cell_type": "code",
   "execution_count": 52,
   "metadata": {},
   "outputs": [
    {
     "name": "stdout",
     "output_type": "stream",
     "text": [
      "[[1. 0. 0. ... 0. 0. 0.]\n",
      " [0. 1. 0. ... 0. 0. 0.]\n",
      " [0. 0. 1. ... 0. 0. 0.]\n",
      " ...\n",
      " [0. 0. 0. ... 1. 0. 0.]\n",
      " [0. 0. 0. ... 0. 1. 0.]\n",
      " [0. 0. 0. ... 0. 0. 1.]]\n"
     ]
    }
   ],
   "source": [
    "identity_matrix = np.identity(n=len(X))\n",
    "print(identity_matrix)"
   ]
  },
  {
   "cell_type": "code",
   "execution_count": 53,
   "metadata": {},
   "outputs": [
    {
     "name": "stdout",
     "output_type": "stream",
     "text": [
      "[[ 9.74797152e-01 -7.20529194e-03 -1.55676277e-02 ...  4.12670353e-03\n",
      "  -2.73030093e-02  6.03092738e-04]\n",
      " [-7.20529194e-03  9.80581772e-01 -2.58421998e-02 ...  4.14769819e-03\n",
      "  -4.40306933e-03  8.28713255e-03]\n",
      " [-1.55676277e-02 -2.58421998e-02  9.60773842e-01 ...  1.13394050e-02\n",
      "  -1.08992188e-02  1.61496229e-02]\n",
      " ...\n",
      " [ 4.12670353e-03  4.14769819e-03  1.13394050e-02 ...  9.86145881e-01\n",
      "   3.05087091e-03 -1.49304948e-02]\n",
      " [-2.73030093e-02 -4.40306933e-03 -1.08992188e-02 ...  3.05087091e-03\n",
      "   9.67942789e-01 -2.23188923e-03]\n",
      " [ 6.03092738e-04  8.28713255e-03  1.61496229e-02 ... -1.49304948e-02\n",
      "  -2.23188923e-03  9.81833645e-01]]\n"
     ]
    }
   ],
   "source": [
    "residual_maker_matrix = identity_matrix - projection_matrix\n",
    "print(residual_maker_matrix)"
   ]
  },
  {
   "cell_type": "markdown",
   "metadata": {},
   "source": [
    "M is the \"residual maker matrix\"\n",
    "\n",
    "M = I − P  \n",
    "\n",
    "I is the identity matrix and P is the projection matrix. Puts a hat onto y."
   ]
  },
  {
   "cell_type": "code",
   "execution_count": 54,
   "metadata": {},
   "outputs": [
    {
     "name": "stdout",
     "output_type": "stream",
     "text": [
      "[[2.84094522]]\n",
      "2.8409452188887125\n"
     ]
    }
   ],
   "source": [
    "N,p = X.shape\n",
    "M = residual_maker_matrix\n",
    "s_squared = (np.vstack(y).T * M * np.vstack(y))/(N-p)\n",
    "\n",
    "print(s_squared)  # appears to be same as RSS/(n-p)\n",
    "\n",
    "print(RSS/(N-p))"
   ]
  },
  {
   "cell_type": "code",
   "execution_count": null,
   "metadata": {},
   "outputs": [],
   "source": []
  }
 ],
 "metadata": {
  "kernelspec": {
   "display_name": "Python 3",
   "language": "python",
   "name": "python3"
  },
  "language_info": {
   "codemirror_mode": {
    "name": "ipython",
    "version": 3
   },
   "file_extension": ".py",
   "mimetype": "text/x-python",
   "name": "python",
   "nbconvert_exporter": "python",
   "pygments_lexer": "ipython3",
   "version": "3.7.0"
  }
 },
 "nbformat": 4,
 "nbformat_minor": 2
}
