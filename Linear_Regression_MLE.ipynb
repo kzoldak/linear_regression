{
 "cells": [
  {
   "cell_type": "markdown",
   "metadata": {},
   "source": [
    "### Log-Likelihood Function for Normal Distribution\n",
    "\n",
    "\n",
    "${\\displaystyle \\log {\\Big(}{\\mathcal{L}}(\\hat{y_i}, s ){\\Big)} = -{\\frac{n}{2}}\\log(2 \\pi s^{2})-{\\frac {1}{2 s^{2}}}\\sum_{i=1}^{n}(y_{i}-\\hat{y_i})^{2}}$\n",
    "\n",
    "OR \n",
    "\n",
    "${\\displaystyle \\log {\\Big(}{\\mathcal{L}}(\\hat{y_i}, s ){\\Big)} = -{\\frac{n}{2}}\\log(2 \\pi) -n \\log(s) - {\\frac {1}{2 s^{2}}}\\sum_{i=1}^{n}(y_{i}-\\hat{y_i})^{2}}$\n",
    "\n",
    "\n",
    "$n$ - number of observations\n",
    "\n",
    "$\\log$ - natural logarithm\n",
    "\n",
    "$s$ - standard deviation of the residuals, or the standard deviation of the normal distribution that the residuals exhibit about the model. \n",
    "\n",
    "$y_i$ - data's y-axis values. True data.\n",
    "\n",
    "$\\hat{y_i}$ - estimates of $y_i$ given the linear model.\n",
    "\n",
    "$y_i - \\hat{y_i}$ - residuals or errors. The vertial offsets between the true data and our estimates. \n",
    "\n",
    "\n",
    "\n",
    "\n"
   ]
  },
  {
   "cell_type": "code",
   "execution_count": 1,
   "metadata": {},
   "outputs": [
    {
     "data": {
      "text/plain": [
       "\"\\n# run MLE calculation\\nresult = minimize( fun     = LogLikelihood,      # function to minimize (linear model)\\n                   x0      = np.array([1,1]),    # initial guess for all parameters. \\n                   method  = 'L-BFGS-B',         # method of solver. \\n                   args    = (xdata, ydata))     # extra arguments to pass to the function. \\n                                                 # Ours are x an y values.  \\n\\nresult  # Loglikelihood = -1*fun  \\n\\n\""
      ]
     },
     "execution_count": 1,
     "metadata": {},
     "output_type": "execute_result"
    }
   ],
   "source": [
    "import numpy as np\n",
    "import pandas as pd\n",
    "from scipy.optimize import minimize\n",
    "\n",
    "\n",
    "import matplotlib.pyplot as plt\n",
    "%matplotlib inline\n",
    "\n",
    "\n",
    "\n",
    "\n",
    "\n",
    "def LogLikelihood(parameters, x, y):\n",
    "    '''\n",
    "    LogLikelihood(parameters, x, y)\n",
    "    \n",
    "    Parameters:\n",
    "    ----------\n",
    "    parameters: linear model coefficients, with the y-intercept passed first.\n",
    "                These should be in the following order:\n",
    "                [b_0, b_1, b_2, ..., b_p]\n",
    "                where p is the number of coefficients.\n",
    "    Linear Model:            \n",
    "    y = b_0 + b_1*x + b_2*x + ... + b_p * x\n",
    "    If there are only 2 parameters, a y-ingercept and a single slope \n",
    "    coefficient, this is your ordinary linear modeling: y = b + m*x\n",
    "    \n",
    "    x: array of xdata\n",
    "    y: array of ydata\n",
    "    \n",
    "    Returns:\n",
    "    --------\n",
    "    Performs maximum likelihood estimation with linear regression and \n",
    "    returns the results. \n",
    "    fun: -1*Log-Likelihood. \n",
    "    \n",
    "    Example:\n",
    "    --------\n",
    "    result = minimize( fun     = LogLikelihood,      \n",
    "                       x0      = np.array([1,1]),  \n",
    "                       method  = 'L-BFGS-B',         \n",
    "                       args    = (xdata, ydata))\n",
    "                       \n",
    "    # fun: function to minimize (linear model)\n",
    "    # x0:  initial guess for all parameters.\n",
    "    # method: method of solver.\n",
    "    # args: other arguments the fun function takes. Such as x and y data.\n",
    "    \n",
    "    '''\n",
    "    pi = np.pi\n",
    "    log = np.log\n",
    "    std = np.std\n",
    "    \n",
    "    # SETUP A LIST TO APPEND LINEAR MODEL COEFFICIENTS TO\n",
    "    yhat = [parameters[0]]    # y-intercept\n",
    "    for par in parameters[1:]:\n",
    "        yhat.append(par * x)\n",
    "    \n",
    "    # ENTIRE LINEAR MODEL, WILL ALL b params.  \n",
    "    yhat = sum(yhat)  # y = b_0 + b_1*x + b_2*x + ... + b_n*x\n",
    "    \n",
    "    n           = len(yhat)\n",
    "    error       = y - yhat  # residuals\n",
    "    sigma       = std(error)\n",
    "    # L = (-0.5*n*log(2.0*pi*sigma*sigma)) - (sum(error**2)/(2.0*sigma*sigma))\n",
    "    ## OR\n",
    "    L = (-0.5*n*log(2.0*pi)) - (n*log(sigma)) - (sum(error**2)/(2.0*sigma*sigma))\n",
    "    return -1*L     # must leave negative sign.\n",
    "\n",
    "\n",
    "\n",
    "'''\n",
    "# run MLE calculation\n",
    "result = minimize( fun     = LogLikelihood,      # function to minimize (linear model)\n",
    "                   x0      = np.array([1,1]),    # initial guess for all parameters. \n",
    "                   method  = 'L-BFGS-B',         # method of solver. \n",
    "                   args    = (xdata, ydata))     # extra arguments to pass to the function. \n",
    "                                                 # Ours are x an y values.  \n",
    "\n",
    "result  # Loglikelihood = -1*fun  \n",
    "\n",
    "'''"
   ]
  },
  {
   "cell_type": "code",
   "execution_count": 2,
   "metadata": {},
   "outputs": [],
   "source": [
    "import pandas as pd\n",
    "import numpy as np\n",
    "\n",
    "import matplotlib.pyplot as plt\n",
    "%matplotlib inline"
   ]
  },
  {
   "cell_type": "markdown",
   "metadata": {},
   "source": [
    "### Linear Modeling Function:\n",
    "\n",
    "\n",
    "\n",
    "${\\displaystyle \\hat{y_i} = \\beta_{0} + \\beta _{2}x_i + \\cdots + \\beta_{p}x_i + \\varepsilon_i}$\n",
    "\n",
    "$x_i$ - true x-axis values of the datapoints.\n",
    "\n",
    "$y_i$ - true y-axis values of the datapoints.\n",
    "\n",
    "$\\hat{y_i}$ - estimates of $y_i$.\n",
    "\n",
    "$\\beta_{0}$ - y-intercept \n",
    "\n",
    "$\\beta_{1-p}$ - set of linear coefficients \n",
    "\n",
    "$\\varepsilon$ - error \n",
    "\n",
    "Number of $x_i$, $y_i$, and $\\hat{y_i}$ are determined by the number of observations, $n$.\n",
    "\n",
    "Number of $\\beta$ parameteres depends on the number of features included in the regression, $p$. The number of coefficients is always $(p+1)$.\n",
    "\n",
    "${\\displaystyle y_i = \\beta_{0} + \\beta _{2}x_i + \\varepsilon_i} $\n",
    "is the familiar linear model between two variables. $y=b+mx$."
   ]
  },
  {
   "cell_type": "markdown",
   "metadata": {},
   "source": [
    "```\n",
    "\n",
    "\n",
    "```"
   ]
  },
  {
   "cell_type": "markdown",
   "metadata": {},
   "source": [
    "### read in data"
   ]
  },
  {
   "cell_type": "code",
   "execution_count": 3,
   "metadata": {},
   "outputs": [
    {
     "data": {
      "text/html": [
       "<div>\n",
       "<style scoped>\n",
       "    .dataframe tbody tr th:only-of-type {\n",
       "        vertical-align: middle;\n",
       "    }\n",
       "\n",
       "    .dataframe tbody tr th {\n",
       "        vertical-align: top;\n",
       "    }\n",
       "\n",
       "    .dataframe thead th {\n",
       "        text-align: right;\n",
       "    }\n",
       "</style>\n",
       "<table border=\"1\" class=\"dataframe\">\n",
       "  <thead>\n",
       "    <tr style=\"text-align: right;\">\n",
       "      <th></th>\n",
       "      <th>TV</th>\n",
       "      <th>radio</th>\n",
       "      <th>newspaper</th>\n",
       "      <th>sales</th>\n",
       "    </tr>\n",
       "  </thead>\n",
       "  <tbody>\n",
       "    <tr>\n",
       "      <th>1</th>\n",
       "      <td>230.1</td>\n",
       "      <td>37.8</td>\n",
       "      <td>69.2</td>\n",
       "      <td>22.1</td>\n",
       "    </tr>\n",
       "    <tr>\n",
       "      <th>2</th>\n",
       "      <td>44.5</td>\n",
       "      <td>39.3</td>\n",
       "      <td>45.1</td>\n",
       "      <td>10.4</td>\n",
       "    </tr>\n",
       "    <tr>\n",
       "      <th>3</th>\n",
       "      <td>17.2</td>\n",
       "      <td>45.9</td>\n",
       "      <td>69.3</td>\n",
       "      <td>9.3</td>\n",
       "    </tr>\n",
       "    <tr>\n",
       "      <th>4</th>\n",
       "      <td>151.5</td>\n",
       "      <td>41.3</td>\n",
       "      <td>58.5</td>\n",
       "      <td>18.5</td>\n",
       "    </tr>\n",
       "    <tr>\n",
       "      <th>5</th>\n",
       "      <td>180.8</td>\n",
       "      <td>10.8</td>\n",
       "      <td>58.4</td>\n",
       "      <td>12.9</td>\n",
       "    </tr>\n",
       "  </tbody>\n",
       "</table>\n",
       "</div>"
      ],
      "text/plain": [
       "      TV  radio  newspaper  sales\n",
       "1  230.1   37.8       69.2   22.1\n",
       "2   44.5   39.3       45.1   10.4\n",
       "3   17.2   45.9       69.3    9.3\n",
       "4  151.5   41.3       58.5   18.5\n",
       "5  180.8   10.8       58.4   12.9"
      ]
     },
     "execution_count": 3,
     "metadata": {},
     "output_type": "execute_result"
    }
   ],
   "source": [
    "data = pd.read_csv('http://www-bcf.usc.edu/~gareth/ISL/Advertising.csv', index_col=0)\n",
    "data.head()"
   ]
  },
  {
   "cell_type": "code",
   "execution_count": 4,
   "metadata": {},
   "outputs": [],
   "source": [
    "xdata = np.asarray(data.TV)\n",
    "ydata = np.asarray(data.sales)"
   ]
  },
  {
   "cell_type": "code",
   "execution_count": 5,
   "metadata": {},
   "outputs": [
    {
     "data": {
      "text/plain": [
       "Text(0, 0.5, 'Sales')"
      ]
     },
     "execution_count": 5,
     "metadata": {},
     "output_type": "execute_result"
    },
    {
     "data": {
      "image/png": "[encoded data removed]",
      "text/plain": [
       "<Figure size 432x288 with 1 Axes>"
      ]
     },
     "metadata": {
      "needs_background": "light"
     },
     "output_type": "display_data"
    }
   ],
   "source": [
    "plt.plot(xdata, ydata, 'ro', alpha=0.3)\n",
    "plt.xlabel('TV Advertisement, money spent (x\\'s $1,000)')\n",
    "plt.ylabel('Sales')"
   ]
  },
  {
   "cell_type": "code",
   "execution_count": 6,
   "metadata": {},
   "outputs": [
    {
     "data": {
      "text/plain": [
       "      fun: 519.0456637682424\n",
       " hess_inv: <2x2 LbfgsInvHessProduct with dtype=float64>\n",
       "      jac: array([ 1.13686838e-05, -8.07176548e-04])\n",
       "  message: b'CONVERGENCE: REL_REDUCTION_OF_F_<=_FACTR*EPSMCH'\n",
       "     nfev: 129\n",
       "      nit: 23\n",
       "   status: 0\n",
       "  success: True\n",
       "        x: array([7.03259841, 0.04753661])"
      ]
     },
     "execution_count": 6,
     "metadata": {},
     "output_type": "execute_result"
    }
   ],
   "source": [
    "# run MLE calculation\n",
    "result = minimize( fun     = LogLikelihood,      # function to minimize (linear model)\n",
    "                   x0      = np.array([1,1]),    # initial guess for all parameters. \n",
    "                   method  = 'L-BFGS-B',         # method of solver. \n",
    "                   args    = (xdata, ydata))     # extra arguments to pass to the function. \n",
    "                                                 # Ours are x an y values.  \n",
    "\n",
    "result  # Loglikelihood = -1*fun  "
   ]
  },
  {
   "cell_type": "code",
   "execution_count": null,
   "metadata": {},
   "outputs": [],
   "source": []
  }
 ],
 "metadata": {
  "kernelspec": {
   "display_name": "Python 3",
   "language": "python",
   "name": "python3"
  },
  "language_info": {
   "codemirror_mode": {
    "name": "ipython",
    "version": 3
   },
   "file_extension": ".py",
   "mimetype": "text/x-python",
   "name": "python",
   "nbconvert_exporter": "python",
   "pygments_lexer": "ipython3",
   "version": "3.7.0"
  }
 },
 "nbformat": 4,
 "nbformat_minor": 2
}
