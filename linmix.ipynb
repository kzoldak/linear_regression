{
 "cells": [
  {
   "cell_type": "code",
   "execution_count": 2,
   "metadata": {},
   "outputs": [],
   "source": [
    "import numpy as np\n",
    "import pandas as pd\n",
    "\n",
    "import linmix\n",
    "\n",
    "import matplotlib.pyplot as plt\n",
    "%matplotlib inline\n",
    "\n",
    "from Zoldak.Math.tools import to_log"
   ]
  },
  {
   "cell_type": "code",
   "execution_count": 70,
   "metadata": {},
   "outputs": [],
   "source": [
    "data = pd.read_csv(('/Users/kimzoldak/Github/GRB_Hubble_Diagram/data/'\n",
    "                    'Band_13_GBM+LAT__22_GBMconstrained.txt'), \n",
    "                   sep='\\t')\n",
    "\n",
    "data = data[data.trigger.map(lambda x: x != 'bn090510016')]  # remove short burst\n",
    "data.index = range(0, len(data))\n",
    "\n",
    "df = pd.DataFrame()\n",
    "df['eiso'] = data['eiso']/1E52\n",
    "df['eiso_err'] = data.loc[:, ['eiso_err_low', 'eiso_err_up']].apply(np.mean, 1)\n",
    "df['eiso_err'] = df['eiso_err']/1E52\n",
    "df['epeakRest'] = data['epeakRest']\n",
    "df['epeakRest_err'] = data.loc[:, ['epeakRest_err_low', 'epeakRest_err_up']].apply(np.mean, 1)\n",
    "\n",
    "\n",
    "x, xsig = to_log(df['eiso'], df['eiso_err'], which='average', errTypeReturn='moe')\n",
    "y, ysig = to_log(df['epeakRest'], df['epeakRest_err'], which='average', errTypeReturn='moe')"
   ]
  },
  {
   "cell_type": "code",
   "execution_count": 19,
   "metadata": {},
   "outputs": [],
   "source": [
    "?plt.errorbar"
   ]
  },
  {
   "cell_type": "code",
   "execution_count": 18,
   "metadata": {},
   "outputs": [
    {
     "data": {
      "image/png": "[encoded data removed]",
      "text/plain": [
       "<Figure size 720x288 with 2 Axes>"
      ]
     },
     "metadata": {
      "needs_background": "light"
     },
     "output_type": "display_data"
    }
   ],
   "source": [
    "fig = plt.figure(figsize=(10,4))\n",
    "ax = fig.add_subplot(121)\n",
    "#ax.scatter(xi, eta)\n",
    "ax.set_xlabel(r'$\\xi$')\n",
    "ax.set_ylabel(r'$\\eta$')\n",
    "# ax.set_xlim(-6,6)\n",
    "# ax.set_ylim(-3,4)\n",
    "ax = fig.add_subplot(122)\n",
    "ax.scatter(x, y, alpha=0.5)\n",
    "ax.errorbar(x, y, xerr=xsig, yerr=ysig, ls=' ', alpha=0.5)\n",
    "ax.set_xlabel(r'x')\n",
    "ax.set_ylabel(r'y')\n",
    "# ax.set_xlim(-10,10)\n",
    "# ax.set_ylim(-5,6)\n",
    "# ax.plot([-6,6,6,-6,-6], [-3,-3,4,4,-3], color='k')\n",
    "fig.tight_layout()\n",
    "plt.show()"
   ]
  },
  {
   "cell_type": "code",
   "execution_count": 15,
   "metadata": {},
   "outputs": [
    {
     "name": "stdout",
     "output_type": "stream",
     "text": [
      "\n",
      "Iteration:  100\n",
      "Rhat values for alpha, beta, log(sigma^2), mean(xi), log(var(xi)), atanh(corr(xi, eta)):\n",
      "[1.00091531 0.99329993 1.01475756 0.99890607 0.99542189 0.99979372]\n",
      "\n",
      "Iteration:  200\n",
      "Rhat values for alpha, beta, log(sigma^2), mean(xi), log(var(xi)), atanh(corr(xi, eta)):\n",
      "[1.00598175 1.00202286 1.00591279 0.99861907 0.99790785 0.99579909]\n",
      "\n",
      "Iteration:  300\n",
      "Rhat values for alpha, beta, log(sigma^2), mean(xi), log(var(xi)), atanh(corr(xi, eta)):\n",
      "[1.00501175 1.00008649 1.00455644 0.9995224  1.00016776 0.99768405]\n",
      "\n",
      "Iteration:  400\n",
      "Rhat values for alpha, beta, log(sigma^2), mean(xi), log(var(xi)), atanh(corr(xi, eta)):\n",
      "[1.00293329 1.00029317 1.00235515 0.99839186 1.0001065  0.99947274]\n",
      "\n",
      "Iteration:  500\n",
      "Rhat values for alpha, beta, log(sigma^2), mean(xi), log(var(xi)), atanh(corr(xi, eta)):\n",
      "[1.00006218 1.00010398 1.00106235 0.99992857 1.00045199 0.99962529]\n",
      "\n",
      "Iteration:  600\n",
      "Rhat values for alpha, beta, log(sigma^2), mean(xi), log(var(xi)), atanh(corr(xi, eta)):\n",
      "[1.00003198 0.99956035 0.99964031 1.00034147 1.00036761 0.99978566]\n",
      "\n",
      "Iteration:  700\n",
      "Rhat values for alpha, beta, log(sigma^2), mean(xi), log(var(xi)), atanh(corr(xi, eta)):\n",
      "[1.00074967 1.00028107 0.99932984 1.00088298 1.0007324  1.00000724]\n",
      "\n",
      "Iteration:  800\n",
      "Rhat values for alpha, beta, log(sigma^2), mean(xi), log(var(xi)), atanh(corr(xi, eta)):\n",
      "[1.00050543 1.00003583 0.99929558 1.00128291 1.00056635 0.99966365]\n",
      "\n",
      "Iteration:  900\n",
      "Rhat values for alpha, beta, log(sigma^2), mean(xi), log(var(xi)), atanh(corr(xi, eta)):\n",
      "[0.9999396  0.99961771 0.99914239 1.0015645  1.0005027  0.99964515]\n",
      "\n",
      "Iteration:  1000\n",
      "Rhat values for alpha, beta, log(sigma^2), mean(xi), log(var(xi)), atanh(corr(xi, eta)):\n",
      "[0.99948402 0.99937497 0.99928019 1.00141554 1.00043584 0.99987122]\n",
      "\n",
      "Iteration:  1100\n",
      "Rhat values for alpha, beta, log(sigma^2), mean(xi), log(var(xi)), atanh(corr(xi, eta)):\n",
      "[0.99921588 0.99953589 0.99938873 1.00109958 1.00039732 1.00003901]\n",
      "\n",
      "Iteration:  1200\n",
      "Rhat values for alpha, beta, log(sigma^2), mean(xi), log(var(xi)), atanh(corr(xi, eta)):\n",
      "[0.99925824 0.99958767 0.99930655 1.00082704 1.00036249 0.99949681]\n",
      "\n",
      "Iteration:  1300\n",
      "Rhat values for alpha, beta, log(sigma^2), mean(xi), log(var(xi)), atanh(corr(xi, eta)):\n",
      "[0.99932817 0.99958326 0.99949679 1.00053949 1.00019366 0.99983843]\n",
      "\n",
      "Iteration:  1400\n",
      "Rhat values for alpha, beta, log(sigma^2), mean(xi), log(var(xi)), atanh(corr(xi, eta)):\n",
      "[0.9994307  0.99977564 0.99935456 1.00021409 1.0001784  0.99979825]\n",
      "\n",
      "Iteration:  1500\n",
      "Rhat values for alpha, beta, log(sigma^2), mean(xi), log(var(xi)), atanh(corr(xi, eta)):\n",
      "[0.99940274 0.99970904 0.99951979 1.00014889 1.00016635 1.00038645]\n",
      "\n",
      "Iteration:  1600\n",
      "Rhat values for alpha, beta, log(sigma^2), mean(xi), log(var(xi)), atanh(corr(xi, eta)):\n",
      "[0.99943368 0.99969888 0.99946769 1.00037477 1.00015629 1.00052697]\n",
      "\n",
      "Iteration:  1700\n",
      "Rhat values for alpha, beta, log(sigma^2), mean(xi), log(var(xi)), atanh(corr(xi, eta)):\n",
      "[0.99947086 0.99979421 0.99951657 1.00032548 1.00014679 1.00033764]\n",
      "\n",
      "Iteration:  1800\n",
      "Rhat values for alpha, beta, log(sigma^2), mean(xi), log(var(xi)), atanh(corr(xi, eta)):\n",
      "[0.99955862 1.00003073 0.99963394 1.00043358 1.00013932 1.00065988]\n",
      "\n",
      "Iteration:  1900\n",
      "Rhat values for alpha, beta, log(sigma^2), mean(xi), log(var(xi)), atanh(corr(xi, eta)):\n",
      "[0.99960906 1.00008927 0.99975409 1.00038274 1.00013031 1.00075123]\n",
      "\n",
      "Iteration:  2000\n",
      "Rhat values for alpha, beta, log(sigma^2), mean(xi), log(var(xi)), atanh(corr(xi, eta)):\n",
      "[0.99969651 1.00001602 0.99995286 1.00016874 1.00012373 1.00082231]\n",
      "\n",
      "Iteration:  2100\n",
      "Rhat values for alpha, beta, log(sigma^2), mean(xi), log(var(xi)), atanh(corr(xi, eta)):\n",
      "[0.99974987 1.00002939 0.99996696 1.00002533 1.00013976 1.00080443]\n",
      "\n",
      "Iteration:  2200\n",
      "Rhat values for alpha, beta, log(sigma^2), mean(xi), log(var(xi)), atanh(corr(xi, eta)):\n",
      "[0.9997107  0.99999274 0.99987772 1.00003614 1.0001233  1.00057809]\n",
      "\n",
      "Iteration:  2300\n",
      "Rhat values for alpha, beta, log(sigma^2), mean(xi), log(var(xi)), atanh(corr(xi, eta)):\n",
      "[0.9997694  1.00004541 0.99985581 0.99984588 1.00011411 1.00099373]\n",
      "\n",
      "Iteration:  2400\n",
      "Rhat values for alpha, beta, log(sigma^2), mean(xi), log(var(xi)), atanh(corr(xi, eta)):\n",
      "[0.99975881 0.9998339  0.99994297 0.99979504 1.00010091 1.00074782]\n",
      "\n",
      "Iteration:  2500\n",
      "Rhat values for alpha, beta, log(sigma^2), mean(xi), log(var(xi)), atanh(corr(xi, eta)):\n",
      "[0.99977961 0.99988453 1.00005606 0.99978458 1.00009751 1.00092887]\n",
      "\n",
      "Iteration:  2600\n",
      "Rhat values for alpha, beta, log(sigma^2), mean(xi), log(var(xi)), atanh(corr(xi, eta)):\n",
      "[0.99983098 0.99990508 0.99998276 0.99980086 1.00007478 1.00072133]\n",
      "\n",
      "Iteration:  2700\n",
      "Rhat values for alpha, beta, log(sigma^2), mean(xi), log(var(xi)), atanh(corr(xi, eta)):\n",
      "[0.99983774 0.99991715 0.99997294 0.99987466 1.00007357 1.00100407]\n",
      "\n",
      "Iteration:  2800\n",
      "Rhat values for alpha, beta, log(sigma^2), mean(xi), log(var(xi)), atanh(corr(xi, eta)):\n",
      "[0.99992866 0.9999768  0.99998668 0.99994242 1.00006682 1.00066085]\n",
      "\n",
      "Iteration:  2900\n",
      "Rhat values for alpha, beta, log(sigma^2), mean(xi), log(var(xi)), atanh(corr(xi, eta)):\n",
      "[1.000034   1.00006179 1.00000678 0.99984834 1.0000637  1.00068648]\n",
      "\n",
      "Iteration:  3000\n",
      "Rhat values for alpha, beta, log(sigma^2), mean(xi), log(var(xi)), atanh(corr(xi, eta)):\n",
      "[1.0000303  1.00003503 1.00011127 0.99977586 1.00006136 1.00051538]\n",
      "\n",
      "Iteration:  3100\n",
      "Rhat values for alpha, beta, log(sigma^2), mean(xi), log(var(xi)), atanh(corr(xi, eta)):\n",
      "[0.99999904 0.99998534 1.00003581 0.99985228 0.99989066 1.00034878]\n",
      "\n",
      "Iteration:  3200\n",
      "Rhat values for alpha, beta, log(sigma^2), mean(xi), log(var(xi)), atanh(corr(xi, eta)):\n",
      "[1.0000164  0.99997743 1.00003978 0.99992044 0.99989418 1.00037125]\n",
      "\n",
      "Iteration:  3300\n",
      "Rhat values for alpha, beta, log(sigma^2), mean(xi), log(var(xi)), atanh(corr(xi, eta)):\n",
      "[1.00004731 1.0000431  1.00006531 1.00003393 0.99989735 1.0002723 ]\n",
      "\n",
      "Iteration:  3400\n",
      "Rhat values for alpha, beta, log(sigma^2), mean(xi), log(var(xi)), atanh(corr(xi, eta)):\n",
      "[0.99999469 1.00001104 1.00016193 0.99997967 0.99988598 1.00032392]\n",
      "\n",
      "Iteration:  3500\n",
      "Rhat values for alpha, beta, log(sigma^2), mean(xi), log(var(xi)), atanh(corr(xi, eta)):\n",
      "[0.99999106 1.00001366 1.00022426 0.99993678 0.99988927 1.00045198]\n",
      "\n",
      "Iteration:  3600\n",
      "Rhat values for alpha, beta, log(sigma^2), mean(xi), log(var(xi)), atanh(corr(xi, eta)):\n",
      "[1.00002413 1.00007518 1.00018038 0.99999865 0.99989204 1.00035644]\n",
      "\n",
      "Iteration:  3700\n",
      "Rhat values for alpha, beta, log(sigma^2), mean(xi), log(var(xi)), atanh(corr(xi, eta)):\n",
      "[1.00000198 1.00010072 0.99995197 0.99993222 0.99989445 1.00012686]\n",
      "\n",
      "Iteration:  3800\n",
      "Rhat values for alpha, beta, log(sigma^2), mean(xi), log(var(xi)), atanh(corr(xi, eta)):\n",
      "[1.00007277 1.00012089 0.99997944 0.99990017 0.99989735 1.00016828]\n",
      "\n",
      "Iteration:  3900\n",
      "Rhat values for alpha, beta, log(sigma^2), mean(xi), log(var(xi)), atanh(corr(xi, eta)):\n",
      "[1.00010355 1.00016927 1.00006215 0.99992312 0.99990176 1.00023989]\n",
      "\n",
      "Iteration:  4000\n",
      "Rhat values for alpha, beta, log(sigma^2), mean(xi), log(var(xi)), atanh(corr(xi, eta)):\n",
      "[1.00007886 1.00017889 1.00005181 0.99994483 0.99990423 1.00022492]\n",
      "\n",
      "Iteration:  4100\n",
      "Rhat values for alpha, beta, log(sigma^2), mean(xi), log(var(xi)), atanh(corr(xi, eta)):\n",
      "[1.00015585 1.00028855 1.00002702 1.00004603 0.99990767 1.000194  ]\n",
      "\n",
      "Iteration:  4200\n",
      "Rhat values for alpha, beta, log(sigma^2), mean(xi), log(var(xi)), atanh(corr(xi, eta)):\n",
      "[1.00004527 1.00018169 1.00004924 1.00012431 0.99990987 1.00023478]\n",
      "\n",
      "Iteration:  4300\n",
      "Rhat values for alpha, beta, log(sigma^2), mean(xi), log(var(xi)), atanh(corr(xi, eta)):\n",
      "[1.00005607 1.00014334 1.00017726 1.00010765 0.9999149  1.00035747]\n",
      "\n",
      "Iteration:  4400\n",
      "Rhat values for alpha, beta, log(sigma^2), mean(xi), log(var(xi)), atanh(corr(xi, eta)):\n",
      "[1.00006943 1.00013845 1.00012703 1.0001249  0.99991657 1.00028897]\n",
      "\n",
      "Iteration:  4500\n",
      "Rhat values for alpha, beta, log(sigma^2), mean(xi), log(var(xi)), atanh(corr(xi, eta)):\n",
      "[1.0000628  1.00014746 1.00010118 1.0001534  0.99986158 1.00024572]\n",
      "\n",
      "Iteration:  4600\n",
      "Rhat values for alpha, beta, log(sigma^2), mean(xi), log(var(xi)), atanh(corr(xi, eta)):\n",
      "[1.00001408 1.00009428 1.0000963  1.00005317 0.99986563 1.0003122 ]\n",
      "\n",
      "Iteration:  4700\n",
      "Rhat values for alpha, beta, log(sigma^2), mean(xi), log(var(xi)), atanh(corr(xi, eta)):\n",
      "[1.00006648 1.00015451 1.00010673 1.00002299 0.99986866 1.00033227]\n"
     ]
    },
    {
     "name": "stdout",
     "output_type": "stream",
     "text": [
      "\n",
      "Iteration:  4800\n",
      "Rhat values for alpha, beta, log(sigma^2), mean(xi), log(var(xi)), atanh(corr(xi, eta)):\n",
      "[1.0000964  1.00019694 1.00009549 1.00006498 0.99990926 1.00036114]\n",
      "\n",
      "Iteration:  4900\n",
      "Rhat values for alpha, beta, log(sigma^2), mean(xi), log(var(xi)), atanh(corr(xi, eta)):\n",
      "[1.00000884 1.0000947  1.00009584 0.99999938 0.99990986 1.00033808]\n",
      "\n",
      "Iteration:  5000\n",
      "Rhat values for alpha, beta, log(sigma^2), mean(xi), log(var(xi)), atanh(corr(xi, eta)):\n",
      "[1.00001066 1.00011642 1.00008835 0.99993041 0.9999122  1.00034129]\n"
     ]
    }
   ],
   "source": [
    "lm = linmix.LinMix(x=x, y=y, xsig=xerr, ysig=yerr, K=2)\n",
    "lm.run_mcmc(silent=False)"
   ]
  },
  {
   "cell_type": "raw",
   "metadata": {},
   "source": [
    "    def update_chain(self):\n",
    "        self.chain['alpha'][self.ichain] = self.alpha\n",
    "        self.chain['beta'][self.ichain] = self.beta\n",
    "        self.chain['sigsqr'][self.ichain] = self.sigsqr\n",
    "        self.chain['pi'][self.ichain] = self.pi\n",
    "        self.chain['mu'][self.ichain] = self.mu\n",
    "        self.chain['tausqr'][self.ichain] = self.tausqr\n",
    "        self.chain['mu0'][self.ichain] = self.mu0\n",
    "        self.chain['usqr'][self.ichain] = self.usqr\n",
    "        self.chain['wsqr'][self.ichain] = self.wsqr\n",
    "        ximean = np.sum(self.pi * self.mu)\n",
    "        self.chain['ximean'][self.ichain] = ximean\n",
    "        xisig = np.sqrt(np.sum(self.pi * (self.tausqr + self.mu**2)) - ximean**2)\n",
    "        self.chain['xisig'][self.ichain] = xisig\n",
    "        self.chain['corr'][self.ichain] = self.beta * xisig / np.sqrt(self.beta**2 * xisig**2\n",
    "                                                                      + self.sigsqr)\n",
    "        self.ichain += 1"
   ]
  },
  {
   "cell_type": "code",
   "execution_count": 35,
   "metadata": {},
   "outputs": [],
   "source": [
    "cols = ['alpha', 'beta', 'sigsqr', 'pi', 'mu', 'tausqr', 'mu0', 'usqr', 'wsqr', 'ximean', 'xisig', 'corr']"
   ]
  },
  {
   "cell_type": "code",
   "execution_count": 58,
   "metadata": {},
   "outputs": [
    {
     "data": {
      "text/plain": [
       "[array([1.92947837, 1.84089794, 2.02117961]),\n",
       " array([0.5566896 , 0.49691261, 0.61773202]),\n",
       " array([0.06183714, 0.04768052, 0.08169195])]"
      ]
     },
     "execution_count": 58,
     "metadata": {},
     "output_type": "execute_result"
    }
   ],
   "source": [
    "[np.percentile(lm.chain[:][col], [50., 16., 84.]) for col in ['alpha', 'beta', 'sigsqr']]"
   ]
  },
  {
   "cell_type": "code",
   "execution_count": 57,
   "metadata": {},
   "outputs": [
    {
     "data": {
      "text/plain": [
       "[array([1.92947837, 1.84089794, 2.02117961]),\n",
       " array([0.5566896 , 0.49691261, 0.61773202]),\n",
       " array([0.24867075, 0.21835868, 0.28581804])]"
      ]
     },
     "execution_count": 57,
     "metadata": {},
     "output_type": "execute_result"
    }
   ],
   "source": [
    "[np.percentile((lm.chain[:][col]**0.5 if 'sig' in col else lm.chain[:][col]), [50., 16., 84.]) for col in ['alpha', 'beta', 'sigsqr']]"
   ]
  },
  {
   "cell_type": "code",
   "execution_count": 39,
   "metadata": {},
   "outputs": [
    {
     "name": "stdout",
     "output_type": "stream",
     "text": [
      "     alpha:     1.9304\n",
      "      beta:     0.5569\n",
      "    sigsqr:     0.0649\n",
      "        pi:     0.5000\n",
      "        mu:     1.2864\n",
      "    tausqr:    56.1068\n",
      "       mu0:     1.2876\n",
      "      usqr:     0.3288\n",
      "      wsqr:     0.5949\n",
      "    ximean:     1.2760\n",
      "     xisig:     0.8448\n",
      "      corr:     0.8544\n"
     ]
    }
   ],
   "source": [
    "for col in cols:\n",
    "    print('%10s: %10.4f'%(col, lm.chain[:][col].mean()))"
   ]
  },
  {
   "cell_type": "code",
   "execution_count": 55,
   "metadata": {},
   "outputs": [
    {
     "name": "stdout",
     "output_type": "stream",
     "text": [
      "     alpha:  1.9294784\n",
      "      beta:  0.5566896\n",
      "    sigsqr:  0.0618371\n",
      "        pi:  0.5000000\n",
      "        mu:  1.2721740\n",
      "    tausqr:  0.4813221\n",
      "       mu0:  1.2850907\n",
      "      usqr:  0.2954889\n",
      "      wsqr:  0.4490476\n",
      "    ximean:  1.2761675\n",
      "     xisig:  0.7535545\n",
      "      corr:  0.8611714\n"
     ]
    }
   ],
   "source": [
    "for col in cols:\n",
    "    print('%10s: %10.7f'%(col, np.median(lm.chain[:][col])))"
   ]
  },
  {
   "cell_type": "code",
   "execution_count": 61,
   "metadata": {},
   "outputs": [],
   "source": [
    "alpha = np.percentile(lm.chain[:]['alpha'], 50.)\n",
    "beta = np.percentile(lm.chain[:]['beta'], 50.)\n",
    "sigsqr = np.percentile(lm.chain[:]['sigsqr'], 50.)\n",
    "sig = sigsqr**0.5"
   ]
  },
  {
   "cell_type": "code",
   "execution_count": 68,
   "metadata": {},
   "outputs": [
    {
     "data": {
      "text/plain": [
       "<Figure size 432x288 with 0 Axes>"
      ]
     },
     "metadata": {},
     "output_type": "display_data"
    },
    {
     "data": {
      "image/png": "[encoded data removed]",
      "text/plain": [
       "<Figure size 576x576 with 1 Axes>"
      ]
     },
     "metadata": {
      "needs_background": "light"
     },
     "output_type": "display_data"
    }
   ],
   "source": [
    "plt.clf()\n",
    "plt.figure(figsize=(8,8))\n",
    "plt.scatter(x, y, alpha=0.5)\n",
    "plt.errorbar(x, y, xerr=xsig, yerr=ysig, ls=' ', alpha=0.5)\n",
    "for i in range(0, len(lm.chain), 25):\n",
    "    xs = np.arange(-10,11)\n",
    "    ys = lm.chain[i]['alpha'] + xs * lm.chain[i]['beta']\n",
    "    plt.plot(xs, ys, color='r', alpha=0.02)\n",
    "ys = alpha + xs * beta\n",
    "plt.plot(xs, ys, color='k')\n",
    "plt.xlabel(r'x')\n",
    "plt.ylabel(r'y')\n",
    "plt.xlim(-3,5)\n",
    "plt.ylim(0,5)\n",
    "plt.show()\n",
    "# ax.plot([-6,6,6,-6,-6], [-3,-3,4,4,-3], color='k')\n",
    "#fig.tight_layout()"
   ]
  },
  {
   "cell_type": "code",
   "execution_count": 69,
   "metadata": {},
   "outputs": [
    {
     "name": "stdout",
     "output_type": "stream",
     "text": [
      "1.9294783679304048 0.5566895950241889 0.2486707547469072\n"
     ]
    }
   ],
   "source": [
    "print(alpha, beta, sig)"
   ]
  },
  {
   "cell_type": "code",
   "execution_count": null,
   "metadata": {},
   "outputs": [],
   "source": []
  }
 ],
 "metadata": {
  "kernelspec": {
   "display_name": "Python 3",
   "language": "python",
   "name": "python3"
  },
  "language_info": {
   "codemirror_mode": {
    "name": "ipython",
    "version": 3
   },
   "file_extension": ".py",
   "mimetype": "text/x-python",
   "name": "python",
   "nbconvert_exporter": "python",
   "pygments_lexer": "ipython3",
   "version": "3.7.0"
  }
 },
 "nbformat": 4,
 "nbformat_minor": 2
}
